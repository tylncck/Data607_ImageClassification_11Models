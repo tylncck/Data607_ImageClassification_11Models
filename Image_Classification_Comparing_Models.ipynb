{
  "cells": [
    {
      "cell_type": "markdown",
      "metadata": {
        "id": "FIDZNBZVLXoc"
      },
      "source": [
        "# DATA 607 Final Project: Garbage Classification"
      ]
    },
    {
      "cell_type": "markdown",
      "metadata": {
        "id": "Iloj1UgfLhkG"
      },
      "source": [
        "## Packages"
      ]
    },
    {
      "cell_type": "code",
      "execution_count": 38,
      "metadata": {
        "id": "tHnkX-BcLQ89"
      },
      "outputs": [],
      "source": [
        "import tensorflow as tf\n",
        "from keras.models import Sequential, Model\n",
        "from keras.layers import Dense, Activation, Conv2D, MaxPooling2D, Flatten, Input, Dropout\n",
        "from keras.optimizers import Adam\n",
        "from keras.metrics import Accuracy\n",
        "from keras.models import load_model\n",
        "from keras.utils import np_utils\n",
        "\n",
        "from matplotlib import pyplot as plt\n",
        "\n",
        "import shutil\n",
        "import os\n",
        "import imghdr\n",
        "import numpy as np\n",
        "import pandas as pd\n",
        "import cv2\n",
        "from zipfile import ZipFile\n",
        "import warnings\n",
        "warnings.filterwarnings('ignore')"
      ]
    },
    {
      "cell_type": "markdown",
      "metadata": {
        "id": "TRej22dOMJkD"
      },
      "source": [
        "## Data Collection"
      ]
    },
    {
      "cell_type": "code",
      "execution_count": 2,
      "metadata": {
        "colab": {
          "base_uri": "https://localhost:8080/"
        },
        "id": "c7HaUb64MV-Q",
        "outputId": "900b2413-f99e-4940-d3a8-fc1574b2e2bc"
      },
      "outputs": [
        {
          "name": "stdout",
          "output_type": "stream",
          "text": [
            "garbage-classification.zip: Skipping, found more recently modified local copy (use --force to force download)\n"
          ]
        }
      ],
      "source": [
        "os.environ['KAGGLE_USERNAME'] = '---' # kaggle API username\n",
        "os.environ['KAGGLE_KEY'] = '---' # kaggle API key\n",
        "! kaggle datasets download -d mostafaabla/garbage-classification"
      ]
    },
    {
      "cell_type": "code",
      "execution_count": 3,
      "metadata": {
        "id": "N8q6pyOYMlOm"
      },
      "outputs": [],
      "source": [
        "file_name = \"/content/garbage-classification.zip\"\n",
        "with ZipFile(file_name, 'r') as zip:\n",
        "  zip.extractall()"
      ]
    },
    {
      "cell_type": "code",
      "execution_count": 4,
      "metadata": {
        "id": "1RclaJHdMn4Y"
      },
      "outputs": [],
      "source": [
        "import shutil\n",
        "dir = \"/content/garbage_classification/\"\n",
        "trash_list = ['trash', 'clothes', 'battery', 'shoes']\n",
        "recyc_list = ['plastic', 'brown-glass', 'white-glass', 'cardboard', 'green-glass', 'metal', 'paper']\n",
        "comp_list = ['biological']\n",
        "for folder in os.listdir(dir):\n",
        "  if folder in trash_list:\n",
        "    dir_path = dir + 'trash/'\n",
        "    if not os.path.exists(dir_path):\n",
        "      os.makedirs(dir_path)\n",
        "    for f in os.listdir(dir+folder):\n",
        "      shutil.move(dir + folder + '/' + f, dir_path + f)\n",
        "  elif folder in recyc_list:\n",
        "    dir_path = dir + 'recyc/'\n",
        "    if not os.path.exists(dir_path):\n",
        "      os.makedirs(dir_path)\n",
        "    for f in os.listdir(dir+folder):\n",
        "      shutil.move(dir + folder + '/' + f, dir_path + f)\n",
        "  elif folder in comp_list:\n",
        "    dir_path = dir + 'comp/'\n",
        "    if not os.path.exists(dir_path):\n",
        "      os.makedirs(dir_path)\n",
        "    for f in os.listdir(dir+folder):\n",
        "      shutil.move(dir + folder + '/' + f, dir_path + f)\n",
        "\n",
        "for folder in os.listdir(dir):\n",
        "  if folder not in ['trash', 'recyc', 'comp']:\n",
        "    os.rmdir(dir + folder)"
      ]
    },
    {
      "cell_type": "code",
      "execution_count": 5,
      "metadata": {
        "colab": {
          "base_uri": "https://localhost:8080/"
        },
        "id": "YM_UKuspMrR4",
        "outputId": "bbf4ac0d-acee-4144-a863-371deafba4c8"
      },
      "outputs": [
        {
          "name": "stdout",
          "output_type": "stream",
          "text": [
            "There are 3 classes to classify\n"
          ]
        }
      ],
      "source": [
        "num_classes = len(list(os.listdir(dir)))\n",
        "print(f'There are {num_classes} classes to classify')"
      ]
    },
    {
      "cell_type": "markdown",
      "metadata": {
        "id": "nSkuQhA3MsNx"
      },
      "source": [
        "## Reading Images"
      ]
    },
    {
      "cell_type": "code",
      "execution_count": 6,
      "metadata": {
        "colab": {
          "base_uri": "https://localhost:8080/"
        },
        "id": "WUnAK3jeMvqQ",
        "outputId": "22cd58b3-7652-48de-dd2a-dc9981c58d0d"
      },
      "outputs": [
        {
          "name": "stdout",
          "output_type": "stream",
          "text": [
            "Found 15515 files belonging to 3 classes.\n"
          ]
        }
      ],
      "source": [
        "images = []\n",
        "labels = []\n",
        "for img, label in tf.keras.utils.image_dataset_from_directory(directory='/content/garbage_classification', \n",
        "                                                              labels='inferred',\n",
        "                                                              label_mode = 'int',\n",
        "                                                              batch_size=None,\n",
        "                                                              image_size=(16, 16)).take(-1).as_numpy_iterator():\n",
        "  images.append(img)\n",
        "  labels.append(label)"
      ]
    },
    {
      "cell_type": "markdown",
      "metadata": {
        "id": "Hzp7ffxjS0RR"
      },
      "source": [
        "## Train Test Split"
      ]
    },
    {
      "cell_type": "code",
      "execution_count": 7,
      "metadata": {
        "id": "_LE5om44RaAC"
      },
      "outputs": [],
      "source": [
        "from sklearn.model_selection import train_test_split\n",
        "\n",
        "#Scaling RGB values to [0,1] range \n",
        "images = np.array(images)\n",
        "images = images / 255.0\n",
        "\n",
        "x_train, x_test, y_train, y_test = train_test_split(images, labels, train_size = 0.8, random_state = 156, stratify= labels)\n",
        "\n",
        "height, width, channels = (images.shape[1],images.shape[2],images.shape[3])\n",
        "\n",
        "x_flat_train = x_train.reshape(x_train.shape[0], height * width * channels) \n",
        "x_flat_test = x_test.reshape(x_test.shape[0], height * width * channels)\n",
        "\n",
        "del images, labels"
      ]
    },
    {
      "cell_type": "code",
      "execution_count": 8,
      "metadata": {
        "colab": {
          "base_uri": "https://localhost:8080/",
          "height": 17
        },
        "id": "qZ0vhoCa5fJG",
        "outputId": "30d0ba42-cbfa-4042-9524-46c6676e6d06"
      },
      "outputs": [
        {
          "data": {
            "application/javascript": "\n    async function download(id, filename, size) {\n      if (!google.colab.kernel.accessAllowed) {\n        return;\n      }\n      const div = document.createElement('div');\n      const label = document.createElement('label');\n      label.textContent = `Downloading \"${filename}\": `;\n      div.appendChild(label);\n      const progress = document.createElement('progress');\n      progress.max = size;\n      div.appendChild(progress);\n      document.body.appendChild(div);\n\n      const buffers = [];\n      let downloaded = 0;\n\n      const channel = await google.colab.kernel.comms.open(id);\n      // Send a message to notify the kernel that we're ready.\n      channel.send({})\n\n      for await (const message of channel.messages) {\n        // Send a message to notify the kernel that we're ready.\n        channel.send({})\n        if (message.buffers) {\n          for (const buffer of message.buffers) {\n            buffers.push(buffer);\n            downloaded += buffer.byteLength;\n            progress.value = downloaded;\n          }\n        }\n      }\n      const blob = new Blob(buffers, {type: 'application/binary'});\n      const a = document.createElement('a');\n      a.href = window.URL.createObjectURL(blob);\n      a.download = filename;\n      div.appendChild(a);\n      a.click();\n      div.remove();\n    }\n  ",
            "text/plain": [
              "<IPython.core.display.Javascript object>"
            ]
          },
          "metadata": {},
          "output_type": "display_data"
        },
        {
          "data": {
            "application/javascript": "download(\"download_49cdf041-432b-4df5-84a7-ea429678b601\", \"x_train.pkl\", 38129831)",
            "text/plain": [
              "<IPython.core.display.Javascript object>"
            ]
          },
          "metadata": {},
          "output_type": "display_data"
        },
        {
          "data": {
            "application/javascript": "\n    async function download(id, filename, size) {\n      if (!google.colab.kernel.accessAllowed) {\n        return;\n      }\n      const div = document.createElement('div');\n      const label = document.createElement('label');\n      label.textContent = `Downloading \"${filename}\": `;\n      div.appendChild(label);\n      const progress = document.createElement('progress');\n      progress.max = size;\n      div.appendChild(progress);\n      document.body.appendChild(div);\n\n      const buffers = [];\n      let downloaded = 0;\n\n      const channel = await google.colab.kernel.comms.open(id);\n      // Send a message to notify the kernel that we're ready.\n      channel.send({})\n\n      for await (const message of channel.messages) {\n        // Send a message to notify the kernel that we're ready.\n        channel.send({})\n        if (message.buffers) {\n          for (const buffer of message.buffers) {\n            buffers.push(buffer);\n            downloaded += buffer.byteLength;\n            progress.value = downloaded;\n          }\n        }\n      }\n      const blob = new Blob(buffers, {type: 'application/binary'});\n      const a = document.createElement('a');\n      a.href = window.URL.createObjectURL(blob);\n      a.download = filename;\n      div.appendChild(a);\n      a.click();\n      div.remove();\n    }\n  ",
            "text/plain": [
              "<IPython.core.display.Javascript object>"
            ]
          },
          "metadata": {},
          "output_type": "display_data"
        },
        {
          "data": {
            "application/javascript": "download(\"download_e5f36ee8-ffe9-4486-a28e-ab613d8aa49c\", \"x_test.pkl\", 9532583)",
            "text/plain": [
              "<IPython.core.display.Javascript object>"
            ]
          },
          "metadata": {},
          "output_type": "display_data"
        },
        {
          "data": {
            "application/javascript": "\n    async function download(id, filename, size) {\n      if (!google.colab.kernel.accessAllowed) {\n        return;\n      }\n      const div = document.createElement('div');\n      const label = document.createElement('label');\n      label.textContent = `Downloading \"${filename}\": `;\n      div.appendChild(label);\n      const progress = document.createElement('progress');\n      progress.max = size;\n      div.appendChild(progress);\n      document.body.appendChild(div);\n\n      const buffers = [];\n      let downloaded = 0;\n\n      const channel = await google.colab.kernel.comms.open(id);\n      // Send a message to notify the kernel that we're ready.\n      channel.send({})\n\n      for await (const message of channel.messages) {\n        // Send a message to notify the kernel that we're ready.\n        channel.send({})\n        if (message.buffers) {\n          for (const buffer of message.buffers) {\n            buffers.push(buffer);\n            downloaded += buffer.byteLength;\n            progress.value = downloaded;\n          }\n        }\n      }\n      const blob = new Blob(buffers, {type: 'application/binary'});\n      const a = document.createElement('a');\n      a.href = window.URL.createObjectURL(blob);\n      a.download = filename;\n      div.appendChild(a);\n      a.click();\n      div.remove();\n    }\n  ",
            "text/plain": [
              "<IPython.core.display.Javascript object>"
            ]
          },
          "metadata": {},
          "output_type": "display_data"
        },
        {
          "data": {
            "application/javascript": "download(\"download_593b4fe9-33f9-4315-8912-736a0ce29126\", \"y_train.pkl\", 38129831)",
            "text/plain": [
              "<IPython.core.display.Javascript object>"
            ]
          },
          "metadata": {},
          "output_type": "display_data"
        },
        {
          "data": {
            "application/javascript": "\n    async function download(id, filename, size) {\n      if (!google.colab.kernel.accessAllowed) {\n        return;\n      }\n      const div = document.createElement('div');\n      const label = document.createElement('label');\n      label.textContent = `Downloading \"${filename}\": `;\n      div.appendChild(label);\n      const progress = document.createElement('progress');\n      progress.max = size;\n      div.appendChild(progress);\n      document.body.appendChild(div);\n\n      const buffers = [];\n      let downloaded = 0;\n\n      const channel = await google.colab.kernel.comms.open(id);\n      // Send a message to notify the kernel that we're ready.\n      channel.send({})\n\n      for await (const message of channel.messages) {\n        // Send a message to notify the kernel that we're ready.\n        channel.send({})\n        if (message.buffers) {\n          for (const buffer of message.buffers) {\n            buffers.push(buffer);\n            downloaded += buffer.byteLength;\n            progress.value = downloaded;\n          }\n        }\n      }\n      const blob = new Blob(buffers, {type: 'application/binary'});\n      const a = document.createElement('a');\n      a.href = window.URL.createObjectURL(blob);\n      a.download = filename;\n      div.appendChild(a);\n      a.click();\n      div.remove();\n    }\n  ",
            "text/plain": [
              "<IPython.core.display.Javascript object>"
            ]
          },
          "metadata": {},
          "output_type": "display_data"
        },
        {
          "data": {
            "application/javascript": "download(\"download_6644efa1-685f-4d36-888a-0e25f4807e04\", \"y_test.pkl\", 9532583)",
            "text/plain": [
              "<IPython.core.display.Javascript object>"
            ]
          },
          "metadata": {},
          "output_type": "display_data"
        },
        {
          "data": {
            "application/javascript": "\n    async function download(id, filename, size) {\n      if (!google.colab.kernel.accessAllowed) {\n        return;\n      }\n      const div = document.createElement('div');\n      const label = document.createElement('label');\n      label.textContent = `Downloading \"${filename}\": `;\n      div.appendChild(label);\n      const progress = document.createElement('progress');\n      progress.max = size;\n      div.appendChild(progress);\n      document.body.appendChild(div);\n\n      const buffers = [];\n      let downloaded = 0;\n\n      const channel = await google.colab.kernel.comms.open(id);\n      // Send a message to notify the kernel that we're ready.\n      channel.send({})\n\n      for await (const message of channel.messages) {\n        // Send a message to notify the kernel that we're ready.\n        channel.send({})\n        if (message.buffers) {\n          for (const buffer of message.buffers) {\n            buffers.push(buffer);\n            downloaded += buffer.byteLength;\n            progress.value = downloaded;\n          }\n        }\n      }\n      const blob = new Blob(buffers, {type: 'application/binary'});\n      const a = document.createElement('a');\n      a.href = window.URL.createObjectURL(blob);\n      a.download = filename;\n      div.appendChild(a);\n      a.click();\n      div.remove();\n    }\n  ",
            "text/plain": [
              "<IPython.core.display.Javascript object>"
            ]
          },
          "metadata": {},
          "output_type": "display_data"
        },
        {
          "data": {
            "application/javascript": "download(\"download_8a92a951-c23b-4e8d-9c16-bb528b893bbc\", \"x_flat_train.pkl\", 38129831)",
            "text/plain": [
              "<IPython.core.display.Javascript object>"
            ]
          },
          "metadata": {},
          "output_type": "display_data"
        },
        {
          "data": {
            "application/javascript": "\n    async function download(id, filename, size) {\n      if (!google.colab.kernel.accessAllowed) {\n        return;\n      }\n      const div = document.createElement('div');\n      const label = document.createElement('label');\n      label.textContent = `Downloading \"${filename}\": `;\n      div.appendChild(label);\n      const progress = document.createElement('progress');\n      progress.max = size;\n      div.appendChild(progress);\n      document.body.appendChild(div);\n\n      const buffers = [];\n      let downloaded = 0;\n\n      const channel = await google.colab.kernel.comms.open(id);\n      // Send a message to notify the kernel that we're ready.\n      channel.send({})\n\n      for await (const message of channel.messages) {\n        // Send a message to notify the kernel that we're ready.\n        channel.send({})\n        if (message.buffers) {\n          for (const buffer of message.buffers) {\n            buffers.push(buffer);\n            downloaded += buffer.byteLength;\n            progress.value = downloaded;\n          }\n        }\n      }\n      const blob = new Blob(buffers, {type: 'application/binary'});\n      const a = document.createElement('a');\n      a.href = window.URL.createObjectURL(blob);\n      a.download = filename;\n      div.appendChild(a);\n      a.click();\n      div.remove();\n    }\n  ",
            "text/plain": [
              "<IPython.core.display.Javascript object>"
            ]
          },
          "metadata": {},
          "output_type": "display_data"
        },
        {
          "data": {
            "application/javascript": "download(\"download_68ab159f-ba3c-4248-a60b-ebe219d6aa1d\", \"x_flat_test.pkl\", 9532583)",
            "text/plain": [
              "<IPython.core.display.Javascript object>"
            ]
          },
          "metadata": {},
          "output_type": "display_data"
        }
      ],
      "source": [
        "import pickle\n",
        "with open('x_train.pkl', 'wb') as file:\n",
        "    pickle.dump(x_train, file)\n",
        "\n",
        "with open('x_test.pkl', 'wb') as file:\n",
        "    pickle.dump(x_test, file)\n",
        "\n",
        "with open('y_train.pkl', 'wb') as file:\n",
        "    pickle.dump(x_train, file)\n",
        "\n",
        "with open('y_test.pkl', 'wb') as file:\n",
        "    pickle.dump(x_test, file)\n",
        "\n",
        "with open('x_flat_train.pkl', 'wb') as file:\n",
        "    pickle.dump(x_train, file)\n",
        "\n",
        "with open('x_flat_test.pkl', 'wb') as file:\n",
        "    pickle.dump(x_test, file)\n",
        "\n",
        "from google.colab import files\n",
        "files.download('x_train.pkl')\n",
        "files.download('x_test.pkl')\n",
        "files.download('y_train.pkl')\n",
        "files.download('y_test.pkl')\n",
        "files.download('x_flat_train.pkl')\n",
        "files.download('x_flat_test.pkl')"
      ]
    },
    {
      "cell_type": "markdown",
      "metadata": {
        "id": "aJoOPI-OS_rZ"
      },
      "source": [
        "## Classification Models"
      ]
    },
    {
      "cell_type": "code",
      "execution_count": 10,
      "metadata": {
        "id": "tMpGDhUqWF6X"
      },
      "outputs": [],
      "source": [
        "models_df = pd.DataFrame(columns = ['Model', 'Test_Accuracy'])"
      ]
    },
    {
      "cell_type": "markdown",
      "metadata": {
        "id": "yYYpFdIsTFiv"
      },
      "source": [
        "### Support Vector Machine (SVM)"
      ]
    },
    {
      "cell_type": "code",
      "execution_count": 9,
      "metadata": {
        "colab": {
          "base_uri": "https://localhost:8080/"
        },
        "id": "ik28OCjDTJOi",
        "outputId": "28eb4bb4-0afb-440c-b4b6-335e2b853ee8"
      },
      "outputs": [
        {
          "name": "stdout",
          "output_type": "stream",
          "text": [
            "Fitting 5 folds for each of 6 candidates, totalling 30 fits\n",
            "[CV] END ..................................C=0.1, kernel=rbf; total time=  43.1s\n",
            "[CV] END ..................................C=0.1, kernel=rbf; total time=  54.9s\n",
            "[CV] END ..................................C=0.1, kernel=rbf; total time=  46.2s\n",
            "[CV] END ..................................C=0.1, kernel=rbf; total time=  51.7s\n",
            "[CV] END ..................................C=0.1, kernel=rbf; total time=  43.4s\n",
            "[CV] END .................................C=0.1, kernel=poly; total time=  38.3s\n",
            "[CV] END .................................C=0.1, kernel=poly; total time=  41.9s\n",
            "[CV] END .................................C=0.1, kernel=poly; total time=  40.6s\n",
            "[CV] END .................................C=0.1, kernel=poly; total time=  35.8s\n",
            "[CV] END .................................C=0.1, kernel=poly; total time=  36.8s\n",
            "[CV] END ....................................C=1, kernel=rbf; total time=  38.1s\n",
            "[CV] END ....................................C=1, kernel=rbf; total time=  37.2s\n",
            "[CV] END ....................................C=1, kernel=rbf; total time=  37.8s\n",
            "[CV] END ....................................C=1, kernel=rbf; total time=  36.5s\n",
            "[CV] END ....................................C=1, kernel=rbf; total time=  36.9s\n",
            "[CV] END ...................................C=1, kernel=poly; total time= 1.0min\n",
            "[CV] END ...................................C=1, kernel=poly; total time= 1.0min\n",
            "[CV] END ...................................C=1, kernel=poly; total time= 1.0min\n",
            "[CV] END ...................................C=1, kernel=poly; total time= 1.0min\n",
            "[CV] END ...................................C=1, kernel=poly; total time= 1.0min\n",
            "[CV] END ...................................C=10, kernel=rbf; total time=  35.4s\n",
            "[CV] END ...................................C=10, kernel=rbf; total time=  35.9s\n",
            "[CV] END ...................................C=10, kernel=rbf; total time=  37.6s\n",
            "[CV] END ...................................C=10, kernel=rbf; total time=  37.6s\n",
            "[CV] END ...................................C=10, kernel=rbf; total time=  36.9s\n",
            "[CV] END ..................................C=10, kernel=poly; total time= 2.3min\n",
            "[CV] END ..................................C=10, kernel=poly; total time= 2.3min\n",
            "[CV] END ..................................C=10, kernel=poly; total time= 2.4min\n",
            "[CV] END ..................................C=10, kernel=poly; total time= 2.4min\n",
            "[CV] END ..................................C=10, kernel=poly; total time= 2.5min\n",
            "Best Hyperparameters:  {'C': 10, 'kernel': 'rbf'}\n",
            "Best Accuracy:  0.8108284765089149\n"
          ]
        }
      ],
      "source": [
        "from sklearn.svm import SVC\n",
        "from sklearn.model_selection import GridSearchCV\n",
        "from sklearn.metrics import accuracy_score\n",
        "\n",
        "params = {'C': [0.1, 1, 10], #Regularization parameter. The strength of the regularization is inversely proportional to C. Must be strictly positive. The penalty is a squared l2 penalty.\n",
        "          'kernel': ['rbf', 'poly']} #Specifies the kernel type to be used in the algorithm. If none is given, ‘rbf’ will be used. If a callable is given it is used to pre-compute the kernel matrix from data matrices; that matrix should be an array of shape (n_samples, n_samples).\n",
        "\n",
        "\n",
        "svm = SVC()\n",
        "grid_search = GridSearchCV(estimator = svm, \n",
        "                           param_grid = params, \n",
        "                           cv=5,\n",
        "                           scoring = 'accuracy',\n",
        "                           verbose = 2)\n",
        "\n",
        "grid_search.fit(x_flat_train, y_train)\n",
        "\n",
        "print(\"Best Hyperparameters: \", grid_search.best_params_)\n",
        "print(\"Best Accuracy: \", grid_search.best_score_)"
      ]
    },
    {
      "cell_type": "code",
      "execution_count": 11,
      "metadata": {
        "colab": {
          "base_uri": "https://localhost:8080/"
        },
        "id": "bHnfcOnoVzDT",
        "outputId": "7140f75b-4836-4d36-d3d2-953039536c10"
      },
      "outputs": [
        {
          "name": "stdout",
          "output_type": "stream",
          "text": [
            "Accuracy on Testing Set:  0.8195294875926523\n"
          ]
        }
      ],
      "source": [
        "best_svm = grid_search.best_estimator_\n",
        "y_pred = best_svm.predict(x_flat_test)\n",
        "accuracy = accuracy_score(y_test, y_pred)\n",
        "print(\"Accuracy on Testing Set: \", accuracy)\n",
        "\n",
        "models_df = models_df.append(pd.Series(['SMV', accuracy], index=models_df.columns), ignore_index=True)\n",
        "models_df = models_df.sort_values('Test_Accuracy', ascending=False)"
      ]
    },
    {
      "cell_type": "code",
      "execution_count": 12,
      "metadata": {
        "colab": {
          "base_uri": "https://localhost:8080/",
          "height": 81
        },
        "id": "1NW2w0hWW7HL",
        "outputId": "2bd18f45-72d1-41c5-d823-8dfe9dcf6dbc"
      },
      "outputs": [
        {
          "data": {
            "text/html": [
              "\n",
              "  <div id=\"df-5513cf67-3c87-4e99-8ebe-a7c9d72f3b6e\">\n",
              "    <div class=\"colab-df-container\">\n",
              "      <div>\n",
              "<style scoped>\n",
              "    .dataframe tbody tr th:only-of-type {\n",
              "        vertical-align: middle;\n",
              "    }\n",
              "\n",
              "    .dataframe tbody tr th {\n",
              "        vertical-align: top;\n",
              "    }\n",
              "\n",
              "    .dataframe thead th {\n",
              "        text-align: right;\n",
              "    }\n",
              "</style>\n",
              "<table border=\"1\" class=\"dataframe\">\n",
              "  <thead>\n",
              "    <tr style=\"text-align: right;\">\n",
              "      <th></th>\n",
              "      <th>Model</th>\n",
              "      <th>Test_Accuracy</th>\n",
              "    </tr>\n",
              "  </thead>\n",
              "  <tbody>\n",
              "    <tr>\n",
              "      <th>0</th>\n",
              "      <td>SMV</td>\n",
              "      <td>0.819529</td>\n",
              "    </tr>\n",
              "  </tbody>\n",
              "</table>\n",
              "</div>\n",
              "      <button class=\"colab-df-convert\" onclick=\"convertToInteractive('df-5513cf67-3c87-4e99-8ebe-a7c9d72f3b6e')\"\n",
              "              title=\"Convert this dataframe to an interactive table.\"\n",
              "              style=\"display:none;\">\n",
              "        \n",
              "  <svg xmlns=\"http://www.w3.org/2000/svg\" height=\"24px\"viewBox=\"0 0 24 24\"\n",
              "       width=\"24px\">\n",
              "    <path d=\"M0 0h24v24H0V0z\" fill=\"none\"/>\n",
              "    <path d=\"M18.56 5.44l.94 2.06.94-2.06 2.06-.94-2.06-.94-.94-2.06-.94 2.06-2.06.94zm-11 1L8.5 8.5l.94-2.06 2.06-.94-2.06-.94L8.5 2.5l-.94 2.06-2.06.94zm10 10l.94 2.06.94-2.06 2.06-.94-2.06-.94-.94-2.06-.94 2.06-2.06.94z\"/><path d=\"M17.41 7.96l-1.37-1.37c-.4-.4-.92-.59-1.43-.59-.52 0-1.04.2-1.43.59L10.3 9.45l-7.72 7.72c-.78.78-.78 2.05 0 2.83L4 21.41c.39.39.9.59 1.41.59.51 0 1.02-.2 1.41-.59l7.78-7.78 2.81-2.81c.8-.78.8-2.07 0-2.86zM5.41 20L4 18.59l7.72-7.72 1.47 1.35L5.41 20z\"/>\n",
              "  </svg>\n",
              "      </button>\n",
              "      \n",
              "  <style>\n",
              "    .colab-df-container {\n",
              "      display:flex;\n",
              "      flex-wrap:wrap;\n",
              "      gap: 12px;\n",
              "    }\n",
              "\n",
              "    .colab-df-convert {\n",
              "      background-color: #E8F0FE;\n",
              "      border: none;\n",
              "      border-radius: 50%;\n",
              "      cursor: pointer;\n",
              "      display: none;\n",
              "      fill: #1967D2;\n",
              "      height: 32px;\n",
              "      padding: 0 0 0 0;\n",
              "      width: 32px;\n",
              "    }\n",
              "\n",
              "    .colab-df-convert:hover {\n",
              "      background-color: #E2EBFA;\n",
              "      box-shadow: 0px 1px 2px rgba(60, 64, 67, 0.3), 0px 1px 3px 1px rgba(60, 64, 67, 0.15);\n",
              "      fill: #174EA6;\n",
              "    }\n",
              "\n",
              "    [theme=dark] .colab-df-convert {\n",
              "      background-color: #3B4455;\n",
              "      fill: #D2E3FC;\n",
              "    }\n",
              "\n",
              "    [theme=dark] .colab-df-convert:hover {\n",
              "      background-color: #434B5C;\n",
              "      box-shadow: 0px 1px 3px 1px rgba(0, 0, 0, 0.15);\n",
              "      filter: drop-shadow(0px 1px 2px rgba(0, 0, 0, 0.3));\n",
              "      fill: #FFFFFF;\n",
              "    }\n",
              "  </style>\n",
              "\n",
              "      <script>\n",
              "        const buttonEl =\n",
              "          document.querySelector('#df-5513cf67-3c87-4e99-8ebe-a7c9d72f3b6e button.colab-df-convert');\n",
              "        buttonEl.style.display =\n",
              "          google.colab.kernel.accessAllowed ? 'block' : 'none';\n",
              "\n",
              "        async function convertToInteractive(key) {\n",
              "          const element = document.querySelector('#df-5513cf67-3c87-4e99-8ebe-a7c9d72f3b6e');\n",
              "          const dataTable =\n",
              "            await google.colab.kernel.invokeFunction('convertToInteractive',\n",
              "                                                     [key], {});\n",
              "          if (!dataTable) return;\n",
              "\n",
              "          const docLinkHtml = 'Like what you see? Visit the ' +\n",
              "            '<a target=\"_blank\" href=https://colab.research.google.com/notebooks/data_table.ipynb>data table notebook</a>'\n",
              "            + ' to learn more about interactive tables.';\n",
              "          element.innerHTML = '';\n",
              "          dataTable['output_type'] = 'display_data';\n",
              "          await google.colab.output.renderOutput(dataTable, element);\n",
              "          const docLink = document.createElement('div');\n",
              "          docLink.innerHTML = docLinkHtml;\n",
              "          element.appendChild(docLink);\n",
              "        }\n",
              "      </script>\n",
              "    </div>\n",
              "  </div>\n",
              "  "
            ],
            "text/plain": [
              "  Model  Test_Accuracy\n",
              "0   SMV       0.819529"
            ]
          },
          "execution_count": 12,
          "metadata": {},
          "output_type": "execute_result"
        }
      ],
      "source": [
        "models_df"
      ]
    },
    {
      "cell_type": "code",
      "execution_count": 13,
      "metadata": {
        "colab": {
          "base_uri": "https://localhost:8080/",
          "height": 17
        },
        "id": "QSXj867xckOh",
        "outputId": "5c9a44c8-d03d-421b-8d7a-2d07e74ae701"
      },
      "outputs": [
        {
          "data": {
            "application/javascript": "\n    async function download(id, filename, size) {\n      if (!google.colab.kernel.accessAllowed) {\n        return;\n      }\n      const div = document.createElement('div');\n      const label = document.createElement('label');\n      label.textContent = `Downloading \"${filename}\": `;\n      div.appendChild(label);\n      const progress = document.createElement('progress');\n      progress.max = size;\n      div.appendChild(progress);\n      document.body.appendChild(div);\n\n      const buffers = [];\n      let downloaded = 0;\n\n      const channel = await google.colab.kernel.comms.open(id);\n      // Send a message to notify the kernel that we're ready.\n      channel.send({})\n\n      for await (const message of channel.messages) {\n        // Send a message to notify the kernel that we're ready.\n        channel.send({})\n        if (message.buffers) {\n          for (const buffer of message.buffers) {\n            buffers.push(buffer);\n            downloaded += buffer.byteLength;\n            progress.value = downloaded;\n          }\n        }\n      }\n      const blob = new Blob(buffers, {type: 'application/binary'});\n      const a = document.createElement('a');\n      a.href = window.URL.createObjectURL(blob);\n      a.download = filename;\n      div.appendChild(a);\n      a.click();\n      div.remove();\n    }\n  ",
            "text/plain": [
              "<IPython.core.display.Javascript object>"
            ]
          },
          "metadata": {},
          "output_type": "display_data"
        },
        {
          "data": {
            "application/javascript": "download(\"download_95314c46-7dc1-4d6c-89ce-a63060aae021\", \"SVM_Model.pkl\", 43081421)",
            "text/plain": [
              "<IPython.core.display.Javascript object>"
            ]
          },
          "metadata": {},
          "output_type": "display_data"
        }
      ],
      "source": [
        "import pickle\n",
        "with open('SVM_Model.pkl', 'wb') as file:\n",
        "    pickle.dump(best_svm, file)\n",
        "\n",
        "from google.colab import files\n",
        "files.download('SVM_Model.pkl')"
      ]
    },
    {
      "cell_type": "markdown",
      "metadata": {
        "id": "S_trDms3aaJl"
      },
      "source": [
        "### K-Nearest Neighbour (KNN) Classification"
      ]
    },
    {
      "cell_type": "code",
      "execution_count": 14,
      "metadata": {
        "colab": {
          "base_uri": "https://localhost:8080/"
        },
        "id": "I61H_k1PadeU",
        "outputId": "4200fe2f-325c-48ca-b58b-e469c2dd94d0"
      },
      "outputs": [
        {
          "name": "stdout",
          "output_type": "stream",
          "text": [
            "Fitting 5 folds for each of 12 candidates, totalling 60 fits\n",
            "[CV] END ................n_neighbors=3, p=1, weights=uniform; total time=  17.3s\n",
            "[CV] END ................n_neighbors=3, p=1, weights=uniform; total time=  17.1s\n",
            "[CV] END ................n_neighbors=3, p=1, weights=uniform; total time=  15.3s\n",
            "[CV] END ................n_neighbors=3, p=1, weights=uniform; total time=  17.1s\n",
            "[CV] END ................n_neighbors=3, p=1, weights=uniform; total time=  15.8s\n",
            "[CV] END ...............n_neighbors=3, p=1, weights=distance; total time=  15.1s\n",
            "[CV] END ...............n_neighbors=3, p=1, weights=distance; total time=  15.7s\n",
            "[CV] END ...............n_neighbors=3, p=1, weights=distance; total time=  15.4s\n",
            "[CV] END ...............n_neighbors=3, p=1, weights=distance; total time=  15.2s\n",
            "[CV] END ...............n_neighbors=3, p=1, weights=distance; total time=  15.0s\n",
            "[CV] END ................n_neighbors=3, p=2, weights=uniform; total time=   2.0s\n",
            "[CV] END ................n_neighbors=3, p=2, weights=uniform; total time=   2.0s\n",
            "[CV] END ................n_neighbors=3, p=2, weights=uniform; total time=   1.2s\n",
            "[CV] END ................n_neighbors=3, p=2, weights=uniform; total time=   1.3s\n",
            "[CV] END ................n_neighbors=3, p=2, weights=uniform; total time=   1.2s\n",
            "[CV] END ...............n_neighbors=3, p=2, weights=distance; total time=   1.2s\n",
            "[CV] END ...............n_neighbors=3, p=2, weights=distance; total time=   1.2s\n",
            "[CV] END ...............n_neighbors=3, p=2, weights=distance; total time=   1.2s\n",
            "[CV] END ...............n_neighbors=3, p=2, weights=distance; total time=   1.2s\n",
            "[CV] END ...............n_neighbors=3, p=2, weights=distance; total time=   1.7s\n",
            "[CV] END ................n_neighbors=5, p=1, weights=uniform; total time=  16.4s\n",
            "[CV] END ................n_neighbors=5, p=1, weights=uniform; total time=  16.3s\n",
            "[CV] END ................n_neighbors=5, p=1, weights=uniform; total time=  15.2s\n",
            "[CV] END ................n_neighbors=5, p=1, weights=uniform; total time=  15.0s\n",
            "[CV] END ................n_neighbors=5, p=1, weights=uniform; total time=  15.0s\n",
            "[CV] END ...............n_neighbors=5, p=1, weights=distance; total time=  15.1s\n",
            "[CV] END ...............n_neighbors=5, p=1, weights=distance; total time=  15.2s\n",
            "[CV] END ...............n_neighbors=5, p=1, weights=distance; total time=  17.8s\n",
            "[CV] END ...............n_neighbors=5, p=1, weights=distance; total time=  15.3s\n",
            "[CV] END ...............n_neighbors=5, p=1, weights=distance; total time=  14.9s\n",
            "[CV] END ................n_neighbors=5, p=2, weights=uniform; total time=   1.2s\n",
            "[CV] END ................n_neighbors=5, p=2, weights=uniform; total time=   1.2s\n",
            "[CV] END ................n_neighbors=5, p=2, weights=uniform; total time=   1.2s\n",
            "[CV] END ................n_neighbors=5, p=2, weights=uniform; total time=   1.2s\n",
            "[CV] END ................n_neighbors=5, p=2, weights=uniform; total time=   1.2s\n",
            "[CV] END ...............n_neighbors=5, p=2, weights=distance; total time=   1.3s\n",
            "[CV] END ...............n_neighbors=5, p=2, weights=distance; total time=   2.1s\n",
            "[CV] END ...............n_neighbors=5, p=2, weights=distance; total time=   1.7s\n",
            "[CV] END ...............n_neighbors=5, p=2, weights=distance; total time=   1.2s\n",
            "[CV] END ...............n_neighbors=5, p=2, weights=distance; total time=   1.2s\n",
            "[CV] END ................n_neighbors=7, p=1, weights=uniform; total time=  15.0s\n",
            "[CV] END ................n_neighbors=7, p=1, weights=uniform; total time=  15.1s\n",
            "[CV] END ................n_neighbors=7, p=1, weights=uniform; total time=  15.1s\n",
            "[CV] END ................n_neighbors=7, p=1, weights=uniform; total time=  14.8s\n",
            "[CV] END ................n_neighbors=7, p=1, weights=uniform; total time=  17.4s\n",
            "[CV] END ...............n_neighbors=7, p=1, weights=distance; total time=  15.3s\n",
            "[CV] END ...............n_neighbors=7, p=1, weights=distance; total time=  14.9s\n",
            "[CV] END ...............n_neighbors=7, p=1, weights=distance; total time=  14.9s\n",
            "[CV] END ...............n_neighbors=7, p=1, weights=distance; total time=  15.0s\n",
            "[CV] END ...............n_neighbors=7, p=1, weights=distance; total time=  15.0s\n",
            "[CV] END ................n_neighbors=7, p=2, weights=uniform; total time=   1.2s\n",
            "[CV] END ................n_neighbors=7, p=2, weights=uniform; total time=   1.2s\n",
            "[CV] END ................n_neighbors=7, p=2, weights=uniform; total time=   2.0s\n",
            "[CV] END ................n_neighbors=7, p=2, weights=uniform; total time=   2.0s\n",
            "[CV] END ................n_neighbors=7, p=2, weights=uniform; total time=   1.3s\n",
            "[CV] END ...............n_neighbors=7, p=2, weights=distance; total time=   1.2s\n",
            "[CV] END ...............n_neighbors=7, p=2, weights=distance; total time=   1.2s\n",
            "[CV] END ...............n_neighbors=7, p=2, weights=distance; total time=   1.2s\n",
            "[CV] END ...............n_neighbors=7, p=2, weights=distance; total time=   1.2s\n",
            "[CV] END ...............n_neighbors=7, p=2, weights=distance; total time=   1.2s\n",
            "Best Hyperparameters:  {'n_neighbors': 5, 'p': 1, 'weights': 'distance'}\n",
            "Best Accuracy:  0.7645022738019012\n"
          ]
        }
      ],
      "source": [
        "from sklearn.neighbors import KNeighborsClassifier\n",
        "\n",
        "params = {'n_neighbors': [3, 5, 7], #Number of neighbors to use by default for kneighbors queries.\n",
        "          'weights': ['uniform', 'distance'], #‘uniform’ : uniform weights. All points in each neighborhood are weighted equally. ‘distance’ : weight points by the inverse of their distance. in this case, closer neighbors of a query point will have a greater influence than neighbors which are further away.\n",
        "          'p': [1, 2]} #Power parameter for the Minkowski metric. When p = 1, this is equivalent to using manhattan_distance (l1), and euclidean_distance (l2) for p = 2. For arbitrary p, minkowski_distance (l_p) is used.\n",
        "\n",
        "knn = KNeighborsClassifier()\n",
        "\n",
        "grid_search = GridSearchCV(estimator = knn, \n",
        "                           param_grid = params, \n",
        "                           cv=5,\n",
        "                           scoring = 'accuracy',\n",
        "                           verbose = 2)\n",
        "\n",
        "grid_search.fit(x_flat_train, y_train)\n",
        "\n",
        "print(\"Best Hyperparameters: \", grid_search.best_params_)\n",
        "print(\"Best Accuracy: \", grid_search.best_score_)"
      ]
    },
    {
      "cell_type": "code",
      "execution_count": 15,
      "metadata": {
        "colab": {
          "base_uri": "https://localhost:8080/"
        },
        "id": "vq2QiTWocA6_",
        "outputId": "5ee2c426-4ffc-48e9-acba-07762e969556"
      },
      "outputs": [
        {
          "name": "stdout",
          "output_type": "stream",
          "text": [
            "Accuracy on Testing Set:  0.7657106026426039\n"
          ]
        }
      ],
      "source": [
        "best_knn = grid_search.best_estimator_\n",
        "y_pred = best_knn.predict(x_flat_test)\n",
        "accuracy = accuracy_score(y_test, y_pred)\n",
        "print(\"Accuracy on Testing Set: \", accuracy)\n",
        "\n",
        "models_df = models_df.append(pd.Series(['KNN', accuracy], index=models_df.columns), ignore_index=True)\n",
        "models_df = models_df.sort_values('Test_Accuracy', ascending=False)"
      ]
    },
    {
      "cell_type": "code",
      "execution_count": 16,
      "metadata": {
        "colab": {
          "base_uri": "https://localhost:8080/",
          "height": 112
        },
        "id": "wyWjsX6xcNWZ",
        "outputId": "3f7e3716-db64-4b46-bd66-404f052cec4d"
      },
      "outputs": [
        {
          "data": {
            "text/html": [
              "\n",
              "  <div id=\"df-f52ba6b9-1407-4ff6-9745-094c51e20dfc\">\n",
              "    <div class=\"colab-df-container\">\n",
              "      <div>\n",
              "<style scoped>\n",
              "    .dataframe tbody tr th:only-of-type {\n",
              "        vertical-align: middle;\n",
              "    }\n",
              "\n",
              "    .dataframe tbody tr th {\n",
              "        vertical-align: top;\n",
              "    }\n",
              "\n",
              "    .dataframe thead th {\n",
              "        text-align: right;\n",
              "    }\n",
              "</style>\n",
              "<table border=\"1\" class=\"dataframe\">\n",
              "  <thead>\n",
              "    <tr style=\"text-align: right;\">\n",
              "      <th></th>\n",
              "      <th>Model</th>\n",
              "      <th>Test_Accuracy</th>\n",
              "    </tr>\n",
              "  </thead>\n",
              "  <tbody>\n",
              "    <tr>\n",
              "      <th>0</th>\n",
              "      <td>SMV</td>\n",
              "      <td>0.819529</td>\n",
              "    </tr>\n",
              "    <tr>\n",
              "      <th>1</th>\n",
              "      <td>KNN</td>\n",
              "      <td>0.765711</td>\n",
              "    </tr>\n",
              "  </tbody>\n",
              "</table>\n",
              "</div>\n",
              "      <button class=\"colab-df-convert\" onclick=\"convertToInteractive('df-f52ba6b9-1407-4ff6-9745-094c51e20dfc')\"\n",
              "              title=\"Convert this dataframe to an interactive table.\"\n",
              "              style=\"display:none;\">\n",
              "        \n",
              "  <svg xmlns=\"http://www.w3.org/2000/svg\" height=\"24px\"viewBox=\"0 0 24 24\"\n",
              "       width=\"24px\">\n",
              "    <path d=\"M0 0h24v24H0V0z\" fill=\"none\"/>\n",
              "    <path d=\"M18.56 5.44l.94 2.06.94-2.06 2.06-.94-2.06-.94-.94-2.06-.94 2.06-2.06.94zm-11 1L8.5 8.5l.94-2.06 2.06-.94-2.06-.94L8.5 2.5l-.94 2.06-2.06.94zm10 10l.94 2.06.94-2.06 2.06-.94-2.06-.94-.94-2.06-.94 2.06-2.06.94z\"/><path d=\"M17.41 7.96l-1.37-1.37c-.4-.4-.92-.59-1.43-.59-.52 0-1.04.2-1.43.59L10.3 9.45l-7.72 7.72c-.78.78-.78 2.05 0 2.83L4 21.41c.39.39.9.59 1.41.59.51 0 1.02-.2 1.41-.59l7.78-7.78 2.81-2.81c.8-.78.8-2.07 0-2.86zM5.41 20L4 18.59l7.72-7.72 1.47 1.35L5.41 20z\"/>\n",
              "  </svg>\n",
              "      </button>\n",
              "      \n",
              "  <style>\n",
              "    .colab-df-container {\n",
              "      display:flex;\n",
              "      flex-wrap:wrap;\n",
              "      gap: 12px;\n",
              "    }\n",
              "\n",
              "    .colab-df-convert {\n",
              "      background-color: #E8F0FE;\n",
              "      border: none;\n",
              "      border-radius: 50%;\n",
              "      cursor: pointer;\n",
              "      display: none;\n",
              "      fill: #1967D2;\n",
              "      height: 32px;\n",
              "      padding: 0 0 0 0;\n",
              "      width: 32px;\n",
              "    }\n",
              "\n",
              "    .colab-df-convert:hover {\n",
              "      background-color: #E2EBFA;\n",
              "      box-shadow: 0px 1px 2px rgba(60, 64, 67, 0.3), 0px 1px 3px 1px rgba(60, 64, 67, 0.15);\n",
              "      fill: #174EA6;\n",
              "    }\n",
              "\n",
              "    [theme=dark] .colab-df-convert {\n",
              "      background-color: #3B4455;\n",
              "      fill: #D2E3FC;\n",
              "    }\n",
              "\n",
              "    [theme=dark] .colab-df-convert:hover {\n",
              "      background-color: #434B5C;\n",
              "      box-shadow: 0px 1px 3px 1px rgba(0, 0, 0, 0.15);\n",
              "      filter: drop-shadow(0px 1px 2px rgba(0, 0, 0, 0.3));\n",
              "      fill: #FFFFFF;\n",
              "    }\n",
              "  </style>\n",
              "\n",
              "      <script>\n",
              "        const buttonEl =\n",
              "          document.querySelector('#df-f52ba6b9-1407-4ff6-9745-094c51e20dfc button.colab-df-convert');\n",
              "        buttonEl.style.display =\n",
              "          google.colab.kernel.accessAllowed ? 'block' : 'none';\n",
              "\n",
              "        async function convertToInteractive(key) {\n",
              "          const element = document.querySelector('#df-f52ba6b9-1407-4ff6-9745-094c51e20dfc');\n",
              "          const dataTable =\n",
              "            await google.colab.kernel.invokeFunction('convertToInteractive',\n",
              "                                                     [key], {});\n",
              "          if (!dataTable) return;\n",
              "\n",
              "          const docLinkHtml = 'Like what you see? Visit the ' +\n",
              "            '<a target=\"_blank\" href=https://colab.research.google.com/notebooks/data_table.ipynb>data table notebook</a>'\n",
              "            + ' to learn more about interactive tables.';\n",
              "          element.innerHTML = '';\n",
              "          dataTable['output_type'] = 'display_data';\n",
              "          await google.colab.output.renderOutput(dataTable, element);\n",
              "          const docLink = document.createElement('div');\n",
              "          docLink.innerHTML = docLinkHtml;\n",
              "          element.appendChild(docLink);\n",
              "        }\n",
              "      </script>\n",
              "    </div>\n",
              "  </div>\n",
              "  "
            ],
            "text/plain": [
              "  Model  Test_Accuracy\n",
              "0   SMV       0.819529\n",
              "1   KNN       0.765711"
            ]
          },
          "execution_count": 16,
          "metadata": {},
          "output_type": "execute_result"
        }
      ],
      "source": [
        "models_df"
      ]
    },
    {
      "cell_type": "code",
      "execution_count": 17,
      "metadata": {
        "colab": {
          "base_uri": "https://localhost:8080/",
          "height": 17
        },
        "id": "-oLH9ruqdDAA",
        "outputId": "fad7900e-20cc-4423-828f-49132f90bfe8"
      },
      "outputs": [
        {
          "data": {
            "application/javascript": "\n    async function download(id, filename, size) {\n      if (!google.colab.kernel.accessAllowed) {\n        return;\n      }\n      const div = document.createElement('div');\n      const label = document.createElement('label');\n      label.textContent = `Downloading \"${filename}\": `;\n      div.appendChild(label);\n      const progress = document.createElement('progress');\n      progress.max = size;\n      div.appendChild(progress);\n      document.body.appendChild(div);\n\n      const buffers = [];\n      let downloaded = 0;\n\n      const channel = await google.colab.kernel.comms.open(id);\n      // Send a message to notify the kernel that we're ready.\n      channel.send({})\n\n      for await (const message of channel.messages) {\n        // Send a message to notify the kernel that we're ready.\n        channel.send({})\n        if (message.buffers) {\n          for (const buffer of message.buffers) {\n            buffers.push(buffer);\n            downloaded += buffer.byteLength;\n            progress.value = downloaded;\n          }\n        }\n      }\n      const blob = new Blob(buffers, {type: 'application/binary'});\n      const a = document.createElement('a');\n      a.href = window.URL.createObjectURL(blob);\n      a.download = filename;\n      div.appendChild(a);\n      a.click();\n      div.remove();\n    }\n  ",
            "text/plain": [
              "<IPython.core.display.Javascript object>"
            ]
          },
          "metadata": {},
          "output_type": "display_data"
        },
        {
          "data": {
            "application/javascript": "download(\"download_13b73f12-b865-45aa-97bb-61e2829c44a0\", \"KNN_Model.pkl\", 38229678)",
            "text/plain": [
              "<IPython.core.display.Javascript object>"
            ]
          },
          "metadata": {},
          "output_type": "display_data"
        }
      ],
      "source": [
        "import pickle\n",
        "with open('KNN_Model.pkl', 'wb') as file:\n",
        "    pickle.dump(best_knn, file)\n",
        "\n",
        "from google.colab import files\n",
        "files.download('KNN_Model.pkl')"
      ]
    },
    {
      "cell_type": "markdown",
      "metadata": {
        "id": "qcyRnGoHdnC3"
      },
      "source": [
        "### Gauissian Naive Bayes (GNB) Classifier"
      ]
    },
    {
      "cell_type": "code",
      "execution_count": 18,
      "metadata": {
        "colab": {
          "base_uri": "https://localhost:8080/"
        },
        "id": "BojsaxiOdq-E",
        "outputId": "0ad88f24-649f-405d-99e5-80b909aac039"
      },
      "outputs": [
        {
          "name": "stdout",
          "output_type": "stream",
          "text": [
            "Fitting 5 folds for each of 50 candidates, totalling 250 fits\n",
            "[CV] END ..................................var_smoothing=0.0; total time=   0.1s\n",
            "[CV] END ..................................var_smoothing=0.0; total time=   0.1s\n",
            "[CV] END ..................................var_smoothing=0.0; total time=   0.1s\n",
            "[CV] END ..................................var_smoothing=0.0; total time=   0.1s\n",
            "[CV] END ..................................var_smoothing=0.0; total time=   0.1s\n",
            "[CV] END ..................var_smoothing=0.01020408163265306; total time=   0.1s\n",
            "[CV] END ..................var_smoothing=0.01020408163265306; total time=   0.1s\n",
            "[CV] END ..................var_smoothing=0.01020408163265306; total time=   0.1s\n",
            "[CV] END ..................var_smoothing=0.01020408163265306; total time=   0.1s\n",
            "[CV] END ..................var_smoothing=0.01020408163265306; total time=   0.1s\n",
            "[CV] END ..................var_smoothing=0.02040816326530612; total time=   0.1s\n",
            "[CV] END ..................var_smoothing=0.02040816326530612; total time=   0.1s\n",
            "[CV] END ..................var_smoothing=0.02040816326530612; total time=   0.1s\n",
            "[CV] END ..................var_smoothing=0.02040816326530612; total time=   0.1s\n",
            "[CV] END ..................var_smoothing=0.02040816326530612; total time=   0.1s\n",
            "[CV] END .................var_smoothing=0.030612244897959183; total time=   0.1s\n",
            "[CV] END .................var_smoothing=0.030612244897959183; total time=   0.1s\n",
            "[CV] END .................var_smoothing=0.030612244897959183; total time=   0.1s\n",
            "[CV] END .................var_smoothing=0.030612244897959183; total time=   0.1s\n",
            "[CV] END .................var_smoothing=0.030612244897959183; total time=   0.1s\n",
            "[CV] END ..................var_smoothing=0.04081632653061224; total time=   0.1s\n",
            "[CV] END ..................var_smoothing=0.04081632653061224; total time=   0.1s\n",
            "[CV] END ..................var_smoothing=0.04081632653061224; total time=   0.1s\n",
            "[CV] END ..................var_smoothing=0.04081632653061224; total time=   0.1s\n",
            "[CV] END ..................var_smoothing=0.04081632653061224; total time=   0.1s\n",
            "[CV] END ...................var_smoothing=0.0510204081632653; total time=   0.1s\n",
            "[CV] END ...................var_smoothing=0.0510204081632653; total time=   0.1s\n",
            "[CV] END ...................var_smoothing=0.0510204081632653; total time=   0.1s\n",
            "[CV] END ...................var_smoothing=0.0510204081632653; total time=   0.1s\n",
            "[CV] END ...................var_smoothing=0.0510204081632653; total time=   0.1s\n",
            "[CV] END .................var_smoothing=0.061224489795918366; total time=   0.1s\n",
            "[CV] END .................var_smoothing=0.061224489795918366; total time=   0.1s\n",
            "[CV] END .................var_smoothing=0.061224489795918366; total time=   0.1s\n",
            "[CV] END .................var_smoothing=0.061224489795918366; total time=   0.1s\n",
            "[CV] END .................var_smoothing=0.061224489795918366; total time=   0.1s\n",
            "[CV] END ..................var_smoothing=0.07142857142857142; total time=   0.1s\n",
            "[CV] END ..................var_smoothing=0.07142857142857142; total time=   0.1s\n",
            "[CV] END ..................var_smoothing=0.07142857142857142; total time=   0.1s\n",
            "[CV] END ..................var_smoothing=0.07142857142857142; total time=   0.1s\n",
            "[CV] END ..................var_smoothing=0.07142857142857142; total time=   0.1s\n",
            "[CV] END ..................var_smoothing=0.08163265306122448; total time=   0.1s\n",
            "[CV] END ..................var_smoothing=0.08163265306122448; total time=   0.1s\n",
            "[CV] END ..................var_smoothing=0.08163265306122448; total time=   0.1s\n",
            "[CV] END ..................var_smoothing=0.08163265306122448; total time=   0.1s\n",
            "[CV] END ..................var_smoothing=0.08163265306122448; total time=   0.1s\n",
            "[CV] END ..................var_smoothing=0.09183673469387754; total time=   0.1s\n",
            "[CV] END ..................var_smoothing=0.09183673469387754; total time=   0.1s\n",
            "[CV] END ..................var_smoothing=0.09183673469387754; total time=   0.1s\n",
            "[CV] END ..................var_smoothing=0.09183673469387754; total time=   0.1s\n",
            "[CV] END ..................var_smoothing=0.09183673469387754; total time=   0.1s\n",
            "[CV] END ...................var_smoothing=0.1020408163265306; total time=   0.1s\n",
            "[CV] END ...................var_smoothing=0.1020408163265306; total time=   0.1s\n",
            "[CV] END ...................var_smoothing=0.1020408163265306; total time=   0.1s\n",
            "[CV] END ...................var_smoothing=0.1020408163265306; total time=   0.1s\n",
            "[CV] END ...................var_smoothing=0.1020408163265306; total time=   0.1s\n",
            "[CV] END ..................var_smoothing=0.11224489795918366; total time=   0.1s\n",
            "[CV] END ..................var_smoothing=0.11224489795918366; total time=   0.1s\n",
            "[CV] END ..................var_smoothing=0.11224489795918366; total time=   0.1s\n",
            "[CV] END ..................var_smoothing=0.11224489795918366; total time=   0.1s\n",
            "[CV] END ..................var_smoothing=0.11224489795918366; total time=   0.1s\n",
            "[CV] END ..................var_smoothing=0.12244897959183673; total time=   0.1s\n",
            "[CV] END ..................var_smoothing=0.12244897959183673; total time=   0.1s\n",
            "[CV] END ..................var_smoothing=0.12244897959183673; total time=   0.1s\n",
            "[CV] END ..................var_smoothing=0.12244897959183673; total time=   0.1s\n",
            "[CV] END ..................var_smoothing=0.12244897959183673; total time=   0.1s\n",
            "[CV] END ..................var_smoothing=0.13265306122448978; total time=   0.1s\n",
            "[CV] END ..................var_smoothing=0.13265306122448978; total time=   0.1s\n",
            "[CV] END ..................var_smoothing=0.13265306122448978; total time=   0.1s\n",
            "[CV] END ..................var_smoothing=0.13265306122448978; total time=   0.1s\n",
            "[CV] END ..................var_smoothing=0.13265306122448978; total time=   0.1s\n",
            "[CV] END ..................var_smoothing=0.14285714285714285; total time=   0.1s\n",
            "[CV] END ..................var_smoothing=0.14285714285714285; total time=   0.1s\n",
            "[CV] END ..................var_smoothing=0.14285714285714285; total time=   0.1s\n",
            "[CV] END ..................var_smoothing=0.14285714285714285; total time=   0.1s\n",
            "[CV] END ..................var_smoothing=0.14285714285714285; total time=   0.1s\n",
            "[CV] END ...................var_smoothing=0.1530612244897959; total time=   0.1s\n",
            "[CV] END ...................var_smoothing=0.1530612244897959; total time=   0.1s\n",
            "[CV] END ...................var_smoothing=0.1530612244897959; total time=   0.1s\n",
            "[CV] END ...................var_smoothing=0.1530612244897959; total time=   0.1s\n",
            "[CV] END ...................var_smoothing=0.1530612244897959; total time=   0.1s\n",
            "[CV] END ..................var_smoothing=0.16326530612244897; total time=   0.1s\n",
            "[CV] END ..................var_smoothing=0.16326530612244897; total time=   0.1s\n",
            "[CV] END ..................var_smoothing=0.16326530612244897; total time=   0.1s\n",
            "[CV] END ..................var_smoothing=0.16326530612244897; total time=   0.1s\n",
            "[CV] END ..................var_smoothing=0.16326530612244897; total time=   0.1s\n",
            "[CV] END ..................var_smoothing=0.17346938775510204; total time=   0.1s\n",
            "[CV] END ..................var_smoothing=0.17346938775510204; total time=   0.1s\n",
            "[CV] END ..................var_smoothing=0.17346938775510204; total time=   0.1s\n",
            "[CV] END ..................var_smoothing=0.17346938775510204; total time=   0.1s\n",
            "[CV] END ..................var_smoothing=0.17346938775510204; total time=   0.1s\n",
            "[CV] END ..................var_smoothing=0.18367346938775508; total time=   0.1s\n",
            "[CV] END ..................var_smoothing=0.18367346938775508; total time=   0.1s\n",
            "[CV] END ..................var_smoothing=0.18367346938775508; total time=   0.1s\n",
            "[CV] END ..................var_smoothing=0.18367346938775508; total time=   0.1s\n",
            "[CV] END ..................var_smoothing=0.18367346938775508; total time=   0.1s\n",
            "[CV] END ..................var_smoothing=0.19387755102040816; total time=   0.1s\n",
            "[CV] END ..................var_smoothing=0.19387755102040816; total time=   0.1s\n",
            "[CV] END ..................var_smoothing=0.19387755102040816; total time=   0.1s\n",
            "[CV] END ..................var_smoothing=0.19387755102040816; total time=   0.1s\n",
            "[CV] END ..................var_smoothing=0.19387755102040816; total time=   0.1s\n",
            "[CV] END ...................var_smoothing=0.2040816326530612; total time=   0.1s\n",
            "[CV] END ...................var_smoothing=0.2040816326530612; total time=   0.1s\n",
            "[CV] END ...................var_smoothing=0.2040816326530612; total time=   0.1s\n",
            "[CV] END ...................var_smoothing=0.2040816326530612; total time=   0.1s\n",
            "[CV] END ...................var_smoothing=0.2040816326530612; total time=   0.1s\n",
            "[CV] END ..................var_smoothing=0.21428571428571427; total time=   0.1s\n",
            "[CV] END ..................var_smoothing=0.21428571428571427; total time=   0.1s\n",
            "[CV] END ..................var_smoothing=0.21428571428571427; total time=   0.1s\n",
            "[CV] END ..................var_smoothing=0.21428571428571427; total time=   0.1s\n",
            "[CV] END ..................var_smoothing=0.21428571428571427; total time=   0.1s\n",
            "[CV] END ..................var_smoothing=0.22448979591836732; total time=   0.1s\n",
            "[CV] END ..................var_smoothing=0.22448979591836732; total time=   0.1s\n",
            "[CV] END ..................var_smoothing=0.22448979591836732; total time=   0.1s\n",
            "[CV] END ..................var_smoothing=0.22448979591836732; total time=   0.1s\n",
            "[CV] END ..................var_smoothing=0.22448979591836732; total time=   0.1s\n",
            "[CV] END ...................var_smoothing=0.2346938775510204; total time=   0.1s\n",
            "[CV] END ...................var_smoothing=0.2346938775510204; total time=   0.1s\n",
            "[CV] END ...................var_smoothing=0.2346938775510204; total time=   0.1s\n",
            "[CV] END ...................var_smoothing=0.2346938775510204; total time=   0.1s\n",
            "[CV] END ...................var_smoothing=0.2346938775510204; total time=   0.1s\n",
            "[CV] END ..................var_smoothing=0.24489795918367346; total time=   0.1s\n",
            "[CV] END ..................var_smoothing=0.24489795918367346; total time=   0.1s\n",
            "[CV] END ..................var_smoothing=0.24489795918367346; total time=   0.1s\n",
            "[CV] END ..................var_smoothing=0.24489795918367346; total time=   0.1s\n",
            "[CV] END ..................var_smoothing=0.24489795918367346; total time=   0.1s\n",
            "[CV] END ..................var_smoothing=0.25510204081632654; total time=   0.1s\n",
            "[CV] END ..................var_smoothing=0.25510204081632654; total time=   0.1s\n",
            "[CV] END ..................var_smoothing=0.25510204081632654; total time=   0.1s\n",
            "[CV] END ..................var_smoothing=0.25510204081632654; total time=   0.1s\n",
            "[CV] END ..................var_smoothing=0.25510204081632654; total time=   0.1s\n",
            "[CV] END ..................var_smoothing=0.26530612244897955; total time=   0.1s\n",
            "[CV] END ..................var_smoothing=0.26530612244897955; total time=   0.1s\n",
            "[CV] END ..................var_smoothing=0.26530612244897955; total time=   0.1s\n",
            "[CV] END ..................var_smoothing=0.26530612244897955; total time=   0.1s\n",
            "[CV] END ..................var_smoothing=0.26530612244897955; total time=   0.1s\n",
            "[CV] END ...................var_smoothing=0.2755102040816326; total time=   0.1s\n",
            "[CV] END ...................var_smoothing=0.2755102040816326; total time=   0.1s\n",
            "[CV] END ...................var_smoothing=0.2755102040816326; total time=   0.1s\n",
            "[CV] END ...................var_smoothing=0.2755102040816326; total time=   0.1s\n",
            "[CV] END ...................var_smoothing=0.2755102040816326; total time=   0.1s\n",
            "[CV] END ...................var_smoothing=0.2857142857142857; total time=   0.1s\n",
            "[CV] END ...................var_smoothing=0.2857142857142857; total time=   0.1s\n",
            "[CV] END ...................var_smoothing=0.2857142857142857; total time=   0.1s\n",
            "[CV] END ...................var_smoothing=0.2857142857142857; total time=   0.1s\n",
            "[CV] END ...................var_smoothing=0.2857142857142857; total time=   0.1s\n",
            "[CV] END ..................var_smoothing=0.29591836734693877; total time=   0.1s\n",
            "[CV] END ..................var_smoothing=0.29591836734693877; total time=   0.1s\n",
            "[CV] END ..................var_smoothing=0.29591836734693877; total time=   0.1s\n",
            "[CV] END ..................var_smoothing=0.29591836734693877; total time=   0.1s\n",
            "[CV] END ..................var_smoothing=0.29591836734693877; total time=   0.1s\n",
            "[CV] END ...................var_smoothing=0.3061224489795918; total time=   0.1s\n",
            "[CV] END ...................var_smoothing=0.3061224489795918; total time=   0.1s\n",
            "[CV] END ...................var_smoothing=0.3061224489795918; total time=   0.1s\n",
            "[CV] END ...................var_smoothing=0.3061224489795918; total time=   0.1s\n",
            "[CV] END ...................var_smoothing=0.3061224489795918; total time=   0.1s\n",
            "[CV] END ..................var_smoothing=0.31632653061224486; total time=   0.1s\n",
            "[CV] END ..................var_smoothing=0.31632653061224486; total time=   0.1s\n",
            "[CV] END ..................var_smoothing=0.31632653061224486; total time=   0.1s\n",
            "[CV] END ..................var_smoothing=0.31632653061224486; total time=   0.1s\n",
            "[CV] END ..................var_smoothing=0.31632653061224486; total time=   0.1s\n",
            "[CV] END ..................var_smoothing=0.32653061224489793; total time=   0.1s\n",
            "[CV] END ..................var_smoothing=0.32653061224489793; total time=   0.1s\n",
            "[CV] END ..................var_smoothing=0.32653061224489793; total time=   0.1s\n",
            "[CV] END ..................var_smoothing=0.32653061224489793; total time=   0.1s\n",
            "[CV] END ..................var_smoothing=0.32653061224489793; total time=   0.1s\n",
            "[CV] END ....................var_smoothing=0.336734693877551; total time=   0.1s\n",
            "[CV] END ....................var_smoothing=0.336734693877551; total time=   0.1s\n",
            "[CV] END ....................var_smoothing=0.336734693877551; total time=   0.1s\n",
            "[CV] END ....................var_smoothing=0.336734693877551; total time=   0.1s\n",
            "[CV] END ....................var_smoothing=0.336734693877551; total time=   0.1s\n",
            "[CV] END ...................var_smoothing=0.3469387755102041; total time=   0.1s\n",
            "[CV] END ...................var_smoothing=0.3469387755102041; total time=   0.1s\n",
            "[CV] END ...................var_smoothing=0.3469387755102041; total time=   0.1s\n",
            "[CV] END ...................var_smoothing=0.3469387755102041; total time=   0.1s\n",
            "[CV] END ...................var_smoothing=0.3469387755102041; total time=   0.1s\n",
            "[CV] END ...................var_smoothing=0.3571428571428571; total time=   0.1s\n",
            "[CV] END ...................var_smoothing=0.3571428571428571; total time=   0.1s\n",
            "[CV] END ...................var_smoothing=0.3571428571428571; total time=   0.1s\n",
            "[CV] END ...................var_smoothing=0.3571428571428571; total time=   0.1s\n",
            "[CV] END ...................var_smoothing=0.3571428571428571; total time=   0.1s\n",
            "[CV] END ..................var_smoothing=0.36734693877551017; total time=   0.1s\n",
            "[CV] END ..................var_smoothing=0.36734693877551017; total time=   0.1s\n",
            "[CV] END ..................var_smoothing=0.36734693877551017; total time=   0.1s\n",
            "[CV] END ..................var_smoothing=0.36734693877551017; total time=   0.1s\n",
            "[CV] END ..................var_smoothing=0.36734693877551017; total time=   0.1s\n",
            "[CV] END ..................var_smoothing=0.37755102040816324; total time=   0.1s\n",
            "[CV] END ..................var_smoothing=0.37755102040816324; total time=   0.1s\n",
            "[CV] END ..................var_smoothing=0.37755102040816324; total time=   0.1s\n",
            "[CV] END ..................var_smoothing=0.37755102040816324; total time=   0.1s\n",
            "[CV] END ..................var_smoothing=0.37755102040816324; total time=   0.1s\n",
            "[CV] END ...................var_smoothing=0.3877551020408163; total time=   0.1s\n",
            "[CV] END ...................var_smoothing=0.3877551020408163; total time=   0.1s\n",
            "[CV] END ...................var_smoothing=0.3877551020408163; total time=   0.1s\n",
            "[CV] END ...................var_smoothing=0.3877551020408163; total time=   0.1s\n",
            "[CV] END ...................var_smoothing=0.3877551020408163; total time=   0.1s\n",
            "[CV] END ..................var_smoothing=0.39795918367346933; total time=   0.1s\n",
            "[CV] END ..................var_smoothing=0.39795918367346933; total time=   0.1s\n",
            "[CV] END ..................var_smoothing=0.39795918367346933; total time=   0.1s\n",
            "[CV] END ..................var_smoothing=0.39795918367346933; total time=   0.1s\n",
            "[CV] END ..................var_smoothing=0.39795918367346933; total time=   0.1s\n",
            "[CV] END ...................var_smoothing=0.4081632653061224; total time=   0.1s\n",
            "[CV] END ...................var_smoothing=0.4081632653061224; total time=   0.1s\n",
            "[CV] END ...................var_smoothing=0.4081632653061224; total time=   0.1s\n",
            "[CV] END ...................var_smoothing=0.4081632653061224; total time=   0.1s\n",
            "[CV] END ...................var_smoothing=0.4081632653061224; total time=   0.1s\n",
            "[CV] END ...................var_smoothing=0.4183673469387755; total time=   0.1s\n",
            "[CV] END ...................var_smoothing=0.4183673469387755; total time=   0.1s\n",
            "[CV] END ...................var_smoothing=0.4183673469387755; total time=   0.1s\n",
            "[CV] END ...................var_smoothing=0.4183673469387755; total time=   0.1s\n",
            "[CV] END ...................var_smoothing=0.4183673469387755; total time=   0.1s\n",
            "[CV] END ..................var_smoothing=0.42857142857142855; total time=   0.1s\n",
            "[CV] END ..................var_smoothing=0.42857142857142855; total time=   0.1s\n",
            "[CV] END ..................var_smoothing=0.42857142857142855; total time=   0.1s\n",
            "[CV] END ..................var_smoothing=0.42857142857142855; total time=   0.1s\n",
            "[CV] END ..................var_smoothing=0.42857142857142855; total time=   0.1s\n",
            "[CV] END ...................var_smoothing=0.4387755102040816; total time=   0.1s\n",
            "[CV] END ...................var_smoothing=0.4387755102040816; total time=   0.1s\n",
            "[CV] END ...................var_smoothing=0.4387755102040816; total time=   0.1s\n",
            "[CV] END ...................var_smoothing=0.4387755102040816; total time=   0.1s\n",
            "[CV] END ...................var_smoothing=0.4387755102040816; total time=   0.1s\n",
            "[CV] END ..................var_smoothing=0.44897959183673464; total time=   0.1s\n",
            "[CV] END ..................var_smoothing=0.44897959183673464; total time=   0.1s\n",
            "[CV] END ..................var_smoothing=0.44897959183673464; total time=   0.1s\n",
            "[CV] END ..................var_smoothing=0.44897959183673464; total time=   0.1s\n",
            "[CV] END ..................var_smoothing=0.44897959183673464; total time=   0.1s\n",
            "[CV] END ...................var_smoothing=0.4591836734693877; total time=   0.1s\n",
            "[CV] END ...................var_smoothing=0.4591836734693877; total time=   0.1s\n",
            "[CV] END ...................var_smoothing=0.4591836734693877; total time=   0.1s\n",
            "[CV] END ...................var_smoothing=0.4591836734693877; total time=   0.1s\n",
            "[CV] END ...................var_smoothing=0.4591836734693877; total time=   0.1s\n",
            "[CV] END ...................var_smoothing=0.4693877551020408; total time=   0.1s\n",
            "[CV] END ...................var_smoothing=0.4693877551020408; total time=   0.1s\n",
            "[CV] END ...................var_smoothing=0.4693877551020408; total time=   0.1s\n",
            "[CV] END ...................var_smoothing=0.4693877551020408; total time=   0.1s\n",
            "[CV] END ...................var_smoothing=0.4693877551020408; total time=   0.1s\n",
            "[CV] END ..................var_smoothing=0.47959183673469385; total time=   0.1s\n",
            "[CV] END ..................var_smoothing=0.47959183673469385; total time=   0.1s\n",
            "[CV] END ..................var_smoothing=0.47959183673469385; total time=   0.1s\n",
            "[CV] END ..................var_smoothing=0.47959183673469385; total time=   0.1s\n",
            "[CV] END ..................var_smoothing=0.47959183673469385; total time=   0.1s\n",
            "[CV] END ...................var_smoothing=0.4897959183673469; total time=   0.1s\n",
            "[CV] END ...................var_smoothing=0.4897959183673469; total time=   0.1s\n",
            "[CV] END ...................var_smoothing=0.4897959183673469; total time=   0.1s\n",
            "[CV] END ...................var_smoothing=0.4897959183673469; total time=   0.1s\n",
            "[CV] END ...................var_smoothing=0.4897959183673469; total time=   0.1s\n",
            "[CV] END ..................................var_smoothing=0.5; total time=   0.1s\n",
            "[CV] END ..................................var_smoothing=0.5; total time=   0.1s\n",
            "[CV] END ..................................var_smoothing=0.5; total time=   0.1s\n",
            "[CV] END ..................................var_smoothing=0.5; total time=   0.1s\n",
            "[CV] END ..................................var_smoothing=0.5; total time=   0.1s\n",
            "Best Hyperparameters:  {'var_smoothing': 0.0}\n",
            "Best Accuracy:  0.5241709701717043\n"
          ]
        }
      ],
      "source": [
        "from sklearn.naive_bayes import GaussianNB\n",
        "\n",
        "params = {'var_smoothing': np.linspace(0,0.5, num=50)}\n",
        "gnb = GaussianNB()\n",
        "\n",
        "grid_search = GridSearchCV(estimator = gnb, \n",
        "                           param_grid = params, \n",
        "                           cv=5,\n",
        "                           scoring = 'accuracy',\n",
        "                           verbose = 2)\n",
        "\n",
        "grid_search.fit(x_flat_train, y_train)\n",
        "\n",
        "print(\"Best Hyperparameters: \", grid_search.best_params_)\n",
        "print(\"Best Accuracy: \", grid_search.best_score_)"
      ]
    },
    {
      "cell_type": "code",
      "execution_count": 19,
      "metadata": {
        "colab": {
          "base_uri": "https://localhost:8080/"
        },
        "id": "SjOknyjEep2U",
        "outputId": "0a177577-cfa4-4e08-c4e6-2ad1181cb5c8"
      },
      "outputs": [
        {
          "name": "stdout",
          "output_type": "stream",
          "text": [
            "Accuracy on Testing Set:  0.5259426361585562\n"
          ]
        }
      ],
      "source": [
        "best_gnb = grid_search.best_estimator_\n",
        "y_pred = best_gnb.predict(x_flat_test)\n",
        "accuracy = accuracy_score(y_test, y_pred)\n",
        "print(\"Accuracy on Testing Set: \", accuracy)\n",
        "\n",
        "models_df = models_df.append(pd.Series(['GNB', accuracy], index=models_df.columns), ignore_index=True)\n",
        "models_df = models_df.sort_values('Test_Accuracy', ascending=False)"
      ]
    },
    {
      "cell_type": "code",
      "execution_count": 20,
      "metadata": {
        "colab": {
          "base_uri": "https://localhost:8080/",
          "height": 143
        },
        "id": "bD8WdxcteyjN",
        "outputId": "f046652e-c35f-479a-e0d1-f89473a0ad82"
      },
      "outputs": [
        {
          "data": {
            "text/html": [
              "\n",
              "  <div id=\"df-92830abd-3a61-47c9-b694-8c763da4abfe\">\n",
              "    <div class=\"colab-df-container\">\n",
              "      <div>\n",
              "<style scoped>\n",
              "    .dataframe tbody tr th:only-of-type {\n",
              "        vertical-align: middle;\n",
              "    }\n",
              "\n",
              "    .dataframe tbody tr th {\n",
              "        vertical-align: top;\n",
              "    }\n",
              "\n",
              "    .dataframe thead th {\n",
              "        text-align: right;\n",
              "    }\n",
              "</style>\n",
              "<table border=\"1\" class=\"dataframe\">\n",
              "  <thead>\n",
              "    <tr style=\"text-align: right;\">\n",
              "      <th></th>\n",
              "      <th>Model</th>\n",
              "      <th>Test_Accuracy</th>\n",
              "    </tr>\n",
              "  </thead>\n",
              "  <tbody>\n",
              "    <tr>\n",
              "      <th>0</th>\n",
              "      <td>SMV</td>\n",
              "      <td>0.819529</td>\n",
              "    </tr>\n",
              "    <tr>\n",
              "      <th>1</th>\n",
              "      <td>KNN</td>\n",
              "      <td>0.765711</td>\n",
              "    </tr>\n",
              "    <tr>\n",
              "      <th>2</th>\n",
              "      <td>GNB</td>\n",
              "      <td>0.525943</td>\n",
              "    </tr>\n",
              "  </tbody>\n",
              "</table>\n",
              "</div>\n",
              "      <button class=\"colab-df-convert\" onclick=\"convertToInteractive('df-92830abd-3a61-47c9-b694-8c763da4abfe')\"\n",
              "              title=\"Convert this dataframe to an interactive table.\"\n",
              "              style=\"display:none;\">\n",
              "        \n",
              "  <svg xmlns=\"http://www.w3.org/2000/svg\" height=\"24px\"viewBox=\"0 0 24 24\"\n",
              "       width=\"24px\">\n",
              "    <path d=\"M0 0h24v24H0V0z\" fill=\"none\"/>\n",
              "    <path d=\"M18.56 5.44l.94 2.06.94-2.06 2.06-.94-2.06-.94-.94-2.06-.94 2.06-2.06.94zm-11 1L8.5 8.5l.94-2.06 2.06-.94-2.06-.94L8.5 2.5l-.94 2.06-2.06.94zm10 10l.94 2.06.94-2.06 2.06-.94-2.06-.94-.94-2.06-.94 2.06-2.06.94z\"/><path d=\"M17.41 7.96l-1.37-1.37c-.4-.4-.92-.59-1.43-.59-.52 0-1.04.2-1.43.59L10.3 9.45l-7.72 7.72c-.78.78-.78 2.05 0 2.83L4 21.41c.39.39.9.59 1.41.59.51 0 1.02-.2 1.41-.59l7.78-7.78 2.81-2.81c.8-.78.8-2.07 0-2.86zM5.41 20L4 18.59l7.72-7.72 1.47 1.35L5.41 20z\"/>\n",
              "  </svg>\n",
              "      </button>\n",
              "      \n",
              "  <style>\n",
              "    .colab-df-container {\n",
              "      display:flex;\n",
              "      flex-wrap:wrap;\n",
              "      gap: 12px;\n",
              "    }\n",
              "\n",
              "    .colab-df-convert {\n",
              "      background-color: #E8F0FE;\n",
              "      border: none;\n",
              "      border-radius: 50%;\n",
              "      cursor: pointer;\n",
              "      display: none;\n",
              "      fill: #1967D2;\n",
              "      height: 32px;\n",
              "      padding: 0 0 0 0;\n",
              "      width: 32px;\n",
              "    }\n",
              "\n",
              "    .colab-df-convert:hover {\n",
              "      background-color: #E2EBFA;\n",
              "      box-shadow: 0px 1px 2px rgba(60, 64, 67, 0.3), 0px 1px 3px 1px rgba(60, 64, 67, 0.15);\n",
              "      fill: #174EA6;\n",
              "    }\n",
              "\n",
              "    [theme=dark] .colab-df-convert {\n",
              "      background-color: #3B4455;\n",
              "      fill: #D2E3FC;\n",
              "    }\n",
              "\n",
              "    [theme=dark] .colab-df-convert:hover {\n",
              "      background-color: #434B5C;\n",
              "      box-shadow: 0px 1px 3px 1px rgba(0, 0, 0, 0.15);\n",
              "      filter: drop-shadow(0px 1px 2px rgba(0, 0, 0, 0.3));\n",
              "      fill: #FFFFFF;\n",
              "    }\n",
              "  </style>\n",
              "\n",
              "      <script>\n",
              "        const buttonEl =\n",
              "          document.querySelector('#df-92830abd-3a61-47c9-b694-8c763da4abfe button.colab-df-convert');\n",
              "        buttonEl.style.display =\n",
              "          google.colab.kernel.accessAllowed ? 'block' : 'none';\n",
              "\n",
              "        async function convertToInteractive(key) {\n",
              "          const element = document.querySelector('#df-92830abd-3a61-47c9-b694-8c763da4abfe');\n",
              "          const dataTable =\n",
              "            await google.colab.kernel.invokeFunction('convertToInteractive',\n",
              "                                                     [key], {});\n",
              "          if (!dataTable) return;\n",
              "\n",
              "          const docLinkHtml = 'Like what you see? Visit the ' +\n",
              "            '<a target=\"_blank\" href=https://colab.research.google.com/notebooks/data_table.ipynb>data table notebook</a>'\n",
              "            + ' to learn more about interactive tables.';\n",
              "          element.innerHTML = '';\n",
              "          dataTable['output_type'] = 'display_data';\n",
              "          await google.colab.output.renderOutput(dataTable, element);\n",
              "          const docLink = document.createElement('div');\n",
              "          docLink.innerHTML = docLinkHtml;\n",
              "          element.appendChild(docLink);\n",
              "        }\n",
              "      </script>\n",
              "    </div>\n",
              "  </div>\n",
              "  "
            ],
            "text/plain": [
              "  Model  Test_Accuracy\n",
              "0   SMV       0.819529\n",
              "1   KNN       0.765711\n",
              "2   GNB       0.525943"
            ]
          },
          "execution_count": 20,
          "metadata": {},
          "output_type": "execute_result"
        }
      ],
      "source": [
        "models_df"
      ]
    },
    {
      "cell_type": "code",
      "execution_count": 21,
      "metadata": {
        "colab": {
          "base_uri": "https://localhost:8080/",
          "height": 17
        },
        "id": "SsasYPKge0OX",
        "outputId": "79ecb9c9-7aab-41e7-96bd-de5610b3255a"
      },
      "outputs": [
        {
          "data": {
            "application/javascript": "\n    async function download(id, filename, size) {\n      if (!google.colab.kernel.accessAllowed) {\n        return;\n      }\n      const div = document.createElement('div');\n      const label = document.createElement('label');\n      label.textContent = `Downloading \"${filename}\": `;\n      div.appendChild(label);\n      const progress = document.createElement('progress');\n      progress.max = size;\n      div.appendChild(progress);\n      document.body.appendChild(div);\n\n      const buffers = [];\n      let downloaded = 0;\n\n      const channel = await google.colab.kernel.comms.open(id);\n      // Send a message to notify the kernel that we're ready.\n      channel.send({})\n\n      for await (const message of channel.messages) {\n        // Send a message to notify the kernel that we're ready.\n        channel.send({})\n        if (message.buffers) {\n          for (const buffer of message.buffers) {\n            buffers.push(buffer);\n            downloaded += buffer.byteLength;\n            progress.value = downloaded;\n          }\n        }\n      }\n      const blob = new Blob(buffers, {type: 'application/binary'});\n      const a = document.createElement('a');\n      a.href = window.URL.createObjectURL(blob);\n      a.download = filename;\n      div.appendChild(a);\n      a.click();\n      div.remove();\n    }\n  ",
            "text/plain": [
              "<IPython.core.display.Javascript object>"
            ]
          },
          "metadata": {},
          "output_type": "display_data"
        },
        {
          "data": {
            "application/javascript": "download(\"download_c98ff504-ebe1-466d-b625-a029dc446bba\", \"GNB_Model.pkl\", 37472)",
            "text/plain": [
              "<IPython.core.display.Javascript object>"
            ]
          },
          "metadata": {},
          "output_type": "display_data"
        }
      ],
      "source": [
        "import pickle\n",
        "with open('GNB_Model.pkl', 'wb') as file:\n",
        "    pickle.dump(best_gnb, file)\n",
        "\n",
        "from google.colab import files\n",
        "files.download('GNB_Model.pkl')"
      ]
    },
    {
      "cell_type": "markdown",
      "metadata": {
        "id": "YFSqLNaUfllK"
      },
      "source": [
        "### Random Forest (RFC) Classifier"
      ]
    },
    {
      "cell_type": "code",
      "execution_count": 22,
      "metadata": {
        "colab": {
          "base_uri": "https://localhost:8080/"
        },
        "id": "TMxb3wZwfp4k",
        "outputId": "38a534bb-56eb-4b05-c505-19fb6233324a"
      },
      "outputs": [
        {
          "name": "stdout",
          "output_type": "stream",
          "text": [
            "Fitting 5 folds for each of 81 candidates, totalling 405 fits\n",
            "[CV] END max_depth=None, min_samples_leaf=1, min_samples_split=2, n_estimators=50; total time=  12.6s\n",
            "[CV] END max_depth=None, min_samples_leaf=1, min_samples_split=2, n_estimators=50; total time=  12.6s\n",
            "[CV] END max_depth=None, min_samples_leaf=1, min_samples_split=2, n_estimators=50; total time=  12.5s\n",
            "[CV] END max_depth=None, min_samples_leaf=1, min_samples_split=2, n_estimators=50; total time=  12.5s\n",
            "[CV] END max_depth=None, min_samples_leaf=1, min_samples_split=2, n_estimators=50; total time=  12.3s\n",
            "[CV] END max_depth=None, min_samples_leaf=1, min_samples_split=2, n_estimators=100; total time=  24.7s\n",
            "[CV] END max_depth=None, min_samples_leaf=1, min_samples_split=2, n_estimators=100; total time=  25.3s\n",
            "[CV] END max_depth=None, min_samples_leaf=1, min_samples_split=2, n_estimators=100; total time=  25.7s\n",
            "[CV] END max_depth=None, min_samples_leaf=1, min_samples_split=2, n_estimators=100; total time=  24.9s\n",
            "[CV] END max_depth=None, min_samples_leaf=1, min_samples_split=2, n_estimators=100; total time=  24.6s\n",
            "[CV] END max_depth=None, min_samples_leaf=1, min_samples_split=2, n_estimators=200; total time=  49.7s\n",
            "[CV] END max_depth=None, min_samples_leaf=1, min_samples_split=2, n_estimators=200; total time=  51.1s\n",
            "[CV] END max_depth=None, min_samples_leaf=1, min_samples_split=2, n_estimators=200; total time=  49.4s\n",
            "[CV] END max_depth=None, min_samples_leaf=1, min_samples_split=2, n_estimators=200; total time=  50.8s\n",
            "[CV] END max_depth=None, min_samples_leaf=1, min_samples_split=2, n_estimators=200; total time=  49.2s\n",
            "[CV] END max_depth=None, min_samples_leaf=1, min_samples_split=5, n_estimators=50; total time=  12.3s\n",
            "[CV] END max_depth=None, min_samples_leaf=1, min_samples_split=5, n_estimators=50; total time=  12.6s\n",
            "[CV] END max_depth=None, min_samples_leaf=1, min_samples_split=5, n_estimators=50; total time=  12.4s\n",
            "[CV] END max_depth=None, min_samples_leaf=1, min_samples_split=5, n_estimators=50; total time=  13.2s\n",
            "[CV] END max_depth=None, min_samples_leaf=1, min_samples_split=5, n_estimators=50; total time=  12.6s\n",
            "[CV] END max_depth=None, min_samples_leaf=1, min_samples_split=5, n_estimators=100; total time=  24.9s\n",
            "[CV] END max_depth=None, min_samples_leaf=1, min_samples_split=5, n_estimators=100; total time=  24.9s\n",
            "[CV] END max_depth=None, min_samples_leaf=1, min_samples_split=5, n_estimators=100; total time=  24.8s\n",
            "[CV] END max_depth=None, min_samples_leaf=1, min_samples_split=5, n_estimators=100; total time=  25.2s\n",
            "[CV] END max_depth=None, min_samples_leaf=1, min_samples_split=5, n_estimators=100; total time=  25.7s\n",
            "[CV] END max_depth=None, min_samples_leaf=1, min_samples_split=5, n_estimators=200; total time=  48.6s\n",
            "[CV] END max_depth=None, min_samples_leaf=1, min_samples_split=5, n_estimators=200; total time=  49.8s\n",
            "[CV] END max_depth=None, min_samples_leaf=1, min_samples_split=5, n_estimators=200; total time=  49.3s\n",
            "[CV] END max_depth=None, min_samples_leaf=1, min_samples_split=5, n_estimators=200; total time=  49.2s\n",
            "[CV] END max_depth=None, min_samples_leaf=1, min_samples_split=5, n_estimators=200; total time=  50.7s\n",
            "[CV] END max_depth=None, min_samples_leaf=1, min_samples_split=10, n_estimators=50; total time=  12.1s\n",
            "[CV] END max_depth=None, min_samples_leaf=1, min_samples_split=10, n_estimators=50; total time=  12.6s\n",
            "[CV] END max_depth=None, min_samples_leaf=1, min_samples_split=10, n_estimators=50; total time=  12.3s\n",
            "[CV] END max_depth=None, min_samples_leaf=1, min_samples_split=10, n_estimators=50; total time=  12.5s\n",
            "[CV] END max_depth=None, min_samples_leaf=1, min_samples_split=10, n_estimators=50; total time=  12.3s\n",
            "[CV] END max_depth=None, min_samples_leaf=1, min_samples_split=10, n_estimators=100; total time=  24.0s\n",
            "[CV] END max_depth=None, min_samples_leaf=1, min_samples_split=10, n_estimators=100; total time=  25.4s\n",
            "[CV] END max_depth=None, min_samples_leaf=1, min_samples_split=10, n_estimators=100; total time=  24.7s\n",
            "[CV] END max_depth=None, min_samples_leaf=1, min_samples_split=10, n_estimators=100; total time=  24.6s\n",
            "[CV] END max_depth=None, min_samples_leaf=1, min_samples_split=10, n_estimators=100; total time=  24.7s\n",
            "[CV] END max_depth=None, min_samples_leaf=1, min_samples_split=10, n_estimators=200; total time=  50.0s\n",
            "[CV] END max_depth=None, min_samples_leaf=1, min_samples_split=10, n_estimators=200; total time=  49.9s\n",
            "[CV] END max_depth=None, min_samples_leaf=1, min_samples_split=10, n_estimators=200; total time=  50.4s\n",
            "[CV] END max_depth=None, min_samples_leaf=1, min_samples_split=10, n_estimators=200; total time=  49.3s\n",
            "[CV] END max_depth=None, min_samples_leaf=1, min_samples_split=10, n_estimators=200; total time=  49.1s\n",
            "[CV] END max_depth=None, min_samples_leaf=2, min_samples_split=2, n_estimators=50; total time=  11.3s\n",
            "[CV] END max_depth=None, min_samples_leaf=2, min_samples_split=2, n_estimators=50; total time=  12.0s\n",
            "[CV] END max_depth=None, min_samples_leaf=2, min_samples_split=2, n_estimators=50; total time=  11.7s\n",
            "[CV] END max_depth=None, min_samples_leaf=2, min_samples_split=2, n_estimators=50; total time=  11.8s\n",
            "[CV] END max_depth=None, min_samples_leaf=2, min_samples_split=2, n_estimators=50; total time=  11.7s\n",
            "[CV] END max_depth=None, min_samples_leaf=2, min_samples_split=2, n_estimators=100; total time=  23.5s\n",
            "[CV] END max_depth=None, min_samples_leaf=2, min_samples_split=2, n_estimators=100; total time=  24.1s\n",
            "[CV] END max_depth=None, min_samples_leaf=2, min_samples_split=2, n_estimators=100; total time=  22.8s\n",
            "[CV] END max_depth=None, min_samples_leaf=2, min_samples_split=2, n_estimators=100; total time=  24.7s\n",
            "[CV] END max_depth=None, min_samples_leaf=2, min_samples_split=2, n_estimators=100; total time=  23.5s\n",
            "[CV] END max_depth=None, min_samples_leaf=2, min_samples_split=2, n_estimators=200; total time=  46.2s\n",
            "[CV] END max_depth=None, min_samples_leaf=2, min_samples_split=2, n_estimators=200; total time=  47.9s\n",
            "[CV] END max_depth=None, min_samples_leaf=2, min_samples_split=2, n_estimators=200; total time=  46.4s\n",
            "[CV] END max_depth=None, min_samples_leaf=2, min_samples_split=2, n_estimators=200; total time=  46.1s\n",
            "[CV] END max_depth=None, min_samples_leaf=2, min_samples_split=2, n_estimators=200; total time=  48.0s\n",
            "[CV] END max_depth=None, min_samples_leaf=2, min_samples_split=5, n_estimators=50; total time=  11.9s\n",
            "[CV] END max_depth=None, min_samples_leaf=2, min_samples_split=5, n_estimators=50; total time=  12.0s\n",
            "[CV] END max_depth=None, min_samples_leaf=2, min_samples_split=5, n_estimators=50; total time=  11.6s\n",
            "[CV] END max_depth=None, min_samples_leaf=2, min_samples_split=5, n_estimators=50; total time=  11.3s\n",
            "[CV] END max_depth=None, min_samples_leaf=2, min_samples_split=5, n_estimators=50; total time=  11.6s\n",
            "[CV] END max_depth=None, min_samples_leaf=2, min_samples_split=5, n_estimators=100; total time=  24.2s\n",
            "[CV] END max_depth=None, min_samples_leaf=2, min_samples_split=5, n_estimators=100; total time=  23.8s\n",
            "[CV] END max_depth=None, min_samples_leaf=2, min_samples_split=5, n_estimators=100; total time=  23.5s\n",
            "[CV] END max_depth=None, min_samples_leaf=2, min_samples_split=5, n_estimators=100; total time=  23.5s\n",
            "[CV] END max_depth=None, min_samples_leaf=2, min_samples_split=5, n_estimators=100; total time=  22.7s\n",
            "[CV] END max_depth=None, min_samples_leaf=2, min_samples_split=5, n_estimators=200; total time=  48.2s\n",
            "[CV] END max_depth=None, min_samples_leaf=2, min_samples_split=5, n_estimators=200; total time=  48.3s\n",
            "[CV] END max_depth=None, min_samples_leaf=2, min_samples_split=5, n_estimators=200; total time=  46.8s\n",
            "[CV] END max_depth=None, min_samples_leaf=2, min_samples_split=5, n_estimators=200; total time=  48.7s\n",
            "[CV] END max_depth=None, min_samples_leaf=2, min_samples_split=5, n_estimators=200; total time=  47.0s\n",
            "[CV] END max_depth=None, min_samples_leaf=2, min_samples_split=10, n_estimators=50; total time=  11.7s\n",
            "[CV] END max_depth=None, min_samples_leaf=2, min_samples_split=10, n_estimators=50; total time=  12.0s\n",
            "[CV] END max_depth=None, min_samples_leaf=2, min_samples_split=10, n_estimators=50; total time=  12.7s\n",
            "[CV] END max_depth=None, min_samples_leaf=2, min_samples_split=10, n_estimators=50; total time=  11.8s\n",
            "[CV] END max_depth=None, min_samples_leaf=2, min_samples_split=10, n_estimators=50; total time=  11.6s\n",
            "[CV] END max_depth=None, min_samples_leaf=2, min_samples_split=10, n_estimators=100; total time=  23.8s\n",
            "[CV] END max_depth=None, min_samples_leaf=2, min_samples_split=10, n_estimators=100; total time=  23.4s\n",
            "[CV] END max_depth=None, min_samples_leaf=2, min_samples_split=10, n_estimators=100; total time=  23.3s\n",
            "[CV] END max_depth=None, min_samples_leaf=2, min_samples_split=10, n_estimators=100; total time=  24.8s\n",
            "[CV] END max_depth=None, min_samples_leaf=2, min_samples_split=10, n_estimators=100; total time=  23.6s\n",
            "[CV] END max_depth=None, min_samples_leaf=2, min_samples_split=10, n_estimators=200; total time=  46.1s\n",
            "[CV] END max_depth=None, min_samples_leaf=2, min_samples_split=10, n_estimators=200; total time=  48.4s\n",
            "[CV] END max_depth=None, min_samples_leaf=2, min_samples_split=10, n_estimators=200; total time=  46.6s\n",
            "[CV] END max_depth=None, min_samples_leaf=2, min_samples_split=10, n_estimators=200; total time=  46.5s\n",
            "[CV] END max_depth=None, min_samples_leaf=2, min_samples_split=10, n_estimators=200; total time=  47.8s\n",
            "[CV] END max_depth=None, min_samples_leaf=4, min_samples_split=2, n_estimators=50; total time=  10.2s\n",
            "[CV] END max_depth=None, min_samples_leaf=4, min_samples_split=2, n_estimators=50; total time=  11.0s\n",
            "[CV] END max_depth=None, min_samples_leaf=4, min_samples_split=2, n_estimators=50; total time=  10.6s\n",
            "[CV] END max_depth=None, min_samples_leaf=4, min_samples_split=2, n_estimators=50; total time=  10.8s\n",
            "[CV] END max_depth=None, min_samples_leaf=4, min_samples_split=2, n_estimators=50; total time=  10.9s\n",
            "[CV] END max_depth=None, min_samples_leaf=4, min_samples_split=2, n_estimators=100; total time=  20.9s\n",
            "[CV] END max_depth=None, min_samples_leaf=4, min_samples_split=2, n_estimators=100; total time=  22.6s\n",
            "[CV] END max_depth=None, min_samples_leaf=4, min_samples_split=2, n_estimators=100; total time=  21.5s\n",
            "[CV] END max_depth=None, min_samples_leaf=4, min_samples_split=2, n_estimators=100; total time=  21.2s\n",
            "[CV] END max_depth=None, min_samples_leaf=4, min_samples_split=2, n_estimators=100; total time=  21.9s\n",
            "[CV] END max_depth=None, min_samples_leaf=4, min_samples_split=2, n_estimators=200; total time=  42.6s\n",
            "[CV] END max_depth=None, min_samples_leaf=4, min_samples_split=2, n_estimators=200; total time=  43.6s\n",
            "[CV] END max_depth=None, min_samples_leaf=4, min_samples_split=2, n_estimators=200; total time=  42.7s\n",
            "[CV] END max_depth=None, min_samples_leaf=4, min_samples_split=2, n_estimators=200; total time=  43.7s\n",
            "[CV] END max_depth=None, min_samples_leaf=4, min_samples_split=2, n_estimators=200; total time=  42.6s\n",
            "[CV] END max_depth=None, min_samples_leaf=4, min_samples_split=5, n_estimators=50; total time=  11.0s\n",
            "[CV] END max_depth=None, min_samples_leaf=4, min_samples_split=5, n_estimators=50; total time=  10.9s\n",
            "[CV] END max_depth=None, min_samples_leaf=4, min_samples_split=5, n_estimators=50; total time=  10.5s\n",
            "[CV] END max_depth=None, min_samples_leaf=4, min_samples_split=5, n_estimators=50; total time=  10.3s\n",
            "[CV] END max_depth=None, min_samples_leaf=4, min_samples_split=5, n_estimators=50; total time=  10.9s\n",
            "[CV] END max_depth=None, min_samples_leaf=4, min_samples_split=5, n_estimators=100; total time=  22.5s\n",
            "[CV] END max_depth=None, min_samples_leaf=4, min_samples_split=5, n_estimators=100; total time=  20.9s\n",
            "[CV] END max_depth=None, min_samples_leaf=4, min_samples_split=5, n_estimators=100; total time=  21.3s\n",
            "[CV] END max_depth=None, min_samples_leaf=4, min_samples_split=5, n_estimators=100; total time=  21.6s\n",
            "[CV] END max_depth=None, min_samples_leaf=4, min_samples_split=5, n_estimators=100; total time=  21.0s\n",
            "[CV] END max_depth=None, min_samples_leaf=4, min_samples_split=5, n_estimators=200; total time=  44.3s\n",
            "[CV] END max_depth=None, min_samples_leaf=4, min_samples_split=5, n_estimators=200; total time=  42.9s\n",
            "[CV] END max_depth=None, min_samples_leaf=4, min_samples_split=5, n_estimators=200; total time=  42.2s\n",
            "[CV] END max_depth=None, min_samples_leaf=4, min_samples_split=5, n_estimators=200; total time=  43.9s\n",
            "[CV] END max_depth=None, min_samples_leaf=4, min_samples_split=5, n_estimators=200; total time=  43.2s\n",
            "[CV] END max_depth=None, min_samples_leaf=4, min_samples_split=10, n_estimators=50; total time=  10.1s\n",
            "[CV] END max_depth=None, min_samples_leaf=4, min_samples_split=10, n_estimators=50; total time=  10.9s\n",
            "[CV] END max_depth=None, min_samples_leaf=4, min_samples_split=10, n_estimators=50; total time=  10.8s\n",
            "[CV] END max_depth=None, min_samples_leaf=4, min_samples_split=10, n_estimators=50; total time=  11.2s\n",
            "[CV] END max_depth=None, min_samples_leaf=4, min_samples_split=10, n_estimators=50; total time=  11.6s\n",
            "[CV] END max_depth=None, min_samples_leaf=4, min_samples_split=10, n_estimators=100; total time=  20.8s\n",
            "[CV] END max_depth=None, min_samples_leaf=4, min_samples_split=10, n_estimators=100; total time=  21.8s\n",
            "[CV] END max_depth=None, min_samples_leaf=4, min_samples_split=10, n_estimators=100; total time=  21.0s\n",
            "[CV] END max_depth=None, min_samples_leaf=4, min_samples_split=10, n_estimators=100; total time=  21.8s\n",
            "[CV] END max_depth=None, min_samples_leaf=4, min_samples_split=10, n_estimators=100; total time=  21.6s\n",
            "[CV] END max_depth=None, min_samples_leaf=4, min_samples_split=10, n_estimators=200; total time=  43.6s\n",
            "[CV] END max_depth=None, min_samples_leaf=4, min_samples_split=10, n_estimators=200; total time=  42.5s\n",
            "[CV] END max_depth=None, min_samples_leaf=4, min_samples_split=10, n_estimators=200; total time=  43.2s\n",
            "[CV] END max_depth=None, min_samples_leaf=4, min_samples_split=10, n_estimators=200; total time=  42.9s\n",
            "[CV] END max_depth=None, min_samples_leaf=4, min_samples_split=10, n_estimators=200; total time=  42.0s\n",
            "[CV] END max_depth=5, min_samples_leaf=1, min_samples_split=2, n_estimators=50; total time=   4.2s\n",
            "[CV] END max_depth=5, min_samples_leaf=1, min_samples_split=2, n_estimators=50; total time=   4.9s\n",
            "[CV] END max_depth=5, min_samples_leaf=1, min_samples_split=2, n_estimators=50; total time=   4.2s\n",
            "[CV] END max_depth=5, min_samples_leaf=1, min_samples_split=2, n_estimators=50; total time=   4.2s\n",
            "[CV] END max_depth=5, min_samples_leaf=1, min_samples_split=2, n_estimators=50; total time=   5.3s\n",
            "[CV] END max_depth=5, min_samples_leaf=1, min_samples_split=2, n_estimators=100; total time=   9.2s\n",
            "[CV] END max_depth=5, min_samples_leaf=1, min_samples_split=2, n_estimators=100; total time=   9.5s\n",
            "[CV] END max_depth=5, min_samples_leaf=1, min_samples_split=2, n_estimators=100; total time=   9.2s\n",
            "[CV] END max_depth=5, min_samples_leaf=1, min_samples_split=2, n_estimators=100; total time=   8.5s\n",
            "[CV] END max_depth=5, min_samples_leaf=1, min_samples_split=2, n_estimators=100; total time=   9.3s\n",
            "[CV] END max_depth=5, min_samples_leaf=1, min_samples_split=2, n_estimators=200; total time=  17.9s\n",
            "[CV] END max_depth=5, min_samples_leaf=1, min_samples_split=2, n_estimators=200; total time=  17.8s\n",
            "[CV] END max_depth=5, min_samples_leaf=1, min_samples_split=2, n_estimators=200; total time=  17.5s\n",
            "[CV] END max_depth=5, min_samples_leaf=1, min_samples_split=2, n_estimators=200; total time=  18.4s\n",
            "[CV] END max_depth=5, min_samples_leaf=1, min_samples_split=2, n_estimators=200; total time=  18.3s\n",
            "[CV] END max_depth=5, min_samples_leaf=1, min_samples_split=5, n_estimators=50; total time=   4.1s\n",
            "[CV] END max_depth=5, min_samples_leaf=1, min_samples_split=5, n_estimators=50; total time=   5.0s\n",
            "[CV] END max_depth=5, min_samples_leaf=1, min_samples_split=5, n_estimators=50; total time=   4.3s\n",
            "[CV] END max_depth=5, min_samples_leaf=1, min_samples_split=5, n_estimators=50; total time=   4.2s\n",
            "[CV] END max_depth=5, min_samples_leaf=1, min_samples_split=5, n_estimators=50; total time=   4.9s\n",
            "[CV] END max_depth=5, min_samples_leaf=1, min_samples_split=5, n_estimators=100; total time=   8.3s\n",
            "[CV] END max_depth=5, min_samples_leaf=1, min_samples_split=5, n_estimators=100; total time=   9.2s\n",
            "[CV] END max_depth=5, min_samples_leaf=1, min_samples_split=5, n_estimators=100; total time=   9.2s\n",
            "[CV] END max_depth=5, min_samples_leaf=1, min_samples_split=5, n_estimators=100; total time=   8.4s\n",
            "[CV] END max_depth=5, min_samples_leaf=1, min_samples_split=5, n_estimators=100; total time=   8.9s\n",
            "[CV] END max_depth=5, min_samples_leaf=1, min_samples_split=5, n_estimators=200; total time=  17.9s\n",
            "[CV] END max_depth=5, min_samples_leaf=1, min_samples_split=5, n_estimators=200; total time=  18.0s\n",
            "[CV] END max_depth=5, min_samples_leaf=1, min_samples_split=5, n_estimators=200; total time=  18.3s\n",
            "[CV] END max_depth=5, min_samples_leaf=1, min_samples_split=5, n_estimators=200; total time=  18.1s\n",
            "[CV] END max_depth=5, min_samples_leaf=1, min_samples_split=5, n_estimators=200; total time=  17.9s\n",
            "[CV] END max_depth=5, min_samples_leaf=1, min_samples_split=10, n_estimators=50; total time=   4.2s\n",
            "[CV] END max_depth=5, min_samples_leaf=1, min_samples_split=10, n_estimators=50; total time=   5.0s\n",
            "[CV] END max_depth=5, min_samples_leaf=1, min_samples_split=10, n_estimators=50; total time=   4.3s\n",
            "[CV] END max_depth=5, min_samples_leaf=1, min_samples_split=10, n_estimators=50; total time=   4.2s\n",
            "[CV] END max_depth=5, min_samples_leaf=1, min_samples_split=10, n_estimators=50; total time=   5.0s\n",
            "[CV] END max_depth=5, min_samples_leaf=1, min_samples_split=10, n_estimators=100; total time=   8.5s\n",
            "[CV] END max_depth=5, min_samples_leaf=1, min_samples_split=10, n_estimators=100; total time=   9.2s\n",
            "[CV] END max_depth=5, min_samples_leaf=1, min_samples_split=10, n_estimators=100; total time=   9.2s\n",
            "[CV] END max_depth=5, min_samples_leaf=1, min_samples_split=10, n_estimators=100; total time=   8.4s\n",
            "[CV] END max_depth=5, min_samples_leaf=1, min_samples_split=10, n_estimators=100; total time=   9.5s\n",
            "[CV] END max_depth=5, min_samples_leaf=1, min_samples_split=10, n_estimators=200; total time=  18.8s\n",
            "[CV] END max_depth=5, min_samples_leaf=1, min_samples_split=10, n_estimators=200; total time=  18.4s\n",
            "[CV] END max_depth=5, min_samples_leaf=1, min_samples_split=10, n_estimators=200; total time=  17.3s\n",
            "[CV] END max_depth=5, min_samples_leaf=1, min_samples_split=10, n_estimators=200; total time=  18.0s\n",
            "[CV] END max_depth=5, min_samples_leaf=1, min_samples_split=10, n_estimators=200; total time=  17.8s\n",
            "[CV] END max_depth=5, min_samples_leaf=2, min_samples_split=2, n_estimators=50; total time=   4.3s\n",
            "[CV] END max_depth=5, min_samples_leaf=2, min_samples_split=2, n_estimators=50; total time=   5.0s\n",
            "[CV] END max_depth=5, min_samples_leaf=2, min_samples_split=2, n_estimators=50; total time=   4.2s\n",
            "[CV] END max_depth=5, min_samples_leaf=2, min_samples_split=2, n_estimators=50; total time=   4.2s\n",
            "[CV] END max_depth=5, min_samples_leaf=2, min_samples_split=2, n_estimators=50; total time=   5.0s\n",
            "[CV] END max_depth=5, min_samples_leaf=2, min_samples_split=2, n_estimators=100; total time=   8.7s\n",
            "[CV] END max_depth=5, min_samples_leaf=2, min_samples_split=2, n_estimators=100; total time=   9.7s\n",
            "[CV] END max_depth=5, min_samples_leaf=2, min_samples_split=2, n_estimators=100; total time=   9.1s\n",
            "[CV] END max_depth=5, min_samples_leaf=2, min_samples_split=2, n_estimators=100; total time=   8.4s\n",
            "[CV] END max_depth=5, min_samples_leaf=2, min_samples_split=2, n_estimators=100; total time=   9.1s\n",
            "[CV] END max_depth=5, min_samples_leaf=2, min_samples_split=2, n_estimators=200; total time=  17.4s\n",
            "[CV] END max_depth=5, min_samples_leaf=2, min_samples_split=2, n_estimators=200; total time=  18.2s\n",
            "[CV] END max_depth=5, min_samples_leaf=2, min_samples_split=2, n_estimators=200; total time=  17.4s\n",
            "[CV] END max_depth=5, min_samples_leaf=2, min_samples_split=2, n_estimators=200; total time=  17.8s\n",
            "[CV] END max_depth=5, min_samples_leaf=2, min_samples_split=2, n_estimators=200; total time=  19.2s\n",
            "[CV] END max_depth=5, min_samples_leaf=2, min_samples_split=5, n_estimators=50; total time=   4.3s\n",
            "[CV] END max_depth=5, min_samples_leaf=2, min_samples_split=5, n_estimators=50; total time=   5.0s\n",
            "[CV] END max_depth=5, min_samples_leaf=2, min_samples_split=5, n_estimators=50; total time=   4.5s\n",
            "[CV] END max_depth=5, min_samples_leaf=2, min_samples_split=5, n_estimators=50; total time=   4.5s\n",
            "[CV] END max_depth=5, min_samples_leaf=2, min_samples_split=5, n_estimators=50; total time=   5.1s\n",
            "[CV] END max_depth=5, min_samples_leaf=2, min_samples_split=5, n_estimators=100; total time=   8.6s\n",
            "[CV] END max_depth=5, min_samples_leaf=2, min_samples_split=5, n_estimators=100; total time=   9.4s\n",
            "[CV] END max_depth=5, min_samples_leaf=2, min_samples_split=5, n_estimators=100; total time=   9.4s\n",
            "[CV] END max_depth=5, min_samples_leaf=2, min_samples_split=5, n_estimators=100; total time=   8.6s\n",
            "[CV] END max_depth=5, min_samples_leaf=2, min_samples_split=5, n_estimators=100; total time=   9.1s\n",
            "[CV] END max_depth=5, min_samples_leaf=2, min_samples_split=5, n_estimators=200; total time=  18.1s\n",
            "[CV] END max_depth=5, min_samples_leaf=2, min_samples_split=5, n_estimators=200; total time=  18.1s\n",
            "[CV] END max_depth=5, min_samples_leaf=2, min_samples_split=5, n_estimators=200; total time=  18.4s\n",
            "[CV] END max_depth=5, min_samples_leaf=2, min_samples_split=5, n_estimators=200; total time=  18.4s\n",
            "[CV] END max_depth=5, min_samples_leaf=2, min_samples_split=5, n_estimators=200; total time=  17.7s\n",
            "[CV] END max_depth=5, min_samples_leaf=2, min_samples_split=10, n_estimators=50; total time=   4.2s\n",
            "[CV] END max_depth=5, min_samples_leaf=2, min_samples_split=10, n_estimators=50; total time=   5.1s\n",
            "[CV] END max_depth=5, min_samples_leaf=2, min_samples_split=10, n_estimators=50; total time=   4.3s\n",
            "[CV] END max_depth=5, min_samples_leaf=2, min_samples_split=10, n_estimators=50; total time=   4.3s\n",
            "[CV] END max_depth=5, min_samples_leaf=2, min_samples_split=10, n_estimators=50; total time=   5.0s\n",
            "[CV] END max_depth=5, min_samples_leaf=2, min_samples_split=10, n_estimators=100; total time=   8.6s\n",
            "[CV] END max_depth=5, min_samples_leaf=2, min_samples_split=10, n_estimators=100; total time=   9.2s\n",
            "[CV] END max_depth=5, min_samples_leaf=2, min_samples_split=10, n_estimators=100; total time=   9.3s\n",
            "[CV] END max_depth=5, min_samples_leaf=2, min_samples_split=10, n_estimators=100; total time=   9.0s\n",
            "[CV] END max_depth=5, min_samples_leaf=2, min_samples_split=10, n_estimators=100; total time=   8.8s\n",
            "[CV] END max_depth=5, min_samples_leaf=2, min_samples_split=10, n_estimators=200; total time=  19.4s\n",
            "[CV] END max_depth=5, min_samples_leaf=2, min_samples_split=10, n_estimators=200; total time=  17.9s\n",
            "[CV] END max_depth=5, min_samples_leaf=2, min_samples_split=10, n_estimators=200; total time=  17.7s\n",
            "[CV] END max_depth=5, min_samples_leaf=2, min_samples_split=10, n_estimators=200; total time=  18.4s\n",
            "[CV] END max_depth=5, min_samples_leaf=2, min_samples_split=10, n_estimators=200; total time=  17.6s\n",
            "[CV] END max_depth=5, min_samples_leaf=4, min_samples_split=2, n_estimators=50; total time=   4.5s\n",
            "[CV] END max_depth=5, min_samples_leaf=4, min_samples_split=2, n_estimators=50; total time=   4.8s\n",
            "[CV] END max_depth=5, min_samples_leaf=4, min_samples_split=2, n_estimators=50; total time=   4.3s\n",
            "[CV] END max_depth=5, min_samples_leaf=4, min_samples_split=2, n_estimators=50; total time=   4.8s\n",
            "[CV] END max_depth=5, min_samples_leaf=4, min_samples_split=2, n_estimators=50; total time=   4.6s\n",
            "[CV] END max_depth=5, min_samples_leaf=4, min_samples_split=2, n_estimators=100; total time=  10.1s\n",
            "[CV] END max_depth=5, min_samples_leaf=4, min_samples_split=2, n_estimators=100; total time=   8.4s\n",
            "[CV] END max_depth=5, min_samples_leaf=4, min_samples_split=2, n_estimators=100; total time=   9.2s\n",
            "[CV] END max_depth=5, min_samples_leaf=4, min_samples_split=2, n_estimators=100; total time=   9.2s\n",
            "[CV] END max_depth=5, min_samples_leaf=4, min_samples_split=2, n_estimators=100; total time=   8.4s\n",
            "[CV] END max_depth=5, min_samples_leaf=4, min_samples_split=2, n_estimators=200; total time=  18.4s\n",
            "[CV] END max_depth=5, min_samples_leaf=4, min_samples_split=2, n_estimators=200; total time=  17.7s\n",
            "[CV] END max_depth=5, min_samples_leaf=4, min_samples_split=2, n_estimators=200; total time=  17.8s\n",
            "[CV] END max_depth=5, min_samples_leaf=4, min_samples_split=2, n_estimators=200; total time=  18.2s\n",
            "[CV] END max_depth=5, min_samples_leaf=4, min_samples_split=2, n_estimators=200; total time=  18.3s\n",
            "[CV] END max_depth=5, min_samples_leaf=4, min_samples_split=5, n_estimators=50; total time=   4.7s\n",
            "[CV] END max_depth=5, min_samples_leaf=4, min_samples_split=5, n_estimators=50; total time=   4.5s\n",
            "[CV] END max_depth=5, min_samples_leaf=4, min_samples_split=5, n_estimators=50; total time=   4.2s\n",
            "[CV] END max_depth=5, min_samples_leaf=4, min_samples_split=5, n_estimators=50; total time=   4.8s\n",
            "[CV] END max_depth=5, min_samples_leaf=4, min_samples_split=5, n_estimators=50; total time=   4.4s\n",
            "[CV] END max_depth=5, min_samples_leaf=4, min_samples_split=5, n_estimators=100; total time=   9.2s\n",
            "[CV] END max_depth=5, min_samples_leaf=4, min_samples_split=5, n_estimators=100; total time=   8.5s\n",
            "[CV] END max_depth=5, min_samples_leaf=4, min_samples_split=5, n_estimators=100; total time=   9.3s\n",
            "[CV] END max_depth=5, min_samples_leaf=4, min_samples_split=5, n_estimators=100; total time=   9.4s\n",
            "[CV] END max_depth=5, min_samples_leaf=4, min_samples_split=5, n_estimators=100; total time=   8.5s\n",
            "[CV] END max_depth=5, min_samples_leaf=4, min_samples_split=5, n_estimators=200; total time=  18.6s\n",
            "[CV] END max_depth=5, min_samples_leaf=4, min_samples_split=5, n_estimators=200; total time=  18.2s\n",
            "[CV] END max_depth=5, min_samples_leaf=4, min_samples_split=5, n_estimators=200; total time=  19.0s\n",
            "[CV] END max_depth=5, min_samples_leaf=4, min_samples_split=5, n_estimators=200; total time=  18.1s\n",
            "[CV] END max_depth=5, min_samples_leaf=4, min_samples_split=5, n_estimators=200; total time=  17.8s\n",
            "[CV] END max_depth=5, min_samples_leaf=4, min_samples_split=10, n_estimators=50; total time=   5.1s\n",
            "[CV] END max_depth=5, min_samples_leaf=4, min_samples_split=10, n_estimators=50; total time=   4.2s\n",
            "[CV] END max_depth=5, min_samples_leaf=4, min_samples_split=10, n_estimators=50; total time=   4.3s\n",
            "[CV] END max_depth=5, min_samples_leaf=4, min_samples_split=10, n_estimators=50; total time=   5.1s\n",
            "[CV] END max_depth=5, min_samples_leaf=4, min_samples_split=10, n_estimators=50; total time=   4.2s\n",
            "[CV] END max_depth=5, min_samples_leaf=4, min_samples_split=10, n_estimators=100; total time=   9.2s\n",
            "[CV] END max_depth=5, min_samples_leaf=4, min_samples_split=10, n_estimators=100; total time=   8.6s\n",
            "[CV] END max_depth=5, min_samples_leaf=4, min_samples_split=10, n_estimators=100; total time=   9.1s\n",
            "[CV] END max_depth=5, min_samples_leaf=4, min_samples_split=10, n_estimators=100; total time=   9.3s\n",
            "[CV] END max_depth=5, min_samples_leaf=4, min_samples_split=10, n_estimators=100; total time=   9.8s\n",
            "[CV] END max_depth=5, min_samples_leaf=4, min_samples_split=10, n_estimators=200; total time=  18.2s\n",
            "[CV] END max_depth=5, min_samples_leaf=4, min_samples_split=10, n_estimators=200; total time=  17.8s\n",
            "[CV] END max_depth=5, min_samples_leaf=4, min_samples_split=10, n_estimators=200; total time=  18.5s\n",
            "[CV] END max_depth=5, min_samples_leaf=4, min_samples_split=10, n_estimators=200; total time=  17.7s\n",
            "[CV] END max_depth=5, min_samples_leaf=4, min_samples_split=10, n_estimators=200; total time=  17.6s\n",
            "[CV] END max_depth=10, min_samples_leaf=1, min_samples_split=2, n_estimators=50; total time=   8.4s\n",
            "[CV] END max_depth=10, min_samples_leaf=1, min_samples_split=2, n_estimators=50; total time=   8.6s\n",
            "[CV] END max_depth=10, min_samples_leaf=1, min_samples_split=2, n_estimators=50; total time=   8.0s\n",
            "[CV] END max_depth=10, min_samples_leaf=1, min_samples_split=2, n_estimators=50; total time=   9.0s\n",
            "[CV] END max_depth=10, min_samples_leaf=1, min_samples_split=2, n_estimators=50; total time=   8.2s\n",
            "[CV] END max_depth=10, min_samples_leaf=1, min_samples_split=2, n_estimators=100; total time=  16.4s\n",
            "[CV] END max_depth=10, min_samples_leaf=1, min_samples_split=2, n_estimators=100; total time=  16.1s\n",
            "[CV] END max_depth=10, min_samples_leaf=1, min_samples_split=2, n_estimators=100; total time=  16.1s\n",
            "[CV] END max_depth=10, min_samples_leaf=1, min_samples_split=2, n_estimators=100; total time=  16.7s\n",
            "[CV] END max_depth=10, min_samples_leaf=1, min_samples_split=2, n_estimators=100; total time=  16.3s\n",
            "[CV] END max_depth=10, min_samples_leaf=1, min_samples_split=2, n_estimators=200; total time=  32.9s\n",
            "[CV] END max_depth=10, min_samples_leaf=1, min_samples_split=2, n_estimators=200; total time=  33.1s\n",
            "[CV] END max_depth=10, min_samples_leaf=1, min_samples_split=2, n_estimators=200; total time=  31.8s\n",
            "[CV] END max_depth=10, min_samples_leaf=1, min_samples_split=2, n_estimators=200; total time=  32.7s\n",
            "[CV] END max_depth=10, min_samples_leaf=1, min_samples_split=2, n_estimators=200; total time=  32.9s\n",
            "[CV] END max_depth=10, min_samples_leaf=1, min_samples_split=5, n_estimators=50; total time=   8.4s\n",
            "[CV] END max_depth=10, min_samples_leaf=1, min_samples_split=5, n_estimators=50; total time=   7.7s\n",
            "[CV] END max_depth=10, min_samples_leaf=1, min_samples_split=5, n_estimators=50; total time=   8.4s\n",
            "[CV] END max_depth=10, min_samples_leaf=1, min_samples_split=5, n_estimators=50; total time=   8.4s\n",
            "[CV] END max_depth=10, min_samples_leaf=1, min_samples_split=5, n_estimators=50; total time=   7.6s\n",
            "[CV] END max_depth=10, min_samples_leaf=1, min_samples_split=5, n_estimators=100; total time=  16.3s\n",
            "[CV] END max_depth=10, min_samples_leaf=1, min_samples_split=5, n_estimators=100; total time=  16.6s\n",
            "[CV] END max_depth=10, min_samples_leaf=1, min_samples_split=5, n_estimators=100; total time=  16.0s\n",
            "[CV] END max_depth=10, min_samples_leaf=1, min_samples_split=5, n_estimators=100; total time=  16.8s\n",
            "[CV] END max_depth=10, min_samples_leaf=1, min_samples_split=5, n_estimators=100; total time=  15.9s\n",
            "[CV] END max_depth=10, min_samples_leaf=1, min_samples_split=5, n_estimators=200; total time=  32.7s\n",
            "[CV] END max_depth=10, min_samples_leaf=1, min_samples_split=5, n_estimators=200; total time=  32.1s\n",
            "[CV] END max_depth=10, min_samples_leaf=1, min_samples_split=5, n_estimators=200; total time=  34.0s\n",
            "[CV] END max_depth=10, min_samples_leaf=1, min_samples_split=5, n_estimators=200; total time=  32.0s\n",
            "[CV] END max_depth=10, min_samples_leaf=1, min_samples_split=5, n_estimators=200; total time=  32.8s\n",
            "[CV] END max_depth=10, min_samples_leaf=1, min_samples_split=10, n_estimators=50; total time=   7.7s\n",
            "[CV] END max_depth=10, min_samples_leaf=1, min_samples_split=10, n_estimators=50; total time=   8.5s\n",
            "[CV] END max_depth=10, min_samples_leaf=1, min_samples_split=10, n_estimators=50; total time=   8.5s\n",
            "[CV] END max_depth=10, min_samples_leaf=1, min_samples_split=10, n_estimators=50; total time=   7.6s\n",
            "[CV] END max_depth=10, min_samples_leaf=1, min_samples_split=10, n_estimators=50; total time=   8.3s\n",
            "[CV] END max_depth=10, min_samples_leaf=1, min_samples_split=10, n_estimators=100; total time=  16.9s\n",
            "[CV] END max_depth=10, min_samples_leaf=1, min_samples_split=10, n_estimators=100; total time=  16.0s\n",
            "[CV] END max_depth=10, min_samples_leaf=1, min_samples_split=10, n_estimators=100; total time=  16.4s\n",
            "[CV] END max_depth=10, min_samples_leaf=1, min_samples_split=10, n_estimators=100; total time=  16.6s\n",
            "[CV] END max_depth=10, min_samples_leaf=1, min_samples_split=10, n_estimators=100; total time=  15.9s\n",
            "[CV] END max_depth=10, min_samples_leaf=1, min_samples_split=10, n_estimators=200; total time=  32.3s\n",
            "[CV] END max_depth=10, min_samples_leaf=1, min_samples_split=10, n_estimators=200; total time=  33.5s\n",
            "[CV] END max_depth=10, min_samples_leaf=1, min_samples_split=10, n_estimators=200; total time=  32.3s\n",
            "[CV] END max_depth=10, min_samples_leaf=1, min_samples_split=10, n_estimators=200; total time=  33.1s\n",
            "[CV] END max_depth=10, min_samples_leaf=1, min_samples_split=10, n_estimators=200; total time=  32.3s\n",
            "[CV] END max_depth=10, min_samples_leaf=2, min_samples_split=2, n_estimators=50; total time=   9.3s\n",
            "[CV] END max_depth=10, min_samples_leaf=2, min_samples_split=2, n_estimators=50; total time=   7.9s\n",
            "[CV] END max_depth=10, min_samples_leaf=2, min_samples_split=2, n_estimators=50; total time=   8.2s\n",
            "[CV] END max_depth=10, min_samples_leaf=2, min_samples_split=2, n_estimators=50; total time=   8.4s\n",
            "[CV] END max_depth=10, min_samples_leaf=2, min_samples_split=2, n_estimators=50; total time=   7.6s\n",
            "[CV] END max_depth=10, min_samples_leaf=2, min_samples_split=2, n_estimators=100; total time=  16.7s\n",
            "[CV] END max_depth=10, min_samples_leaf=2, min_samples_split=2, n_estimators=100; total time=  15.9s\n",
            "[CV] END max_depth=10, min_samples_leaf=2, min_samples_split=2, n_estimators=100; total time=  15.8s\n",
            "[CV] END max_depth=10, min_samples_leaf=2, min_samples_split=2, n_estimators=100; total time=  15.8s\n",
            "[CV] END max_depth=10, min_samples_leaf=2, min_samples_split=2, n_estimators=100; total time=  16.2s\n",
            "[CV] END max_depth=10, min_samples_leaf=2, min_samples_split=2, n_estimators=200; total time=  33.2s\n",
            "[CV] END max_depth=10, min_samples_leaf=2, min_samples_split=2, n_estimators=200; total time=  31.8s\n",
            "[CV] END max_depth=10, min_samples_leaf=2, min_samples_split=2, n_estimators=200; total time=  32.6s\n",
            "[CV] END max_depth=10, min_samples_leaf=2, min_samples_split=2, n_estimators=200; total time=  32.8s\n",
            "[CV] END max_depth=10, min_samples_leaf=2, min_samples_split=2, n_estimators=200; total time=  32.8s\n",
            "[CV] END max_depth=10, min_samples_leaf=2, min_samples_split=5, n_estimators=50; total time=   7.7s\n",
            "[CV] END max_depth=10, min_samples_leaf=2, min_samples_split=5, n_estimators=50; total time=   8.4s\n",
            "[CV] END max_depth=10, min_samples_leaf=2, min_samples_split=5, n_estimators=50; total time=   7.9s\n",
            "[CV] END max_depth=10, min_samples_leaf=2, min_samples_split=5, n_estimators=50; total time=   8.0s\n",
            "[CV] END max_depth=10, min_samples_leaf=2, min_samples_split=5, n_estimators=50; total time=   8.3s\n",
            "[CV] END max_depth=10, min_samples_leaf=2, min_samples_split=5, n_estimators=100; total time=  15.9s\n",
            "[CV] END max_depth=10, min_samples_leaf=2, min_samples_split=5, n_estimators=100; total time=  15.9s\n",
            "[CV] END max_depth=10, min_samples_leaf=2, min_samples_split=5, n_estimators=100; total time=  17.0s\n",
            "[CV] END max_depth=10, min_samples_leaf=2, min_samples_split=5, n_estimators=100; total time=  16.9s\n",
            "[CV] END max_depth=10, min_samples_leaf=2, min_samples_split=5, n_estimators=100; total time=  15.9s\n",
            "[CV] END max_depth=10, min_samples_leaf=2, min_samples_split=5, n_estimators=200; total time=  31.8s\n",
            "[CV] END max_depth=10, min_samples_leaf=2, min_samples_split=5, n_estimators=200; total time=  32.8s\n",
            "[CV] END max_depth=10, min_samples_leaf=2, min_samples_split=5, n_estimators=200; total time=  32.9s\n",
            "[CV] END max_depth=10, min_samples_leaf=2, min_samples_split=5, n_estimators=200; total time=  32.9s\n",
            "[CV] END max_depth=10, min_samples_leaf=2, min_samples_split=5, n_estimators=200; total time=  32.3s\n",
            "[CV] END max_depth=10, min_samples_leaf=2, min_samples_split=10, n_estimators=50; total time=   8.4s\n",
            "[CV] END max_depth=10, min_samples_leaf=2, min_samples_split=10, n_estimators=50; total time=   8.2s\n",
            "[CV] END max_depth=10, min_samples_leaf=2, min_samples_split=10, n_estimators=50; total time=   7.7s\n",
            "[CV] END max_depth=10, min_samples_leaf=2, min_samples_split=10, n_estimators=50; total time=   8.5s\n",
            "[CV] END max_depth=10, min_samples_leaf=2, min_samples_split=10, n_estimators=50; total time=   8.7s\n",
            "[CV] END max_depth=10, min_samples_leaf=2, min_samples_split=10, n_estimators=100; total time=  16.5s\n",
            "[CV] END max_depth=10, min_samples_leaf=2, min_samples_split=10, n_estimators=100; total time=  16.0s\n",
            "[CV] END max_depth=10, min_samples_leaf=2, min_samples_split=10, n_estimators=100; total time=  15.9s\n",
            "[CV] END max_depth=10, min_samples_leaf=2, min_samples_split=10, n_estimators=100; total time=  16.2s\n",
            "[CV] END max_depth=10, min_samples_leaf=2, min_samples_split=10, n_estimators=100; total time=  17.2s\n",
            "[CV] END max_depth=10, min_samples_leaf=2, min_samples_split=10, n_estimators=200; total time=  32.0s\n",
            "[CV] END max_depth=10, min_samples_leaf=2, min_samples_split=10, n_estimators=200; total time=  33.6s\n",
            "[CV] END max_depth=10, min_samples_leaf=2, min_samples_split=10, n_estimators=200; total time=  32.0s\n",
            "[CV] END max_depth=10, min_samples_leaf=2, min_samples_split=10, n_estimators=200; total time=  32.9s\n",
            "[CV] END max_depth=10, min_samples_leaf=2, min_samples_split=10, n_estimators=200; total time=  33.4s\n",
            "[CV] END max_depth=10, min_samples_leaf=4, min_samples_split=2, n_estimators=50; total time=   8.5s\n",
            "[CV] END max_depth=10, min_samples_leaf=4, min_samples_split=2, n_estimators=50; total time=   7.6s\n",
            "[CV] END max_depth=10, min_samples_leaf=4, min_samples_split=2, n_estimators=50; total time=   8.4s\n",
            "[CV] END max_depth=10, min_samples_leaf=4, min_samples_split=2, n_estimators=50; total time=   8.0s\n",
            "[CV] END max_depth=10, min_samples_leaf=4, min_samples_split=2, n_estimators=50; total time=   7.8s\n",
            "[CV] END max_depth=10, min_samples_leaf=4, min_samples_split=2, n_estimators=100; total time=  15.9s\n",
            "[CV] END max_depth=10, min_samples_leaf=4, min_samples_split=2, n_estimators=100; total time=  16.5s\n",
            "[CV] END max_depth=10, min_samples_leaf=4, min_samples_split=2, n_estimators=100; total time=  16.1s\n",
            "[CV] END max_depth=10, min_samples_leaf=4, min_samples_split=2, n_estimators=100; total time=  15.9s\n",
            "[CV] END max_depth=10, min_samples_leaf=4, min_samples_split=2, n_estimators=100; total time=  16.7s\n",
            "[CV] END max_depth=10, min_samples_leaf=4, min_samples_split=2, n_estimators=200; total time=  32.4s\n",
            "[CV] END max_depth=10, min_samples_leaf=4, min_samples_split=2, n_estimators=200; total time=  31.7s\n",
            "[CV] END max_depth=10, min_samples_leaf=4, min_samples_split=2, n_estimators=200; total time=  32.4s\n",
            "[CV] END max_depth=10, min_samples_leaf=4, min_samples_split=2, n_estimators=200; total time=  32.7s\n",
            "[CV] END max_depth=10, min_samples_leaf=4, min_samples_split=2, n_estimators=200; total time=  32.7s\n",
            "[CV] END max_depth=10, min_samples_leaf=4, min_samples_split=5, n_estimators=50; total time=   7.5s\n",
            "[CV] END max_depth=10, min_samples_leaf=4, min_samples_split=5, n_estimators=50; total time=   8.4s\n",
            "[CV] END max_depth=10, min_samples_leaf=4, min_samples_split=5, n_estimators=50; total time=   7.7s\n",
            "[CV] END max_depth=10, min_samples_leaf=4, min_samples_split=5, n_estimators=50; total time=   8.3s\n",
            "[CV] END max_depth=10, min_samples_leaf=4, min_samples_split=5, n_estimators=50; total time=   8.4s\n",
            "[CV] END max_depth=10, min_samples_leaf=4, min_samples_split=5, n_estimators=100; total time=  15.9s\n",
            "[CV] END max_depth=10, min_samples_leaf=4, min_samples_split=5, n_estimators=100; total time=  15.9s\n",
            "[CV] END max_depth=10, min_samples_leaf=4, min_samples_split=5, n_estimators=100; total time=  16.7s\n",
            "[CV] END max_depth=10, min_samples_leaf=4, min_samples_split=5, n_estimators=100; total time=  16.6s\n",
            "[CV] END max_depth=10, min_samples_leaf=4, min_samples_split=5, n_estimators=100; total time=  15.9s\n",
            "[CV] END max_depth=10, min_samples_leaf=4, min_samples_split=5, n_estimators=200; total time=  31.7s\n",
            "[CV] END max_depth=10, min_samples_leaf=4, min_samples_split=5, n_estimators=200; total time=  32.4s\n",
            "[CV] END max_depth=10, min_samples_leaf=4, min_samples_split=5, n_estimators=200; total time=  32.6s\n",
            "[CV] END max_depth=10, min_samples_leaf=4, min_samples_split=5, n_estimators=200; total time=  32.3s\n",
            "[CV] END max_depth=10, min_samples_leaf=4, min_samples_split=5, n_estimators=200; total time=  31.8s\n",
            "[CV] END max_depth=10, min_samples_leaf=4, min_samples_split=10, n_estimators=50; total time=   8.3s\n",
            "[CV] END max_depth=10, min_samples_leaf=4, min_samples_split=10, n_estimators=50; total time=   7.5s\n",
            "[CV] END max_depth=10, min_samples_leaf=4, min_samples_split=10, n_estimators=50; total time=   8.3s\n",
            "[CV] END max_depth=10, min_samples_leaf=4, min_samples_split=10, n_estimators=50; total time=   8.4s\n",
            "[CV] END max_depth=10, min_samples_leaf=4, min_samples_split=10, n_estimators=50; total time=   8.3s\n",
            "[CV] END max_depth=10, min_samples_leaf=4, min_samples_split=10, n_estimators=100; total time=  16.3s\n",
            "[CV] END max_depth=10, min_samples_leaf=4, min_samples_split=10, n_estimators=100; total time=  16.5s\n",
            "[CV] END max_depth=10, min_samples_leaf=4, min_samples_split=10, n_estimators=100; total time=  15.8s\n",
            "[CV] END max_depth=10, min_samples_leaf=4, min_samples_split=10, n_estimators=100; total time=  15.9s\n",
            "[CV] END max_depth=10, min_samples_leaf=4, min_samples_split=10, n_estimators=100; total time=  15.9s\n",
            "[CV] END max_depth=10, min_samples_leaf=4, min_samples_split=10, n_estimators=200; total time=  32.0s\n",
            "[CV] END max_depth=10, min_samples_leaf=4, min_samples_split=10, n_estimators=200; total time=  32.5s\n",
            "[CV] END max_depth=10, min_samples_leaf=4, min_samples_split=10, n_estimators=200; total time=  31.8s\n",
            "[CV] END max_depth=10, min_samples_leaf=4, min_samples_split=10, n_estimators=200; total time=  31.5s\n",
            "[CV] END max_depth=10, min_samples_leaf=4, min_samples_split=10, n_estimators=200; total time=  31.3s\n",
            "Best Hyperparameters:  {'max_depth': None, 'min_samples_leaf': 1, 'min_samples_split': 2, 'n_estimators': 200}\n",
            "Best Accuracy:  0.7969712173318453\n"
          ]
        }
      ],
      "source": [
        "from sklearn.ensemble import RandomForestClassifier\n",
        "\n",
        "params = {'n_estimators': [50, 100, 200], #The number of trees in the forest.\n",
        "          'max_depth': [None, 5, 10], #The maximum depth of the tree. If None, then nodes are expanded until all leaves are pure or until all leaves contain less than min_samples_split samples.\n",
        "          'min_samples_split': [2, 5, 10], #The minimum number of samples required to split an internal node:\n",
        "          'min_samples_leaf': [1, 2, 4]} # The minimum number of samples required to be at a leaf node.\n",
        "\n",
        "rfc = RandomForestClassifier(random_state=2019)\n",
        "\n",
        "grid_search = GridSearchCV(estimator = rfc, \n",
        "                           param_grid = params, \n",
        "                           cv=5,\n",
        "                           scoring = 'accuracy',\n",
        "                           verbose = 2)\n",
        "\n",
        "grid_search.fit(x_flat_train, y_train)\n",
        "\n",
        "print(\"Best Hyperparameters: \", grid_search.best_params_)\n",
        "print(\"Best Accuracy: \", grid_search.best_score_)\n"
      ]
    },
    {
      "cell_type": "code",
      "execution_count": 23,
      "metadata": {
        "colab": {
          "base_uri": "https://localhost:8080/"
        },
        "id": "I0dHSD3wgz44",
        "outputId": "f39d8915-f3a4-4cc7-c1a4-e9ca4961d958"
      },
      "outputs": [
        {
          "name": "stdout",
          "output_type": "stream",
          "text": [
            "Accuracy on Testing Set:  0.8008378988076056\n"
          ]
        }
      ],
      "source": [
        "best_rfc = grid_search.best_estimator_\n",
        "y_pred = best_rfc.predict(x_flat_test)\n",
        "accuracy = accuracy_score(y_test, y_pred)\n",
        "print(\"Accuracy on Testing Set: \", accuracy)\n",
        "\n",
        "models_df = models_df.append(pd.Series(['RFC', accuracy], index=models_df.columns), ignore_index=True)\n",
        "models_df = models_df.sort_values('Test_Accuracy', ascending=False)"
      ]
    },
    {
      "cell_type": "code",
      "execution_count": 24,
      "metadata": {
        "colab": {
          "base_uri": "https://localhost:8080/",
          "height": 175
        },
        "id": "AT-RqWp5hBK1",
        "outputId": "fdf7ea82-51bc-404e-95c4-c0cc16862e77"
      },
      "outputs": [
        {
          "data": {
            "text/html": [
              "\n",
              "  <div id=\"df-41184d91-496e-4b81-92af-d33d6ef47c44\">\n",
              "    <div class=\"colab-df-container\">\n",
              "      <div>\n",
              "<style scoped>\n",
              "    .dataframe tbody tr th:only-of-type {\n",
              "        vertical-align: middle;\n",
              "    }\n",
              "\n",
              "    .dataframe tbody tr th {\n",
              "        vertical-align: top;\n",
              "    }\n",
              "\n",
              "    .dataframe thead th {\n",
              "        text-align: right;\n",
              "    }\n",
              "</style>\n",
              "<table border=\"1\" class=\"dataframe\">\n",
              "  <thead>\n",
              "    <tr style=\"text-align: right;\">\n",
              "      <th></th>\n",
              "      <th>Model</th>\n",
              "      <th>Test_Accuracy</th>\n",
              "    </tr>\n",
              "  </thead>\n",
              "  <tbody>\n",
              "    <tr>\n",
              "      <th>0</th>\n",
              "      <td>SMV</td>\n",
              "      <td>0.819529</td>\n",
              "    </tr>\n",
              "    <tr>\n",
              "      <th>3</th>\n",
              "      <td>RFC</td>\n",
              "      <td>0.800838</td>\n",
              "    </tr>\n",
              "    <tr>\n",
              "      <th>1</th>\n",
              "      <td>KNN</td>\n",
              "      <td>0.765711</td>\n",
              "    </tr>\n",
              "    <tr>\n",
              "      <th>2</th>\n",
              "      <td>GNB</td>\n",
              "      <td>0.525943</td>\n",
              "    </tr>\n",
              "  </tbody>\n",
              "</table>\n",
              "</div>\n",
              "      <button class=\"colab-df-convert\" onclick=\"convertToInteractive('df-41184d91-496e-4b81-92af-d33d6ef47c44')\"\n",
              "              title=\"Convert this dataframe to an interactive table.\"\n",
              "              style=\"display:none;\">\n",
              "        \n",
              "  <svg xmlns=\"http://www.w3.org/2000/svg\" height=\"24px\"viewBox=\"0 0 24 24\"\n",
              "       width=\"24px\">\n",
              "    <path d=\"M0 0h24v24H0V0z\" fill=\"none\"/>\n",
              "    <path d=\"M18.56 5.44l.94 2.06.94-2.06 2.06-.94-2.06-.94-.94-2.06-.94 2.06-2.06.94zm-11 1L8.5 8.5l.94-2.06 2.06-.94-2.06-.94L8.5 2.5l-.94 2.06-2.06.94zm10 10l.94 2.06.94-2.06 2.06-.94-2.06-.94-.94-2.06-.94 2.06-2.06.94z\"/><path d=\"M17.41 7.96l-1.37-1.37c-.4-.4-.92-.59-1.43-.59-.52 0-1.04.2-1.43.59L10.3 9.45l-7.72 7.72c-.78.78-.78 2.05 0 2.83L4 21.41c.39.39.9.59 1.41.59.51 0 1.02-.2 1.41-.59l7.78-7.78 2.81-2.81c.8-.78.8-2.07 0-2.86zM5.41 20L4 18.59l7.72-7.72 1.47 1.35L5.41 20z\"/>\n",
              "  </svg>\n",
              "      </button>\n",
              "      \n",
              "  <style>\n",
              "    .colab-df-container {\n",
              "      display:flex;\n",
              "      flex-wrap:wrap;\n",
              "      gap: 12px;\n",
              "    }\n",
              "\n",
              "    .colab-df-convert {\n",
              "      background-color: #E8F0FE;\n",
              "      border: none;\n",
              "      border-radius: 50%;\n",
              "      cursor: pointer;\n",
              "      display: none;\n",
              "      fill: #1967D2;\n",
              "      height: 32px;\n",
              "      padding: 0 0 0 0;\n",
              "      width: 32px;\n",
              "    }\n",
              "\n",
              "    .colab-df-convert:hover {\n",
              "      background-color: #E2EBFA;\n",
              "      box-shadow: 0px 1px 2px rgba(60, 64, 67, 0.3), 0px 1px 3px 1px rgba(60, 64, 67, 0.15);\n",
              "      fill: #174EA6;\n",
              "    }\n",
              "\n",
              "    [theme=dark] .colab-df-convert {\n",
              "      background-color: #3B4455;\n",
              "      fill: #D2E3FC;\n",
              "    }\n",
              "\n",
              "    [theme=dark] .colab-df-convert:hover {\n",
              "      background-color: #434B5C;\n",
              "      box-shadow: 0px 1px 3px 1px rgba(0, 0, 0, 0.15);\n",
              "      filter: drop-shadow(0px 1px 2px rgba(0, 0, 0, 0.3));\n",
              "      fill: #FFFFFF;\n",
              "    }\n",
              "  </style>\n",
              "\n",
              "      <script>\n",
              "        const buttonEl =\n",
              "          document.querySelector('#df-41184d91-496e-4b81-92af-d33d6ef47c44 button.colab-df-convert');\n",
              "        buttonEl.style.display =\n",
              "          google.colab.kernel.accessAllowed ? 'block' : 'none';\n",
              "\n",
              "        async function convertToInteractive(key) {\n",
              "          const element = document.querySelector('#df-41184d91-496e-4b81-92af-d33d6ef47c44');\n",
              "          const dataTable =\n",
              "            await google.colab.kernel.invokeFunction('convertToInteractive',\n",
              "                                                     [key], {});\n",
              "          if (!dataTable) return;\n",
              "\n",
              "          const docLinkHtml = 'Like what you see? Visit the ' +\n",
              "            '<a target=\"_blank\" href=https://colab.research.google.com/notebooks/data_table.ipynb>data table notebook</a>'\n",
              "            + ' to learn more about interactive tables.';\n",
              "          element.innerHTML = '';\n",
              "          dataTable['output_type'] = 'display_data';\n",
              "          await google.colab.output.renderOutput(dataTable, element);\n",
              "          const docLink = document.createElement('div');\n",
              "          docLink.innerHTML = docLinkHtml;\n",
              "          element.appendChild(docLink);\n",
              "        }\n",
              "      </script>\n",
              "    </div>\n",
              "  </div>\n",
              "  "
            ],
            "text/plain": [
              "  Model  Test_Accuracy\n",
              "0   SMV       0.819529\n",
              "3   RFC       0.800838\n",
              "1   KNN       0.765711\n",
              "2   GNB       0.525943"
            ]
          },
          "execution_count": 24,
          "metadata": {},
          "output_type": "execute_result"
        }
      ],
      "source": [
        "models_df"
      ]
    },
    {
      "cell_type": "code",
      "execution_count": 25,
      "metadata": {
        "colab": {
          "base_uri": "https://localhost:8080/",
          "height": 17
        },
        "id": "DsUt9Wb-hCrc",
        "outputId": "c001c62a-ebe6-4905-a20d-cedb4791f516"
      },
      "outputs": [
        {
          "data": {
            "application/javascript": "\n    async function download(id, filename, size) {\n      if (!google.colab.kernel.accessAllowed) {\n        return;\n      }\n      const div = document.createElement('div');\n      const label = document.createElement('label');\n      label.textContent = `Downloading \"${filename}\": `;\n      div.appendChild(label);\n      const progress = document.createElement('progress');\n      progress.max = size;\n      div.appendChild(progress);\n      document.body.appendChild(div);\n\n      const buffers = [];\n      let downloaded = 0;\n\n      const channel = await google.colab.kernel.comms.open(id);\n      // Send a message to notify the kernel that we're ready.\n      channel.send({})\n\n      for await (const message of channel.messages) {\n        // Send a message to notify the kernel that we're ready.\n        channel.send({})\n        if (message.buffers) {\n          for (const buffer of message.buffers) {\n            buffers.push(buffer);\n            downloaded += buffer.byteLength;\n            progress.value = downloaded;\n          }\n        }\n      }\n      const blob = new Blob(buffers, {type: 'application/binary'});\n      const a = document.createElement('a');\n      a.href = window.URL.createObjectURL(blob);\n      a.download = filename;\n      div.appendChild(a);\n      a.click();\n      div.remove();\n    }\n  ",
            "text/plain": [
              "<IPython.core.display.Javascript object>"
            ]
          },
          "metadata": {},
          "output_type": "display_data"
        },
        {
          "data": {
            "application/javascript": "download(\"download_dd6d02ec-6742-4642-aa9b-bd9b9b4efbef\", \"RFC_Model.pkl\", 39427320)",
            "text/plain": [
              "<IPython.core.display.Javascript object>"
            ]
          },
          "metadata": {},
          "output_type": "display_data"
        }
      ],
      "source": [
        "import pickle\n",
        "with open('RFC_Model.pkl', 'wb') as file:\n",
        "    pickle.dump(best_rfc, file)\n",
        "\n",
        "from google.colab import files\n",
        "files.download('RFC_Model.pkl')"
      ]
    },
    {
      "cell_type": "markdown",
      "metadata": {
        "id": "Px7BQpAPhbk2"
      },
      "source": [
        "### XGBoost (XGB) Classifier"
      ]
    },
    {
      "cell_type": "code",
      "execution_count": null,
      "metadata": {
        "id": "ClpG_hyWx_zX"
      },
      "outputs": [],
      "source": [
        "gpus = tf.config.experimental.list_physical_devices('GPU')\n",
        "for gpu in gpus: \n",
        "    tf.config.experimental.set_memory_growth(gpu, True)"
      ]
    },
    {
      "cell_type": "code",
      "execution_count": 28,
      "metadata": {
        "colab": {
          "base_uri": "https://localhost:8080/"
        },
        "id": "Updp13YhyCUe",
        "outputId": "14e3538d-8300-4d8a-c06a-a1f01d215d70"
      },
      "outputs": [
        {
          "data": {
            "text/plain": [
              "[PhysicalDevice(name='/physical_device:GPU:0', device_type='GPU')]"
            ]
          },
          "execution_count": 28,
          "metadata": {},
          "output_type": "execute_result"
        }
      ],
      "source": [
        "tf.config.list_physical_devices('GPU')"
      ]
    },
    {
      "cell_type": "code",
      "execution_count": 33,
      "metadata": {
        "colab": {
          "base_uri": "https://localhost:8080/"
        },
        "id": "_TXJT9HOheX4",
        "outputId": "80181847-9b1c-4413-8bba-ed8c1f1446f6"
      },
      "outputs": [
        {
          "name": "stdout",
          "output_type": "stream",
          "text": [
            "Fitting 5 folds for each of 27 candidates, totalling 135 fits\n",
            "[CV] END ....learning_rate=0.1, max_depth=3, n_estimators=50; total time=   2.7s\n",
            "[CV] END ....learning_rate=0.1, max_depth=3, n_estimators=50; total time=   1.6s\n",
            "[CV] END ....learning_rate=0.1, max_depth=3, n_estimators=50; total time=   1.6s\n",
            "[CV] END ....learning_rate=0.1, max_depth=3, n_estimators=50; total time=   2.0s\n",
            "[CV] END ....learning_rate=0.1, max_depth=3, n_estimators=50; total time=   2.4s\n",
            "[CV] END ...learning_rate=0.1, max_depth=3, n_estimators=100; total time=   2.1s\n",
            "[CV] END ...learning_rate=0.1, max_depth=3, n_estimators=100; total time=   2.1s\n",
            "[CV] END ...learning_rate=0.1, max_depth=3, n_estimators=100; total time=   2.1s\n",
            "[CV] END ...learning_rate=0.1, max_depth=3, n_estimators=100; total time=   2.1s\n",
            "[CV] END ...learning_rate=0.1, max_depth=3, n_estimators=100; total time=   2.4s\n",
            "[CV] END ...learning_rate=0.1, max_depth=3, n_estimators=200; total time=   4.0s\n",
            "[CV] END ...learning_rate=0.1, max_depth=3, n_estimators=200; total time=   3.1s\n",
            "[CV] END ...learning_rate=0.1, max_depth=3, n_estimators=200; total time=   3.2s\n",
            "[CV] END ...learning_rate=0.1, max_depth=3, n_estimators=200; total time=   3.2s\n",
            "[CV] END ...learning_rate=0.1, max_depth=3, n_estimators=200; total time=   3.5s\n",
            "[CV] END ....learning_rate=0.1, max_depth=4, n_estimators=50; total time=   1.9s\n",
            "[CV] END ....learning_rate=0.1, max_depth=4, n_estimators=50; total time=   1.9s\n",
            "[CV] END ....learning_rate=0.1, max_depth=4, n_estimators=50; total time=   1.9s\n",
            "[CV] END ....learning_rate=0.1, max_depth=4, n_estimators=50; total time=   2.0s\n",
            "[CV] END ....learning_rate=0.1, max_depth=4, n_estimators=50; total time=   3.0s\n",
            "[CV] END ...learning_rate=0.1, max_depth=4, n_estimators=100; total time=   2.8s\n",
            "[CV] END ...learning_rate=0.1, max_depth=4, n_estimators=100; total time=   2.8s\n",
            "[CV] END ...learning_rate=0.1, max_depth=4, n_estimators=100; total time=   2.8s\n",
            "[CV] END ...learning_rate=0.1, max_depth=4, n_estimators=100; total time=   2.9s\n",
            "[CV] END ...learning_rate=0.1, max_depth=4, n_estimators=100; total time=   3.6s\n",
            "[CV] END ...learning_rate=0.1, max_depth=4, n_estimators=200; total time=   4.4s\n",
            "[CV] END ...learning_rate=0.1, max_depth=4, n_estimators=200; total time=   4.6s\n",
            "[CV] END ...learning_rate=0.1, max_depth=4, n_estimators=200; total time=   6.9s\n",
            "[CV] END ...learning_rate=0.1, max_depth=4, n_estimators=200; total time=   4.4s\n",
            "[CV] END ...learning_rate=0.1, max_depth=4, n_estimators=200; total time=   4.6s\n",
            "[CV] END ....learning_rate=0.1, max_depth=5, n_estimators=50; total time=   3.0s\n",
            "[CV] END ....learning_rate=0.1, max_depth=5, n_estimators=50; total time=   2.5s\n",
            "[CV] END ....learning_rate=0.1, max_depth=5, n_estimators=50; total time=   2.5s\n",
            "[CV] END ....learning_rate=0.1, max_depth=5, n_estimators=50; total time=   2.5s\n",
            "[CV] END ....learning_rate=0.1, max_depth=5, n_estimators=50; total time=   5.2s\n",
            "[CV] END ...learning_rate=0.1, max_depth=5, n_estimators=100; total time=   4.1s\n",
            "[CV] END ...learning_rate=0.1, max_depth=5, n_estimators=100; total time=   4.0s\n",
            "[CV] END ...learning_rate=0.1, max_depth=5, n_estimators=100; total time=   4.4s\n",
            "[CV] END ...learning_rate=0.1, max_depth=5, n_estimators=100; total time=   4.0s\n",
            "[CV] END ...learning_rate=0.1, max_depth=5, n_estimators=100; total time=   3.9s\n",
            "[CV] END ...learning_rate=0.1, max_depth=5, n_estimators=200; total time=   7.1s\n",
            "[CV] END ...learning_rate=0.1, max_depth=5, n_estimators=200; total time=   6.8s\n",
            "[CV] END ...learning_rate=0.1, max_depth=5, n_estimators=200; total time=   7.5s\n",
            "[CV] END ...learning_rate=0.1, max_depth=5, n_estimators=200; total time=   6.8s\n",
            "[CV] END ...learning_rate=0.1, max_depth=5, n_estimators=200; total time=   7.8s\n",
            "[CV] END ...learning_rate=0.01, max_depth=3, n_estimators=50; total time=   1.5s\n",
            "[CV] END ...learning_rate=0.01, max_depth=3, n_estimators=50; total time=   1.5s\n",
            "[CV] END ...learning_rate=0.01, max_depth=3, n_estimators=50; total time=   1.6s\n",
            "[CV] END ...learning_rate=0.01, max_depth=3, n_estimators=50; total time=   2.6s\n",
            "[CV] END ...learning_rate=0.01, max_depth=3, n_estimators=50; total time=   1.6s\n",
            "[CV] END ..learning_rate=0.01, max_depth=3, n_estimators=100; total time=   2.1s\n",
            "[CV] END ..learning_rate=0.01, max_depth=3, n_estimators=100; total time=   2.1s\n",
            "[CV] END ..learning_rate=0.01, max_depth=3, n_estimators=100; total time=   2.1s\n",
            "[CV] END ..learning_rate=0.01, max_depth=3, n_estimators=100; total time=   2.1s\n",
            "[CV] END ..learning_rate=0.01, max_depth=3, n_estimators=100; total time=   3.3s\n",
            "[CV] END ..learning_rate=0.01, max_depth=3, n_estimators=200; total time=   3.2s\n",
            "[CV] END ..learning_rate=0.01, max_depth=3, n_estimators=200; total time=   3.2s\n",
            "[CV] END ..learning_rate=0.01, max_depth=3, n_estimators=200; total time=   3.2s\n",
            "[CV] END ..learning_rate=0.01, max_depth=3, n_estimators=200; total time=   4.1s\n",
            "[CV] END ..learning_rate=0.01, max_depth=3, n_estimators=200; total time=   3.2s\n",
            "[CV] END ...learning_rate=0.01, max_depth=4, n_estimators=50; total time=   2.9s\n",
            "[CV] END ...learning_rate=0.01, max_depth=4, n_estimators=50; total time=   1.9s\n",
            "[CV] END ...learning_rate=0.01, max_depth=4, n_estimators=50; total time=   2.0s\n",
            "[CV] END ...learning_rate=0.01, max_depth=4, n_estimators=50; total time=   3.0s\n",
            "[CV] END ...learning_rate=0.01, max_depth=4, n_estimators=50; total time=   1.9s\n",
            "[CV] END ..learning_rate=0.01, max_depth=4, n_estimators=100; total time=   2.8s\n",
            "[CV] END ..learning_rate=0.01, max_depth=4, n_estimators=100; total time=   2.8s\n",
            "[CV] END ..learning_rate=0.01, max_depth=4, n_estimators=100; total time=   2.9s\n",
            "[CV] END ..learning_rate=0.01, max_depth=4, n_estimators=100; total time=   3.7s\n",
            "[CV] END ..learning_rate=0.01, max_depth=4, n_estimators=100; total time=   2.8s\n",
            "[CV] END ..learning_rate=0.01, max_depth=4, n_estimators=200; total time=   4.5s\n",
            "[CV] END ..learning_rate=0.01, max_depth=4, n_estimators=200; total time=   4.9s\n",
            "[CV] END ..learning_rate=0.01, max_depth=4, n_estimators=200; total time=   4.5s\n",
            "[CV] END ..learning_rate=0.01, max_depth=4, n_estimators=200; total time=   4.7s\n",
            "[CV] END ..learning_rate=0.01, max_depth=4, n_estimators=200; total time=   5.6s\n",
            "[CV] END ...learning_rate=0.01, max_depth=5, n_estimators=50; total time=   2.6s\n",
            "[CV] END ...learning_rate=0.01, max_depth=5, n_estimators=50; total time=   2.6s\n",
            "[CV] END ...learning_rate=0.01, max_depth=5, n_estimators=50; total time=   2.6s\n",
            "[CV] END ...learning_rate=0.01, max_depth=5, n_estimators=50; total time=   3.6s\n",
            "[CV] END ...learning_rate=0.01, max_depth=5, n_estimators=50; total time=   2.5s\n",
            "[CV] END ..learning_rate=0.01, max_depth=5, n_estimators=100; total time=   4.1s\n",
            "[CV] END ..learning_rate=0.01, max_depth=5, n_estimators=100; total time=   4.1s\n",
            "[CV] END ..learning_rate=0.01, max_depth=5, n_estimators=100; total time=   4.2s\n",
            "[CV] END ..learning_rate=0.01, max_depth=5, n_estimators=100; total time=   4.0s\n",
            "[CV] END ..learning_rate=0.01, max_depth=5, n_estimators=100; total time=   4.1s\n",
            "[CV] END ..learning_rate=0.01, max_depth=5, n_estimators=200; total time=   7.6s\n",
            "[CV] END ..learning_rate=0.01, max_depth=5, n_estimators=200; total time=   7.1s\n",
            "[CV] END ..learning_rate=0.01, max_depth=5, n_estimators=200; total time=   7.0s\n",
            "[CV] END ..learning_rate=0.01, max_depth=5, n_estimators=200; total time=   7.1s\n",
            "[CV] END ..learning_rate=0.01, max_depth=5, n_estimators=200; total time=   7.1s\n",
            "[CV] END ..learning_rate=0.001, max_depth=3, n_estimators=50; total time=   2.3s\n",
            "[CV] END ..learning_rate=0.001, max_depth=3, n_estimators=50; total time=   2.8s\n",
            "[CV] END ..learning_rate=0.001, max_depth=3, n_estimators=50; total time=   2.1s\n",
            "[CV] END ..learning_rate=0.001, max_depth=3, n_estimators=50; total time=   1.5s\n",
            "[CV] END ..learning_rate=0.001, max_depth=3, n_estimators=50; total time=   1.6s\n",
            "[CV] END .learning_rate=0.001, max_depth=3, n_estimators=100; total time=   2.1s\n",
            "[CV] END .learning_rate=0.001, max_depth=3, n_estimators=100; total time=   2.1s\n",
            "[CV] END .learning_rate=0.001, max_depth=3, n_estimators=100; total time=   3.3s\n",
            "[CV] END .learning_rate=0.001, max_depth=3, n_estimators=100; total time=   2.1s\n",
            "[CV] END .learning_rate=0.001, max_depth=3, n_estimators=100; total time=   2.1s\n",
            "[CV] END .learning_rate=0.001, max_depth=3, n_estimators=200; total time=   3.2s\n",
            "[CV] END .learning_rate=0.001, max_depth=3, n_estimators=200; total time=   3.3s\n",
            "[CV] END .learning_rate=0.001, max_depth=3, n_estimators=200; total time=   4.0s\n",
            "[CV] END .learning_rate=0.001, max_depth=3, n_estimators=200; total time=   3.2s\n",
            "[CV] END .learning_rate=0.001, max_depth=3, n_estimators=200; total time=   3.2s\n",
            "[CV] END ..learning_rate=0.001, max_depth=4, n_estimators=50; total time=   2.1s\n",
            "[CV] END ..learning_rate=0.001, max_depth=4, n_estimators=50; total time=   3.0s\n",
            "[CV] END ..learning_rate=0.001, max_depth=4, n_estimators=50; total time=   2.0s\n",
            "[CV] END ..learning_rate=0.001, max_depth=4, n_estimators=50; total time=   1.9s\n",
            "[CV] END ..learning_rate=0.001, max_depth=4, n_estimators=50; total time=   1.9s\n",
            "[CV] END .learning_rate=0.001, max_depth=4, n_estimators=100; total time=   2.7s\n",
            "[CV] END .learning_rate=0.001, max_depth=4, n_estimators=100; total time=   3.4s\n",
            "[CV] END .learning_rate=0.001, max_depth=4, n_estimators=100; total time=   2.8s\n",
            "[CV] END .learning_rate=0.001, max_depth=4, n_estimators=100; total time=   2.8s\n",
            "[CV] END .learning_rate=0.001, max_depth=4, n_estimators=100; total time=   2.8s\n",
            "[CV] END .learning_rate=0.001, max_depth=4, n_estimators=200; total time=   4.7s\n",
            "[CV] END .learning_rate=0.001, max_depth=4, n_estimators=200; total time=   4.6s\n",
            "[CV] END .learning_rate=0.001, max_depth=4, n_estimators=200; total time=   4.6s\n",
            "[CV] END .learning_rate=0.001, max_depth=4, n_estimators=200; total time=   5.0s\n",
            "[CV] END .learning_rate=0.001, max_depth=4, n_estimators=200; total time=   4.5s\n",
            "[CV] END ..learning_rate=0.001, max_depth=5, n_estimators=50; total time=   2.6s\n",
            "[CV] END ..learning_rate=0.001, max_depth=5, n_estimators=50; total time=   2.6s\n",
            "[CV] END ..learning_rate=0.001, max_depth=5, n_estimators=50; total time=   3.5s\n",
            "[CV] END ..learning_rate=0.001, max_depth=5, n_estimators=50; total time=   2.5s\n",
            "[CV] END ..learning_rate=0.001, max_depth=5, n_estimators=50; total time=   2.5s\n",
            "[CV] END .learning_rate=0.001, max_depth=5, n_estimators=100; total time=   4.2s\n",
            "[CV] END .learning_rate=0.001, max_depth=5, n_estimators=100; total time=   5.1s\n",
            "[CV] END .learning_rate=0.001, max_depth=5, n_estimators=100; total time=   4.0s\n",
            "[CV] END .learning_rate=0.001, max_depth=5, n_estimators=100; total time=   4.1s\n",
            "[CV] END .learning_rate=0.001, max_depth=5, n_estimators=100; total time=   4.9s\n",
            "[CV] END .learning_rate=0.001, max_depth=5, n_estimators=200; total time=   7.4s\n",
            "[CV] END .learning_rate=0.001, max_depth=5, n_estimators=200; total time=   8.1s\n",
            "[CV] END .learning_rate=0.001, max_depth=5, n_estimators=200; total time=   7.1s\n",
            "[CV] END .learning_rate=0.001, max_depth=5, n_estimators=200; total time=   7.0s\n",
            "[CV] END .learning_rate=0.001, max_depth=5, n_estimators=200; total time=   7.1s\n",
            "Best Hyperparameters:  {'learning_rate': 0.1, 'max_depth': 5, 'n_estimators': 200}\n",
            "Best Accuracy:  0.8208994084837329\n"
          ]
        }
      ],
      "source": [
        "from xgboost import XGBClassifier\n",
        "\n",
        "params = {'n_estimators': [50, 100, 200],\n",
        "          'max_depth': [3, 4, 5],\n",
        "          'learning_rate': [0.1, 0.01, 0.001]}\n",
        "\n",
        "xgb = XGBClassifier(random_state=2019, tree_method = 'gpu_hist')\n",
        "\n",
        "grid_search = GridSearchCV(estimator = xgb, \n",
        "                           param_grid = params, \n",
        "                           cv=5,\n",
        "                           scoring = 'accuracy',\n",
        "                           verbose = 2)\n",
        "\n",
        "grid_search.fit(x_flat_train, y_train)\n",
        "\n",
        "print(\"Best Hyperparameters: \", grid_search.best_params_)\n",
        "print(\"Best Accuracy: \", grid_search.best_score_)"
      ]
    },
    {
      "cell_type": "code",
      "execution_count": 34,
      "metadata": {
        "colab": {
          "base_uri": "https://localhost:8080/"
        },
        "id": "m0f-S7a7lEjh",
        "outputId": "c6a06cd1-b11e-4d38-acba-9a45fae83720"
      },
      "outputs": [
        {
          "name": "stdout",
          "output_type": "stream",
          "text": [
            "Accuracy on Testing Set:  0.8369320012890751\n"
          ]
        }
      ],
      "source": [
        "best_xgb = grid_search.best_estimator_\n",
        "y_pred = best_xgb.predict(x_flat_test)\n",
        "accuracy = accuracy_score(y_test, y_pred)\n",
        "print(\"Accuracy on Testing Set: \", accuracy)\n",
        "\n",
        "models_df = models_df.append(pd.Series(['XGB', accuracy], index=models_df.columns), ignore_index=True)\n",
        "models_df = models_df.sort_values('Test_Accuracy', ascending=False)"
      ]
    },
    {
      "cell_type": "code",
      "execution_count": 35,
      "metadata": {
        "colab": {
          "base_uri": "https://localhost:8080/",
          "height": 206
        },
        "id": "JNqSWOuunDYJ",
        "outputId": "cf578d3f-f96f-4de3-f137-3c79ed2d0835"
      },
      "outputs": [
        {
          "data": {
            "text/html": [
              "\n",
              "  <div id=\"df-4be33a4e-241e-4cff-883b-5f621beabb31\">\n",
              "    <div class=\"colab-df-container\">\n",
              "      <div>\n",
              "<style scoped>\n",
              "    .dataframe tbody tr th:only-of-type {\n",
              "        vertical-align: middle;\n",
              "    }\n",
              "\n",
              "    .dataframe tbody tr th {\n",
              "        vertical-align: top;\n",
              "    }\n",
              "\n",
              "    .dataframe thead th {\n",
              "        text-align: right;\n",
              "    }\n",
              "</style>\n",
              "<table border=\"1\" class=\"dataframe\">\n",
              "  <thead>\n",
              "    <tr style=\"text-align: right;\">\n",
              "      <th></th>\n",
              "      <th>Model</th>\n",
              "      <th>Test_Accuracy</th>\n",
              "    </tr>\n",
              "  </thead>\n",
              "  <tbody>\n",
              "    <tr>\n",
              "      <th>4</th>\n",
              "      <td>XGB</td>\n",
              "      <td>0.836932</td>\n",
              "    </tr>\n",
              "    <tr>\n",
              "      <th>0</th>\n",
              "      <td>SMV</td>\n",
              "      <td>0.819529</td>\n",
              "    </tr>\n",
              "    <tr>\n",
              "      <th>1</th>\n",
              "      <td>RFC</td>\n",
              "      <td>0.800838</td>\n",
              "    </tr>\n",
              "    <tr>\n",
              "      <th>2</th>\n",
              "      <td>KNN</td>\n",
              "      <td>0.765711</td>\n",
              "    </tr>\n",
              "    <tr>\n",
              "      <th>3</th>\n",
              "      <td>GNB</td>\n",
              "      <td>0.525943</td>\n",
              "    </tr>\n",
              "  </tbody>\n",
              "</table>\n",
              "</div>\n",
              "      <button class=\"colab-df-convert\" onclick=\"convertToInteractive('df-4be33a4e-241e-4cff-883b-5f621beabb31')\"\n",
              "              title=\"Convert this dataframe to an interactive table.\"\n",
              "              style=\"display:none;\">\n",
              "        \n",
              "  <svg xmlns=\"http://www.w3.org/2000/svg\" height=\"24px\"viewBox=\"0 0 24 24\"\n",
              "       width=\"24px\">\n",
              "    <path d=\"M0 0h24v24H0V0z\" fill=\"none\"/>\n",
              "    <path d=\"M18.56 5.44l.94 2.06.94-2.06 2.06-.94-2.06-.94-.94-2.06-.94 2.06-2.06.94zm-11 1L8.5 8.5l.94-2.06 2.06-.94-2.06-.94L8.5 2.5l-.94 2.06-2.06.94zm10 10l.94 2.06.94-2.06 2.06-.94-2.06-.94-.94-2.06-.94 2.06-2.06.94z\"/><path d=\"M17.41 7.96l-1.37-1.37c-.4-.4-.92-.59-1.43-.59-.52 0-1.04.2-1.43.59L10.3 9.45l-7.72 7.72c-.78.78-.78 2.05 0 2.83L4 21.41c.39.39.9.59 1.41.59.51 0 1.02-.2 1.41-.59l7.78-7.78 2.81-2.81c.8-.78.8-2.07 0-2.86zM5.41 20L4 18.59l7.72-7.72 1.47 1.35L5.41 20z\"/>\n",
              "  </svg>\n",
              "      </button>\n",
              "      \n",
              "  <style>\n",
              "    .colab-df-container {\n",
              "      display:flex;\n",
              "      flex-wrap:wrap;\n",
              "      gap: 12px;\n",
              "    }\n",
              "\n",
              "    .colab-df-convert {\n",
              "      background-color: #E8F0FE;\n",
              "      border: none;\n",
              "      border-radius: 50%;\n",
              "      cursor: pointer;\n",
              "      display: none;\n",
              "      fill: #1967D2;\n",
              "      height: 32px;\n",
              "      padding: 0 0 0 0;\n",
              "      width: 32px;\n",
              "    }\n",
              "\n",
              "    .colab-df-convert:hover {\n",
              "      background-color: #E2EBFA;\n",
              "      box-shadow: 0px 1px 2px rgba(60, 64, 67, 0.3), 0px 1px 3px 1px rgba(60, 64, 67, 0.15);\n",
              "      fill: #174EA6;\n",
              "    }\n",
              "\n",
              "    [theme=dark] .colab-df-convert {\n",
              "      background-color: #3B4455;\n",
              "      fill: #D2E3FC;\n",
              "    }\n",
              "\n",
              "    [theme=dark] .colab-df-convert:hover {\n",
              "      background-color: #434B5C;\n",
              "      box-shadow: 0px 1px 3px 1px rgba(0, 0, 0, 0.15);\n",
              "      filter: drop-shadow(0px 1px 2px rgba(0, 0, 0, 0.3));\n",
              "      fill: #FFFFFF;\n",
              "    }\n",
              "  </style>\n",
              "\n",
              "      <script>\n",
              "        const buttonEl =\n",
              "          document.querySelector('#df-4be33a4e-241e-4cff-883b-5f621beabb31 button.colab-df-convert');\n",
              "        buttonEl.style.display =\n",
              "          google.colab.kernel.accessAllowed ? 'block' : 'none';\n",
              "\n",
              "        async function convertToInteractive(key) {\n",
              "          const element = document.querySelector('#df-4be33a4e-241e-4cff-883b-5f621beabb31');\n",
              "          const dataTable =\n",
              "            await google.colab.kernel.invokeFunction('convertToInteractive',\n",
              "                                                     [key], {});\n",
              "          if (!dataTable) return;\n",
              "\n",
              "          const docLinkHtml = 'Like what you see? Visit the ' +\n",
              "            '<a target=\"_blank\" href=https://colab.research.google.com/notebooks/data_table.ipynb>data table notebook</a>'\n",
              "            + ' to learn more about interactive tables.';\n",
              "          element.innerHTML = '';\n",
              "          dataTable['output_type'] = 'display_data';\n",
              "          await google.colab.output.renderOutput(dataTable, element);\n",
              "          const docLink = document.createElement('div');\n",
              "          docLink.innerHTML = docLinkHtml;\n",
              "          element.appendChild(docLink);\n",
              "        }\n",
              "      </script>\n",
              "    </div>\n",
              "  </div>\n",
              "  "
            ],
            "text/plain": [
              "  Model  Test_Accuracy\n",
              "4   XGB       0.836932\n",
              "0   SMV       0.819529\n",
              "1   RFC       0.800838\n",
              "2   KNN       0.765711\n",
              "3   GNB       0.525943"
            ]
          },
          "execution_count": 35,
          "metadata": {},
          "output_type": "execute_result"
        }
      ],
      "source": [
        "models_df"
      ]
    },
    {
      "cell_type": "code",
      "execution_count": 36,
      "metadata": {
        "colab": {
          "base_uri": "https://localhost:8080/",
          "height": 17
        },
        "id": "At5EDob9nMv3",
        "outputId": "dac8d566-ad58-49b4-ca05-4988e58d3ea1"
      },
      "outputs": [
        {
          "data": {
            "application/javascript": "\n    async function download(id, filename, size) {\n      if (!google.colab.kernel.accessAllowed) {\n        return;\n      }\n      const div = document.createElement('div');\n      const label = document.createElement('label');\n      label.textContent = `Downloading \"${filename}\": `;\n      div.appendChild(label);\n      const progress = document.createElement('progress');\n      progress.max = size;\n      div.appendChild(progress);\n      document.body.appendChild(div);\n\n      const buffers = [];\n      let downloaded = 0;\n\n      const channel = await google.colab.kernel.comms.open(id);\n      // Send a message to notify the kernel that we're ready.\n      channel.send({})\n\n      for await (const message of channel.messages) {\n        // Send a message to notify the kernel that we're ready.\n        channel.send({})\n        if (message.buffers) {\n          for (const buffer of message.buffers) {\n            buffers.push(buffer);\n            downloaded += buffer.byteLength;\n            progress.value = downloaded;\n          }\n        }\n      }\n      const blob = new Blob(buffers, {type: 'application/binary'});\n      const a = document.createElement('a');\n      a.href = window.URL.createObjectURL(blob);\n      a.download = filename;\n      div.appendChild(a);\n      a.click();\n      div.remove();\n    }\n  ",
            "text/plain": [
              "<IPython.core.display.Javascript object>"
            ]
          },
          "metadata": {},
          "output_type": "display_data"
        },
        {
          "data": {
            "application/javascript": "download(\"download_a836f05d-3dcf-4d56-ae80-eee22cca15fe\", \"XGB_Model.pkl\", 1559853)",
            "text/plain": [
              "<IPython.core.display.Javascript object>"
            ]
          },
          "metadata": {},
          "output_type": "display_data"
        }
      ],
      "source": [
        "import pickle\n",
        "with open('XGB_Model.pkl', 'wb') as file:\n",
        "    pickle.dump(best_xgb, file)\n",
        "\n",
        "from google.colab import files\n",
        "files.download('XGB_Model.pkl')"
      ]
    },
    {
      "cell_type": "markdown",
      "metadata": {
        "id": "O89-tklwn-JZ"
      },
      "source": [
        "### Convolutional Neueal Network (CNN) Classifier"
      ]
    },
    {
      "cell_type": "code",
      "execution_count": 41,
      "metadata": {
        "id": "yWQ3UcQbyg7r"
      },
      "outputs": [],
      "source": [
        "np.random.seed(1337) \n",
        "inputs = Input(shape=(height, width, channels))\n",
        "\n",
        "m = Conv2D(32, (3, 3), activation='relu')(inputs)\n",
        "m = Conv2D(32, (3, 3), activation='relu')(m) \n",
        "m = MaxPooling2D(2, 2)(m)\n",
        "m = Conv2D(64, (3, 3), activation='relu')(m)\n",
        "m = Conv2D(64, (3, 3), activation='relu')(m)\n",
        "m = MaxPooling2D(2, 2)(m)\n",
        "m = Flatten()(m)\n",
        "m = Dense(128, activation='relu')(m)\n",
        "m = Dense(128, activation='relu')(m)\n",
        "fm = Dense(num_classes, activation='softmax')(m)\n",
        "\n",
        "sub_model = Model(inputs=inputs, outputs=m)\n",
        "cnn_model = Model(inputs=inputs, outputs=fm)"
      ]
    },
    {
      "cell_type": "code",
      "execution_count": 45,
      "metadata": {
        "colab": {
          "base_uri": "https://localhost:8080/"
        },
        "id": "-QG50RAqyp2W",
        "outputId": "c11ca81a-e0d6-40cc-e94b-915196f12b3b"
      },
      "outputs": [
        {
          "name": "stdout",
          "output_type": "stream",
          "text": [
            "Epoch 1/20\n",
            "156/156 [==============================] - 2s 7ms/step - loss: 0.4561 - accuracy: 0.8039 - val_loss: 0.4921 - val_accuracy: 0.7841\n",
            "Epoch 2/20\n",
            "156/156 [==============================] - 1s 5ms/step - loss: 0.4496 - accuracy: 0.8075 - val_loss: 0.4796 - val_accuracy: 0.7910\n",
            "Epoch 3/20\n",
            "156/156 [==============================] - 1s 5ms/step - loss: 0.4445 - accuracy: 0.8086 - val_loss: 0.4778 - val_accuracy: 0.7942\n",
            "Epoch 4/20\n",
            "156/156 [==============================] - 1s 5ms/step - loss: 0.4364 - accuracy: 0.8108 - val_loss: 0.4726 - val_accuracy: 0.7966\n",
            "Epoch 5/20\n",
            "156/156 [==============================] - 1s 5ms/step - loss: 0.4299 - accuracy: 0.8166 - val_loss: 0.4815 - val_accuracy: 0.7902\n",
            "Epoch 6/20\n",
            "156/156 [==============================] - 1s 4ms/step - loss: 0.4258 - accuracy: 0.8181 - val_loss: 0.4806 - val_accuracy: 0.7886\n",
            "Epoch 7/20\n",
            "156/156 [==============================] - 1s 4ms/step - loss: 0.4238 - accuracy: 0.8137 - val_loss: 0.4733 - val_accuracy: 0.7954\n",
            "Epoch 8/20\n",
            "156/156 [==============================] - 1s 4ms/step - loss: 0.4158 - accuracy: 0.8254 - val_loss: 0.4696 - val_accuracy: 0.7966\n",
            "Epoch 9/20\n",
            "156/156 [==============================] - 1s 4ms/step - loss: 0.4103 - accuracy: 0.8248 - val_loss: 0.5039 - val_accuracy: 0.7781\n",
            "Epoch 10/20\n",
            "156/156 [==============================] - 1s 4ms/step - loss: 0.4055 - accuracy: 0.8251 - val_loss: 0.4660 - val_accuracy: 0.7998\n",
            "Epoch 11/20\n",
            "156/156 [==============================] - 1s 5ms/step - loss: 0.3973 - accuracy: 0.8321 - val_loss: 0.4644 - val_accuracy: 0.8010\n",
            "Epoch 12/20\n",
            "156/156 [==============================] - 1s 5ms/step - loss: 0.3928 - accuracy: 0.8334 - val_loss: 0.5453 - val_accuracy: 0.7696\n",
            "Epoch 13/20\n",
            "156/156 [==============================] - 1s 4ms/step - loss: 0.3875 - accuracy: 0.8368 - val_loss: 0.4683 - val_accuracy: 0.7910\n",
            "Epoch 14/20\n",
            "156/156 [==============================] - 1s 5ms/step - loss: 0.3841 - accuracy: 0.8368 - val_loss: 0.4651 - val_accuracy: 0.8023\n",
            "Epoch 15/20\n",
            "156/156 [==============================] - 1s 5ms/step - loss: 0.3753 - accuracy: 0.8443 - val_loss: 0.4651 - val_accuracy: 0.7970\n",
            "Epoch 16/20\n",
            "156/156 [==============================] - 1s 6ms/step - loss: 0.3742 - accuracy: 0.8421 - val_loss: 0.4591 - val_accuracy: 0.8019\n",
            "Epoch 17/20\n",
            "156/156 [==============================] - 1s 6ms/step - loss: 0.3663 - accuracy: 0.8464 - val_loss: 0.4562 - val_accuracy: 0.8035\n",
            "Epoch 18/20\n",
            "156/156 [==============================] - 1s 6ms/step - loss: 0.3561 - accuracy: 0.8516 - val_loss: 0.4621 - val_accuracy: 0.7974\n",
            "Epoch 19/20\n",
            "156/156 [==============================] - 1s 4ms/step - loss: 0.3577 - accuracy: 0.8490 - val_loss: 0.4580 - val_accuracy: 0.8067\n",
            "Epoch 20/20\n",
            "156/156 [==============================] - 1s 5ms/step - loss: 0.3483 - accuracy: 0.8561 - val_loss: 0.4727 - val_accuracy: 0.7990\n",
            "97/97 [==============================] - 0s 4ms/step - loss: 0.4566 - accuracy: 0.8176\n",
            "\n",
            "test loss:  0.4566148519515991\n",
            "\n",
            "test accuracy:  0.817595899105072\n"
          ]
        }
      ],
      "source": [
        "adam = Adam(lr=1e-4)\n",
        "\n",
        "x_train = np.array(x_train)\n",
        "y_train = np.array(y_train)\n",
        "x_test = np.array(x_test)\n",
        "y_test = np.array(y_test)\n",
        "\n",
        "cnn_model.compile(optimizer=adam,\n",
        "                  loss=tf.keras.losses.SparseCategoricalCrossentropy(from_logits=True),\n",
        "                  metrics=['accuracy'])\n",
        "\n",
        "hist = cnn_model.fit(x_train, \n",
        "                     y_train, \n",
        "                     epochs=20, \n",
        "                     validation_split=0.2,\n",
        "                     batch_size=64)\n",
        "\n",
        "loss, accuracy = cnn_model.evaluate(x_test, \n",
        "                                    y_test)\n",
        "\n",
        "print('\\ntest loss: ', loss)\n",
        "print('\\ntest accuracy: ', accuracy)"
      ]
    },
    {
      "cell_type": "code",
      "execution_count": 46,
      "metadata": {
        "id": "LdqF53hS1bFc"
      },
      "outputs": [],
      "source": [
        "models_df = models_df.append(pd.Series(['CNN', accuracy], index=models_df.columns), ignore_index=True)\n",
        "models_df = models_df.sort_values('Test_Accuracy', ascending=False)"
      ]
    },
    {
      "cell_type": "code",
      "execution_count": 47,
      "metadata": {
        "colab": {
          "base_uri": "https://localhost:8080/",
          "height": 237
        },
        "id": "9nyXCFIe1dyP",
        "outputId": "268ed07d-3e5e-401f-ab12-8fe31a3bee55"
      },
      "outputs": [
        {
          "data": {
            "text/html": [
              "\n",
              "  <div id=\"df-c5e499c2-08cd-4a99-af01-30118249753f\">\n",
              "    <div class=\"colab-df-container\">\n",
              "      <div>\n",
              "<style scoped>\n",
              "    .dataframe tbody tr th:only-of-type {\n",
              "        vertical-align: middle;\n",
              "    }\n",
              "\n",
              "    .dataframe tbody tr th {\n",
              "        vertical-align: top;\n",
              "    }\n",
              "\n",
              "    .dataframe thead th {\n",
              "        text-align: right;\n",
              "    }\n",
              "</style>\n",
              "<table border=\"1\" class=\"dataframe\">\n",
              "  <thead>\n",
              "    <tr style=\"text-align: right;\">\n",
              "      <th></th>\n",
              "      <th>Model</th>\n",
              "      <th>Test_Accuracy</th>\n",
              "    </tr>\n",
              "  </thead>\n",
              "  <tbody>\n",
              "    <tr>\n",
              "      <th>0</th>\n",
              "      <td>XGB</td>\n",
              "      <td>0.836932</td>\n",
              "    </tr>\n",
              "    <tr>\n",
              "      <th>1</th>\n",
              "      <td>SMV</td>\n",
              "      <td>0.819529</td>\n",
              "    </tr>\n",
              "    <tr>\n",
              "      <th>5</th>\n",
              "      <td>CNN</td>\n",
              "      <td>0.817596</td>\n",
              "    </tr>\n",
              "    <tr>\n",
              "      <th>2</th>\n",
              "      <td>RFC</td>\n",
              "      <td>0.800838</td>\n",
              "    </tr>\n",
              "    <tr>\n",
              "      <th>3</th>\n",
              "      <td>KNN</td>\n",
              "      <td>0.765711</td>\n",
              "    </tr>\n",
              "    <tr>\n",
              "      <th>4</th>\n",
              "      <td>GNB</td>\n",
              "      <td>0.525943</td>\n",
              "    </tr>\n",
              "  </tbody>\n",
              "</table>\n",
              "</div>\n",
              "      <button class=\"colab-df-convert\" onclick=\"convertToInteractive('df-c5e499c2-08cd-4a99-af01-30118249753f')\"\n",
              "              title=\"Convert this dataframe to an interactive table.\"\n",
              "              style=\"display:none;\">\n",
              "        \n",
              "  <svg xmlns=\"http://www.w3.org/2000/svg\" height=\"24px\"viewBox=\"0 0 24 24\"\n",
              "       width=\"24px\">\n",
              "    <path d=\"M0 0h24v24H0V0z\" fill=\"none\"/>\n",
              "    <path d=\"M18.56 5.44l.94 2.06.94-2.06 2.06-.94-2.06-.94-.94-2.06-.94 2.06-2.06.94zm-11 1L8.5 8.5l.94-2.06 2.06-.94-2.06-.94L8.5 2.5l-.94 2.06-2.06.94zm10 10l.94 2.06.94-2.06 2.06-.94-2.06-.94-.94-2.06-.94 2.06-2.06.94z\"/><path d=\"M17.41 7.96l-1.37-1.37c-.4-.4-.92-.59-1.43-.59-.52 0-1.04.2-1.43.59L10.3 9.45l-7.72 7.72c-.78.78-.78 2.05 0 2.83L4 21.41c.39.39.9.59 1.41.59.51 0 1.02-.2 1.41-.59l7.78-7.78 2.81-2.81c.8-.78.8-2.07 0-2.86zM5.41 20L4 18.59l7.72-7.72 1.47 1.35L5.41 20z\"/>\n",
              "  </svg>\n",
              "      </button>\n",
              "      \n",
              "  <style>\n",
              "    .colab-df-container {\n",
              "      display:flex;\n",
              "      flex-wrap:wrap;\n",
              "      gap: 12px;\n",
              "    }\n",
              "\n",
              "    .colab-df-convert {\n",
              "      background-color: #E8F0FE;\n",
              "      border: none;\n",
              "      border-radius: 50%;\n",
              "      cursor: pointer;\n",
              "      display: none;\n",
              "      fill: #1967D2;\n",
              "      height: 32px;\n",
              "      padding: 0 0 0 0;\n",
              "      width: 32px;\n",
              "    }\n",
              "\n",
              "    .colab-df-convert:hover {\n",
              "      background-color: #E2EBFA;\n",
              "      box-shadow: 0px 1px 2px rgba(60, 64, 67, 0.3), 0px 1px 3px 1px rgba(60, 64, 67, 0.15);\n",
              "      fill: #174EA6;\n",
              "    }\n",
              "\n",
              "    [theme=dark] .colab-df-convert {\n",
              "      background-color: #3B4455;\n",
              "      fill: #D2E3FC;\n",
              "    }\n",
              "\n",
              "    [theme=dark] .colab-df-convert:hover {\n",
              "      background-color: #434B5C;\n",
              "      box-shadow: 0px 1px 3px 1px rgba(0, 0, 0, 0.15);\n",
              "      filter: drop-shadow(0px 1px 2px rgba(0, 0, 0, 0.3));\n",
              "      fill: #FFFFFF;\n",
              "    }\n",
              "  </style>\n",
              "\n",
              "      <script>\n",
              "        const buttonEl =\n",
              "          document.querySelector('#df-c5e499c2-08cd-4a99-af01-30118249753f button.colab-df-convert');\n",
              "        buttonEl.style.display =\n",
              "          google.colab.kernel.accessAllowed ? 'block' : 'none';\n",
              "\n",
              "        async function convertToInteractive(key) {\n",
              "          const element = document.querySelector('#df-c5e499c2-08cd-4a99-af01-30118249753f');\n",
              "          const dataTable =\n",
              "            await google.colab.kernel.invokeFunction('convertToInteractive',\n",
              "                                                     [key], {});\n",
              "          if (!dataTable) return;\n",
              "\n",
              "          const docLinkHtml = 'Like what you see? Visit the ' +\n",
              "            '<a target=\"_blank\" href=https://colab.research.google.com/notebooks/data_table.ipynb>data table notebook</a>'\n",
              "            + ' to learn more about interactive tables.';\n",
              "          element.innerHTML = '';\n",
              "          dataTable['output_type'] = 'display_data';\n",
              "          await google.colab.output.renderOutput(dataTable, element);\n",
              "          const docLink = document.createElement('div');\n",
              "          docLink.innerHTML = docLinkHtml;\n",
              "          element.appendChild(docLink);\n",
              "        }\n",
              "      </script>\n",
              "    </div>\n",
              "  </div>\n",
              "  "
            ],
            "text/plain": [
              "  Model  Test_Accuracy\n",
              "0   XGB       0.836932\n",
              "1   SMV       0.819529\n",
              "5   CNN       0.817596\n",
              "2   RFC       0.800838\n",
              "3   KNN       0.765711\n",
              "4   GNB       0.525943"
            ]
          },
          "execution_count": 47,
          "metadata": {},
          "output_type": "execute_result"
        }
      ],
      "source": [
        "models_df"
      ]
    },
    {
      "cell_type": "code",
      "execution_count": 48,
      "metadata": {
        "colab": {
          "base_uri": "https://localhost:8080/",
          "height": 478
        },
        "id": "dOOhbBfoNFhA",
        "outputId": "5c5a624e-2fed-46fd-b761-00b659387f5e"
      },
      "outputs": [
        {
          "data": {
            "image/png": "[encoded data removed]",
            "text/plain": [
              "<Figure size 640x480 with 1 Axes>"
            ]
          },
          "metadata": {},
          "output_type": "display_data"
        }
      ],
      "source": [
        "fig = plt.figure()\n",
        "plt.plot(hist.history['loss'], color='teal', label='loss')\n",
        "plt.plot(hist.history['val_loss'], color='orange', label='val_loss')\n",
        "fig.suptitle('Loss', fontsize=20)\n",
        "plt.legend(loc=\"upper right\")\n",
        "plt.show()"
      ]
    },
    {
      "cell_type": "code",
      "execution_count": 49,
      "metadata": {
        "colab": {
          "base_uri": "https://localhost:8080/",
          "height": 478
        },
        "id": "FAVC4B_gzuz3",
        "outputId": "6115cacd-6833-486e-b6cb-255be07785d5"
      },
      "outputs": [
        {
          "data": {
            "image/png": "[encoded data removed]",
            "text/plain": [
              "<Figure size 640x480 with 1 Axes>"
            ]
          },
          "metadata": {},
          "output_type": "display_data"
        }
      ],
      "source": [
        "fig = plt.figure()\n",
        "plt.plot(hist.history['accuracy'], color='teal', label='accuracy')\n",
        "plt.plot(hist.history['val_accuracy'], color='orange', label='val_accuracy')\n",
        "fig.suptitle('Accuracy', fontsize=20)\n",
        "plt.legend(loc=\"lower right\")\n",
        "plt.show()"
      ]
    },
    {
      "cell_type": "code",
      "execution_count": 52,
      "metadata": {
        "colab": {
          "base_uri": "https://localhost:8080/",
          "height": 54
        },
        "id": "KtcQHHaBzypm",
        "outputId": "0ac0c246-8dd1-48c8-b10b-bbbccbf29259"
      },
      "outputs": [
        {
          "name": "stderr",
          "output_type": "stream",
          "text": [
            "WARNING:tensorflow:Compiled the loaded model, but the compiled metrics have yet to be built. `model.compile_metrics` will be empty until you train or evaluate the model.\n"
          ]
        },
        {
          "data": {
            "application/javascript": "\n    async function download(id, filename, size) {\n      if (!google.colab.kernel.accessAllowed) {\n        return;\n      }\n      const div = document.createElement('div');\n      const label = document.createElement('label');\n      label.textContent = `Downloading \"${filename}\": `;\n      div.appendChild(label);\n      const progress = document.createElement('progress');\n      progress.max = size;\n      div.appendChild(progress);\n      document.body.appendChild(div);\n\n      const buffers = [];\n      let downloaded = 0;\n\n      const channel = await google.colab.kernel.comms.open(id);\n      // Send a message to notify the kernel that we're ready.\n      channel.send({})\n\n      for await (const message of channel.messages) {\n        // Send a message to notify the kernel that we're ready.\n        channel.send({})\n        if (message.buffers) {\n          for (const buffer of message.buffers) {\n            buffers.push(buffer);\n            downloaded += buffer.byteLength;\n            progress.value = downloaded;\n          }\n        }\n      }\n      const blob = new Blob(buffers, {type: 'application/binary'});\n      const a = document.createElement('a');\n      a.href = window.URL.createObjectURL(blob);\n      a.download = filename;\n      div.appendChild(a);\n      a.click();\n      div.remove();\n    }\n  ",
            "text/plain": [
              "<IPython.core.display.Javascript object>"
            ]
          },
          "metadata": {},
          "output_type": "display_data"
        },
        {
          "data": {
            "application/javascript": "download(\"download_a0f0d336-e69a-4986-9924-8c1539ff0f92\", \"CNN_Model.h5\", 1040264)",
            "text/plain": [
              "<IPython.core.display.Javascript object>"
            ]
          },
          "metadata": {},
          "output_type": "display_data"
        },
        {
          "data": {
            "application/javascript": "\n    async function download(id, filename, size) {\n      if (!google.colab.kernel.accessAllowed) {\n        return;\n      }\n      const div = document.createElement('div');\n      const label = document.createElement('label');\n      label.textContent = `Downloading \"${filename}\": `;\n      div.appendChild(label);\n      const progress = document.createElement('progress');\n      progress.max = size;\n      div.appendChild(progress);\n      document.body.appendChild(div);\n\n      const buffers = [];\n      let downloaded = 0;\n\n      const channel = await google.colab.kernel.comms.open(id);\n      // Send a message to notify the kernel that we're ready.\n      channel.send({})\n\n      for await (const message of channel.messages) {\n        // Send a message to notify the kernel that we're ready.\n        channel.send({})\n        if (message.buffers) {\n          for (const buffer of message.buffers) {\n            buffers.push(buffer);\n            downloaded += buffer.byteLength;\n            progress.value = downloaded;\n          }\n        }\n      }\n      const blob = new Blob(buffers, {type: 'application/binary'});\n      const a = document.createElement('a');\n      a.href = window.URL.createObjectURL(blob);\n      a.download = filename;\n      div.appendChild(a);\n      a.click();\n      div.remove();\n    }\n  ",
            "text/plain": [
              "<IPython.core.display.Javascript object>"
            ]
          },
          "metadata": {},
          "output_type": "display_data"
        },
        {
          "data": {
            "application/javascript": "download(\"download_dc0194cb-93fc-4ba7-8695-fc76752df5fe\", \"CNN_FinalDenseLayer.h5\", 354264)",
            "text/plain": [
              "<IPython.core.display.Javascript object>"
            ]
          },
          "metadata": {},
          "output_type": "display_data"
        }
      ],
      "source": [
        "sub_model.save('/content/CNN_FinalDenseLayer.h5')\n",
        "cnn_model.save('/content/CNN_Model.h5')\n",
        "\n",
        "from google.colab import files\n",
        "files.download('CNN_Model.h5')\n",
        "files.download('CNN_FinalDenseLayer.h5')"
      ]
    },
    {
      "cell_type": "code",
      "execution_count": 53,
      "metadata": {
        "colab": {
          "base_uri": "https://localhost:8080/"
        },
        "id": "9JZeSEPv0JHd",
        "outputId": "edcdf6e8-8afe-4320-d685-7269ee7f628a"
      },
      "outputs": [
        {
          "name": "stdout",
          "output_type": "stream",
          "text": [
            "388/388 [==============================] - 1s 2ms/step\n",
            "97/97 [==============================] - 0s 2ms/step\n"
          ]
        }
      ],
      "source": [
        "train_file = sub_model.predict(x_train)\n",
        "test_file = sub_model.predict(x_test)\n",
        "\n",
        "z = np.concatenate([np.array(train_file).reshape(train_file.shape[0],train_file.shape[1]),np.array(y_train).reshape(train_file.shape[0],1)],axis=1)\n",
        "z = pd.DataFrame(z)\n",
        "z.to_csv('train_file.csv',index=False)\n",
        "\n",
        "z = np.concatenate([np.array(test_file).reshape(test_file.shape[0],test_file.shape[1]),np.array(y_test).reshape(test_file.shape[0],1)],axis=1)\n",
        "z = pd.DataFrame(z)\n",
        "z.to_csv('test_file.csv',index=False)"
      ]
    },
    {
      "cell_type": "code",
      "execution_count": 54,
      "metadata": {
        "colab": {
          "base_uri": "https://localhost:8080/",
          "height": 17
        },
        "id": "lOsa5gNg0kIt",
        "outputId": "741bcab3-24e7-4b41-dfaa-9bd4f0d1b1c4"
      },
      "outputs": [
        {
          "data": {
            "application/javascript": "\n    async function download(id, filename, size) {\n      if (!google.colab.kernel.accessAllowed) {\n        return;\n      }\n      const div = document.createElement('div');\n      const label = document.createElement('label');\n      label.textContent = `Downloading \"${filename}\": `;\n      div.appendChild(label);\n      const progress = document.createElement('progress');\n      progress.max = size;\n      div.appendChild(progress);\n      document.body.appendChild(div);\n\n      const buffers = [];\n      let downloaded = 0;\n\n      const channel = await google.colab.kernel.comms.open(id);\n      // Send a message to notify the kernel that we're ready.\n      channel.send({})\n\n      for await (const message of channel.messages) {\n        // Send a message to notify the kernel that we're ready.\n        channel.send({})\n        if (message.buffers) {\n          for (const buffer of message.buffers) {\n            buffers.push(buffer);\n            downloaded += buffer.byteLength;\n            progress.value = downloaded;\n          }\n        }\n      }\n      const blob = new Blob(buffers, {type: 'application/binary'});\n      const a = document.createElement('a');\n      a.href = window.URL.createObjectURL(blob);\n      a.download = filename;\n      div.appendChild(a);\n      a.click();\n      div.remove();\n    }\n  ",
            "text/plain": [
              "<IPython.core.display.Javascript object>"
            ]
          },
          "metadata": {},
          "output_type": "display_data"
        },
        {
          "data": {
            "application/javascript": "download(\"download_526da86a-472a-4d95-babe-97eb2699bf85\", \"train_file.csv\", 23362199)",
            "text/plain": [
              "<IPython.core.display.Javascript object>"
            ]
          },
          "metadata": {},
          "output_type": "display_data"
        },
        {
          "data": {
            "application/javascript": "\n    async function download(id, filename, size) {\n      if (!google.colab.kernel.accessAllowed) {\n        return;\n      }\n      const div = document.createElement('div');\n      const label = document.createElement('label');\n      label.textContent = `Downloading \"${filename}\": `;\n      div.appendChild(label);\n      const progress = document.createElement('progress');\n      progress.max = size;\n      div.appendChild(progress);\n      document.body.appendChild(div);\n\n      const buffers = [];\n      let downloaded = 0;\n\n      const channel = await google.colab.kernel.comms.open(id);\n      // Send a message to notify the kernel that we're ready.\n      channel.send({})\n\n      for await (const message of channel.messages) {\n        // Send a message to notify the kernel that we're ready.\n        channel.send({})\n        if (message.buffers) {\n          for (const buffer of message.buffers) {\n            buffers.push(buffer);\n            downloaded += buffer.byteLength;\n            progress.value = downloaded;\n          }\n        }\n      }\n      const blob = new Blob(buffers, {type: 'application/binary'});\n      const a = document.createElement('a');\n      a.href = window.URL.createObjectURL(blob);\n      a.download = filename;\n      div.appendChild(a);\n      a.click();\n      div.remove();\n    }\n  ",
            "text/plain": [
              "<IPython.core.display.Javascript object>"
            ]
          },
          "metadata": {},
          "output_type": "display_data"
        },
        {
          "data": {
            "application/javascript": "download(\"download_fc8998cb-7a2e-4ed0-a63e-5abaeae0a1e1\", \"test_file.csv\", 5836323)",
            "text/plain": [
              "<IPython.core.display.Javascript object>"
            ]
          },
          "metadata": {},
          "output_type": "display_data"
        }
      ],
      "source": [
        "files.download('train_file.csv')\n",
        "files.download('test_file.csv')"
      ]
    },
    {
      "cell_type": "markdown",
      "metadata": {
        "id": "FDQlOYfH07tY"
      },
      "source": [
        "### Convolutional SVM"
      ]
    },
    {
      "cell_type": "code",
      "execution_count": 55,
      "metadata": {
        "colab": {
          "base_uri": "https://localhost:8080/"
        },
        "id": "clTVtOOr1Bcm",
        "outputId": "15264f51-03b1-45bd-bdcb-87cc7fe82d2e"
      },
      "outputs": [
        {
          "name": "stdout",
          "output_type": "stream",
          "text": [
            "Fitting 5 folds for each of 6 candidates, totalling 30 fits\n",
            "[CV] END ..................................C=0.1, kernel=rbf; total time=   4.3s\n",
            "[CV] END ..................................C=0.1, kernel=rbf; total time=   5.4s\n",
            "[CV] END ..................................C=0.1, kernel=rbf; total time=   5.2s\n",
            "[CV] END ..................................C=0.1, kernel=rbf; total time=   4.2s\n",
            "[CV] END ..................................C=0.1, kernel=rbf; total time=   3.8s\n",
            "[CV] END .................................C=0.1, kernel=poly; total time=   4.3s\n",
            "[CV] END .................................C=0.1, kernel=poly; total time=   3.4s\n",
            "[CV] END .................................C=0.1, kernel=poly; total time=   3.3s\n",
            "[CV] END .................................C=0.1, kernel=poly; total time=   3.9s\n",
            "[CV] END .................................C=0.1, kernel=poly; total time=   3.5s\n",
            "[CV] END ....................................C=1, kernel=rbf; total time=   4.4s\n",
            "[CV] END ....................................C=1, kernel=rbf; total time=   4.0s\n",
            "[CV] END ....................................C=1, kernel=rbf; total time=   4.7s\n",
            "[CV] END ....................................C=1, kernel=rbf; total time=   4.7s\n",
            "[CV] END ....................................C=1, kernel=rbf; total time=   6.6s\n",
            "[CV] END ...................................C=1, kernel=poly; total time=   7.1s\n",
            "[CV] END ...................................C=1, kernel=poly; total time=   3.3s\n",
            "[CV] END ...................................C=1, kernel=poly; total time=   4.2s\n",
            "[CV] END ...................................C=1, kernel=poly; total time=   3.3s\n",
            "[CV] END ...................................C=1, kernel=poly; total time=   2.9s\n",
            "[CV] END ...................................C=10, kernel=rbf; total time=   4.9s\n",
            "[CV] END ...................................C=10, kernel=rbf; total time=   4.1s\n",
            "[CV] END ...................................C=10, kernel=rbf; total time=   4.0s\n",
            "[CV] END ...................................C=10, kernel=rbf; total time=   4.6s\n",
            "[CV] END ...................................C=10, kernel=rbf; total time=   3.8s\n",
            "[CV] END ..................................C=10, kernel=poly; total time=   4.3s\n",
            "[CV] END ..................................C=10, kernel=poly; total time=   4.8s\n",
            "[CV] END ..................................C=10, kernel=poly; total time=   4.8s\n",
            "[CV] END ..................................C=10, kernel=poly; total time=   4.2s\n",
            "[CV] END ..................................C=10, kernel=poly; total time=   4.2s\n",
            "Best Hyperparameters:  {'C': 10, 'kernel': 'rbf'}\n",
            "Best Accuracy:  0.8617444715929725\n"
          ]
        }
      ],
      "source": [
        "params = {'C': [0.1, 1, 10],\n",
        "          'kernel': ['rbf', 'poly']}\n",
        "\n",
        "svm = SVC()\n",
        "grid_search = GridSearchCV(estimator = svm, \n",
        "                           param_grid = params, \n",
        "                           cv=5,\n",
        "                           scoring = 'accuracy',\n",
        "                           verbose = 2)\n",
        "\n",
        "grid_search.fit(train_file, y_train)\n",
        "\n",
        "print(\"Best Hyperparameters: \", grid_search.best_params_)\n",
        "print(\"Best Accuracy: \", grid_search.best_score_)"
      ]
    },
    {
      "cell_type": "code",
      "execution_count": 56,
      "metadata": {
        "colab": {
          "base_uri": "https://localhost:8080/"
        },
        "id": "DGMPl4Og2DTb",
        "outputId": "4ee7a281-87ef-4a74-ffdf-922980a84431"
      },
      "outputs": [
        {
          "name": "stdout",
          "output_type": "stream",
          "text": [
            "Accuracy on Testing Set:  0.8266194005800838\n"
          ]
        }
      ],
      "source": [
        "best_cnn_svm = grid_search.best_estimator_\n",
        "y_pred = best_cnn_svm.predict(test_file)\n",
        "accuracy = accuracy_score(y_test, y_pred)\n",
        "print(\"Accuracy on Testing Set: \", accuracy)\n",
        "\n",
        "models_df = models_df.append(pd.Series(['Convolutional SMV', accuracy], index=models_df.columns), ignore_index=True)\n",
        "models_df = models_df.sort_values('Test_Accuracy', ascending=False)"
      ]
    },
    {
      "cell_type": "code",
      "execution_count": 57,
      "metadata": {
        "colab": {
          "base_uri": "https://localhost:8080/",
          "height": 269
        },
        "id": "yjivS9Pf2OcP",
        "outputId": "c8b624ce-1817-4931-ff14-305b114c880c"
      },
      "outputs": [
        {
          "data": {
            "text/html": [
              "\n",
              "  <div id=\"df-856af9a6-0b12-4b28-967a-39caa5a715e7\">\n",
              "    <div class=\"colab-df-container\">\n",
              "      <div>\n",
              "<style scoped>\n",
              "    .dataframe tbody tr th:only-of-type {\n",
              "        vertical-align: middle;\n",
              "    }\n",
              "\n",
              "    .dataframe tbody tr th {\n",
              "        vertical-align: top;\n",
              "    }\n",
              "\n",
              "    .dataframe thead th {\n",
              "        text-align: right;\n",
              "    }\n",
              "</style>\n",
              "<table border=\"1\" class=\"dataframe\">\n",
              "  <thead>\n",
              "    <tr style=\"text-align: right;\">\n",
              "      <th></th>\n",
              "      <th>Model</th>\n",
              "      <th>Test_Accuracy</th>\n",
              "    </tr>\n",
              "  </thead>\n",
              "  <tbody>\n",
              "    <tr>\n",
              "      <th>0</th>\n",
              "      <td>XGB</td>\n",
              "      <td>0.836932</td>\n",
              "    </tr>\n",
              "    <tr>\n",
              "      <th>6</th>\n",
              "      <td>Convolutional SMV</td>\n",
              "      <td>0.826619</td>\n",
              "    </tr>\n",
              "    <tr>\n",
              "      <th>1</th>\n",
              "      <td>SMV</td>\n",
              "      <td>0.819529</td>\n",
              "    </tr>\n",
              "    <tr>\n",
              "      <th>2</th>\n",
              "      <td>CNN</td>\n",
              "      <td>0.817596</td>\n",
              "    </tr>\n",
              "    <tr>\n",
              "      <th>3</th>\n",
              "      <td>RFC</td>\n",
              "      <td>0.800838</td>\n",
              "    </tr>\n",
              "    <tr>\n",
              "      <th>4</th>\n",
              "      <td>KNN</td>\n",
              "      <td>0.765711</td>\n",
              "    </tr>\n",
              "    <tr>\n",
              "      <th>5</th>\n",
              "      <td>GNB</td>\n",
              "      <td>0.525943</td>\n",
              "    </tr>\n",
              "  </tbody>\n",
              "</table>\n",
              "</div>\n",
              "      <button class=\"colab-df-convert\" onclick=\"convertToInteractive('df-856af9a6-0b12-4b28-967a-39caa5a715e7')\"\n",
              "              title=\"Convert this dataframe to an interactive table.\"\n",
              "              style=\"display:none;\">\n",
              "        \n",
              "  <svg xmlns=\"http://www.w3.org/2000/svg\" height=\"24px\"viewBox=\"0 0 24 24\"\n",
              "       width=\"24px\">\n",
              "    <path d=\"M0 0h24v24H0V0z\" fill=\"none\"/>\n",
              "    <path d=\"M18.56 5.44l.94 2.06.94-2.06 2.06-.94-2.06-.94-.94-2.06-.94 2.06-2.06.94zm-11 1L8.5 8.5l.94-2.06 2.06-.94-2.06-.94L8.5 2.5l-.94 2.06-2.06.94zm10 10l.94 2.06.94-2.06 2.06-.94-2.06-.94-.94-2.06-.94 2.06-2.06.94z\"/><path d=\"M17.41 7.96l-1.37-1.37c-.4-.4-.92-.59-1.43-.59-.52 0-1.04.2-1.43.59L10.3 9.45l-7.72 7.72c-.78.78-.78 2.05 0 2.83L4 21.41c.39.39.9.59 1.41.59.51 0 1.02-.2 1.41-.59l7.78-7.78 2.81-2.81c.8-.78.8-2.07 0-2.86zM5.41 20L4 18.59l7.72-7.72 1.47 1.35L5.41 20z\"/>\n",
              "  </svg>\n",
              "      </button>\n",
              "      \n",
              "  <style>\n",
              "    .colab-df-container {\n",
              "      display:flex;\n",
              "      flex-wrap:wrap;\n",
              "      gap: 12px;\n",
              "    }\n",
              "\n",
              "    .colab-df-convert {\n",
              "      background-color: #E8F0FE;\n",
              "      border: none;\n",
              "      border-radius: 50%;\n",
              "      cursor: pointer;\n",
              "      display: none;\n",
              "      fill: #1967D2;\n",
              "      height: 32px;\n",
              "      padding: 0 0 0 0;\n",
              "      width: 32px;\n",
              "    }\n",
              "\n",
              "    .colab-df-convert:hover {\n",
              "      background-color: #E2EBFA;\n",
              "      box-shadow: 0px 1px 2px rgba(60, 64, 67, 0.3), 0px 1px 3px 1px rgba(60, 64, 67, 0.15);\n",
              "      fill: #174EA6;\n",
              "    }\n",
              "\n",
              "    [theme=dark] .colab-df-convert {\n",
              "      background-color: #3B4455;\n",
              "      fill: #D2E3FC;\n",
              "    }\n",
              "\n",
              "    [theme=dark] .colab-df-convert:hover {\n",
              "      background-color: #434B5C;\n",
              "      box-shadow: 0px 1px 3px 1px rgba(0, 0, 0, 0.15);\n",
              "      filter: drop-shadow(0px 1px 2px rgba(0, 0, 0, 0.3));\n",
              "      fill: #FFFFFF;\n",
              "    }\n",
              "  </style>\n",
              "\n",
              "      <script>\n",
              "        const buttonEl =\n",
              "          document.querySelector('#df-856af9a6-0b12-4b28-967a-39caa5a715e7 button.colab-df-convert');\n",
              "        buttonEl.style.display =\n",
              "          google.colab.kernel.accessAllowed ? 'block' : 'none';\n",
              "\n",
              "        async function convertToInteractive(key) {\n",
              "          const element = document.querySelector('#df-856af9a6-0b12-4b28-967a-39caa5a715e7');\n",
              "          const dataTable =\n",
              "            await google.colab.kernel.invokeFunction('convertToInteractive',\n",
              "                                                     [key], {});\n",
              "          if (!dataTable) return;\n",
              "\n",
              "          const docLinkHtml = 'Like what you see? Visit the ' +\n",
              "            '<a target=\"_blank\" href=https://colab.research.google.com/notebooks/data_table.ipynb>data table notebook</a>'\n",
              "            + ' to learn more about interactive tables.';\n",
              "          element.innerHTML = '';\n",
              "          dataTable['output_type'] = 'display_data';\n",
              "          await google.colab.output.renderOutput(dataTable, element);\n",
              "          const docLink = document.createElement('div');\n",
              "          docLink.innerHTML = docLinkHtml;\n",
              "          element.appendChild(docLink);\n",
              "        }\n",
              "      </script>\n",
              "    </div>\n",
              "  </div>\n",
              "  "
            ],
            "text/plain": [
              "               Model  Test_Accuracy\n",
              "0                XGB       0.836932\n",
              "6  Convolutional SMV       0.826619\n",
              "1                SMV       0.819529\n",
              "2                CNN       0.817596\n",
              "3                RFC       0.800838\n",
              "4                KNN       0.765711\n",
              "5                GNB       0.525943"
            ]
          },
          "execution_count": 57,
          "metadata": {},
          "output_type": "execute_result"
        }
      ],
      "source": [
        "models_df"
      ]
    },
    {
      "cell_type": "code",
      "execution_count": 58,
      "metadata": {
        "colab": {
          "base_uri": "https://localhost:8080/",
          "height": 17
        },
        "id": "pv27XJ-n2TMu",
        "outputId": "e828dac5-2af0-42b9-df4a-2fd356d725f5"
      },
      "outputs": [
        {
          "data": {
            "application/javascript": "\n    async function download(id, filename, size) {\n      if (!google.colab.kernel.accessAllowed) {\n        return;\n      }\n      const div = document.createElement('div');\n      const label = document.createElement('label');\n      label.textContent = `Downloading \"${filename}\": `;\n      div.appendChild(label);\n      const progress = document.createElement('progress');\n      progress.max = size;\n      div.appendChild(progress);\n      document.body.appendChild(div);\n\n      const buffers = [];\n      let downloaded = 0;\n\n      const channel = await google.colab.kernel.comms.open(id);\n      // Send a message to notify the kernel that we're ready.\n      channel.send({})\n\n      for await (const message of channel.messages) {\n        // Send a message to notify the kernel that we're ready.\n        channel.send({})\n        if (message.buffers) {\n          for (const buffer of message.buffers) {\n            buffers.push(buffer);\n            downloaded += buffer.byteLength;\n            progress.value = downloaded;\n          }\n        }\n      }\n      const blob = new Blob(buffers, {type: 'application/binary'});\n      const a = document.createElement('a');\n      a.href = window.URL.createObjectURL(blob);\n      a.download = filename;\n      div.appendChild(a);\n      a.click();\n      div.remove();\n    }\n  ",
            "text/plain": [
              "<IPython.core.display.Javascript object>"
            ]
          },
          "metadata": {},
          "output_type": "display_data"
        },
        {
          "data": {
            "application/javascript": "download(\"download_51eb1062-8d12-4aed-bbc8-eb7e12f03f96\", \"CNN_SVM_Model.pkl\", 4113529)",
            "text/plain": [
              "<IPython.core.display.Javascript object>"
            ]
          },
          "metadata": {},
          "output_type": "display_data"
        }
      ],
      "source": [
        "import pickle\n",
        "with open('CNN_SVM_Model.pkl', 'wb') as file:\n",
        "    pickle.dump(best_cnn_svm, file)\n",
        "\n",
        "from google.colab import files\n",
        "files.download('CNN_SVM_Model.pkl')"
      ]
    },
    {
      "cell_type": "markdown",
      "metadata": {
        "id": "nGG9fHYR1CAe"
      },
      "source": [
        "### Convolutional KNN"
      ]
    },
    {
      "cell_type": "code",
      "execution_count": 59,
      "metadata": {
        "colab": {
          "base_uri": "https://localhost:8080/"
        },
        "id": "mK0Ei_LQ1Gfb",
        "outputId": "27a48ba0-e048-4bd1-e4f1-09bae5484df6"
      },
      "outputs": [
        {
          "name": "stdout",
          "output_type": "stream",
          "text": [
            "Fitting 5 folds for each of 12 candidates, totalling 60 fits\n",
            "[CV] END ................n_neighbors=3, p=1, weights=uniform; total time=   2.6s\n",
            "[CV] END ................n_neighbors=3, p=1, weights=uniform; total time=   4.1s\n",
            "[CV] END ................n_neighbors=3, p=1, weights=uniform; total time=   2.6s\n",
            "[CV] END ................n_neighbors=3, p=1, weights=uniform; total time=   2.5s\n",
            "[CV] END ................n_neighbors=3, p=1, weights=uniform; total time=   2.5s\n",
            "[CV] END ...............n_neighbors=3, p=1, weights=distance; total time=   2.5s\n",
            "[CV] END ...............n_neighbors=3, p=1, weights=distance; total time=   3.9s\n",
            "[CV] END ...............n_neighbors=3, p=1, weights=distance; total time=   2.5s\n",
            "[CV] END ...............n_neighbors=3, p=1, weights=distance; total time=   2.5s\n",
            "[CV] END ...............n_neighbors=3, p=1, weights=distance; total time=   2.5s\n",
            "[CV] END ................n_neighbors=3, p=2, weights=uniform; total time=   0.3s\n",
            "[CV] END ................n_neighbors=3, p=2, weights=uniform; total time=   0.3s\n",
            "[CV] END ................n_neighbors=3, p=2, weights=uniform; total time=   0.3s\n",
            "[CV] END ................n_neighbors=3, p=2, weights=uniform; total time=   0.3s\n",
            "[CV] END ................n_neighbors=3, p=2, weights=uniform; total time=   0.3s\n",
            "[CV] END ...............n_neighbors=3, p=2, weights=distance; total time=   0.3s\n",
            "[CV] END ...............n_neighbors=3, p=2, weights=distance; total time=   0.4s\n",
            "[CV] END ...............n_neighbors=3, p=2, weights=distance; total time=   0.5s\n",
            "[CV] END ...............n_neighbors=3, p=2, weights=distance; total time=   0.5s\n",
            "[CV] END ...............n_neighbors=3, p=2, weights=distance; total time=   0.5s\n",
            "[CV] END ................n_neighbors=5, p=1, weights=uniform; total time=   3.1s\n",
            "[CV] END ................n_neighbors=5, p=1, weights=uniform; total time=   2.5s\n",
            "[CV] END ................n_neighbors=5, p=1, weights=uniform; total time=   2.5s\n",
            "[CV] END ................n_neighbors=5, p=1, weights=uniform; total time=   2.5s\n",
            "[CV] END ................n_neighbors=5, p=1, weights=uniform; total time=   3.7s\n",
            "[CV] END ...............n_neighbors=5, p=1, weights=distance; total time=   2.8s\n",
            "[CV] END ...............n_neighbors=5, p=1, weights=distance; total time=   2.4s\n",
            "[CV] END ...............n_neighbors=5, p=1, weights=distance; total time=   2.5s\n",
            "[CV] END ...............n_neighbors=5, p=1, weights=distance; total time=   2.5s\n",
            "[CV] END ...............n_neighbors=5, p=1, weights=distance; total time=   3.8s\n",
            "[CV] END ................n_neighbors=5, p=2, weights=uniform; total time=   0.5s\n",
            "[CV] END ................n_neighbors=5, p=2, weights=uniform; total time=   0.3s\n",
            "[CV] END ................n_neighbors=5, p=2, weights=uniform; total time=   0.3s\n",
            "[CV] END ................n_neighbors=5, p=2, weights=uniform; total time=   0.3s\n",
            "[CV] END ................n_neighbors=5, p=2, weights=uniform; total time=   0.3s\n",
            "[CV] END ...............n_neighbors=5, p=2, weights=distance; total time=   0.3s\n",
            "[CV] END ...............n_neighbors=5, p=2, weights=distance; total time=   0.3s\n",
            "[CV] END ...............n_neighbors=5, p=2, weights=distance; total time=   0.3s\n",
            "[CV] END ...............n_neighbors=5, p=2, weights=distance; total time=   0.3s\n",
            "[CV] END ...............n_neighbors=5, p=2, weights=distance; total time=   0.3s\n",
            "[CV] END ................n_neighbors=7, p=1, weights=uniform; total time=   2.6s\n",
            "[CV] END ................n_neighbors=7, p=1, weights=uniform; total time=   2.5s\n",
            "[CV] END ................n_neighbors=7, p=1, weights=uniform; total time=   2.6s\n",
            "[CV] END ................n_neighbors=7, p=1, weights=uniform; total time=   4.6s\n",
            "[CV] END ................n_neighbors=7, p=1, weights=uniform; total time=   3.5s\n",
            "[CV] END ...............n_neighbors=7, p=1, weights=distance; total time=   2.5s\n",
            "[CV] END ...............n_neighbors=7, p=1, weights=distance; total time=   2.5s\n",
            "[CV] END ...............n_neighbors=7, p=1, weights=distance; total time=   4.1s\n",
            "[CV] END ...............n_neighbors=7, p=1, weights=distance; total time=   2.5s\n",
            "[CV] END ...............n_neighbors=7, p=1, weights=distance; total time=   2.5s\n",
            "[CV] END ................n_neighbors=7, p=2, weights=uniform; total time=   0.3s\n",
            "[CV] END ................n_neighbors=7, p=2, weights=uniform; total time=   0.3s\n",
            "[CV] END ................n_neighbors=7, p=2, weights=uniform; total time=   0.3s\n",
            "[CV] END ................n_neighbors=7, p=2, weights=uniform; total time=   0.3s\n",
            "[CV] END ................n_neighbors=7, p=2, weights=uniform; total time=   0.3s\n",
            "[CV] END ...............n_neighbors=7, p=2, weights=distance; total time=   0.3s\n",
            "[CV] END ...............n_neighbors=7, p=2, weights=distance; total time=   0.3s\n",
            "[CV] END ...............n_neighbors=7, p=2, weights=distance; total time=   0.3s\n",
            "[CV] END ...............n_neighbors=7, p=2, weights=distance; total time=   0.3s\n",
            "[CV] END ...............n_neighbors=7, p=2, weights=distance; total time=   0.8s\n",
            "Best Hyperparameters:  {'n_neighbors': 7, 'p': 2, 'weights': 'distance'}\n",
            "Best Accuracy:  0.850545579400033\n"
          ]
        }
      ],
      "source": [
        "params = {'n_neighbors': [3, 5, 7],\n",
        "          'weights': ['uniform', 'distance'], \n",
        "          'p': [1, 2]}\n",
        "\n",
        "knn = KNeighborsClassifier()\n",
        "\n",
        "grid_search = GridSearchCV(estimator = knn, \n",
        "                           param_grid = params, \n",
        "                           cv=5,\n",
        "                           scoring = 'accuracy',\n",
        "                           verbose = 2)\n",
        "\n",
        "grid_search.fit(train_file, y_train)\n",
        "\n",
        "print(\"Best Hyperparameters: \", grid_search.best_params_)\n",
        "print(\"Best Accuracy: \", grid_search.best_score_)"
      ]
    },
    {
      "cell_type": "code",
      "execution_count": 60,
      "metadata": {
        "colab": {
          "base_uri": "https://localhost:8080/"
        },
        "id": "ffNeB50d3UWJ",
        "outputId": "ea2481a6-e084-4678-8dbd-3d9c8c46ac61"
      },
      "outputs": [
        {
          "name": "stdout",
          "output_type": "stream",
          "text": [
            "Accuracy on Testing Set:  0.8227521753142121\n"
          ]
        }
      ],
      "source": [
        "best_cnn_knn = grid_search.best_estimator_\n",
        "y_pred = best_cnn_knn.predict(test_file)\n",
        "accuracy = accuracy_score(y_test, y_pred)\n",
        "print(\"Accuracy on Testing Set: \", accuracy)\n",
        "\n",
        "models_df = models_df.append(pd.Series(['Convolutional KNN', accuracy], index=models_df.columns), ignore_index=True)\n",
        "models_df = models_df.sort_values('Test_Accuracy', ascending=False)"
      ]
    },
    {
      "cell_type": "code",
      "execution_count": 61,
      "metadata": {
        "colab": {
          "base_uri": "https://localhost:8080/",
          "height": 300
        },
        "id": "QL5lMrMl3dKN",
        "outputId": "ad496e27-d77a-4235-b323-b981bee59a01"
      },
      "outputs": [
        {
          "data": {
            "text/html": [
              "\n",
              "  <div id=\"df-a79454dc-c371-4f26-9d86-6ff383dba719\">\n",
              "    <div class=\"colab-df-container\">\n",
              "      <div>\n",
              "<style scoped>\n",
              "    .dataframe tbody tr th:only-of-type {\n",
              "        vertical-align: middle;\n",
              "    }\n",
              "\n",
              "    .dataframe tbody tr th {\n",
              "        vertical-align: top;\n",
              "    }\n",
              "\n",
              "    .dataframe thead th {\n",
              "        text-align: right;\n",
              "    }\n",
              "</style>\n",
              "<table border=\"1\" class=\"dataframe\">\n",
              "  <thead>\n",
              "    <tr style=\"text-align: right;\">\n",
              "      <th></th>\n",
              "      <th>Model</th>\n",
              "      <th>Test_Accuracy</th>\n",
              "    </tr>\n",
              "  </thead>\n",
              "  <tbody>\n",
              "    <tr>\n",
              "      <th>0</th>\n",
              "      <td>XGB</td>\n",
              "      <td>0.836932</td>\n",
              "    </tr>\n",
              "    <tr>\n",
              "      <th>1</th>\n",
              "      <td>Convolutional SMV</td>\n",
              "      <td>0.826619</td>\n",
              "    </tr>\n",
              "    <tr>\n",
              "      <th>7</th>\n",
              "      <td>Convolutional KNN</td>\n",
              "      <td>0.822752</td>\n",
              "    </tr>\n",
              "    <tr>\n",
              "      <th>2</th>\n",
              "      <td>SMV</td>\n",
              "      <td>0.819529</td>\n",
              "    </tr>\n",
              "    <tr>\n",
              "      <th>3</th>\n",
              "      <td>CNN</td>\n",
              "      <td>0.817596</td>\n",
              "    </tr>\n",
              "    <tr>\n",
              "      <th>4</th>\n",
              "      <td>RFC</td>\n",
              "      <td>0.800838</td>\n",
              "    </tr>\n",
              "    <tr>\n",
              "      <th>5</th>\n",
              "      <td>KNN</td>\n",
              "      <td>0.765711</td>\n",
              "    </tr>\n",
              "    <tr>\n",
              "      <th>6</th>\n",
              "      <td>GNB</td>\n",
              "      <td>0.525943</td>\n",
              "    </tr>\n",
              "  </tbody>\n",
              "</table>\n",
              "</div>\n",
              "      <button class=\"colab-df-convert\" onclick=\"convertToInteractive('df-a79454dc-c371-4f26-9d86-6ff383dba719')\"\n",
              "              title=\"Convert this dataframe to an interactive table.\"\n",
              "              style=\"display:none;\">\n",
              "        \n",
              "  <svg xmlns=\"http://www.w3.org/2000/svg\" height=\"24px\"viewBox=\"0 0 24 24\"\n",
              "       width=\"24px\">\n",
              "    <path d=\"M0 0h24v24H0V0z\" fill=\"none\"/>\n",
              "    <path d=\"M18.56 5.44l.94 2.06.94-2.06 2.06-.94-2.06-.94-.94-2.06-.94 2.06-2.06.94zm-11 1L8.5 8.5l.94-2.06 2.06-.94-2.06-.94L8.5 2.5l-.94 2.06-2.06.94zm10 10l.94 2.06.94-2.06 2.06-.94-2.06-.94-.94-2.06-.94 2.06-2.06.94z\"/><path d=\"M17.41 7.96l-1.37-1.37c-.4-.4-.92-.59-1.43-.59-.52 0-1.04.2-1.43.59L10.3 9.45l-7.72 7.72c-.78.78-.78 2.05 0 2.83L4 21.41c.39.39.9.59 1.41.59.51 0 1.02-.2 1.41-.59l7.78-7.78 2.81-2.81c.8-.78.8-2.07 0-2.86zM5.41 20L4 18.59l7.72-7.72 1.47 1.35L5.41 20z\"/>\n",
              "  </svg>\n",
              "      </button>\n",
              "      \n",
              "  <style>\n",
              "    .colab-df-container {\n",
              "      display:flex;\n",
              "      flex-wrap:wrap;\n",
              "      gap: 12px;\n",
              "    }\n",
              "\n",
              "    .colab-df-convert {\n",
              "      background-color: #E8F0FE;\n",
              "      border: none;\n",
              "      border-radius: 50%;\n",
              "      cursor: pointer;\n",
              "      display: none;\n",
              "      fill: #1967D2;\n",
              "      height: 32px;\n",
              "      padding: 0 0 0 0;\n",
              "      width: 32px;\n",
              "    }\n",
              "\n",
              "    .colab-df-convert:hover {\n",
              "      background-color: #E2EBFA;\n",
              "      box-shadow: 0px 1px 2px rgba(60, 64, 67, 0.3), 0px 1px 3px 1px rgba(60, 64, 67, 0.15);\n",
              "      fill: #174EA6;\n",
              "    }\n",
              "\n",
              "    [theme=dark] .colab-df-convert {\n",
              "      background-color: #3B4455;\n",
              "      fill: #D2E3FC;\n",
              "    }\n",
              "\n",
              "    [theme=dark] .colab-df-convert:hover {\n",
              "      background-color: #434B5C;\n",
              "      box-shadow: 0px 1px 3px 1px rgba(0, 0, 0, 0.15);\n",
              "      filter: drop-shadow(0px 1px 2px rgba(0, 0, 0, 0.3));\n",
              "      fill: #FFFFFF;\n",
              "    }\n",
              "  </style>\n",
              "\n",
              "      <script>\n",
              "        const buttonEl =\n",
              "          document.querySelector('#df-a79454dc-c371-4f26-9d86-6ff383dba719 button.colab-df-convert');\n",
              "        buttonEl.style.display =\n",
              "          google.colab.kernel.accessAllowed ? 'block' : 'none';\n",
              "\n",
              "        async function convertToInteractive(key) {\n",
              "          const element = document.querySelector('#df-a79454dc-c371-4f26-9d86-6ff383dba719');\n",
              "          const dataTable =\n",
              "            await google.colab.kernel.invokeFunction('convertToInteractive',\n",
              "                                                     [key], {});\n",
              "          if (!dataTable) return;\n",
              "\n",
              "          const docLinkHtml = 'Like what you see? Visit the ' +\n",
              "            '<a target=\"_blank\" href=https://colab.research.google.com/notebooks/data_table.ipynb>data table notebook</a>'\n",
              "            + ' to learn more about interactive tables.';\n",
              "          element.innerHTML = '';\n",
              "          dataTable['output_type'] = 'display_data';\n",
              "          await google.colab.output.renderOutput(dataTable, element);\n",
              "          const docLink = document.createElement('div');\n",
              "          docLink.innerHTML = docLinkHtml;\n",
              "          element.appendChild(docLink);\n",
              "        }\n",
              "      </script>\n",
              "    </div>\n",
              "  </div>\n",
              "  "
            ],
            "text/plain": [
              "               Model  Test_Accuracy\n",
              "0                XGB       0.836932\n",
              "1  Convolutional SMV       0.826619\n",
              "7  Convolutional KNN       0.822752\n",
              "2                SMV       0.819529\n",
              "3                CNN       0.817596\n",
              "4                RFC       0.800838\n",
              "5                KNN       0.765711\n",
              "6                GNB       0.525943"
            ]
          },
          "execution_count": 61,
          "metadata": {},
          "output_type": "execute_result"
        }
      ],
      "source": [
        "models_df"
      ]
    },
    {
      "cell_type": "code",
      "execution_count": 62,
      "metadata": {
        "colab": {
          "base_uri": "https://localhost:8080/",
          "height": 17
        },
        "id": "28TuUYHn3eYh",
        "outputId": "71c7ed18-6474-4efb-9962-9958f2819214"
      },
      "outputs": [
        {
          "data": {
            "application/javascript": "\n    async function download(id, filename, size) {\n      if (!google.colab.kernel.accessAllowed) {\n        return;\n      }\n      const div = document.createElement('div');\n      const label = document.createElement('label');\n      label.textContent = `Downloading \"${filename}\": `;\n      div.appendChild(label);\n      const progress = document.createElement('progress');\n      progress.max = size;\n      div.appendChild(progress);\n      document.body.appendChild(div);\n\n      const buffers = [];\n      let downloaded = 0;\n\n      const channel = await google.colab.kernel.comms.open(id);\n      // Send a message to notify the kernel that we're ready.\n      channel.send({})\n\n      for await (const message of channel.messages) {\n        // Send a message to notify the kernel that we're ready.\n        channel.send({})\n        if (message.buffers) {\n          for (const buffer of message.buffers) {\n            buffers.push(buffer);\n            downloaded += buffer.byteLength;\n            progress.value = downloaded;\n          }\n        }\n      }\n      const blob = new Blob(buffers, {type: 'application/binary'});\n      const a = document.createElement('a');\n      a.href = window.URL.createObjectURL(blob);\n      a.download = filename;\n      div.appendChild(a);\n      a.click();\n      div.remove();\n    }\n  ",
            "text/plain": [
              "<IPython.core.display.Javascript object>"
            ]
          },
          "metadata": {},
          "output_type": "display_data"
        },
        {
          "data": {
            "application/javascript": "download(\"download_02cbca30-3109-4955-b2a3-49b97ca50462\", \"CNN_KNN_Model.pkl\", 6454956)",
            "text/plain": [
              "<IPython.core.display.Javascript object>"
            ]
          },
          "metadata": {},
          "output_type": "display_data"
        }
      ],
      "source": [
        "import pickle\n",
        "with open('CNN_KNN_Model.pkl', 'wb') as file:\n",
        "    pickle.dump(best_cnn_knn, file)\n",
        "\n",
        "from google.colab import files\n",
        "files.download('CNN_KNN_Model.pkl')"
      ]
    },
    {
      "cell_type": "markdown",
      "metadata": {
        "id": "vpWHmPtS1D2B"
      },
      "source": [
        "### Convolutional GNB"
      ]
    },
    {
      "cell_type": "code",
      "execution_count": 63,
      "metadata": {
        "colab": {
          "base_uri": "https://localhost:8080/"
        },
        "id": "fw_G3_1g1G6I",
        "outputId": "3d6b01cb-e98e-42fb-ef67-789bfebdcaf2"
      },
      "outputs": [
        {
          "name": "stdout",
          "output_type": "stream",
          "text": [
            "Fitting 5 folds for each of 50 candidates, totalling 250 fits\n",
            "[CV] END ..................................var_smoothing=0.0; total time=   0.0s\n",
            "[CV] END ..................................var_smoothing=0.0; total time=   0.0s\n",
            "[CV] END ..................................var_smoothing=0.0; total time=   0.0s\n",
            "[CV] END ..................................var_smoothing=0.0; total time=   0.0s\n",
            "[CV] END ..................................var_smoothing=0.0; total time=   0.0s\n",
            "[CV] END ..................var_smoothing=0.01020408163265306; total time=   0.0s\n",
            "[CV] END ..................var_smoothing=0.01020408163265306; total time=   0.0s\n",
            "[CV] END ..................var_smoothing=0.01020408163265306; total time=   0.0s\n",
            "[CV] END ..................var_smoothing=0.01020408163265306; total time=   0.0s\n",
            "[CV] END ..................var_smoothing=0.01020408163265306; total time=   0.0s\n",
            "[CV] END ..................var_smoothing=0.02040816326530612; total time=   0.0s\n",
            "[CV] END ..................var_smoothing=0.02040816326530612; total time=   0.0s\n",
            "[CV] END ..................var_smoothing=0.02040816326530612; total time=   0.0s\n",
            "[CV] END ..................var_smoothing=0.02040816326530612; total time=   0.0s\n",
            "[CV] END ..................var_smoothing=0.02040816326530612; total time=   0.0s\n",
            "[CV] END .................var_smoothing=0.030612244897959183; total time=   0.0s\n",
            "[CV] END .................var_smoothing=0.030612244897959183; total time=   0.0s\n",
            "[CV] END .................var_smoothing=0.030612244897959183; total time=   0.0s\n",
            "[CV] END .................var_smoothing=0.030612244897959183; total time=   0.0s\n",
            "[CV] END .................var_smoothing=0.030612244897959183; total time=   0.0s\n",
            "[CV] END ..................var_smoothing=0.04081632653061224; total time=   0.0s\n",
            "[CV] END ..................var_smoothing=0.04081632653061224; total time=   0.0s\n",
            "[CV] END ..................var_smoothing=0.04081632653061224; total time=   0.0s\n",
            "[CV] END ..................var_smoothing=0.04081632653061224; total time=   0.0s\n",
            "[CV] END ..................var_smoothing=0.04081632653061224; total time=   0.0s\n",
            "[CV] END ...................var_smoothing=0.0510204081632653; total time=   0.0s\n",
            "[CV] END ...................var_smoothing=0.0510204081632653; total time=   0.0s\n",
            "[CV] END ...................var_smoothing=0.0510204081632653; total time=   0.0s\n",
            "[CV] END ...................var_smoothing=0.0510204081632653; total time=   0.0s\n",
            "[CV] END ...................var_smoothing=0.0510204081632653; total time=   0.0s\n",
            "[CV] END .................var_smoothing=0.061224489795918366; total time=   0.0s\n",
            "[CV] END .................var_smoothing=0.061224489795918366; total time=   0.0s\n",
            "[CV] END .................var_smoothing=0.061224489795918366; total time=   0.0s\n",
            "[CV] END .................var_smoothing=0.061224489795918366; total time=   0.0s\n",
            "[CV] END .................var_smoothing=0.061224489795918366; total time=   0.0s\n",
            "[CV] END ..................var_smoothing=0.07142857142857142; total time=   0.0s\n",
            "[CV] END ..................var_smoothing=0.07142857142857142; total time=   0.0s\n",
            "[CV] END ..................var_smoothing=0.07142857142857142; total time=   0.0s\n",
            "[CV] END ..................var_smoothing=0.07142857142857142; total time=   0.0s\n",
            "[CV] END ..................var_smoothing=0.07142857142857142; total time=   0.0s\n",
            "[CV] END ..................var_smoothing=0.08163265306122448; total time=   0.0s\n",
            "[CV] END ..................var_smoothing=0.08163265306122448; total time=   0.0s\n",
            "[CV] END ..................var_smoothing=0.08163265306122448; total time=   0.0s\n",
            "[CV] END ..................var_smoothing=0.08163265306122448; total time=   0.0s\n",
            "[CV] END ..................var_smoothing=0.08163265306122448; total time=   0.0s\n",
            "[CV] END ..................var_smoothing=0.09183673469387754; total time=   0.0s\n",
            "[CV] END ..................var_smoothing=0.09183673469387754; total time=   0.0s\n",
            "[CV] END ..................var_smoothing=0.09183673469387754; total time=   0.0s\n",
            "[CV] END ..................var_smoothing=0.09183673469387754; total time=   0.0s\n",
            "[CV] END ..................var_smoothing=0.09183673469387754; total time=   0.0s\n",
            "[CV] END ...................var_smoothing=0.1020408163265306; total time=   0.0s\n",
            "[CV] END ...................var_smoothing=0.1020408163265306; total time=   0.0s\n",
            "[CV] END ...................var_smoothing=0.1020408163265306; total time=   0.0s\n",
            "[CV] END ...................var_smoothing=0.1020408163265306; total time=   0.0s\n",
            "[CV] END ...................var_smoothing=0.1020408163265306; total time=   0.0s\n",
            "[CV] END ..................var_smoothing=0.11224489795918366; total time=   0.0s\n",
            "[CV] END ..................var_smoothing=0.11224489795918366; total time=   0.0s\n",
            "[CV] END ..................var_smoothing=0.11224489795918366; total time=   0.0s\n",
            "[CV] END ..................var_smoothing=0.11224489795918366; total time=   0.0s\n",
            "[CV] END ..................var_smoothing=0.11224489795918366; total time=   0.0s\n",
            "[CV] END ..................var_smoothing=0.12244897959183673; total time=   0.0s\n",
            "[CV] END ..................var_smoothing=0.12244897959183673; total time=   0.0s\n",
            "[CV] END ..................var_smoothing=0.12244897959183673; total time=   0.0s\n",
            "[CV] END ..................var_smoothing=0.12244897959183673; total time=   0.0s\n",
            "[CV] END ..................var_smoothing=0.12244897959183673; total time=   0.0s\n",
            "[CV] END ..................var_smoothing=0.13265306122448978; total time=   0.0s\n",
            "[CV] END ..................var_smoothing=0.13265306122448978; total time=   0.0s\n",
            "[CV] END ..................var_smoothing=0.13265306122448978; total time=   0.0s\n",
            "[CV] END ..................var_smoothing=0.13265306122448978; total time=   0.0s\n",
            "[CV] END ..................var_smoothing=0.13265306122448978; total time=   0.0s\n",
            "[CV] END ..................var_smoothing=0.14285714285714285; total time=   0.0s\n",
            "[CV] END ..................var_smoothing=0.14285714285714285; total time=   0.0s\n",
            "[CV] END ..................var_smoothing=0.14285714285714285; total time=   0.0s\n",
            "[CV] END ..................var_smoothing=0.14285714285714285; total time=   0.0s\n",
            "[CV] END ..................var_smoothing=0.14285714285714285; total time=   0.0s\n",
            "[CV] END ...................var_smoothing=0.1530612244897959; total time=   0.0s\n",
            "[CV] END ...................var_smoothing=0.1530612244897959; total time=   0.0s\n",
            "[CV] END ...................var_smoothing=0.1530612244897959; total time=   0.0s\n",
            "[CV] END ...................var_smoothing=0.1530612244897959; total time=   0.0s\n",
            "[CV] END ...................var_smoothing=0.1530612244897959; total time=   0.0s\n",
            "[CV] END ..................var_smoothing=0.16326530612244897; total time=   0.0s\n",
            "[CV] END ..................var_smoothing=0.16326530612244897; total time=   0.0s\n",
            "[CV] END ..................var_smoothing=0.16326530612244897; total time=   0.0s\n",
            "[CV] END ..................var_smoothing=0.16326530612244897; total time=   0.0s\n",
            "[CV] END ..................var_smoothing=0.16326530612244897; total time=   0.0s\n",
            "[CV] END ..................var_smoothing=0.17346938775510204; total time=   0.0s\n",
            "[CV] END ..................var_smoothing=0.17346938775510204; total time=   0.0s\n",
            "[CV] END ..................var_smoothing=0.17346938775510204; total time=   0.0s\n",
            "[CV] END ..................var_smoothing=0.17346938775510204; total time=   0.0s\n",
            "[CV] END ..................var_smoothing=0.17346938775510204; total time=   0.0s\n",
            "[CV] END ..................var_smoothing=0.18367346938775508; total time=   0.0s\n",
            "[CV] END ..................var_smoothing=0.18367346938775508; total time=   0.0s\n",
            "[CV] END ..................var_smoothing=0.18367346938775508; total time=   0.0s\n",
            "[CV] END ..................var_smoothing=0.18367346938775508; total time=   0.0s\n",
            "[CV] END ..................var_smoothing=0.18367346938775508; total time=   0.0s\n",
            "[CV] END ..................var_smoothing=0.19387755102040816; total time=   0.0s\n",
            "[CV] END ..................var_smoothing=0.19387755102040816; total time=   0.0s\n",
            "[CV] END ..................var_smoothing=0.19387755102040816; total time=   0.0s\n",
            "[CV] END ..................var_smoothing=0.19387755102040816; total time=   0.0s\n",
            "[CV] END ..................var_smoothing=0.19387755102040816; total time=   0.0s\n",
            "[CV] END ...................var_smoothing=0.2040816326530612; total time=   0.0s\n",
            "[CV] END ...................var_smoothing=0.2040816326530612; total time=   0.0s\n",
            "[CV] END ...................var_smoothing=0.2040816326530612; total time=   0.0s\n",
            "[CV] END ...................var_smoothing=0.2040816326530612; total time=   0.0s\n",
            "[CV] END ...................var_smoothing=0.2040816326530612; total time=   0.0s\n",
            "[CV] END ..................var_smoothing=0.21428571428571427; total time=   0.0s\n",
            "[CV] END ..................var_smoothing=0.21428571428571427; total time=   0.0s\n",
            "[CV] END ..................var_smoothing=0.21428571428571427; total time=   0.0s\n",
            "[CV] END ..................var_smoothing=0.21428571428571427; total time=   0.0s\n",
            "[CV] END ..................var_smoothing=0.21428571428571427; total time=   0.0s\n",
            "[CV] END ..................var_smoothing=0.22448979591836732; total time=   0.0s\n",
            "[CV] END ..................var_smoothing=0.22448979591836732; total time=   0.0s\n",
            "[CV] END ..................var_smoothing=0.22448979591836732; total time=   0.0s\n",
            "[CV] END ..................var_smoothing=0.22448979591836732; total time=   0.0s\n",
            "[CV] END ..................var_smoothing=0.22448979591836732; total time=   0.0s\n",
            "[CV] END ...................var_smoothing=0.2346938775510204; total time=   0.0s\n",
            "[CV] END ...................var_smoothing=0.2346938775510204; total time=   0.0s\n",
            "[CV] END ...................var_smoothing=0.2346938775510204; total time=   0.0s\n",
            "[CV] END ...................var_smoothing=0.2346938775510204; total time=   0.0s\n",
            "[CV] END ...................var_smoothing=0.2346938775510204; total time=   0.0s\n",
            "[CV] END ..................var_smoothing=0.24489795918367346; total time=   0.0s\n",
            "[CV] END ..................var_smoothing=0.24489795918367346; total time=   0.0s\n",
            "[CV] END ..................var_smoothing=0.24489795918367346; total time=   0.0s\n",
            "[CV] END ..................var_smoothing=0.24489795918367346; total time=   0.0s\n",
            "[CV] END ..................var_smoothing=0.24489795918367346; total time=   0.0s\n",
            "[CV] END ..................var_smoothing=0.25510204081632654; total time=   0.0s\n",
            "[CV] END ..................var_smoothing=0.25510204081632654; total time=   0.0s\n",
            "[CV] END ..................var_smoothing=0.25510204081632654; total time=   0.0s\n",
            "[CV] END ..................var_smoothing=0.25510204081632654; total time=   0.0s\n",
            "[CV] END ..................var_smoothing=0.25510204081632654; total time=   0.0s\n",
            "[CV] END ..................var_smoothing=0.26530612244897955; total time=   0.0s\n",
            "[CV] END ..................var_smoothing=0.26530612244897955; total time=   0.0s\n",
            "[CV] END ..................var_smoothing=0.26530612244897955; total time=   0.0s\n",
            "[CV] END ..................var_smoothing=0.26530612244897955; total time=   0.0s\n",
            "[CV] END ..................var_smoothing=0.26530612244897955; total time=   0.0s\n",
            "[CV] END ...................var_smoothing=0.2755102040816326; total time=   0.0s\n",
            "[CV] END ...................var_smoothing=0.2755102040816326; total time=   0.0s\n",
            "[CV] END ...................var_smoothing=0.2755102040816326; total time=   0.0s\n",
            "[CV] END ...................var_smoothing=0.2755102040816326; total time=   0.0s\n",
            "[CV] END ...................var_smoothing=0.2755102040816326; total time=   0.0s\n",
            "[CV] END ...................var_smoothing=0.2857142857142857; total time=   0.0s\n",
            "[CV] END ...................var_smoothing=0.2857142857142857; total time=   0.0s\n",
            "[CV] END ...................var_smoothing=0.2857142857142857; total time=   0.0s\n",
            "[CV] END ...................var_smoothing=0.2857142857142857; total time=   0.0s\n",
            "[CV] END ...................var_smoothing=0.2857142857142857; total time=   0.0s\n",
            "[CV] END ..................var_smoothing=0.29591836734693877; total time=   0.0s\n",
            "[CV] END ..................var_smoothing=0.29591836734693877; total time=   0.0s\n",
            "[CV] END ..................var_smoothing=0.29591836734693877; total time=   0.0s\n",
            "[CV] END ..................var_smoothing=0.29591836734693877; total time=   0.0s\n",
            "[CV] END ..................var_smoothing=0.29591836734693877; total time=   0.0s\n",
            "[CV] END ...................var_smoothing=0.3061224489795918; total time=   0.0s\n",
            "[CV] END ...................var_smoothing=0.3061224489795918; total time=   0.0s\n",
            "[CV] END ...................var_smoothing=0.3061224489795918; total time=   0.0s\n",
            "[CV] END ...................var_smoothing=0.3061224489795918; total time=   0.0s\n",
            "[CV] END ...................var_smoothing=0.3061224489795918; total time=   0.0s\n",
            "[CV] END ..................var_smoothing=0.31632653061224486; total time=   0.0s\n",
            "[CV] END ..................var_smoothing=0.31632653061224486; total time=   0.0s\n",
            "[CV] END ..................var_smoothing=0.31632653061224486; total time=   0.0s\n",
            "[CV] END ..................var_smoothing=0.31632653061224486; total time=   0.0s\n",
            "[CV] END ..................var_smoothing=0.31632653061224486; total time=   0.0s\n",
            "[CV] END ..................var_smoothing=0.32653061224489793; total time=   0.0s\n",
            "[CV] END ..................var_smoothing=0.32653061224489793; total time=   0.0s\n",
            "[CV] END ..................var_smoothing=0.32653061224489793; total time=   0.0s\n",
            "[CV] END ..................var_smoothing=0.32653061224489793; total time=   0.0s\n",
            "[CV] END ..................var_smoothing=0.32653061224489793; total time=   0.0s\n",
            "[CV] END ....................var_smoothing=0.336734693877551; total time=   0.0s\n",
            "[CV] END ....................var_smoothing=0.336734693877551; total time=   0.0s\n",
            "[CV] END ....................var_smoothing=0.336734693877551; total time=   0.0s\n",
            "[CV] END ....................var_smoothing=0.336734693877551; total time=   0.0s\n",
            "[CV] END ....................var_smoothing=0.336734693877551; total time=   0.0s\n",
            "[CV] END ...................var_smoothing=0.3469387755102041; total time=   0.0s\n",
            "[CV] END ...................var_smoothing=0.3469387755102041; total time=   0.0s\n",
            "[CV] END ...................var_smoothing=0.3469387755102041; total time=   0.0s\n",
            "[CV] END ...................var_smoothing=0.3469387755102041; total time=   0.0s\n",
            "[CV] END ...................var_smoothing=0.3469387755102041; total time=   0.0s\n",
            "[CV] END ...................var_smoothing=0.3571428571428571; total time=   0.0s\n",
            "[CV] END ...................var_smoothing=0.3571428571428571; total time=   0.0s\n",
            "[CV] END ...................var_smoothing=0.3571428571428571; total time=   0.0s\n",
            "[CV] END ...................var_smoothing=0.3571428571428571; total time=   0.0s\n",
            "[CV] END ...................var_smoothing=0.3571428571428571; total time=   0.0s\n",
            "[CV] END ..................var_smoothing=0.36734693877551017; total time=   0.0s\n",
            "[CV] END ..................var_smoothing=0.36734693877551017; total time=   0.0s\n",
            "[CV] END ..................var_smoothing=0.36734693877551017; total time=   0.0s\n",
            "[CV] END ..................var_smoothing=0.36734693877551017; total time=   0.0s\n",
            "[CV] END ..................var_smoothing=0.36734693877551017; total time=   0.0s\n",
            "[CV] END ..................var_smoothing=0.37755102040816324; total time=   0.0s\n",
            "[CV] END ..................var_smoothing=0.37755102040816324; total time=   0.0s\n",
            "[CV] END ..................var_smoothing=0.37755102040816324; total time=   0.0s\n",
            "[CV] END ..................var_smoothing=0.37755102040816324; total time=   0.0s\n",
            "[CV] END ..................var_smoothing=0.37755102040816324; total time=   0.0s\n",
            "[CV] END ...................var_smoothing=0.3877551020408163; total time=   0.0s\n",
            "[CV] END ...................var_smoothing=0.3877551020408163; total time=   0.0s\n",
            "[CV] END ...................var_smoothing=0.3877551020408163; total time=   0.0s\n",
            "[CV] END ...................var_smoothing=0.3877551020408163; total time=   0.0s\n",
            "[CV] END ...................var_smoothing=0.3877551020408163; total time=   0.0s\n",
            "[CV] END ..................var_smoothing=0.39795918367346933; total time=   0.0s\n",
            "[CV] END ..................var_smoothing=0.39795918367346933; total time=   0.0s\n",
            "[CV] END ..................var_smoothing=0.39795918367346933; total time=   0.0s\n",
            "[CV] END ..................var_smoothing=0.39795918367346933; total time=   0.0s\n",
            "[CV] END ..................var_smoothing=0.39795918367346933; total time=   0.0s\n",
            "[CV] END ...................var_smoothing=0.4081632653061224; total time=   0.0s\n",
            "[CV] END ...................var_smoothing=0.4081632653061224; total time=   0.0s\n",
            "[CV] END ...................var_smoothing=0.4081632653061224; total time=   0.0s\n",
            "[CV] END ...................var_smoothing=0.4081632653061224; total time=   0.0s\n",
            "[CV] END ...................var_smoothing=0.4081632653061224; total time=   0.0s\n",
            "[CV] END ...................var_smoothing=0.4183673469387755; total time=   0.0s\n",
            "[CV] END ...................var_smoothing=0.4183673469387755; total time=   0.0s\n",
            "[CV] END ...................var_smoothing=0.4183673469387755; total time=   0.0s\n",
            "[CV] END ...................var_smoothing=0.4183673469387755; total time=   0.0s\n",
            "[CV] END ...................var_smoothing=0.4183673469387755; total time=   0.0s\n",
            "[CV] END ..................var_smoothing=0.42857142857142855; total time=   0.0s\n",
            "[CV] END ..................var_smoothing=0.42857142857142855; total time=   0.0s\n",
            "[CV] END ..................var_smoothing=0.42857142857142855; total time=   0.0s\n",
            "[CV] END ..................var_smoothing=0.42857142857142855; total time=   0.0s\n",
            "[CV] END ..................var_smoothing=0.42857142857142855; total time=   0.0s\n",
            "[CV] END ...................var_smoothing=0.4387755102040816; total time=   0.0s\n",
            "[CV] END ...................var_smoothing=0.4387755102040816; total time=   0.0s\n",
            "[CV] END ...................var_smoothing=0.4387755102040816; total time=   0.0s\n",
            "[CV] END ...................var_smoothing=0.4387755102040816; total time=   0.0s\n",
            "[CV] END ...................var_smoothing=0.4387755102040816; total time=   0.0s\n",
            "[CV] END ..................var_smoothing=0.44897959183673464; total time=   0.0s\n",
            "[CV] END ..................var_smoothing=0.44897959183673464; total time=   0.0s\n",
            "[CV] END ..................var_smoothing=0.44897959183673464; total time=   0.0s\n",
            "[CV] END ..................var_smoothing=0.44897959183673464; total time=   0.0s\n",
            "[CV] END ..................var_smoothing=0.44897959183673464; total time=   0.0s\n",
            "[CV] END ...................var_smoothing=0.4591836734693877; total time=   0.0s\n",
            "[CV] END ...................var_smoothing=0.4591836734693877; total time=   0.0s\n",
            "[CV] END ...................var_smoothing=0.4591836734693877; total time=   0.0s\n",
            "[CV] END ...................var_smoothing=0.4591836734693877; total time=   0.0s\n",
            "[CV] END ...................var_smoothing=0.4591836734693877; total time=   0.0s\n",
            "[CV] END ...................var_smoothing=0.4693877551020408; total time=   0.0s\n",
            "[CV] END ...................var_smoothing=0.4693877551020408; total time=   0.0s\n",
            "[CV] END ...................var_smoothing=0.4693877551020408; total time=   0.0s\n",
            "[CV] END ...................var_smoothing=0.4693877551020408; total time=   0.0s\n",
            "[CV] END ...................var_smoothing=0.4693877551020408; total time=   0.0s\n",
            "[CV] END ..................var_smoothing=0.47959183673469385; total time=   0.0s\n",
            "[CV] END ..................var_smoothing=0.47959183673469385; total time=   0.0s\n",
            "[CV] END ..................var_smoothing=0.47959183673469385; total time=   0.0s\n",
            "[CV] END ..................var_smoothing=0.47959183673469385; total time=   0.0s\n",
            "[CV] END ..................var_smoothing=0.47959183673469385; total time=   0.0s\n",
            "[CV] END ...................var_smoothing=0.4897959183673469; total time=   0.0s\n",
            "[CV] END ...................var_smoothing=0.4897959183673469; total time=   0.0s\n",
            "[CV] END ...................var_smoothing=0.4897959183673469; total time=   0.0s\n",
            "[CV] END ...................var_smoothing=0.4897959183673469; total time=   0.0s\n",
            "[CV] END ...................var_smoothing=0.4897959183673469; total time=   0.0s\n",
            "[CV] END ..................................var_smoothing=0.5; total time=   0.0s\n",
            "[CV] END ..................................var_smoothing=0.5; total time=   0.0s\n",
            "[CV] END ..................................var_smoothing=0.5; total time=   0.0s\n",
            "[CV] END ..................................var_smoothing=0.5; total time=   0.0s\n",
            "[CV] END ..................................var_smoothing=0.5; total time=   0.0s\n",
            "Best Hyperparameters:  {'var_smoothing': 0.01020408163265306}\n",
            "Best Accuracy:  0.8173522255933416\n"
          ]
        }
      ],
      "source": [
        "params = {'var_smoothing': np.linspace(0,0.5, num=50)}\n",
        "gnb = GaussianNB()\n",
        "\n",
        "grid_search = GridSearchCV(estimator = gnb, \n",
        "                           param_grid = params, \n",
        "                           cv=5,\n",
        "                           scoring = 'accuracy',\n",
        "                           verbose = 2)\n",
        "\n",
        "grid_search.fit(train_file, y_train)\n",
        "\n",
        "print(\"Best Hyperparameters: \", grid_search.best_params_)\n",
        "print(\"Best Accuracy: \", grid_search.best_score_)"
      ]
    },
    {
      "cell_type": "code",
      "execution_count": 64,
      "metadata": {
        "colab": {
          "base_uri": "https://localhost:8080/"
        },
        "id": "QCurcqqU30Uq",
        "outputId": "91ca1b3f-f607-428b-9ac3-437a8f9a23dd"
      },
      "outputs": [
        {
          "name": "stdout",
          "output_type": "stream",
          "text": [
            "Accuracy on Testing Set:  0.7834353851111827\n"
          ]
        }
      ],
      "source": [
        "best_cnn_gnb = grid_search.best_estimator_\n",
        "y_pred = best_cnn_gnb.predict(test_file)\n",
        "accuracy = accuracy_score(y_test, y_pred)\n",
        "print(\"Accuracy on Testing Set: \", accuracy)\n",
        "\n",
        "models_df = models_df.append(pd.Series(['Convolutional GNB', accuracy], index=models_df.columns), ignore_index=True)\n",
        "models_df = models_df.sort_values('Test_Accuracy', ascending=False)"
      ]
    },
    {
      "cell_type": "code",
      "execution_count": 65,
      "metadata": {
        "colab": {
          "base_uri": "https://localhost:8080/",
          "height": 331
        },
        "id": "oHcLVZuu3-tx",
        "outputId": "4d4ee006-b226-4819-d737-70784bc1ff49"
      },
      "outputs": [
        {
          "data": {
            "text/html": [
              "\n",
              "  <div id=\"df-ae012867-0b23-43b5-b3e4-ccc013b832ef\">\n",
              "    <div class=\"colab-df-container\">\n",
              "      <div>\n",
              "<style scoped>\n",
              "    .dataframe tbody tr th:only-of-type {\n",
              "        vertical-align: middle;\n",
              "    }\n",
              "\n",
              "    .dataframe tbody tr th {\n",
              "        vertical-align: top;\n",
              "    }\n",
              "\n",
              "    .dataframe thead th {\n",
              "        text-align: right;\n",
              "    }\n",
              "</style>\n",
              "<table border=\"1\" class=\"dataframe\">\n",
              "  <thead>\n",
              "    <tr style=\"text-align: right;\">\n",
              "      <th></th>\n",
              "      <th>Model</th>\n",
              "      <th>Test_Accuracy</th>\n",
              "    </tr>\n",
              "  </thead>\n",
              "  <tbody>\n",
              "    <tr>\n",
              "      <th>0</th>\n",
              "      <td>XGB</td>\n",
              "      <td>0.836932</td>\n",
              "    </tr>\n",
              "    <tr>\n",
              "      <th>1</th>\n",
              "      <td>Convolutional SMV</td>\n",
              "      <td>0.826619</td>\n",
              "    </tr>\n",
              "    <tr>\n",
              "      <th>2</th>\n",
              "      <td>Convolutional KNN</td>\n",
              "      <td>0.822752</td>\n",
              "    </tr>\n",
              "    <tr>\n",
              "      <th>3</th>\n",
              "      <td>SMV</td>\n",
              "      <td>0.819529</td>\n",
              "    </tr>\n",
              "    <tr>\n",
              "      <th>4</th>\n",
              "      <td>CNN</td>\n",
              "      <td>0.817596</td>\n",
              "    </tr>\n",
              "    <tr>\n",
              "      <th>5</th>\n",
              "      <td>RFC</td>\n",
              "      <td>0.800838</td>\n",
              "    </tr>\n",
              "    <tr>\n",
              "      <th>8</th>\n",
              "      <td>Convolutional GNB</td>\n",
              "      <td>0.783435</td>\n",
              "    </tr>\n",
              "    <tr>\n",
              "      <th>6</th>\n",
              "      <td>KNN</td>\n",
              "      <td>0.765711</td>\n",
              "    </tr>\n",
              "    <tr>\n",
              "      <th>7</th>\n",
              "      <td>GNB</td>\n",
              "      <td>0.525943</td>\n",
              "    </tr>\n",
              "  </tbody>\n",
              "</table>\n",
              "</div>\n",
              "      <button class=\"colab-df-convert\" onclick=\"convertToInteractive('df-ae012867-0b23-43b5-b3e4-ccc013b832ef')\"\n",
              "              title=\"Convert this dataframe to an interactive table.\"\n",
              "              style=\"display:none;\">\n",
              "        \n",
              "  <svg xmlns=\"http://www.w3.org/2000/svg\" height=\"24px\"viewBox=\"0 0 24 24\"\n",
              "       width=\"24px\">\n",
              "    <path d=\"M0 0h24v24H0V0z\" fill=\"none\"/>\n",
              "    <path d=\"M18.56 5.44l.94 2.06.94-2.06 2.06-.94-2.06-.94-.94-2.06-.94 2.06-2.06.94zm-11 1L8.5 8.5l.94-2.06 2.06-.94-2.06-.94L8.5 2.5l-.94 2.06-2.06.94zm10 10l.94 2.06.94-2.06 2.06-.94-2.06-.94-.94-2.06-.94 2.06-2.06.94z\"/><path d=\"M17.41 7.96l-1.37-1.37c-.4-.4-.92-.59-1.43-.59-.52 0-1.04.2-1.43.59L10.3 9.45l-7.72 7.72c-.78.78-.78 2.05 0 2.83L4 21.41c.39.39.9.59 1.41.59.51 0 1.02-.2 1.41-.59l7.78-7.78 2.81-2.81c.8-.78.8-2.07 0-2.86zM5.41 20L4 18.59l7.72-7.72 1.47 1.35L5.41 20z\"/>\n",
              "  </svg>\n",
              "      </button>\n",
              "      \n",
              "  <style>\n",
              "    .colab-df-container {\n",
              "      display:flex;\n",
              "      flex-wrap:wrap;\n",
              "      gap: 12px;\n",
              "    }\n",
              "\n",
              "    .colab-df-convert {\n",
              "      background-color: #E8F0FE;\n",
              "      border: none;\n",
              "      border-radius: 50%;\n",
              "      cursor: pointer;\n",
              "      display: none;\n",
              "      fill: #1967D2;\n",
              "      height: 32px;\n",
              "      padding: 0 0 0 0;\n",
              "      width: 32px;\n",
              "    }\n",
              "\n",
              "    .colab-df-convert:hover {\n",
              "      background-color: #E2EBFA;\n",
              "      box-shadow: 0px 1px 2px rgba(60, 64, 67, 0.3), 0px 1px 3px 1px rgba(60, 64, 67, 0.15);\n",
              "      fill: #174EA6;\n",
              "    }\n",
              "\n",
              "    [theme=dark] .colab-df-convert {\n",
              "      background-color: #3B4455;\n",
              "      fill: #D2E3FC;\n",
              "    }\n",
              "\n",
              "    [theme=dark] .colab-df-convert:hover {\n",
              "      background-color: #434B5C;\n",
              "      box-shadow: 0px 1px 3px 1px rgba(0, 0, 0, 0.15);\n",
              "      filter: drop-shadow(0px 1px 2px rgba(0, 0, 0, 0.3));\n",
              "      fill: #FFFFFF;\n",
              "    }\n",
              "  </style>\n",
              "\n",
              "      <script>\n",
              "        const buttonEl =\n",
              "          document.querySelector('#df-ae012867-0b23-43b5-b3e4-ccc013b832ef button.colab-df-convert');\n",
              "        buttonEl.style.display =\n",
              "          google.colab.kernel.accessAllowed ? 'block' : 'none';\n",
              "\n",
              "        async function convertToInteractive(key) {\n",
              "          const element = document.querySelector('#df-ae012867-0b23-43b5-b3e4-ccc013b832ef');\n",
              "          const dataTable =\n",
              "            await google.colab.kernel.invokeFunction('convertToInteractive',\n",
              "                                                     [key], {});\n",
              "          if (!dataTable) return;\n",
              "\n",
              "          const docLinkHtml = 'Like what you see? Visit the ' +\n",
              "            '<a target=\"_blank\" href=https://colab.research.google.com/notebooks/data_table.ipynb>data table notebook</a>'\n",
              "            + ' to learn more about interactive tables.';\n",
              "          element.innerHTML = '';\n",
              "          dataTable['output_type'] = 'display_data';\n",
              "          await google.colab.output.renderOutput(dataTable, element);\n",
              "          const docLink = document.createElement('div');\n",
              "          docLink.innerHTML = docLinkHtml;\n",
              "          element.appendChild(docLink);\n",
              "        }\n",
              "      </script>\n",
              "    </div>\n",
              "  </div>\n",
              "  "
            ],
            "text/plain": [
              "               Model  Test_Accuracy\n",
              "0                XGB       0.836932\n",
              "1  Convolutional SMV       0.826619\n",
              "2  Convolutional KNN       0.822752\n",
              "3                SMV       0.819529\n",
              "4                CNN       0.817596\n",
              "5                RFC       0.800838\n",
              "8  Convolutional GNB       0.783435\n",
              "6                KNN       0.765711\n",
              "7                GNB       0.525943"
            ]
          },
          "execution_count": 65,
          "metadata": {},
          "output_type": "execute_result"
        }
      ],
      "source": [
        "models_df"
      ]
    },
    {
      "cell_type": "code",
      "execution_count": 66,
      "metadata": {
        "colab": {
          "base_uri": "https://localhost:8080/",
          "height": 17
        },
        "id": "j7uxeP0c4Ax_",
        "outputId": "06617f51-66ca-4656-9f7f-4ffb2c3559bd"
      },
      "outputs": [
        {
          "data": {
            "application/javascript": "\n    async function download(id, filename, size) {\n      if (!google.colab.kernel.accessAllowed) {\n        return;\n      }\n      const div = document.createElement('div');\n      const label = document.createElement('label');\n      label.textContent = `Downloading \"${filename}\": `;\n      div.appendChild(label);\n      const progress = document.createElement('progress');\n      progress.max = size;\n      div.appendChild(progress);\n      document.body.appendChild(div);\n\n      const buffers = [];\n      let downloaded = 0;\n\n      const channel = await google.colab.kernel.comms.open(id);\n      // Send a message to notify the kernel that we're ready.\n      channel.send({})\n\n      for await (const message of channel.messages) {\n        // Send a message to notify the kernel that we're ready.\n        channel.send({})\n        if (message.buffers) {\n          for (const buffer of message.buffers) {\n            buffers.push(buffer);\n            downloaded += buffer.byteLength;\n            progress.value = downloaded;\n          }\n        }\n      }\n      const blob = new Blob(buffers, {type: 'application/binary'});\n      const a = document.createElement('a');\n      a.href = window.URL.createObjectURL(blob);\n      a.download = filename;\n      div.appendChild(a);\n      a.click();\n      div.remove();\n    }\n  ",
            "text/plain": [
              "<IPython.core.display.Javascript object>"
            ]
          },
          "metadata": {},
          "output_type": "display_data"
        },
        {
          "data": {
            "application/javascript": "download(\"download_b9e1dc4a-1199-4b80-87ab-6af2ac8a8978\", \"CNN_GNB_Model.pkl\", 6749)",
            "text/plain": [
              "<IPython.core.display.Javascript object>"
            ]
          },
          "metadata": {},
          "output_type": "display_data"
        }
      ],
      "source": [
        "import pickle\n",
        "with open('CNN_GNB_Model.pkl', 'wb') as file:\n",
        "    pickle.dump(best_cnn_gnb, file)\n",
        "\n",
        "from google.colab import files\n",
        "files.download('CNN_GNB_Model.pkl')"
      ]
    },
    {
      "cell_type": "markdown",
      "metadata": {
        "id": "pXZ7AAAq1KfE"
      },
      "source": [
        "### Convolutional RFC"
      ]
    },
    {
      "cell_type": "code",
      "execution_count": 67,
      "metadata": {
        "colab": {
          "base_uri": "https://localhost:8080/"
        },
        "id": "nT1LRrD-1Ql8",
        "outputId": "5a1b4510-46fb-4fc0-a9e7-67abc81a4dc2"
      },
      "outputs": [
        {
          "name": "stdout",
          "output_type": "stream",
          "text": [
            "Fitting 5 folds for each of 81 candidates, totalling 405 fits\n",
            "[CV] END max_depth=None, min_samples_leaf=1, min_samples_split=2, n_estimators=50; total time=   3.7s\n",
            "[CV] END max_depth=None, min_samples_leaf=1, min_samples_split=2, n_estimators=50; total time=   3.5s\n",
            "[CV] END max_depth=None, min_samples_leaf=1, min_samples_split=2, n_estimators=50; total time=   3.6s\n",
            "[CV] END max_depth=None, min_samples_leaf=1, min_samples_split=2, n_estimators=50; total time=   4.2s\n",
            "[CV] END max_depth=None, min_samples_leaf=1, min_samples_split=2, n_estimators=50; total time=   3.5s\n",
            "[CV] END max_depth=None, min_samples_leaf=1, min_samples_split=2, n_estimators=100; total time=   7.7s\n",
            "[CV] END max_depth=None, min_samples_leaf=1, min_samples_split=2, n_estimators=100; total time=   7.1s\n",
            "[CV] END max_depth=None, min_samples_leaf=1, min_samples_split=2, n_estimators=100; total time=   8.0s\n",
            "[CV] END max_depth=None, min_samples_leaf=1, min_samples_split=2, n_estimators=100; total time=   7.9s\n",
            "[CV] END max_depth=None, min_samples_leaf=1, min_samples_split=2, n_estimators=100; total time=   7.7s\n",
            "[CV] END max_depth=None, min_samples_leaf=1, min_samples_split=2, n_estimators=200; total time=  14.8s\n",
            "[CV] END max_depth=None, min_samples_leaf=1, min_samples_split=2, n_estimators=200; total time=  14.8s\n",
            "[CV] END max_depth=None, min_samples_leaf=1, min_samples_split=2, n_estimators=200; total time=  15.0s\n",
            "[CV] END max_depth=None, min_samples_leaf=1, min_samples_split=2, n_estimators=200; total time=  15.3s\n",
            "[CV] END max_depth=None, min_samples_leaf=1, min_samples_split=2, n_estimators=200; total time=  15.3s\n",
            "[CV] END max_depth=None, min_samples_leaf=1, min_samples_split=5, n_estimators=50; total time=   3.6s\n",
            "[CV] END max_depth=None, min_samples_leaf=1, min_samples_split=5, n_estimators=50; total time=   3.5s\n",
            "[CV] END max_depth=None, min_samples_leaf=1, min_samples_split=5, n_estimators=50; total time=   3.9s\n",
            "[CV] END max_depth=None, min_samples_leaf=1, min_samples_split=5, n_estimators=50; total time=   4.1s\n",
            "[CV] END max_depth=None, min_samples_leaf=1, min_samples_split=5, n_estimators=50; total time=   3.5s\n",
            "[CV] END max_depth=None, min_samples_leaf=1, min_samples_split=5, n_estimators=100; total time=   7.8s\n",
            "[CV] END max_depth=None, min_samples_leaf=1, min_samples_split=5, n_estimators=100; total time=   7.0s\n",
            "[CV] END max_depth=None, min_samples_leaf=1, min_samples_split=5, n_estimators=100; total time=   8.9s\n",
            "[CV] END max_depth=None, min_samples_leaf=1, min_samples_split=5, n_estimators=100; total time=   7.0s\n",
            "[CV] END max_depth=None, min_samples_leaf=1, min_samples_split=5, n_estimators=100; total time=   7.7s\n",
            "[CV] END max_depth=None, min_samples_leaf=1, min_samples_split=5, n_estimators=200; total time=  15.1s\n",
            "[CV] END max_depth=None, min_samples_leaf=1, min_samples_split=5, n_estimators=200; total time=  15.0s\n",
            "[CV] END max_depth=None, min_samples_leaf=1, min_samples_split=5, n_estimators=200; total time=  15.0s\n",
            "[CV] END max_depth=None, min_samples_leaf=1, min_samples_split=5, n_estimators=200; total time=  15.3s\n",
            "[CV] END max_depth=None, min_samples_leaf=1, min_samples_split=5, n_estimators=200; total time=  14.9s\n",
            "[CV] END max_depth=None, min_samples_leaf=1, min_samples_split=10, n_estimators=50; total time=   3.4s\n",
            "[CV] END max_depth=None, min_samples_leaf=1, min_samples_split=10, n_estimators=50; total time=   3.5s\n",
            "[CV] END max_depth=None, min_samples_leaf=1, min_samples_split=10, n_estimators=50; total time=   3.9s\n",
            "[CV] END max_depth=None, min_samples_leaf=1, min_samples_split=10, n_estimators=50; total time=   3.8s\n",
            "[CV] END max_depth=None, min_samples_leaf=1, min_samples_split=10, n_estimators=50; total time=   3.4s\n",
            "[CV] END max_depth=None, min_samples_leaf=1, min_samples_split=10, n_estimators=100; total time=   7.6s\n",
            "[CV] END max_depth=None, min_samples_leaf=1, min_samples_split=10, n_estimators=100; total time=   7.0s\n",
            "[CV] END max_depth=None, min_samples_leaf=1, min_samples_split=10, n_estimators=100; total time=   8.6s\n",
            "[CV] END max_depth=None, min_samples_leaf=1, min_samples_split=10, n_estimators=100; total time=   6.9s\n",
            "[CV] END max_depth=None, min_samples_leaf=1, min_samples_split=10, n_estimators=100; total time=   7.5s\n",
            "[CV] END max_depth=None, min_samples_leaf=1, min_samples_split=10, n_estimators=200; total time=  14.6s\n",
            "[CV] END max_depth=None, min_samples_leaf=1, min_samples_split=10, n_estimators=200; total time=  14.8s\n",
            "[CV] END max_depth=None, min_samples_leaf=1, min_samples_split=10, n_estimators=200; total time=  14.6s\n",
            "[CV] END max_depth=None, min_samples_leaf=1, min_samples_split=10, n_estimators=200; total time=  14.4s\n",
            "[CV] END max_depth=None, min_samples_leaf=1, min_samples_split=10, n_estimators=200; total time=  14.4s\n",
            "[CV] END max_depth=None, min_samples_leaf=2, min_samples_split=2, n_estimators=50; total time=   3.8s\n",
            "[CV] END max_depth=None, min_samples_leaf=2, min_samples_split=2, n_estimators=50; total time=   3.3s\n",
            "[CV] END max_depth=None, min_samples_leaf=2, min_samples_split=2, n_estimators=50; total time=   3.4s\n",
            "[CV] END max_depth=None, min_samples_leaf=2, min_samples_split=2, n_estimators=50; total time=   3.8s\n",
            "[CV] END max_depth=None, min_samples_leaf=2, min_samples_split=2, n_estimators=50; total time=   3.5s\n",
            "[CV] END max_depth=None, min_samples_leaf=2, min_samples_split=2, n_estimators=100; total time=   6.6s\n",
            "[CV] END max_depth=None, min_samples_leaf=2, min_samples_split=2, n_estimators=100; total time=   7.7s\n",
            "[CV] END max_depth=None, min_samples_leaf=2, min_samples_split=2, n_estimators=100; total time=   8.1s\n",
            "[CV] END max_depth=None, min_samples_leaf=2, min_samples_split=2, n_estimators=100; total time=   7.0s\n",
            "[CV] END max_depth=None, min_samples_leaf=2, min_samples_split=2, n_estimators=100; total time=   7.8s\n",
            "[CV] END max_depth=None, min_samples_leaf=2, min_samples_split=2, n_estimators=200; total time=  14.2s\n",
            "[CV] END max_depth=None, min_samples_leaf=2, min_samples_split=2, n_estimators=200; total time=  14.5s\n",
            "[CV] END max_depth=None, min_samples_leaf=2, min_samples_split=2, n_estimators=200; total time=  14.4s\n",
            "[CV] END max_depth=None, min_samples_leaf=2, min_samples_split=2, n_estimators=200; total time=  14.2s\n",
            "[CV] END max_depth=None, min_samples_leaf=2, min_samples_split=2, n_estimators=200; total time=  13.9s\n",
            "[CV] END max_depth=None, min_samples_leaf=2, min_samples_split=5, n_estimators=50; total time=   3.3s\n",
            "[CV] END max_depth=None, min_samples_leaf=2, min_samples_split=5, n_estimators=50; total time=   4.2s\n",
            "[CV] END max_depth=None, min_samples_leaf=2, min_samples_split=5, n_estimators=50; total time=   3.4s\n",
            "[CV] END max_depth=None, min_samples_leaf=2, min_samples_split=5, n_estimators=50; total time=   3.3s\n",
            "[CV] END max_depth=None, min_samples_leaf=2, min_samples_split=5, n_estimators=50; total time=   3.5s\n",
            "[CV] END max_depth=None, min_samples_leaf=2, min_samples_split=5, n_estimators=100; total time=   7.4s\n",
            "[CV] END max_depth=None, min_samples_leaf=2, min_samples_split=5, n_estimators=100; total time=   7.3s\n",
            "[CV] END max_depth=None, min_samples_leaf=2, min_samples_split=5, n_estimators=100; total time=   7.8s\n",
            "[CV] END max_depth=None, min_samples_leaf=2, min_samples_split=5, n_estimators=100; total time=   7.4s\n",
            "[CV] END max_depth=None, min_samples_leaf=2, min_samples_split=5, n_estimators=100; total time=   6.6s\n",
            "[CV] END max_depth=None, min_samples_leaf=2, min_samples_split=5, n_estimators=200; total time=  14.1s\n",
            "[CV] END max_depth=None, min_samples_leaf=2, min_samples_split=5, n_estimators=200; total time=  14.1s\n",
            "[CV] END max_depth=None, min_samples_leaf=2, min_samples_split=5, n_estimators=200; total time=  14.6s\n",
            "[CV] END max_depth=None, min_samples_leaf=2, min_samples_split=5, n_estimators=200; total time=  14.5s\n",
            "[CV] END max_depth=None, min_samples_leaf=2, min_samples_split=5, n_estimators=200; total time=  14.1s\n",
            "[CV] END max_depth=None, min_samples_leaf=2, min_samples_split=10, n_estimators=50; total time=   3.3s\n",
            "[CV] END max_depth=None, min_samples_leaf=2, min_samples_split=10, n_estimators=50; total time=   3.4s\n",
            "[CV] END max_depth=None, min_samples_leaf=2, min_samples_split=10, n_estimators=50; total time=   3.6s\n",
            "[CV] END max_depth=None, min_samples_leaf=2, min_samples_split=10, n_estimators=50; total time=   3.8s\n",
            "[CV] END max_depth=None, min_samples_leaf=2, min_samples_split=10, n_estimators=50; total time=   3.3s\n",
            "[CV] END max_depth=None, min_samples_leaf=2, min_samples_split=10, n_estimators=100; total time=   7.2s\n",
            "[CV] END max_depth=None, min_samples_leaf=2, min_samples_split=10, n_estimators=100; total time=   6.9s\n",
            "[CV] END max_depth=None, min_samples_leaf=2, min_samples_split=10, n_estimators=100; total time=   7.8s\n",
            "[CV] END max_depth=None, min_samples_leaf=2, min_samples_split=10, n_estimators=100; total time=   7.3s\n",
            "[CV] END max_depth=None, min_samples_leaf=2, min_samples_split=10, n_estimators=100; total time=   7.4s\n",
            "[CV] END max_depth=None, min_samples_leaf=2, min_samples_split=10, n_estimators=200; total time=  14.2s\n",
            "[CV] END max_depth=None, min_samples_leaf=2, min_samples_split=10, n_estimators=200; total time=  14.2s\n",
            "[CV] END max_depth=None, min_samples_leaf=2, min_samples_split=10, n_estimators=200; total time=  14.2s\n",
            "[CV] END max_depth=None, min_samples_leaf=2, min_samples_split=10, n_estimators=200; total time=  14.0s\n",
            "[CV] END max_depth=None, min_samples_leaf=2, min_samples_split=10, n_estimators=200; total time=  13.7s\n",
            "[CV] END max_depth=None, min_samples_leaf=4, min_samples_split=2, n_estimators=50; total time=   3.1s\n",
            "[CV] END max_depth=None, min_samples_leaf=4, min_samples_split=2, n_estimators=50; total time=   3.8s\n",
            "[CV] END max_depth=None, min_samples_leaf=4, min_samples_split=2, n_estimators=50; total time=   3.4s\n",
            "[CV] END max_depth=None, min_samples_leaf=4, min_samples_split=2, n_estimators=50; total time=   3.1s\n",
            "[CV] END max_depth=None, min_samples_leaf=4, min_samples_split=2, n_estimators=50; total time=   3.2s\n",
            "[CV] END max_depth=None, min_samples_leaf=4, min_samples_split=2, n_estimators=100; total time=   7.1s\n",
            "[CV] END max_depth=None, min_samples_leaf=4, min_samples_split=2, n_estimators=100; total time=   6.3s\n",
            "[CV] END max_depth=None, min_samples_leaf=4, min_samples_split=2, n_estimators=100; total time=   7.3s\n",
            "[CV] END max_depth=None, min_samples_leaf=4, min_samples_split=2, n_estimators=100; total time=   7.5s\n",
            "[CV] END max_depth=None, min_samples_leaf=4, min_samples_split=2, n_estimators=100; total time=   6.8s\n",
            "[CV] END max_depth=None, min_samples_leaf=4, min_samples_split=2, n_estimators=200; total time=  13.6s\n",
            "[CV] END max_depth=None, min_samples_leaf=4, min_samples_split=2, n_estimators=200; total time=  13.6s\n",
            "[CV] END max_depth=None, min_samples_leaf=4, min_samples_split=2, n_estimators=200; total time=  13.5s\n",
            "[CV] END max_depth=None, min_samples_leaf=4, min_samples_split=2, n_estimators=200; total time=  13.5s\n",
            "[CV] END max_depth=None, min_samples_leaf=4, min_samples_split=2, n_estimators=200; total time=  13.2s\n",
            "[CV] END max_depth=None, min_samples_leaf=4, min_samples_split=5, n_estimators=50; total time=   3.1s\n",
            "[CV] END max_depth=None, min_samples_leaf=4, min_samples_split=5, n_estimators=50; total time=   4.0s\n",
            "[CV] END max_depth=None, min_samples_leaf=4, min_samples_split=5, n_estimators=50; total time=   3.3s\n",
            "[CV] END max_depth=None, min_samples_leaf=4, min_samples_split=5, n_estimators=50; total time=   3.2s\n",
            "[CV] END max_depth=None, min_samples_leaf=4, min_samples_split=5, n_estimators=50; total time=   3.3s\n",
            "[CV] END max_depth=None, min_samples_leaf=4, min_samples_split=5, n_estimators=100; total time=   7.1s\n",
            "[CV] END max_depth=None, min_samples_leaf=4, min_samples_split=5, n_estimators=100; total time=   6.7s\n",
            "[CV] END max_depth=None, min_samples_leaf=4, min_samples_split=5, n_estimators=100; total time=   7.0s\n",
            "[CV] END max_depth=None, min_samples_leaf=4, min_samples_split=5, n_estimators=100; total time=   6.7s\n",
            "[CV] END max_depth=None, min_samples_leaf=4, min_samples_split=5, n_estimators=100; total time=   6.8s\n",
            "[CV] END max_depth=None, min_samples_leaf=4, min_samples_split=5, n_estimators=200; total time=  14.4s\n",
            "[CV] END max_depth=None, min_samples_leaf=4, min_samples_split=5, n_estimators=200; total time=  13.5s\n",
            "[CV] END max_depth=None, min_samples_leaf=4, min_samples_split=5, n_estimators=200; total time=  13.4s\n",
            "[CV] END max_depth=None, min_samples_leaf=4, min_samples_split=5, n_estimators=200; total time=  13.4s\n",
            "[CV] END max_depth=None, min_samples_leaf=4, min_samples_split=5, n_estimators=200; total time=  13.4s\n",
            "[CV] END max_depth=None, min_samples_leaf=4, min_samples_split=10, n_estimators=50; total time=   3.5s\n",
            "[CV] END max_depth=None, min_samples_leaf=4, min_samples_split=10, n_estimators=50; total time=   3.5s\n",
            "[CV] END max_depth=None, min_samples_leaf=4, min_samples_split=10, n_estimators=50; total time=   3.2s\n",
            "[CV] END max_depth=None, min_samples_leaf=4, min_samples_split=10, n_estimators=50; total time=   3.2s\n",
            "[CV] END max_depth=None, min_samples_leaf=4, min_samples_split=10, n_estimators=50; total time=   3.7s\n",
            "[CV] END max_depth=None, min_samples_leaf=4, min_samples_split=10, n_estimators=100; total time=   6.6s\n",
            "[CV] END max_depth=None, min_samples_leaf=4, min_samples_split=10, n_estimators=100; total time=   7.1s\n",
            "[CV] END max_depth=None, min_samples_leaf=4, min_samples_split=10, n_estimators=100; total time=   6.5s\n",
            "[CV] END max_depth=None, min_samples_leaf=4, min_samples_split=10, n_estimators=100; total time=   7.2s\n",
            "[CV] END max_depth=None, min_samples_leaf=4, min_samples_split=10, n_estimators=100; total time=   6.4s\n",
            "[CV] END max_depth=None, min_samples_leaf=4, min_samples_split=10, n_estimators=200; total time=  14.3s\n",
            "[CV] END max_depth=None, min_samples_leaf=4, min_samples_split=10, n_estimators=200; total time=  13.5s\n",
            "[CV] END max_depth=None, min_samples_leaf=4, min_samples_split=10, n_estimators=200; total time=  13.6s\n",
            "[CV] END max_depth=None, min_samples_leaf=4, min_samples_split=10, n_estimators=200; total time=  13.6s\n",
            "[CV] END max_depth=None, min_samples_leaf=4, min_samples_split=10, n_estimators=200; total time=  13.3s\n",
            "[CV] END max_depth=5, min_samples_leaf=1, min_samples_split=2, n_estimators=50; total time=   2.0s\n",
            "[CV] END max_depth=5, min_samples_leaf=1, min_samples_split=2, n_estimators=50; total time=   2.0s\n",
            "[CV] END max_depth=5, min_samples_leaf=1, min_samples_split=2, n_estimators=50; total time=   1.6s\n",
            "[CV] END max_depth=5, min_samples_leaf=1, min_samples_split=2, n_estimators=50; total time=   1.6s\n",
            "[CV] END max_depth=5, min_samples_leaf=1, min_samples_split=2, n_estimators=50; total time=   1.6s\n",
            "[CV] END max_depth=5, min_samples_leaf=1, min_samples_split=2, n_estimators=100; total time=   3.1s\n",
            "[CV] END max_depth=5, min_samples_leaf=1, min_samples_split=2, n_estimators=100; total time=   3.6s\n",
            "[CV] END max_depth=5, min_samples_leaf=1, min_samples_split=2, n_estimators=100; total time=   3.6s\n",
            "[CV] END max_depth=5, min_samples_leaf=1, min_samples_split=2, n_estimators=100; total time=   3.2s\n",
            "[CV] END max_depth=5, min_samples_leaf=1, min_samples_split=2, n_estimators=100; total time=   3.1s\n",
            "[CV] END max_depth=5, min_samples_leaf=1, min_samples_split=2, n_estimators=200; total time=   7.0s\n",
            "[CV] END max_depth=5, min_samples_leaf=1, min_samples_split=2, n_estimators=200; total time=   6.4s\n",
            "[CV] END max_depth=5, min_samples_leaf=1, min_samples_split=2, n_estimators=200; total time=   7.1s\n",
            "[CV] END max_depth=5, min_samples_leaf=1, min_samples_split=2, n_estimators=200; total time=   6.4s\n",
            "[CV] END max_depth=5, min_samples_leaf=1, min_samples_split=2, n_estimators=200; total time=   7.2s\n",
            "[CV] END max_depth=5, min_samples_leaf=1, min_samples_split=5, n_estimators=50; total time=   1.6s\n",
            "[CV] END max_depth=5, min_samples_leaf=1, min_samples_split=5, n_estimators=50; total time=   1.6s\n",
            "[CV] END max_depth=5, min_samples_leaf=1, min_samples_split=5, n_estimators=50; total time=   1.6s\n",
            "[CV] END max_depth=5, min_samples_leaf=1, min_samples_split=5, n_estimators=50; total time=   1.6s\n",
            "[CV] END max_depth=5, min_samples_leaf=1, min_samples_split=5, n_estimators=50; total time=   2.1s\n",
            "[CV] END max_depth=5, min_samples_leaf=1, min_samples_split=5, n_estimators=100; total time=   4.5s\n",
            "[CV] END max_depth=5, min_samples_leaf=1, min_samples_split=5, n_estimators=100; total time=   3.2s\n",
            "[CV] END max_depth=5, min_samples_leaf=1, min_samples_split=5, n_estimators=100; total time=   3.2s\n",
            "[CV] END max_depth=5, min_samples_leaf=1, min_samples_split=5, n_estimators=100; total time=   4.0s\n",
            "[CV] END max_depth=5, min_samples_leaf=1, min_samples_split=5, n_estimators=100; total time=   3.1s\n",
            "[CV] END max_depth=5, min_samples_leaf=1, min_samples_split=5, n_estimators=200; total time=   6.3s\n",
            "[CV] END max_depth=5, min_samples_leaf=1, min_samples_split=5, n_estimators=200; total time=   7.1s\n",
            "[CV] END max_depth=5, min_samples_leaf=1, min_samples_split=5, n_estimators=200; total time=   6.4s\n",
            "[CV] END max_depth=5, min_samples_leaf=1, min_samples_split=5, n_estimators=200; total time=   7.0s\n",
            "[CV] END max_depth=5, min_samples_leaf=1, min_samples_split=5, n_estimators=200; total time=   6.4s\n",
            "[CV] END max_depth=5, min_samples_leaf=1, min_samples_split=10, n_estimators=50; total time=   2.1s\n",
            "[CV] END max_depth=5, min_samples_leaf=1, min_samples_split=10, n_estimators=50; total time=   1.7s\n",
            "[CV] END max_depth=5, min_samples_leaf=1, min_samples_split=10, n_estimators=50; total time=   1.6s\n",
            "[CV] END max_depth=5, min_samples_leaf=1, min_samples_split=10, n_estimators=50; total time=   1.6s\n",
            "[CV] END max_depth=5, min_samples_leaf=1, min_samples_split=10, n_estimators=50; total time=   1.6s\n",
            "[CV] END max_depth=5, min_samples_leaf=1, min_samples_split=10, n_estimators=100; total time=   3.2s\n",
            "[CV] END max_depth=5, min_samples_leaf=1, min_samples_split=10, n_estimators=100; total time=   3.9s\n",
            "[CV] END max_depth=5, min_samples_leaf=1, min_samples_split=10, n_estimators=100; total time=   3.2s\n",
            "[CV] END max_depth=5, min_samples_leaf=1, min_samples_split=10, n_estimators=100; total time=   3.2s\n",
            "[CV] END max_depth=5, min_samples_leaf=1, min_samples_split=10, n_estimators=100; total time=   3.2s\n",
            "[CV] END max_depth=5, min_samples_leaf=1, min_samples_split=10, n_estimators=200; total time=   7.1s\n",
            "[CV] END max_depth=5, min_samples_leaf=1, min_samples_split=10, n_estimators=200; total time=   6.4s\n",
            "[CV] END max_depth=5, min_samples_leaf=1, min_samples_split=10, n_estimators=200; total time=   7.2s\n",
            "[CV] END max_depth=5, min_samples_leaf=1, min_samples_split=10, n_estimators=200; total time=   6.5s\n",
            "[CV] END max_depth=5, min_samples_leaf=1, min_samples_split=10, n_estimators=200; total time=   7.2s\n",
            "[CV] END max_depth=5, min_samples_leaf=2, min_samples_split=2, n_estimators=50; total time=   1.6s\n",
            "[CV] END max_depth=5, min_samples_leaf=2, min_samples_split=2, n_estimators=50; total time=   1.6s\n",
            "[CV] END max_depth=5, min_samples_leaf=2, min_samples_split=2, n_estimators=50; total time=   1.6s\n",
            "[CV] END max_depth=5, min_samples_leaf=2, min_samples_split=2, n_estimators=50; total time=   1.9s\n",
            "[CV] END max_depth=5, min_samples_leaf=2, min_samples_split=2, n_estimators=50; total time=   2.1s\n",
            "[CV] END max_depth=5, min_samples_leaf=2, min_samples_split=2, n_estimators=100; total time=   3.2s\n",
            "[CV] END max_depth=5, min_samples_leaf=2, min_samples_split=2, n_estimators=100; total time=   3.2s\n",
            "[CV] END max_depth=5, min_samples_leaf=2, min_samples_split=2, n_estimators=100; total time=   3.2s\n",
            "[CV] END max_depth=5, min_samples_leaf=2, min_samples_split=2, n_estimators=100; total time=   4.4s\n",
            "[CV] END max_depth=5, min_samples_leaf=2, min_samples_split=2, n_estimators=100; total time=   3.6s\n",
            "[CV] END max_depth=5, min_samples_leaf=2, min_samples_split=2, n_estimators=200; total time=   6.3s\n",
            "[CV] END max_depth=5, min_samples_leaf=2, min_samples_split=2, n_estimators=200; total time=   7.2s\n",
            "[CV] END max_depth=5, min_samples_leaf=2, min_samples_split=2, n_estimators=200; total time=   6.6s\n",
            "[CV] END max_depth=5, min_samples_leaf=2, min_samples_split=2, n_estimators=200; total time=   7.1s\n",
            "[CV] END max_depth=5, min_samples_leaf=2, min_samples_split=2, n_estimators=200; total time=   6.7s\n",
            "[CV] END max_depth=5, min_samples_leaf=2, min_samples_split=5, n_estimators=50; total time=   2.1s\n",
            "[CV] END max_depth=5, min_samples_leaf=2, min_samples_split=5, n_estimators=50; total time=   1.6s\n",
            "[CV] END max_depth=5, min_samples_leaf=2, min_samples_split=5, n_estimators=50; total time=   1.6s\n",
            "[CV] END max_depth=5, min_samples_leaf=2, min_samples_split=5, n_estimators=50; total time=   1.6s\n",
            "[CV] END max_depth=5, min_samples_leaf=2, min_samples_split=5, n_estimators=50; total time=   1.6s\n",
            "[CV] END max_depth=5, min_samples_leaf=2, min_samples_split=5, n_estimators=100; total time=   3.2s\n",
            "[CV] END max_depth=5, min_samples_leaf=2, min_samples_split=5, n_estimators=100; total time=   3.9s\n",
            "[CV] END max_depth=5, min_samples_leaf=2, min_samples_split=5, n_estimators=100; total time=   3.2s\n",
            "[CV] END max_depth=5, min_samples_leaf=2, min_samples_split=5, n_estimators=100; total time=   3.2s\n",
            "[CV] END max_depth=5, min_samples_leaf=2, min_samples_split=5, n_estimators=100; total time=   3.3s\n",
            "[CV] END max_depth=5, min_samples_leaf=2, min_samples_split=5, n_estimators=200; total time=   7.1s\n",
            "[CV] END max_depth=5, min_samples_leaf=2, min_samples_split=5, n_estimators=200; total time=   6.5s\n",
            "[CV] END max_depth=5, min_samples_leaf=2, min_samples_split=5, n_estimators=200; total time=   7.1s\n",
            "[CV] END max_depth=5, min_samples_leaf=2, min_samples_split=5, n_estimators=200; total time=   6.7s\n",
            "[CV] END max_depth=5, min_samples_leaf=2, min_samples_split=5, n_estimators=200; total time=   6.9s\n",
            "[CV] END max_depth=5, min_samples_leaf=2, min_samples_split=10, n_estimators=50; total time=   1.6s\n",
            "[CV] END max_depth=5, min_samples_leaf=2, min_samples_split=10, n_estimators=50; total time=   1.6s\n",
            "[CV] END max_depth=5, min_samples_leaf=2, min_samples_split=10, n_estimators=50; total time=   1.6s\n",
            "[CV] END max_depth=5, min_samples_leaf=2, min_samples_split=10, n_estimators=50; total time=   2.1s\n",
            "[CV] END max_depth=5, min_samples_leaf=2, min_samples_split=10, n_estimators=50; total time=   1.8s\n",
            "[CV] END max_depth=5, min_samples_leaf=2, min_samples_split=10, n_estimators=100; total time=   3.2s\n",
            "[CV] END max_depth=5, min_samples_leaf=2, min_samples_split=10, n_estimators=100; total time=   3.2s\n",
            "[CV] END max_depth=5, min_samples_leaf=2, min_samples_split=10, n_estimators=100; total time=   3.4s\n",
            "[CV] END max_depth=5, min_samples_leaf=2, min_samples_split=10, n_estimators=100; total time=   3.9s\n",
            "[CV] END max_depth=5, min_samples_leaf=2, min_samples_split=10, n_estimators=100; total time=   3.2s\n",
            "[CV] END max_depth=5, min_samples_leaf=2, min_samples_split=10, n_estimators=200; total time=   7.4s\n",
            "[CV] END max_depth=5, min_samples_leaf=2, min_samples_split=10, n_estimators=200; total time=   7.1s\n",
            "[CV] END max_depth=5, min_samples_leaf=2, min_samples_split=10, n_estimators=200; total time=   6.6s\n",
            "[CV] END max_depth=5, min_samples_leaf=2, min_samples_split=10, n_estimators=200; total time=   6.8s\n",
            "[CV] END max_depth=5, min_samples_leaf=2, min_samples_split=10, n_estimators=200; total time=   6.8s\n",
            "[CV] END max_depth=5, min_samples_leaf=4, min_samples_split=2, n_estimators=50; total time=   1.9s\n",
            "[CV] END max_depth=5, min_samples_leaf=4, min_samples_split=2, n_estimators=50; total time=   1.6s\n",
            "[CV] END max_depth=5, min_samples_leaf=4, min_samples_split=2, n_estimators=50; total time=   1.6s\n",
            "[CV] END max_depth=5, min_samples_leaf=4, min_samples_split=2, n_estimators=50; total time=   1.6s\n",
            "[CV] END max_depth=5, min_samples_leaf=4, min_samples_split=2, n_estimators=50; total time=   1.6s\n",
            "[CV] END max_depth=5, min_samples_leaf=4, min_samples_split=2, n_estimators=100; total time=   3.3s\n",
            "[CV] END max_depth=5, min_samples_leaf=4, min_samples_split=2, n_estimators=100; total time=   3.9s\n",
            "[CV] END max_depth=5, min_samples_leaf=4, min_samples_split=2, n_estimators=100; total time=   3.2s\n",
            "[CV] END max_depth=5, min_samples_leaf=4, min_samples_split=2, n_estimators=100; total time=   3.1s\n",
            "[CV] END max_depth=5, min_samples_leaf=4, min_samples_split=2, n_estimators=100; total time=   3.3s\n",
            "[CV] END max_depth=5, min_samples_leaf=4, min_samples_split=2, n_estimators=200; total time=   7.0s\n",
            "[CV] END max_depth=5, min_samples_leaf=4, min_samples_split=2, n_estimators=200; total time=   6.6s\n",
            "[CV] END max_depth=5, min_samples_leaf=4, min_samples_split=2, n_estimators=200; total time=   6.9s\n",
            "[CV] END max_depth=5, min_samples_leaf=4, min_samples_split=2, n_estimators=200; total time=   6.7s\n",
            "[CV] END max_depth=5, min_samples_leaf=4, min_samples_split=2, n_estimators=200; total time=   6.7s\n",
            "[CV] END max_depth=5, min_samples_leaf=4, min_samples_split=5, n_estimators=50; total time=   1.6s\n",
            "[CV] END max_depth=5, min_samples_leaf=4, min_samples_split=5, n_estimators=50; total time=   1.6s\n",
            "[CV] END max_depth=5, min_samples_leaf=4, min_samples_split=5, n_estimators=50; total time=   1.6s\n",
            "[CV] END max_depth=5, min_samples_leaf=4, min_samples_split=5, n_estimators=50; total time=   2.1s\n",
            "[CV] END max_depth=5, min_samples_leaf=4, min_samples_split=5, n_estimators=50; total time=   1.8s\n",
            "[CV] END max_depth=5, min_samples_leaf=4, min_samples_split=5, n_estimators=100; total time=   3.1s\n",
            "[CV] END max_depth=5, min_samples_leaf=4, min_samples_split=5, n_estimators=100; total time=   3.1s\n",
            "[CV] END max_depth=5, min_samples_leaf=4, min_samples_split=5, n_estimators=100; total time=   3.2s\n",
            "[CV] END max_depth=5, min_samples_leaf=4, min_samples_split=5, n_estimators=100; total time=   3.8s\n",
            "[CV] END max_depth=5, min_samples_leaf=4, min_samples_split=5, n_estimators=100; total time=   3.2s\n",
            "[CV] END max_depth=5, min_samples_leaf=4, min_samples_split=5, n_estimators=200; total time=   6.4s\n",
            "[CV] END max_depth=5, min_samples_leaf=4, min_samples_split=5, n_estimators=200; total time=   6.9s\n",
            "[CV] END max_depth=5, min_samples_leaf=4, min_samples_split=5, n_estimators=200; total time=   7.6s\n",
            "[CV] END max_depth=5, min_samples_leaf=4, min_samples_split=5, n_estimators=200; total time=   6.6s\n",
            "[CV] END max_depth=5, min_samples_leaf=4, min_samples_split=5, n_estimators=200; total time=   6.9s\n",
            "[CV] END max_depth=5, min_samples_leaf=4, min_samples_split=10, n_estimators=50; total time=   1.8s\n",
            "[CV] END max_depth=5, min_samples_leaf=4, min_samples_split=10, n_estimators=50; total time=   1.6s\n",
            "[CV] END max_depth=5, min_samples_leaf=4, min_samples_split=10, n_estimators=50; total time=   1.6s\n",
            "[CV] END max_depth=5, min_samples_leaf=4, min_samples_split=10, n_estimators=50; total time=   1.6s\n",
            "[CV] END max_depth=5, min_samples_leaf=4, min_samples_split=10, n_estimators=50; total time=   1.6s\n",
            "[CV] END max_depth=5, min_samples_leaf=4, min_samples_split=10, n_estimators=100; total time=   3.4s\n",
            "[CV] END max_depth=5, min_samples_leaf=4, min_samples_split=10, n_estimators=100; total time=   3.7s\n",
            "[CV] END max_depth=5, min_samples_leaf=4, min_samples_split=10, n_estimators=100; total time=   3.1s\n",
            "[CV] END max_depth=5, min_samples_leaf=4, min_samples_split=10, n_estimators=100; total time=   3.1s\n",
            "[CV] END max_depth=5, min_samples_leaf=4, min_samples_split=10, n_estimators=100; total time=   3.4s\n",
            "[CV] END max_depth=5, min_samples_leaf=4, min_samples_split=10, n_estimators=200; total time=   6.8s\n",
            "[CV] END max_depth=5, min_samples_leaf=4, min_samples_split=10, n_estimators=200; total time=   6.5s\n",
            "[CV] END max_depth=5, min_samples_leaf=4, min_samples_split=10, n_estimators=200; total time=   6.7s\n",
            "[CV] END max_depth=5, min_samples_leaf=4, min_samples_split=10, n_estimators=200; total time=   6.7s\n",
            "[CV] END max_depth=5, min_samples_leaf=4, min_samples_split=10, n_estimators=200; total time=   6.7s\n",
            "[CV] END max_depth=10, min_samples_leaf=1, min_samples_split=2, n_estimators=50; total time=   2.8s\n",
            "[CV] END max_depth=10, min_samples_leaf=1, min_samples_split=2, n_estimators=50; total time=   3.1s\n",
            "[CV] END max_depth=10, min_samples_leaf=1, min_samples_split=2, n_estimators=50; total time=   3.2s\n",
            "[CV] END max_depth=10, min_samples_leaf=1, min_samples_split=2, n_estimators=50; total time=   2.8s\n",
            "[CV] END max_depth=10, min_samples_leaf=1, min_samples_split=2, n_estimators=50; total time=   2.8s\n",
            "[CV] END max_depth=10, min_samples_leaf=1, min_samples_split=2, n_estimators=100; total time=   6.3s\n",
            "[CV] END max_depth=10, min_samples_leaf=1, min_samples_split=2, n_estimators=100; total time=   5.5s\n",
            "[CV] END max_depth=10, min_samples_leaf=1, min_samples_split=2, n_estimators=100; total time=   5.9s\n",
            "[CV] END max_depth=10, min_samples_leaf=1, min_samples_split=2, n_estimators=100; total time=   5.9s\n",
            "[CV] END max_depth=10, min_samples_leaf=1, min_samples_split=2, n_estimators=100; total time=   5.6s\n",
            "[CV] END max_depth=10, min_samples_leaf=1, min_samples_split=2, n_estimators=200; total time=  12.6s\n",
            "[CV] END max_depth=10, min_samples_leaf=1, min_samples_split=2, n_estimators=200; total time=  11.9s\n",
            "[CV] END max_depth=10, min_samples_leaf=1, min_samples_split=2, n_estimators=200; total time=  11.8s\n",
            "[CV] END max_depth=10, min_samples_leaf=1, min_samples_split=2, n_estimators=200; total time=  11.7s\n",
            "[CV] END max_depth=10, min_samples_leaf=1, min_samples_split=2, n_estimators=200; total time=  11.8s\n",
            "[CV] END max_depth=10, min_samples_leaf=1, min_samples_split=5, n_estimators=50; total time=   2.8s\n",
            "[CV] END max_depth=10, min_samples_leaf=1, min_samples_split=5, n_estimators=50; total time=   2.7s\n",
            "[CV] END max_depth=10, min_samples_leaf=1, min_samples_split=5, n_estimators=50; total time=   3.6s\n",
            "[CV] END max_depth=10, min_samples_leaf=1, min_samples_split=5, n_estimators=50; total time=   2.7s\n",
            "[CV] END max_depth=10, min_samples_leaf=1, min_samples_split=5, n_estimators=50; total time=   2.7s\n",
            "[CV] END max_depth=10, min_samples_leaf=1, min_samples_split=5, n_estimators=100; total time=   6.0s\n",
            "[CV] END max_depth=10, min_samples_leaf=1, min_samples_split=5, n_estimators=100; total time=   5.9s\n",
            "[CV] END max_depth=10, min_samples_leaf=1, min_samples_split=5, n_estimators=100; total time=   5.6s\n",
            "[CV] END max_depth=10, min_samples_leaf=1, min_samples_split=5, n_estimators=100; total time=   6.2s\n",
            "[CV] END max_depth=10, min_samples_leaf=1, min_samples_split=5, n_estimators=100; total time=   5.6s\n",
            "[CV] END max_depth=10, min_samples_leaf=1, min_samples_split=5, n_estimators=200; total time=  11.7s\n",
            "[CV] END max_depth=10, min_samples_leaf=1, min_samples_split=5, n_estimators=200; total time=  11.8s\n",
            "[CV] END max_depth=10, min_samples_leaf=1, min_samples_split=5, n_estimators=200; total time=  11.8s\n",
            "[CV] END max_depth=10, min_samples_leaf=1, min_samples_split=5, n_estimators=200; total time=  12.7s\n",
            "[CV] END max_depth=10, min_samples_leaf=1, min_samples_split=5, n_estimators=200; total time=  11.7s\n",
            "[CV] END max_depth=10, min_samples_leaf=1, min_samples_split=10, n_estimators=50; total time=   2.8s\n",
            "[CV] END max_depth=10, min_samples_leaf=1, min_samples_split=10, n_estimators=50; total time=   2.7s\n",
            "[CV] END max_depth=10, min_samples_leaf=1, min_samples_split=10, n_estimators=50; total time=   3.1s\n",
            "[CV] END max_depth=10, min_samples_leaf=1, min_samples_split=10, n_estimators=50; total time=   3.1s\n",
            "[CV] END max_depth=10, min_samples_leaf=1, min_samples_split=10, n_estimators=50; total time=   2.7s\n",
            "[CV] END max_depth=10, min_samples_leaf=1, min_samples_split=10, n_estimators=100; total time=   5.5s\n",
            "[CV] END max_depth=10, min_samples_leaf=1, min_samples_split=10, n_estimators=100; total time=   6.3s\n",
            "[CV] END max_depth=10, min_samples_leaf=1, min_samples_split=10, n_estimators=100; total time=   5.5s\n",
            "[CV] END max_depth=10, min_samples_leaf=1, min_samples_split=10, n_estimators=100; total time=   6.3s\n",
            "[CV] END max_depth=10, min_samples_leaf=1, min_samples_split=10, n_estimators=100; total time=   5.6s\n",
            "[CV] END max_depth=10, min_samples_leaf=1, min_samples_split=10, n_estimators=200; total time=  11.7s\n",
            "[CV] END max_depth=10, min_samples_leaf=1, min_samples_split=10, n_estimators=200; total time=  11.6s\n",
            "[CV] END max_depth=10, min_samples_leaf=1, min_samples_split=10, n_estimators=200; total time=  11.8s\n",
            "[CV] END max_depth=10, min_samples_leaf=1, min_samples_split=10, n_estimators=200; total time=  11.7s\n",
            "[CV] END max_depth=10, min_samples_leaf=1, min_samples_split=10, n_estimators=200; total time=  11.9s\n",
            "[CV] END max_depth=10, min_samples_leaf=2, min_samples_split=2, n_estimators=50; total time=   2.7s\n",
            "[CV] END max_depth=10, min_samples_leaf=2, min_samples_split=2, n_estimators=50; total time=   3.0s\n",
            "[CV] END max_depth=10, min_samples_leaf=2, min_samples_split=2, n_estimators=50; total time=   3.3s\n",
            "[CV] END max_depth=10, min_samples_leaf=2, min_samples_split=2, n_estimators=50; total time=   3.5s\n",
            "[CV] END max_depth=10, min_samples_leaf=2, min_samples_split=2, n_estimators=50; total time=   2.8s\n",
            "[CV] END max_depth=10, min_samples_leaf=2, min_samples_split=2, n_estimators=100; total time=   5.5s\n",
            "[CV] END max_depth=10, min_samples_leaf=2, min_samples_split=2, n_estimators=100; total time=   6.2s\n",
            "[CV] END max_depth=10, min_samples_leaf=2, min_samples_split=2, n_estimators=100; total time=   5.6s\n",
            "[CV] END max_depth=10, min_samples_leaf=2, min_samples_split=2, n_estimators=100; total time=   6.3s\n",
            "[CV] END max_depth=10, min_samples_leaf=2, min_samples_split=2, n_estimators=100; total time=   5.4s\n",
            "[CV] END max_depth=10, min_samples_leaf=2, min_samples_split=2, n_estimators=200; total time=  11.7s\n",
            "[CV] END max_depth=10, min_samples_leaf=2, min_samples_split=2, n_estimators=200; total time=  11.7s\n",
            "[CV] END max_depth=10, min_samples_leaf=2, min_samples_split=2, n_estimators=200; total time=  11.6s\n",
            "[CV] END max_depth=10, min_samples_leaf=2, min_samples_split=2, n_estimators=200; total time=  11.7s\n",
            "[CV] END max_depth=10, min_samples_leaf=2, min_samples_split=2, n_estimators=200; total time=  11.4s\n",
            "[CV] END max_depth=10, min_samples_leaf=2, min_samples_split=5, n_estimators=50; total time=   3.1s\n",
            "[CV] END max_depth=10, min_samples_leaf=2, min_samples_split=5, n_estimators=50; total time=   2.7s\n",
            "[CV] END max_depth=10, min_samples_leaf=2, min_samples_split=5, n_estimators=50; total time=   2.7s\n",
            "[CV] END max_depth=10, min_samples_leaf=2, min_samples_split=5, n_estimators=50; total time=   2.8s\n",
            "[CV] END max_depth=10, min_samples_leaf=2, min_samples_split=5, n_estimators=50; total time=   3.5s\n",
            "[CV] END max_depth=10, min_samples_leaf=2, min_samples_split=5, n_estimators=100; total time=   5.5s\n",
            "[CV] END max_depth=10, min_samples_leaf=2, min_samples_split=5, n_estimators=100; total time=   5.8s\n",
            "[CV] END max_depth=10, min_samples_leaf=2, min_samples_split=5, n_estimators=100; total time=   5.9s\n",
            "[CV] END max_depth=10, min_samples_leaf=2, min_samples_split=5, n_estimators=100; total time=   6.4s\n",
            "[CV] END max_depth=10, min_samples_leaf=2, min_samples_split=5, n_estimators=100; total time=   6.0s\n",
            "[CV] END max_depth=10, min_samples_leaf=2, min_samples_split=5, n_estimators=200; total time=  11.7s\n",
            "[CV] END max_depth=10, min_samples_leaf=2, min_samples_split=5, n_estimators=200; total time=  11.9s\n",
            "[CV] END max_depth=10, min_samples_leaf=2, min_samples_split=5, n_estimators=200; total time=  11.8s\n",
            "[CV] END max_depth=10, min_samples_leaf=2, min_samples_split=5, n_estimators=200; total time=  11.3s\n",
            "[CV] END max_depth=10, min_samples_leaf=2, min_samples_split=5, n_estimators=200; total time=  11.3s\n",
            "[CV] END max_depth=10, min_samples_leaf=2, min_samples_split=10, n_estimators=50; total time=   3.5s\n",
            "[CV] END max_depth=10, min_samples_leaf=2, min_samples_split=10, n_estimators=50; total time=   2.7s\n",
            "[CV] END max_depth=10, min_samples_leaf=2, min_samples_split=10, n_estimators=50; total time=   2.8s\n",
            "[CV] END max_depth=10, min_samples_leaf=2, min_samples_split=10, n_estimators=50; total time=   2.7s\n",
            "[CV] END max_depth=10, min_samples_leaf=2, min_samples_split=10, n_estimators=50; total time=   3.0s\n",
            "[CV] END max_depth=10, min_samples_leaf=2, min_samples_split=10, n_estimators=100; total time=   6.0s\n",
            "[CV] END max_depth=10, min_samples_leaf=2, min_samples_split=10, n_estimators=100; total time=   5.4s\n",
            "[CV] END max_depth=10, min_samples_leaf=2, min_samples_split=10, n_estimators=100; total time=   6.3s\n",
            "[CV] END max_depth=10, min_samples_leaf=2, min_samples_split=10, n_estimators=100; total time=   5.4s\n",
            "[CV] END max_depth=10, min_samples_leaf=2, min_samples_split=10, n_estimators=100; total time=   6.4s\n",
            "[CV] END max_depth=10, min_samples_leaf=2, min_samples_split=10, n_estimators=200; total time=  11.7s\n",
            "[CV] END max_depth=10, min_samples_leaf=2, min_samples_split=10, n_estimators=200; total time=  12.2s\n",
            "[CV] END max_depth=10, min_samples_leaf=2, min_samples_split=10, n_estimators=200; total time=  11.3s\n",
            "[CV] END max_depth=10, min_samples_leaf=2, min_samples_split=10, n_estimators=200; total time=  11.7s\n",
            "[CV] END max_depth=10, min_samples_leaf=2, min_samples_split=10, n_estimators=200; total time=  11.7s\n",
            "[CV] END max_depth=10, min_samples_leaf=4, min_samples_split=2, n_estimators=50; total time=   2.8s\n",
            "[CV] END max_depth=10, min_samples_leaf=4, min_samples_split=2, n_estimators=50; total time=   3.4s\n",
            "[CV] END max_depth=10, min_samples_leaf=4, min_samples_split=2, n_estimators=50; total time=   2.7s\n",
            "[CV] END max_depth=10, min_samples_leaf=4, min_samples_split=2, n_estimators=50; total time=   2.6s\n",
            "[CV] END max_depth=10, min_samples_leaf=4, min_samples_split=2, n_estimators=50; total time=   2.7s\n",
            "[CV] END max_depth=10, min_samples_leaf=4, min_samples_split=2, n_estimators=100; total time=   6.1s\n",
            "[CV] END max_depth=10, min_samples_leaf=4, min_samples_split=2, n_estimators=100; total time=   5.4s\n",
            "[CV] END max_depth=10, min_samples_leaf=4, min_samples_split=2, n_estimators=100; total time=   6.2s\n",
            "[CV] END max_depth=10, min_samples_leaf=4, min_samples_split=2, n_estimators=100; total time=   5.4s\n",
            "[CV] END max_depth=10, min_samples_leaf=4, min_samples_split=2, n_estimators=100; total time=   5.7s\n",
            "[CV] END max_depth=10, min_samples_leaf=4, min_samples_split=2, n_estimators=200; total time=  11.3s\n",
            "[CV] END max_depth=10, min_samples_leaf=4, min_samples_split=2, n_estimators=200; total time=  11.5s\n",
            "[CV] END max_depth=10, min_samples_leaf=4, min_samples_split=2, n_estimators=200; total time=  11.5s\n",
            "[CV] END max_depth=10, min_samples_leaf=4, min_samples_split=2, n_estimators=200; total time=  11.5s\n",
            "[CV] END max_depth=10, min_samples_leaf=4, min_samples_split=2, n_estimators=200; total time=  12.5s\n",
            "[CV] END max_depth=10, min_samples_leaf=4, min_samples_split=5, n_estimators=50; total time=   2.7s\n",
            "[CV] END max_depth=10, min_samples_leaf=4, min_samples_split=5, n_estimators=50; total time=   2.7s\n",
            "[CV] END max_depth=10, min_samples_leaf=4, min_samples_split=5, n_estimators=50; total time=   3.2s\n",
            "[CV] END max_depth=10, min_samples_leaf=4, min_samples_split=5, n_estimators=50; total time=   3.0s\n",
            "[CV] END max_depth=10, min_samples_leaf=4, min_samples_split=5, n_estimators=50; total time=   2.7s\n",
            "[CV] END max_depth=10, min_samples_leaf=4, min_samples_split=5, n_estimators=100; total time=   5.4s\n",
            "[CV] END max_depth=10, min_samples_leaf=4, min_samples_split=5, n_estimators=100; total time=   6.1s\n",
            "[CV] END max_depth=10, min_samples_leaf=4, min_samples_split=5, n_estimators=100; total time=   5.4s\n",
            "[CV] END max_depth=10, min_samples_leaf=4, min_samples_split=5, n_estimators=100; total time=   6.1s\n",
            "[CV] END max_depth=10, min_samples_leaf=4, min_samples_split=5, n_estimators=100; total time=   5.3s\n",
            "[CV] END max_depth=10, min_samples_leaf=4, min_samples_split=5, n_estimators=200; total time=  11.5s\n",
            "[CV] END max_depth=10, min_samples_leaf=4, min_samples_split=5, n_estimators=200; total time=  11.5s\n",
            "[CV] END max_depth=10, min_samples_leaf=4, min_samples_split=5, n_estimators=200; total time=  11.5s\n",
            "[CV] END max_depth=10, min_samples_leaf=4, min_samples_split=5, n_estimators=200; total time=  11.6s\n",
            "[CV] END max_depth=10, min_samples_leaf=4, min_samples_split=5, n_estimators=200; total time=  11.3s\n",
            "[CV] END max_depth=10, min_samples_leaf=4, min_samples_split=10, n_estimators=50; total time=   3.0s\n",
            "[CV] END max_depth=10, min_samples_leaf=4, min_samples_split=10, n_estimators=50; total time=   2.7s\n",
            "[CV] END max_depth=10, min_samples_leaf=4, min_samples_split=10, n_estimators=50; total time=   2.7s\n",
            "[CV] END max_depth=10, min_samples_leaf=4, min_samples_split=10, n_estimators=50; total time=   2.7s\n",
            "[CV] END max_depth=10, min_samples_leaf=4, min_samples_split=10, n_estimators=50; total time=   3.5s\n",
            "[CV] END max_depth=10, min_samples_leaf=4, min_samples_split=10, n_estimators=100; total time=   5.4s\n",
            "[CV] END max_depth=10, min_samples_leaf=4, min_samples_split=10, n_estimators=100; total time=   6.4s\n",
            "[CV] END max_depth=10, min_samples_leaf=4, min_samples_split=10, n_estimators=100; total time=   6.0s\n",
            "[CV] END max_depth=10, min_samples_leaf=4, min_samples_split=10, n_estimators=100; total time=   5.4s\n",
            "[CV] END max_depth=10, min_samples_leaf=4, min_samples_split=10, n_estimators=100; total time=   6.2s\n",
            "[CV] END max_depth=10, min_samples_leaf=4, min_samples_split=10, n_estimators=200; total time=  11.4s\n",
            "[CV] END max_depth=10, min_samples_leaf=4, min_samples_split=10, n_estimators=200; total time=  10.9s\n",
            "[CV] END max_depth=10, min_samples_leaf=4, min_samples_split=10, n_estimators=200; total time=  11.1s\n",
            "[CV] END max_depth=10, min_samples_leaf=4, min_samples_split=10, n_estimators=200; total time=  11.6s\n",
            "[CV] END max_depth=10, min_samples_leaf=4, min_samples_split=10, n_estimators=200; total time=  11.6s\n",
            "Best Hyperparameters:  {'max_depth': None, 'min_samples_leaf': 1, 'min_samples_split': 5, 'n_estimators': 200}\n",
            "Best Accuracy:  0.8656117359527462\n"
          ]
        }
      ],
      "source": [
        "params = {'n_estimators': [50, 100, 200],\n",
        "          'max_depth': [None, 5, 10],\n",
        "          'min_samples_split': [2, 5, 10],\n",
        "          'min_samples_leaf': [1, 2, 4]}\n",
        "\n",
        "rfc = RandomForestClassifier(random_state=2019)\n",
        "\n",
        "grid_search = GridSearchCV(estimator = rfc, \n",
        "                           param_grid = params, \n",
        "                           cv=5,\n",
        "                           scoring = 'accuracy',\n",
        "                           verbose = 2)\n",
        "\n",
        "grid_search.fit(train_file, y_train)\n",
        "\n",
        "print(\"Best Hyperparameters: \", grid_search.best_params_)\n",
        "print(\"Best Accuracy: \", grid_search.best_score_)"
      ]
    },
    {
      "cell_type": "code",
      "execution_count": 68,
      "metadata": {
        "colab": {
          "base_uri": "https://localhost:8080/"
        },
        "id": "eFFJHsQN4SwX",
        "outputId": "c4cedac8-b3b7-4842-819e-4429d5a1350f"
      },
      "outputs": [
        {
          "name": "stdout",
          "output_type": "stream",
          "text": [
            "Accuracy on Testing Set:  0.8275862068965517\n"
          ]
        }
      ],
      "source": [
        "best_cnn_rfc = grid_search.best_estimator_\n",
        "y_pred = best_cnn_rfc.predict(test_file)\n",
        "accuracy = accuracy_score(y_test, y_pred)\n",
        "print(\"Accuracy on Testing Set: \", accuracy)\n",
        "\n",
        "models_df = models_df.append(pd.Series(['Convolutional RFC', accuracy], index=models_df.columns), ignore_index=True)\n",
        "models_df = models_df.sort_values('Test_Accuracy', ascending=False)"
      ]
    },
    {
      "cell_type": "code",
      "execution_count": 69,
      "metadata": {
        "colab": {
          "base_uri": "https://localhost:8080/",
          "height": 363
        },
        "id": "_TliMSK74ZGE",
        "outputId": "c2022978-a0e0-4aa8-d9ca-dfdd5b0ec658"
      },
      "outputs": [
        {
          "data": {
            "text/html": [
              "\n",
              "  <div id=\"df-354559b1-f831-4120-9c82-eb191ddbb18f\">\n",
              "    <div class=\"colab-df-container\">\n",
              "      <div>\n",
              "<style scoped>\n",
              "    .dataframe tbody tr th:only-of-type {\n",
              "        vertical-align: middle;\n",
              "    }\n",
              "\n",
              "    .dataframe tbody tr th {\n",
              "        vertical-align: top;\n",
              "    }\n",
              "\n",
              "    .dataframe thead th {\n",
              "        text-align: right;\n",
              "    }\n",
              "</style>\n",
              "<table border=\"1\" class=\"dataframe\">\n",
              "  <thead>\n",
              "    <tr style=\"text-align: right;\">\n",
              "      <th></th>\n",
              "      <th>Model</th>\n",
              "      <th>Test_Accuracy</th>\n",
              "    </tr>\n",
              "  </thead>\n",
              "  <tbody>\n",
              "    <tr>\n",
              "      <th>0</th>\n",
              "      <td>XGB</td>\n",
              "      <td>0.836932</td>\n",
              "    </tr>\n",
              "    <tr>\n",
              "      <th>9</th>\n",
              "      <td>Convolutional RFC</td>\n",
              "      <td>0.827586</td>\n",
              "    </tr>\n",
              "    <tr>\n",
              "      <th>1</th>\n",
              "      <td>Convolutional SMV</td>\n",
              "      <td>0.826619</td>\n",
              "    </tr>\n",
              "    <tr>\n",
              "      <th>2</th>\n",
              "      <td>Convolutional KNN</td>\n",
              "      <td>0.822752</td>\n",
              "    </tr>\n",
              "    <tr>\n",
              "      <th>3</th>\n",
              "      <td>SMV</td>\n",
              "      <td>0.819529</td>\n",
              "    </tr>\n",
              "    <tr>\n",
              "      <th>4</th>\n",
              "      <td>CNN</td>\n",
              "      <td>0.817596</td>\n",
              "    </tr>\n",
              "    <tr>\n",
              "      <th>5</th>\n",
              "      <td>RFC</td>\n",
              "      <td>0.800838</td>\n",
              "    </tr>\n",
              "    <tr>\n",
              "      <th>6</th>\n",
              "      <td>Convolutional GNB</td>\n",
              "      <td>0.783435</td>\n",
              "    </tr>\n",
              "    <tr>\n",
              "      <th>7</th>\n",
              "      <td>KNN</td>\n",
              "      <td>0.765711</td>\n",
              "    </tr>\n",
              "    <tr>\n",
              "      <th>8</th>\n",
              "      <td>GNB</td>\n",
              "      <td>0.525943</td>\n",
              "    </tr>\n",
              "  </tbody>\n",
              "</table>\n",
              "</div>\n",
              "      <button class=\"colab-df-convert\" onclick=\"convertToInteractive('df-354559b1-f831-4120-9c82-eb191ddbb18f')\"\n",
              "              title=\"Convert this dataframe to an interactive table.\"\n",
              "              style=\"display:none;\">\n",
              "        \n",
              "  <svg xmlns=\"http://www.w3.org/2000/svg\" height=\"24px\"viewBox=\"0 0 24 24\"\n",
              "       width=\"24px\">\n",
              "    <path d=\"M0 0h24v24H0V0z\" fill=\"none\"/>\n",
              "    <path d=\"M18.56 5.44l.94 2.06.94-2.06 2.06-.94-2.06-.94-.94-2.06-.94 2.06-2.06.94zm-11 1L8.5 8.5l.94-2.06 2.06-.94-2.06-.94L8.5 2.5l-.94 2.06-2.06.94zm10 10l.94 2.06.94-2.06 2.06-.94-2.06-.94-.94-2.06-.94 2.06-2.06.94z\"/><path d=\"M17.41 7.96l-1.37-1.37c-.4-.4-.92-.59-1.43-.59-.52 0-1.04.2-1.43.59L10.3 9.45l-7.72 7.72c-.78.78-.78 2.05 0 2.83L4 21.41c.39.39.9.59 1.41.59.51 0 1.02-.2 1.41-.59l7.78-7.78 2.81-2.81c.8-.78.8-2.07 0-2.86zM5.41 20L4 18.59l7.72-7.72 1.47 1.35L5.41 20z\"/>\n",
              "  </svg>\n",
              "      </button>\n",
              "      \n",
              "  <style>\n",
              "    .colab-df-container {\n",
              "      display:flex;\n",
              "      flex-wrap:wrap;\n",
              "      gap: 12px;\n",
              "    }\n",
              "\n",
              "    .colab-df-convert {\n",
              "      background-color: #E8F0FE;\n",
              "      border: none;\n",
              "      border-radius: 50%;\n",
              "      cursor: pointer;\n",
              "      display: none;\n",
              "      fill: #1967D2;\n",
              "      height: 32px;\n",
              "      padding: 0 0 0 0;\n",
              "      width: 32px;\n",
              "    }\n",
              "\n",
              "    .colab-df-convert:hover {\n",
              "      background-color: #E2EBFA;\n",
              "      box-shadow: 0px 1px 2px rgba(60, 64, 67, 0.3), 0px 1px 3px 1px rgba(60, 64, 67, 0.15);\n",
              "      fill: #174EA6;\n",
              "    }\n",
              "\n",
              "    [theme=dark] .colab-df-convert {\n",
              "      background-color: #3B4455;\n",
              "      fill: #D2E3FC;\n",
              "    }\n",
              "\n",
              "    [theme=dark] .colab-df-convert:hover {\n",
              "      background-color: #434B5C;\n",
              "      box-shadow: 0px 1px 3px 1px rgba(0, 0, 0, 0.15);\n",
              "      filter: drop-shadow(0px 1px 2px rgba(0, 0, 0, 0.3));\n",
              "      fill: #FFFFFF;\n",
              "    }\n",
              "  </style>\n",
              "\n",
              "      <script>\n",
              "        const buttonEl =\n",
              "          document.querySelector('#df-354559b1-f831-4120-9c82-eb191ddbb18f button.colab-df-convert');\n",
              "        buttonEl.style.display =\n",
              "          google.colab.kernel.accessAllowed ? 'block' : 'none';\n",
              "\n",
              "        async function convertToInteractive(key) {\n",
              "          const element = document.querySelector('#df-354559b1-f831-4120-9c82-eb191ddbb18f');\n",
              "          const dataTable =\n",
              "            await google.colab.kernel.invokeFunction('convertToInteractive',\n",
              "                                                     [key], {});\n",
              "          if (!dataTable) return;\n",
              "\n",
              "          const docLinkHtml = 'Like what you see? Visit the ' +\n",
              "            '<a target=\"_blank\" href=https://colab.research.google.com/notebooks/data_table.ipynb>data table notebook</a>'\n",
              "            + ' to learn more about interactive tables.';\n",
              "          element.innerHTML = '';\n",
              "          dataTable['output_type'] = 'display_data';\n",
              "          await google.colab.output.renderOutput(dataTable, element);\n",
              "          const docLink = document.createElement('div');\n",
              "          docLink.innerHTML = docLinkHtml;\n",
              "          element.appendChild(docLink);\n",
              "        }\n",
              "      </script>\n",
              "    </div>\n",
              "  </div>\n",
              "  "
            ],
            "text/plain": [
              "               Model  Test_Accuracy\n",
              "0                XGB       0.836932\n",
              "9  Convolutional RFC       0.827586\n",
              "1  Convolutional SMV       0.826619\n",
              "2  Convolutional KNN       0.822752\n",
              "3                SMV       0.819529\n",
              "4                CNN       0.817596\n",
              "5                RFC       0.800838\n",
              "6  Convolutional GNB       0.783435\n",
              "7                KNN       0.765711\n",
              "8                GNB       0.525943"
            ]
          },
          "execution_count": 69,
          "metadata": {},
          "output_type": "execute_result"
        }
      ],
      "source": [
        "models_df"
      ]
    },
    {
      "cell_type": "code",
      "execution_count": 70,
      "metadata": {
        "colab": {
          "base_uri": "https://localhost:8080/",
          "height": 17
        },
        "id": "XkluMtrC4aFJ",
        "outputId": "4a764c85-d88b-4de8-cf8a-6bcf8e46bda3"
      },
      "outputs": [
        {
          "data": {
            "application/javascript": "\n    async function download(id, filename, size) {\n      if (!google.colab.kernel.accessAllowed) {\n        return;\n      }\n      const div = document.createElement('div');\n      const label = document.createElement('label');\n      label.textContent = `Downloading \"${filename}\": `;\n      div.appendChild(label);\n      const progress = document.createElement('progress');\n      progress.max = size;\n      div.appendChild(progress);\n      document.body.appendChild(div);\n\n      const buffers = [];\n      let downloaded = 0;\n\n      const channel = await google.colab.kernel.comms.open(id);\n      // Send a message to notify the kernel that we're ready.\n      channel.send({})\n\n      for await (const message of channel.messages) {\n        // Send a message to notify the kernel that we're ready.\n        channel.send({})\n        if (message.buffers) {\n          for (const buffer of message.buffers) {\n            buffers.push(buffer);\n            downloaded += buffer.byteLength;\n            progress.value = downloaded;\n          }\n        }\n      }\n      const blob = new Blob(buffers, {type: 'application/binary'});\n      const a = document.createElement('a');\n      a.href = window.URL.createObjectURL(blob);\n      a.download = filename;\n      div.appendChild(a);\n      a.click();\n      div.remove();\n    }\n  ",
            "text/plain": [
              "<IPython.core.display.Javascript object>"
            ]
          },
          "metadata": {},
          "output_type": "display_data"
        },
        {
          "data": {
            "application/javascript": "download(\"download_f7bb4746-1421-4874-90eb-e0e1a8b7ac8b\", \"CNN_RFC_Model.pkl\", 24498599)",
            "text/plain": [
              "<IPython.core.display.Javascript object>"
            ]
          },
          "metadata": {},
          "output_type": "display_data"
        }
      ],
      "source": [
        "import pickle\n",
        "with open('CNN_RFC_Model.pkl', 'wb') as file:\n",
        "    pickle.dump(best_cnn_rfc, file)\n",
        "\n",
        "from google.colab import files\n",
        "files.download('CNN_RFC_Model.pkl')"
      ]
    },
    {
      "cell_type": "markdown",
      "metadata": {
        "id": "Z265kEzN1OLh"
      },
      "source": [
        "### Convolutional XGB"
      ]
    },
    {
      "cell_type": "code",
      "execution_count": 71,
      "metadata": {
        "colab": {
          "base_uri": "https://localhost:8080/"
        },
        "id": "8EbVZQIu1R3m",
        "outputId": "2bf422fc-0c07-47d0-9f61-a4ffb9eab639"
      },
      "outputs": [
        {
          "name": "stdout",
          "output_type": "stream",
          "text": [
            "Fitting 5 folds for each of 27 candidates, totalling 135 fits\n",
            "[CV] END ....learning_rate=0.1, max_depth=3, n_estimators=50; total time=   0.5s\n",
            "[CV] END ....learning_rate=0.1, max_depth=3, n_estimators=50; total time=   0.4s\n",
            "[CV] END ....learning_rate=0.1, max_depth=3, n_estimators=50; total time=   0.4s\n",
            "[CV] END ....learning_rate=0.1, max_depth=3, n_estimators=50; total time=   0.4s\n",
            "[CV] END ....learning_rate=0.1, max_depth=3, n_estimators=50; total time=   0.4s\n",
            "[CV] END ...learning_rate=0.1, max_depth=3, n_estimators=100; total time=   0.5s\n",
            "[CV] END ...learning_rate=0.1, max_depth=3, n_estimators=100; total time=   0.5s\n",
            "[CV] END ...learning_rate=0.1, max_depth=3, n_estimators=100; total time=   0.5s\n",
            "[CV] END ...learning_rate=0.1, max_depth=3, n_estimators=100; total time=   0.5s\n",
            "[CV] END ...learning_rate=0.1, max_depth=3, n_estimators=100; total time=   0.6s\n",
            "[CV] END ...learning_rate=0.1, max_depth=3, n_estimators=200; total time=   3.0s\n",
            "[CV] END ...learning_rate=0.1, max_depth=3, n_estimators=200; total time=   2.0s\n",
            "[CV] END ...learning_rate=0.1, max_depth=3, n_estimators=200; total time=   0.9s\n",
            "[CV] END ...learning_rate=0.1, max_depth=3, n_estimators=200; total time=   0.9s\n",
            "[CV] END ...learning_rate=0.1, max_depth=3, n_estimators=200; total time=   0.9s\n",
            "[CV] END ....learning_rate=0.1, max_depth=4, n_estimators=50; total time=   0.4s\n",
            "[CV] END ....learning_rate=0.1, max_depth=4, n_estimators=50; total time=   0.4s\n",
            "[CV] END ....learning_rate=0.1, max_depth=4, n_estimators=50; total time=   0.4s\n",
            "[CV] END ....learning_rate=0.1, max_depth=4, n_estimators=50; total time=   0.4s\n",
            "[CV] END ....learning_rate=0.1, max_depth=4, n_estimators=50; total time=   0.4s\n",
            "[CV] END ...learning_rate=0.1, max_depth=4, n_estimators=100; total time=   0.7s\n",
            "[CV] END ...learning_rate=0.1, max_depth=4, n_estimators=100; total time=   0.7s\n",
            "[CV] END ...learning_rate=0.1, max_depth=4, n_estimators=100; total time=   0.7s\n",
            "[CV] END ...learning_rate=0.1, max_depth=4, n_estimators=100; total time=   0.7s\n",
            "[CV] END ...learning_rate=0.1, max_depth=4, n_estimators=100; total time=   0.7s\n",
            "[CV] END ...learning_rate=0.1, max_depth=4, n_estimators=200; total time=   1.3s\n",
            "[CV] END ...learning_rate=0.1, max_depth=4, n_estimators=200; total time=   1.6s\n",
            "[CV] END ...learning_rate=0.1, max_depth=4, n_estimators=200; total time=   1.3s\n",
            "[CV] END ...learning_rate=0.1, max_depth=4, n_estimators=200; total time=   1.1s\n",
            "[CV] END ...learning_rate=0.1, max_depth=4, n_estimators=200; total time=   1.2s\n",
            "[CV] END ....learning_rate=0.1, max_depth=5, n_estimators=50; total time=   0.5s\n",
            "[CV] END ....learning_rate=0.1, max_depth=5, n_estimators=50; total time=   0.5s\n",
            "[CV] END ....learning_rate=0.1, max_depth=5, n_estimators=50; total time=   0.5s\n",
            "[CV] END ....learning_rate=0.1, max_depth=5, n_estimators=50; total time=   0.5s\n",
            "[CV] END ....learning_rate=0.1, max_depth=5, n_estimators=50; total time=   0.5s\n",
            "[CV] END ...learning_rate=0.1, max_depth=5, n_estimators=100; total time=   0.9s\n",
            "[CV] END ...learning_rate=0.1, max_depth=5, n_estimators=100; total time=   0.9s\n",
            "[CV] END ...learning_rate=0.1, max_depth=5, n_estimators=100; total time=   0.9s\n",
            "[CV] END ...learning_rate=0.1, max_depth=5, n_estimators=100; total time=   0.9s\n",
            "[CV] END ...learning_rate=0.1, max_depth=5, n_estimators=100; total time=   1.0s\n",
            "[CV] END ...learning_rate=0.1, max_depth=5, n_estimators=200; total time=   2.0s\n",
            "[CV] END ...learning_rate=0.1, max_depth=5, n_estimators=200; total time=   1.6s\n",
            "[CV] END ...learning_rate=0.1, max_depth=5, n_estimators=200; total time=   1.6s\n",
            "[CV] END ...learning_rate=0.1, max_depth=5, n_estimators=200; total time=   1.5s\n",
            "[CV] END ...learning_rate=0.1, max_depth=5, n_estimators=200; total time=   1.6s\n",
            "[CV] END ...learning_rate=0.01, max_depth=3, n_estimators=50; total time=   0.3s\n",
            "[CV] END ...learning_rate=0.01, max_depth=3, n_estimators=50; total time=   0.3s\n",
            "[CV] END ...learning_rate=0.01, max_depth=3, n_estimators=50; total time=   0.3s\n",
            "[CV] END ...learning_rate=0.01, max_depth=3, n_estimators=50; total time=   0.4s\n",
            "[CV] END ...learning_rate=0.01, max_depth=3, n_estimators=50; total time=   0.3s\n",
            "[CV] END ..learning_rate=0.01, max_depth=3, n_estimators=100; total time=   0.5s\n",
            "[CV] END ..learning_rate=0.01, max_depth=3, n_estimators=100; total time=   0.5s\n",
            "[CV] END ..learning_rate=0.01, max_depth=3, n_estimators=100; total time=   0.5s\n",
            "[CV] END ..learning_rate=0.01, max_depth=3, n_estimators=100; total time=   0.5s\n",
            "[CV] END ..learning_rate=0.01, max_depth=3, n_estimators=100; total time=   0.8s\n",
            "[CV] END ..learning_rate=0.01, max_depth=3, n_estimators=200; total time=   1.3s\n",
            "[CV] END ..learning_rate=0.01, max_depth=3, n_estimators=200; total time=   1.2s\n",
            "[CV] END ..learning_rate=0.01, max_depth=3, n_estimators=200; total time=   0.9s\n",
            "[CV] END ..learning_rate=0.01, max_depth=3, n_estimators=200; total time=   0.9s\n",
            "[CV] END ..learning_rate=0.01, max_depth=3, n_estimators=200; total time=   0.9s\n",
            "[CV] END ...learning_rate=0.01, max_depth=4, n_estimators=50; total time=   0.4s\n",
            "[CV] END ...learning_rate=0.01, max_depth=4, n_estimators=50; total time=   0.4s\n",
            "[CV] END ...learning_rate=0.01, max_depth=4, n_estimators=50; total time=   0.4s\n",
            "[CV] END ...learning_rate=0.01, max_depth=4, n_estimators=50; total time=   0.4s\n",
            "[CV] END ...learning_rate=0.01, max_depth=4, n_estimators=50; total time=   0.4s\n",
            "[CV] END ..learning_rate=0.01, max_depth=4, n_estimators=100; total time=   0.7s\n",
            "[CV] END ..learning_rate=0.01, max_depth=4, n_estimators=100; total time=   0.7s\n",
            "[CV] END ..learning_rate=0.01, max_depth=4, n_estimators=100; total time=   0.7s\n",
            "[CV] END ..learning_rate=0.01, max_depth=4, n_estimators=100; total time=   0.7s\n",
            "[CV] END ..learning_rate=0.01, max_depth=4, n_estimators=100; total time=   0.7s\n",
            "[CV] END ..learning_rate=0.01, max_depth=4, n_estimators=200; total time=   1.3s\n",
            "[CV] END ..learning_rate=0.01, max_depth=4, n_estimators=200; total time=   1.5s\n",
            "[CV] END ..learning_rate=0.01, max_depth=4, n_estimators=200; total time=   1.5s\n",
            "[CV] END ..learning_rate=0.01, max_depth=4, n_estimators=200; total time=   1.2s\n",
            "[CV] END ..learning_rate=0.01, max_depth=4, n_estimators=200; total time=   1.2s\n",
            "[CV] END ...learning_rate=0.01, max_depth=5, n_estimators=50; total time=   0.5s\n",
            "[CV] END ...learning_rate=0.01, max_depth=5, n_estimators=50; total time=   0.5s\n",
            "[CV] END ...learning_rate=0.01, max_depth=5, n_estimators=50; total time=   0.5s\n",
            "[CV] END ...learning_rate=0.01, max_depth=5, n_estimators=50; total time=   0.5s\n",
            "[CV] END ...learning_rate=0.01, max_depth=5, n_estimators=50; total time=   0.5s\n",
            "[CV] END ..learning_rate=0.01, max_depth=5, n_estimators=100; total time=   0.9s\n",
            "[CV] END ..learning_rate=0.01, max_depth=5, n_estimators=100; total time=   0.9s\n",
            "[CV] END ..learning_rate=0.01, max_depth=5, n_estimators=100; total time=   0.9s\n",
            "[CV] END ..learning_rate=0.01, max_depth=5, n_estimators=100; total time=   0.9s\n",
            "[CV] END ..learning_rate=0.01, max_depth=5, n_estimators=100; total time=   0.9s\n",
            "[CV] END ..learning_rate=0.01, max_depth=5, n_estimators=200; total time=   2.0s\n",
            "[CV] END ..learning_rate=0.01, max_depth=5, n_estimators=200; total time=   2.0s\n",
            "[CV] END ..learning_rate=0.01, max_depth=5, n_estimators=200; total time=   1.7s\n",
            "[CV] END ..learning_rate=0.01, max_depth=5, n_estimators=200; total time=   1.7s\n",
            "[CV] END ..learning_rate=0.01, max_depth=5, n_estimators=200; total time=   1.7s\n",
            "[CV] END ..learning_rate=0.001, max_depth=3, n_estimators=50; total time=   0.3s\n",
            "[CV] END ..learning_rate=0.001, max_depth=3, n_estimators=50; total time=   0.4s\n",
            "[CV] END ..learning_rate=0.001, max_depth=3, n_estimators=50; total time=   0.3s\n",
            "[CV] END ..learning_rate=0.001, max_depth=3, n_estimators=50; total time=   0.4s\n",
            "[CV] END ..learning_rate=0.001, max_depth=3, n_estimators=50; total time=   0.4s\n",
            "[CV] END .learning_rate=0.001, max_depth=3, n_estimators=100; total time=   0.5s\n",
            "[CV] END .learning_rate=0.001, max_depth=3, n_estimators=100; total time=   0.5s\n",
            "[CV] END .learning_rate=0.001, max_depth=3, n_estimators=100; total time=   0.5s\n",
            "[CV] END .learning_rate=0.001, max_depth=3, n_estimators=100; total time=   0.6s\n",
            "[CV] END .learning_rate=0.001, max_depth=3, n_estimators=100; total time=   0.8s\n",
            "[CV] END .learning_rate=0.001, max_depth=3, n_estimators=200; total time=   1.3s\n",
            "[CV] END .learning_rate=0.001, max_depth=3, n_estimators=200; total time=   1.2s\n",
            "[CV] END .learning_rate=0.001, max_depth=3, n_estimators=200; total time=   0.9s\n",
            "[CV] END .learning_rate=0.001, max_depth=3, n_estimators=200; total time=   0.9s\n",
            "[CV] END .learning_rate=0.001, max_depth=3, n_estimators=200; total time=   0.9s\n",
            "[CV] END ..learning_rate=0.001, max_depth=4, n_estimators=50; total time=   0.4s\n",
            "[CV] END ..learning_rate=0.001, max_depth=4, n_estimators=50; total time=   0.4s\n",
            "[CV] END ..learning_rate=0.001, max_depth=4, n_estimators=50; total time=   0.4s\n",
            "[CV] END ..learning_rate=0.001, max_depth=4, n_estimators=50; total time=   0.4s\n",
            "[CV] END ..learning_rate=0.001, max_depth=4, n_estimators=50; total time=   0.4s\n",
            "[CV] END .learning_rate=0.001, max_depth=4, n_estimators=100; total time=   0.7s\n",
            "[CV] END .learning_rate=0.001, max_depth=4, n_estimators=100; total time=   0.7s\n",
            "[CV] END .learning_rate=0.001, max_depth=4, n_estimators=100; total time=   0.7s\n",
            "[CV] END .learning_rate=0.001, max_depth=4, n_estimators=100; total time=   0.7s\n",
            "[CV] END .learning_rate=0.001, max_depth=4, n_estimators=100; total time=   0.7s\n",
            "[CV] END .learning_rate=0.001, max_depth=4, n_estimators=200; total time=   1.2s\n",
            "[CV] END .learning_rate=0.001, max_depth=4, n_estimators=200; total time=   1.5s\n",
            "[CV] END .learning_rate=0.001, max_depth=4, n_estimators=200; total time=   1.6s\n",
            "[CV] END .learning_rate=0.001, max_depth=4, n_estimators=200; total time=   1.2s\n",
            "[CV] END .learning_rate=0.001, max_depth=4, n_estimators=200; total time=   1.2s\n",
            "[CV] END ..learning_rate=0.001, max_depth=5, n_estimators=50; total time=   0.5s\n",
            "[CV] END ..learning_rate=0.001, max_depth=5, n_estimators=50; total time=   0.5s\n",
            "[CV] END ..learning_rate=0.001, max_depth=5, n_estimators=50; total time=   0.5s\n",
            "[CV] END ..learning_rate=0.001, max_depth=5, n_estimators=50; total time=   0.5s\n",
            "[CV] END ..learning_rate=0.001, max_depth=5, n_estimators=50; total time=   0.5s\n",
            "[CV] END .learning_rate=0.001, max_depth=5, n_estimators=100; total time=   0.9s\n",
            "[CV] END .learning_rate=0.001, max_depth=5, n_estimators=100; total time=   0.9s\n",
            "[CV] END .learning_rate=0.001, max_depth=5, n_estimators=100; total time=   0.9s\n",
            "[CV] END .learning_rate=0.001, max_depth=5, n_estimators=100; total time=   0.9s\n",
            "[CV] END .learning_rate=0.001, max_depth=5, n_estimators=100; total time=   1.0s\n",
            "[CV] END .learning_rate=0.001, max_depth=5, n_estimators=200; total time=   2.1s\n",
            "[CV] END .learning_rate=0.001, max_depth=5, n_estimators=200; total time=   1.9s\n",
            "[CV] END .learning_rate=0.001, max_depth=5, n_estimators=200; total time=   1.8s\n",
            "[CV] END .learning_rate=0.001, max_depth=5, n_estimators=200; total time=   2.1s\n",
            "[CV] END .learning_rate=0.001, max_depth=5, n_estimators=200; total time=   1.7s\n",
            "Best Hyperparameters:  {'learning_rate': 0.1, 'max_depth': 5, 'n_estimators': 200}\n",
            "Best Accuracy:  0.8640007814622106\n"
          ]
        }
      ],
      "source": [
        "from xgboost import XGBClassifier\n",
        "\n",
        "params = {'n_estimators': [50, 100, 200],\n",
        "          'max_depth': [3, 4, 5],\n",
        "          'learning_rate': [0.1, 0.01, 0.001]}\n",
        "\n",
        "xgb = XGBClassifier(random_state=2019, tree_method = 'gpu_hist')\n",
        "\n",
        "grid_search = GridSearchCV(estimator = xgb, \n",
        "                           param_grid = params, \n",
        "                           cv=5,\n",
        "                           scoring = 'accuracy',\n",
        "                           verbose = 2)\n",
        "\n",
        "grid_search.fit(train_file, y_train)\n",
        "\n",
        "print(\"Best Hyperparameters: \", grid_search.best_params_)\n",
        "print(\"Best Accuracy: \", grid_search.best_score_)"
      ]
    },
    {
      "cell_type": "code",
      "execution_count": 72,
      "metadata": {
        "colab": {
          "base_uri": "https://localhost:8080/"
        },
        "id": "9V1MMEK64r0M",
        "outputId": "3f61f32c-9724-489d-fd25-6594546b48da"
      },
      "outputs": [
        {
          "name": "stdout",
          "output_type": "stream",
          "text": [
            "Accuracy on Testing Set:  0.8256525942636158\n"
          ]
        }
      ],
      "source": [
        "best_cnn_xgb = grid_search.best_estimator_\n",
        "y_pred = best_cnn_xgb.predict(test_file)\n",
        "accuracy = accuracy_score(y_test, y_pred)\n",
        "print(\"Accuracy on Testing Set: \", accuracy)\n",
        "\n",
        "models_df = models_df.append(pd.Series(['Convolutional XGB', accuracy], index=models_df.columns), ignore_index=True)\n",
        "models_df = models_df.sort_values('Test_Accuracy', ascending=False)"
      ]
    },
    {
      "cell_type": "code",
      "execution_count": 73,
      "metadata": {
        "colab": {
          "base_uri": "https://localhost:8080/",
          "height": 394
        },
        "id": "Bn8qeQXa5AvA",
        "outputId": "5d907af9-cf22-4dbe-c7c1-21a23733f78d"
      },
      "outputs": [
        {
          "data": {
            "text/html": [
              "\n",
              "  <div id=\"df-e59b8d2f-fc6e-4599-a01f-cefb7d9db62f\">\n",
              "    <div class=\"colab-df-container\">\n",
              "      <div>\n",
              "<style scoped>\n",
              "    .dataframe tbody tr th:only-of-type {\n",
              "        vertical-align: middle;\n",
              "    }\n",
              "\n",
              "    .dataframe tbody tr th {\n",
              "        vertical-align: top;\n",
              "    }\n",
              "\n",
              "    .dataframe thead th {\n",
              "        text-align: right;\n",
              "    }\n",
              "</style>\n",
              "<table border=\"1\" class=\"dataframe\">\n",
              "  <thead>\n",
              "    <tr style=\"text-align: right;\">\n",
              "      <th></th>\n",
              "      <th>Model</th>\n",
              "      <th>Test_Accuracy</th>\n",
              "    </tr>\n",
              "  </thead>\n",
              "  <tbody>\n",
              "    <tr>\n",
              "      <th>0</th>\n",
              "      <td>XGB</td>\n",
              "      <td>0.836932</td>\n",
              "    </tr>\n",
              "    <tr>\n",
              "      <th>1</th>\n",
              "      <td>Convolutional RFC</td>\n",
              "      <td>0.827586</td>\n",
              "    </tr>\n",
              "    <tr>\n",
              "      <th>2</th>\n",
              "      <td>Convolutional SMV</td>\n",
              "      <td>0.826619</td>\n",
              "    </tr>\n",
              "    <tr>\n",
              "      <th>10</th>\n",
              "      <td>Convolutional XGB</td>\n",
              "      <td>0.825653</td>\n",
              "    </tr>\n",
              "    <tr>\n",
              "      <th>3</th>\n",
              "      <td>Convolutional KNN</td>\n",
              "      <td>0.822752</td>\n",
              "    </tr>\n",
              "    <tr>\n",
              "      <th>4</th>\n",
              "      <td>SMV</td>\n",
              "      <td>0.819529</td>\n",
              "    </tr>\n",
              "    <tr>\n",
              "      <th>5</th>\n",
              "      <td>CNN</td>\n",
              "      <td>0.817596</td>\n",
              "    </tr>\n",
              "    <tr>\n",
              "      <th>6</th>\n",
              "      <td>RFC</td>\n",
              "      <td>0.800838</td>\n",
              "    </tr>\n",
              "    <tr>\n",
              "      <th>7</th>\n",
              "      <td>Convolutional GNB</td>\n",
              "      <td>0.783435</td>\n",
              "    </tr>\n",
              "    <tr>\n",
              "      <th>8</th>\n",
              "      <td>KNN</td>\n",
              "      <td>0.765711</td>\n",
              "    </tr>\n",
              "    <tr>\n",
              "      <th>9</th>\n",
              "      <td>GNB</td>\n",
              "      <td>0.525943</td>\n",
              "    </tr>\n",
              "  </tbody>\n",
              "</table>\n",
              "</div>\n",
              "      <button class=\"colab-df-convert\" onclick=\"convertToInteractive('df-e59b8d2f-fc6e-4599-a01f-cefb7d9db62f')\"\n",
              "              title=\"Convert this dataframe to an interactive table.\"\n",
              "              style=\"display:none;\">\n",
              "        \n",
              "  <svg xmlns=\"http://www.w3.org/2000/svg\" height=\"24px\"viewBox=\"0 0 24 24\"\n",
              "       width=\"24px\">\n",
              "    <path d=\"M0 0h24v24H0V0z\" fill=\"none\"/>\n",
              "    <path d=\"M18.56 5.44l.94 2.06.94-2.06 2.06-.94-2.06-.94-.94-2.06-.94 2.06-2.06.94zm-11 1L8.5 8.5l.94-2.06 2.06-.94-2.06-.94L8.5 2.5l-.94 2.06-2.06.94zm10 10l.94 2.06.94-2.06 2.06-.94-2.06-.94-.94-2.06-.94 2.06-2.06.94z\"/><path d=\"M17.41 7.96l-1.37-1.37c-.4-.4-.92-.59-1.43-.59-.52 0-1.04.2-1.43.59L10.3 9.45l-7.72 7.72c-.78.78-.78 2.05 0 2.83L4 21.41c.39.39.9.59 1.41.59.51 0 1.02-.2 1.41-.59l7.78-7.78 2.81-2.81c.8-.78.8-2.07 0-2.86zM5.41 20L4 18.59l7.72-7.72 1.47 1.35L5.41 20z\"/>\n",
              "  </svg>\n",
              "      </button>\n",
              "      \n",
              "  <style>\n",
              "    .colab-df-container {\n",
              "      display:flex;\n",
              "      flex-wrap:wrap;\n",
              "      gap: 12px;\n",
              "    }\n",
              "\n",
              "    .colab-df-convert {\n",
              "      background-color: #E8F0FE;\n",
              "      border: none;\n",
              "      border-radius: 50%;\n",
              "      cursor: pointer;\n",
              "      display: none;\n",
              "      fill: #1967D2;\n",
              "      height: 32px;\n",
              "      padding: 0 0 0 0;\n",
              "      width: 32px;\n",
              "    }\n",
              "\n",
              "    .colab-df-convert:hover {\n",
              "      background-color: #E2EBFA;\n",
              "      box-shadow: 0px 1px 2px rgba(60, 64, 67, 0.3), 0px 1px 3px 1px rgba(60, 64, 67, 0.15);\n",
              "      fill: #174EA6;\n",
              "    }\n",
              "\n",
              "    [theme=dark] .colab-df-convert {\n",
              "      background-color: #3B4455;\n",
              "      fill: #D2E3FC;\n",
              "    }\n",
              "\n",
              "    [theme=dark] .colab-df-convert:hover {\n",
              "      background-color: #434B5C;\n",
              "      box-shadow: 0px 1px 3px 1px rgba(0, 0, 0, 0.15);\n",
              "      filter: drop-shadow(0px 1px 2px rgba(0, 0, 0, 0.3));\n",
              "      fill: #FFFFFF;\n",
              "    }\n",
              "  </style>\n",
              "\n",
              "      <script>\n",
              "        const buttonEl =\n",
              "          document.querySelector('#df-e59b8d2f-fc6e-4599-a01f-cefb7d9db62f button.colab-df-convert');\n",
              "        buttonEl.style.display =\n",
              "          google.colab.kernel.accessAllowed ? 'block' : 'none';\n",
              "\n",
              "        async function convertToInteractive(key) {\n",
              "          const element = document.querySelector('#df-e59b8d2f-fc6e-4599-a01f-cefb7d9db62f');\n",
              "          const dataTable =\n",
              "            await google.colab.kernel.invokeFunction('convertToInteractive',\n",
              "                                                     [key], {});\n",
              "          if (!dataTable) return;\n",
              "\n",
              "          const docLinkHtml = 'Like what you see? Visit the ' +\n",
              "            '<a target=\"_blank\" href=https://colab.research.google.com/notebooks/data_table.ipynb>data table notebook</a>'\n",
              "            + ' to learn more about interactive tables.';\n",
              "          element.innerHTML = '';\n",
              "          dataTable['output_type'] = 'display_data';\n",
              "          await google.colab.output.renderOutput(dataTable, element);\n",
              "          const docLink = document.createElement('div');\n",
              "          docLink.innerHTML = docLinkHtml;\n",
              "          element.appendChild(docLink);\n",
              "        }\n",
              "      </script>\n",
              "    </div>\n",
              "  </div>\n",
              "  "
            ],
            "text/plain": [
              "                Model  Test_Accuracy\n",
              "0                 XGB       0.836932\n",
              "1   Convolutional RFC       0.827586\n",
              "2   Convolutional SMV       0.826619\n",
              "10  Convolutional XGB       0.825653\n",
              "3   Convolutional KNN       0.822752\n",
              "4                 SMV       0.819529\n",
              "5                 CNN       0.817596\n",
              "6                 RFC       0.800838\n",
              "7   Convolutional GNB       0.783435\n",
              "8                 KNN       0.765711\n",
              "9                 GNB       0.525943"
            ]
          },
          "execution_count": 73,
          "metadata": {},
          "output_type": "execute_result"
        }
      ],
      "source": [
        "models_df"
      ]
    },
    {
      "cell_type": "code",
      "execution_count": 74,
      "metadata": {
        "colab": {
          "base_uri": "https://localhost:8080/",
          "height": 17
        },
        "id": "wbcIsOQo45mi",
        "outputId": "cdd17bee-7afe-4ff9-c0b2-1d128d13fb2a"
      },
      "outputs": [
        {
          "data": {
            "application/javascript": "\n    async function download(id, filename, size) {\n      if (!google.colab.kernel.accessAllowed) {\n        return;\n      }\n      const div = document.createElement('div');\n      const label = document.createElement('label');\n      label.textContent = `Downloading \"${filename}\": `;\n      div.appendChild(label);\n      const progress = document.createElement('progress');\n      progress.max = size;\n      div.appendChild(progress);\n      document.body.appendChild(div);\n\n      const buffers = [];\n      let downloaded = 0;\n\n      const channel = await google.colab.kernel.comms.open(id);\n      // Send a message to notify the kernel that we're ready.\n      channel.send({})\n\n      for await (const message of channel.messages) {\n        // Send a message to notify the kernel that we're ready.\n        channel.send({})\n        if (message.buffers) {\n          for (const buffer of message.buffers) {\n            buffers.push(buffer);\n            downloaded += buffer.byteLength;\n            progress.value = downloaded;\n          }\n        }\n      }\n      const blob = new Blob(buffers, {type: 'application/binary'});\n      const a = document.createElement('a');\n      a.href = window.URL.createObjectURL(blob);\n      a.download = filename;\n      div.appendChild(a);\n      a.click();\n      div.remove();\n    }\n  ",
            "text/plain": [
              "<IPython.core.display.Javascript object>"
            ]
          },
          "metadata": {},
          "output_type": "display_data"
        },
        {
          "data": {
            "application/javascript": "download(\"download_9b3bcbf4-3c5e-4e76-bf6b-4eabac404fbc\", \"CNN_XGB_Model.pkl\", 1333209)",
            "text/plain": [
              "<IPython.core.display.Javascript object>"
            ]
          },
          "metadata": {},
          "output_type": "display_data"
        }
      ],
      "source": [
        "import pickle\n",
        "with open('CNN_XGB_Model.pkl', 'wb') as file:\n",
        "    pickle.dump(best_cnn_xgb, file)\n",
        "\n",
        "from google.colab import files\n",
        "files.download('CNN_XGB_Model.pkl')"
      ]
    },
    {
      "cell_type": "markdown",
      "metadata": {
        "id": "5Bqh1OFk81oY"
      },
      "source": [
        "## Comparison"
      ]
    },
    {
      "cell_type": "code",
      "execution_count": 75,
      "metadata": {
        "colab": {
          "base_uri": "https://localhost:8080/",
          "height": 17
        },
        "id": "21DuCHgb8dQv",
        "outputId": "753dfb56-5fa9-45ba-da02-892812c7e6d0"
      },
      "outputs": [
        {
          "data": {
            "application/javascript": "\n    async function download(id, filename, size) {\n      if (!google.colab.kernel.accessAllowed) {\n        return;\n      }\n      const div = document.createElement('div');\n      const label = document.createElement('label');\n      label.textContent = `Downloading \"${filename}\": `;\n      div.appendChild(label);\n      const progress = document.createElement('progress');\n      progress.max = size;\n      div.appendChild(progress);\n      document.body.appendChild(div);\n\n      const buffers = [];\n      let downloaded = 0;\n\n      const channel = await google.colab.kernel.comms.open(id);\n      // Send a message to notify the kernel that we're ready.\n      channel.send({})\n\n      for await (const message of channel.messages) {\n        // Send a message to notify the kernel that we're ready.\n        channel.send({})\n        if (message.buffers) {\n          for (const buffer of message.buffers) {\n            buffers.push(buffer);\n            downloaded += buffer.byteLength;\n            progress.value = downloaded;\n          }\n        }\n      }\n      const blob = new Blob(buffers, {type: 'application/binary'});\n      const a = document.createElement('a');\n      a.href = window.URL.createObjectURL(blob);\n      a.download = filename;\n      div.appendChild(a);\n      a.click();\n      div.remove();\n    }\n  ",
            "text/plain": [
              "<IPython.core.display.Javascript object>"
            ]
          },
          "metadata": {},
          "output_type": "display_data"
        },
        {
          "data": {
            "application/javascript": "download(\"download_0424a43a-380f-47e1-bf1c-a97c568e4a4e\", \"Classifiers.csv\", 342)",
            "text/plain": [
              "<IPython.core.display.Javascript object>"
            ]
          },
          "metadata": {},
          "output_type": "display_data"
        }
      ],
      "source": [
        "models_df.to_csv('Classifiers.csv', index = False)\n",
        "files.download('Classifiers.csv')"
      ]
    },
    {
      "cell_type": "code",
      "execution_count": 77,
      "metadata": {
        "colab": {
          "base_uri": "https://localhost:8080/",
          "height": 542
        },
        "id": "6bUCcYeb8rVM",
        "outputId": "48306081-093a-4b54-d8ed-961d25f70b34"
      },
      "outputs": [
        {
          "data": {
            "text/html": [
              "<html>\n",
              "<head><meta charset=\"utf-8\" /></head>\n",
              "<body>\n",
              "    <div>            <script src=\"https://cdnjs.cloudflare.com/ajax/libs/mathjax/2.7.5/MathJax.js?config=TeX-AMS-MML_SVG\"></script><script type=\"text/javascript\">if (window.MathJax && window.MathJax.Hub && window.MathJax.Hub.Config) {window.MathJax.Hub.Config({SVG: {font: \"STIX-Web\"}});}</script>                <script type=\"text/javascript\">window.PlotlyConfig = {MathJaxConfig: 'local'};</script>\n",
              "        <script src=\"https://cdn.plot.ly/plotly-2.18.2.min.js\"></script>                <div id=\"097a9707-f8e5-4384-89a3-e5030125666f\" class=\"plotly-graph-div\" style=\"height:525px; width:100%;\"></div>            <script type=\"text/javascript\">                                    window.PLOTLYENV=window.PLOTLYENV || {};                                    if (document.getElementById(\"097a9707-f8e5-4384-89a3-e5030125666f\")) {                    Plotly.newPlot(                        \"097a9707-f8e5-4384-89a3-e5030125666f\",                        [{\"alignmentgroup\":\"True\",\"hovertemplate\":\"x=%{x}<br>y=%{y}<extra></extra>\",\"legendgroup\":\"\",\"marker\":{\"color\":\"#1F77B4\",\"pattern\":{\"shape\":\"\"}},\"name\":\"\",\"offsetgroup\":\"\",\"orientation\":\"v\",\"showlegend\":false,\"textposition\":\"auto\",\"x\":[\"XGB\",\"Convolutional RFC\",\"Convolutional SMV\",\"Convolutional XGB\",\"Convolutional KNN\",\"SMV\",\"CNN\",\"RFC\",\"Convolutional GNB\",\"KNN\",\"GNB\"],\"xaxis\":\"x\",\"y\":[0.8369320012890751,0.8275862068965517,0.8266194005800838,0.8256525942636158,0.8227521753142121,0.8195294875926523,0.817595899105072,0.8008378988076056,0.7834353851111827,0.7657106026426039,0.5259426361585562],\"yaxis\":\"y\",\"type\":\"bar\"}],                        {\"template\":{\"data\":{\"barpolar\":[{\"marker\":{\"line\":{\"color\":\"white\",\"width\":0.5},\"pattern\":{\"fillmode\":\"overlay\",\"size\":10,\"solidity\":0.2}},\"type\":\"barpolar\"}],\"bar\":[{\"error_x\":{\"color\":\"rgb(36,36,36)\"},\"error_y\":{\"color\":\"rgb(36,36,36)\"},\"marker\":{\"line\":{\"color\":\"white\",\"width\":0.5},\"pattern\":{\"fillmode\":\"overlay\",\"size\":10,\"solidity\":0.2}},\"type\":\"bar\"}],\"carpet\":[{\"aaxis\":{\"endlinecolor\":\"rgb(36,36,36)\",\"gridcolor\":\"white\",\"linecolor\":\"white\",\"minorgridcolor\":\"white\",\"startlinecolor\":\"rgb(36,36,36)\"},\"baxis\":{\"endlinecolor\":\"rgb(36,36,36)\",\"gridcolor\":\"white\",\"linecolor\":\"white\",\"minorgridcolor\":\"white\",\"startlinecolor\":\"rgb(36,36,36)\"},\"type\":\"carpet\"}],\"choropleth\":[{\"colorbar\":{\"outlinewidth\":1,\"tickcolor\":\"rgb(36,36,36)\",\"ticks\":\"outside\"},\"type\":\"choropleth\"}],\"contourcarpet\":[{\"colorbar\":{\"outlinewidth\":1,\"tickcolor\":\"rgb(36,36,36)\",\"ticks\":\"outside\"},\"type\":\"contourcarpet\"}],\"contour\":[{\"colorbar\":{\"outlinewidth\":1,\"tickcolor\":\"rgb(36,36,36)\",\"ticks\":\"outside\"},\"colorscale\":[[0.0,\"#440154\"],[0.1111111111111111,\"#482878\"],[0.2222222222222222,\"#3e4989\"],[0.3333333333333333,\"#31688e\"],[0.4444444444444444,\"#26828e\"],[0.5555555555555556,\"#1f9e89\"],[0.6666666666666666,\"#35b779\"],[0.7777777777777778,\"#6ece58\"],[0.8888888888888888,\"#b5de2b\"],[1.0,\"#fde725\"]],\"type\":\"contour\"}],\"heatmapgl\":[{\"colorbar\":{\"outlinewidth\":1,\"tickcolor\":\"rgb(36,36,36)\",\"ticks\":\"outside\"},\"colorscale\":[[0.0,\"#440154\"],[0.1111111111111111,\"#482878\"],[0.2222222222222222,\"#3e4989\"],[0.3333333333333333,\"#31688e\"],[0.4444444444444444,\"#26828e\"],[0.5555555555555556,\"#1f9e89\"],[0.6666666666666666,\"#35b779\"],[0.7777777777777778,\"#6ece58\"],[0.8888888888888888,\"#b5de2b\"],[1.0,\"#fde725\"]],\"type\":\"heatmapgl\"}],\"heatmap\":[{\"colorbar\":{\"outlinewidth\":1,\"tickcolor\":\"rgb(36,36,36)\",\"ticks\":\"outside\"},\"colorscale\":[[0.0,\"#440154\"],[0.1111111111111111,\"#482878\"],[0.2222222222222222,\"#3e4989\"],[0.3333333333333333,\"#31688e\"],[0.4444444444444444,\"#26828e\"],[0.5555555555555556,\"#1f9e89\"],[0.6666666666666666,\"#35b779\"],[0.7777777777777778,\"#6ece58\"],[0.8888888888888888,\"#b5de2b\"],[1.0,\"#fde725\"]],\"type\":\"heatmap\"}],\"histogram2dcontour\":[{\"colorbar\":{\"outlinewidth\":1,\"tickcolor\":\"rgb(36,36,36)\",\"ticks\":\"outside\"},\"colorscale\":[[0.0,\"#440154\"],[0.1111111111111111,\"#482878\"],[0.2222222222222222,\"#3e4989\"],[0.3333333333333333,\"#31688e\"],[0.4444444444444444,\"#26828e\"],[0.5555555555555556,\"#1f9e89\"],[0.6666666666666666,\"#35b779\"],[0.7777777777777778,\"#6ece58\"],[0.8888888888888888,\"#b5de2b\"],[1.0,\"#fde725\"]],\"type\":\"histogram2dcontour\"}],\"histogram2d\":[{\"colorbar\":{\"outlinewidth\":1,\"tickcolor\":\"rgb(36,36,36)\",\"ticks\":\"outside\"},\"colorscale\":[[0.0,\"#440154\"],[0.1111111111111111,\"#482878\"],[0.2222222222222222,\"#3e4989\"],[0.3333333333333333,\"#31688e\"],[0.4444444444444444,\"#26828e\"],[0.5555555555555556,\"#1f9e89\"],[0.6666666666666666,\"#35b779\"],[0.7777777777777778,\"#6ece58\"],[0.8888888888888888,\"#b5de2b\"],[1.0,\"#fde725\"]],\"type\":\"histogram2d\"}],\"histogram\":[{\"marker\":{\"line\":{\"color\":\"white\",\"width\":0.6}},\"type\":\"histogram\"}],\"mesh3d\":[{\"colorbar\":{\"outlinewidth\":1,\"tickcolor\":\"rgb(36,36,36)\",\"ticks\":\"outside\"},\"type\":\"mesh3d\"}],\"parcoords\":[{\"line\":{\"colorbar\":{\"outlinewidth\":1,\"tickcolor\":\"rgb(36,36,36)\",\"ticks\":\"outside\"}},\"type\":\"parcoords\"}],\"pie\":[{\"automargin\":true,\"type\":\"pie\"}],\"scatter3d\":[{\"line\":{\"colorbar\":{\"outlinewidth\":1,\"tickcolor\":\"rgb(36,36,36)\",\"ticks\":\"outside\"}},\"marker\":{\"colorbar\":{\"outlinewidth\":1,\"tickcolor\":\"rgb(36,36,36)\",\"ticks\":\"outside\"}},\"type\":\"scatter3d\"}],\"scattercarpet\":[{\"marker\":{\"colorbar\":{\"outlinewidth\":1,\"tickcolor\":\"rgb(36,36,36)\",\"ticks\":\"outside\"}},\"type\":\"scattercarpet\"}],\"scattergeo\":[{\"marker\":{\"colorbar\":{\"outlinewidth\":1,\"tickcolor\":\"rgb(36,36,36)\",\"ticks\":\"outside\"}},\"type\":\"scattergeo\"}],\"scattergl\":[{\"marker\":{\"colorbar\":{\"outlinewidth\":1,\"tickcolor\":\"rgb(36,36,36)\",\"ticks\":\"outside\"}},\"type\":\"scattergl\"}],\"scattermapbox\":[{\"marker\":{\"colorbar\":{\"outlinewidth\":1,\"tickcolor\":\"rgb(36,36,36)\",\"ticks\":\"outside\"}},\"type\":\"scattermapbox\"}],\"scatterpolargl\":[{\"marker\":{\"colorbar\":{\"outlinewidth\":1,\"tickcolor\":\"rgb(36,36,36)\",\"ticks\":\"outside\"}},\"type\":\"scatterpolargl\"}],\"scatterpolar\":[{\"marker\":{\"colorbar\":{\"outlinewidth\":1,\"tickcolor\":\"rgb(36,36,36)\",\"ticks\":\"outside\"}},\"type\":\"scatterpolar\"}],\"scatter\":[{\"fillpattern\":{\"fillmode\":\"overlay\",\"size\":10,\"solidity\":0.2},\"type\":\"scatter\"}],\"scatterternary\":[{\"marker\":{\"colorbar\":{\"outlinewidth\":1,\"tickcolor\":\"rgb(36,36,36)\",\"ticks\":\"outside\"}},\"type\":\"scatterternary\"}],\"surface\":[{\"colorbar\":{\"outlinewidth\":1,\"tickcolor\":\"rgb(36,36,36)\",\"ticks\":\"outside\"},\"colorscale\":[[0.0,\"#440154\"],[0.1111111111111111,\"#482878\"],[0.2222222222222222,\"#3e4989\"],[0.3333333333333333,\"#31688e\"],[0.4444444444444444,\"#26828e\"],[0.5555555555555556,\"#1f9e89\"],[0.6666666666666666,\"#35b779\"],[0.7777777777777778,\"#6ece58\"],[0.8888888888888888,\"#b5de2b\"],[1.0,\"#fde725\"]],\"type\":\"surface\"}],\"table\":[{\"cells\":{\"fill\":{\"color\":\"rgb(237,237,237)\"},\"line\":{\"color\":\"white\"}},\"header\":{\"fill\":{\"color\":\"rgb(217,217,217)\"},\"line\":{\"color\":\"white\"}},\"type\":\"table\"}]},\"layout\":{\"annotationdefaults\":{\"arrowhead\":0,\"arrowwidth\":1},\"autotypenumbers\":\"strict\",\"coloraxis\":{\"colorbar\":{\"outlinewidth\":1,\"tickcolor\":\"rgb(36,36,36)\",\"ticks\":\"outside\"}},\"colorscale\":{\"diverging\":[[0.0,\"rgb(103,0,31)\"],[0.1,\"rgb(178,24,43)\"],[0.2,\"rgb(214,96,77)\"],[0.3,\"rgb(244,165,130)\"],[0.4,\"rgb(253,219,199)\"],[0.5,\"rgb(247,247,247)\"],[0.6,\"rgb(209,229,240)\"],[0.7,\"rgb(146,197,222)\"],[0.8,\"rgb(67,147,195)\"],[0.9,\"rgb(33,102,172)\"],[1.0,\"rgb(5,48,97)\"]],\"sequential\":[[0.0,\"#440154\"],[0.1111111111111111,\"#482878\"],[0.2222222222222222,\"#3e4989\"],[0.3333333333333333,\"#31688e\"],[0.4444444444444444,\"#26828e\"],[0.5555555555555556,\"#1f9e89\"],[0.6666666666666666,\"#35b779\"],[0.7777777777777778,\"#6ece58\"],[0.8888888888888888,\"#b5de2b\"],[1.0,\"#fde725\"]],\"sequentialminus\":[[0.0,\"#440154\"],[0.1111111111111111,\"#482878\"],[0.2222222222222222,\"#3e4989\"],[0.3333333333333333,\"#31688e\"],[0.4444444444444444,\"#26828e\"],[0.5555555555555556,\"#1f9e89\"],[0.6666666666666666,\"#35b779\"],[0.7777777777777778,\"#6ece58\"],[0.8888888888888888,\"#b5de2b\"],[1.0,\"#fde725\"]]},\"colorway\":[\"#1F77B4\",\"#FF7F0E\",\"#2CA02C\",\"#D62728\",\"#9467BD\",\"#8C564B\",\"#E377C2\",\"#7F7F7F\",\"#BCBD22\",\"#17BECF\"],\"font\":{\"color\":\"rgb(36,36,36)\"},\"geo\":{\"bgcolor\":\"white\",\"lakecolor\":\"white\",\"landcolor\":\"white\",\"showlakes\":true,\"showland\":true,\"subunitcolor\":\"white\"},\"hoverlabel\":{\"align\":\"left\"},\"hovermode\":\"closest\",\"mapbox\":{\"style\":\"light\"},\"paper_bgcolor\":\"white\",\"plot_bgcolor\":\"white\",\"polar\":{\"angularaxis\":{\"gridcolor\":\"rgb(232,232,232)\",\"linecolor\":\"rgb(36,36,36)\",\"showgrid\":false,\"showline\":true,\"ticks\":\"outside\"},\"bgcolor\":\"white\",\"radialaxis\":{\"gridcolor\":\"rgb(232,232,232)\",\"linecolor\":\"rgb(36,36,36)\",\"showgrid\":false,\"showline\":true,\"ticks\":\"outside\"}},\"scene\":{\"xaxis\":{\"backgroundcolor\":\"white\",\"gridcolor\":\"rgb(232,232,232)\",\"gridwidth\":2,\"linecolor\":\"rgb(36,36,36)\",\"showbackground\":true,\"showgrid\":false,\"showline\":true,\"ticks\":\"outside\",\"zeroline\":false,\"zerolinecolor\":\"rgb(36,36,36)\"},\"yaxis\":{\"backgroundcolor\":\"white\",\"gridcolor\":\"rgb(232,232,232)\",\"gridwidth\":2,\"linecolor\":\"rgb(36,36,36)\",\"showbackground\":true,\"showgrid\":false,\"showline\":true,\"ticks\":\"outside\",\"zeroline\":false,\"zerolinecolor\":\"rgb(36,36,36)\"},\"zaxis\":{\"backgroundcolor\":\"white\",\"gridcolor\":\"rgb(232,232,232)\",\"gridwidth\":2,\"linecolor\":\"rgb(36,36,36)\",\"showbackground\":true,\"showgrid\":false,\"showline\":true,\"ticks\":\"outside\",\"zeroline\":false,\"zerolinecolor\":\"rgb(36,36,36)\"}},\"shapedefaults\":{\"fillcolor\":\"black\",\"line\":{\"width\":0},\"opacity\":0.3},\"ternary\":{\"aaxis\":{\"gridcolor\":\"rgb(232,232,232)\",\"linecolor\":\"rgb(36,36,36)\",\"showgrid\":false,\"showline\":true,\"ticks\":\"outside\"},\"baxis\":{\"gridcolor\":\"rgb(232,232,232)\",\"linecolor\":\"rgb(36,36,36)\",\"showgrid\":false,\"showline\":true,\"ticks\":\"outside\"},\"bgcolor\":\"white\",\"caxis\":{\"gridcolor\":\"rgb(232,232,232)\",\"linecolor\":\"rgb(36,36,36)\",\"showgrid\":false,\"showline\":true,\"ticks\":\"outside\"}},\"title\":{\"x\":0.05},\"xaxis\":{\"automargin\":true,\"gridcolor\":\"rgb(232,232,232)\",\"linecolor\":\"rgb(36,36,36)\",\"showgrid\":false,\"showline\":true,\"ticks\":\"outside\",\"title\":{\"standoff\":15},\"zeroline\":false,\"zerolinecolor\":\"rgb(36,36,36)\"},\"yaxis\":{\"automargin\":true,\"gridcolor\":\"rgb(232,232,232)\",\"linecolor\":\"rgb(36,36,36)\",\"showgrid\":false,\"showline\":true,\"ticks\":\"outside\",\"title\":{\"standoff\":15},\"zeroline\":false,\"zerolinecolor\":\"rgb(36,36,36)\"}}},\"xaxis\":{\"anchor\":\"y\",\"domain\":[0.0,1.0],\"title\":{\"text\":\"x\"}},\"yaxis\":{\"anchor\":\"x\",\"domain\":[0.0,1.0],\"title\":{\"text\":\"y\"}},\"legend\":{\"tracegroupgap\":0},\"title\":{\"text\":\"Comparing Multiclass Classifiers<br><sup>Based on Accuracy Scores calculated on Test Dataset</sup>\"},\"barmode\":\"relative\"},                        {\"responsive\": true}                    ).then(function(){\n",
              "                            \n",
              "var gd = document.getElementById('097a9707-f8e5-4384-89a3-e5030125666f');\n",
              "var x = new MutationObserver(function (mutations, observer) {{\n",
              "        var display = window.getComputedStyle(gd).display;\n",
              "        if (!display || display === 'none') {{\n",
              "            console.log([gd, 'removed!']);\n",
              "            Plotly.purge(gd);\n",
              "            observer.disconnect();\n",
              "        }}\n",
              "}});\n",
              "\n",
              "// Listen for the removal of the full notebook cells\n",
              "var notebookContainer = gd.closest('#notebook-container');\n",
              "if (notebookContainer) {{\n",
              "    x.observe(notebookContainer, {childList: true});\n",
              "}}\n",
              "\n",
              "// Listen for the clearing of the current output cell\n",
              "var outputEl = gd.closest('.output');\n",
              "if (outputEl) {{\n",
              "    x.observe(outputEl, {childList: true});\n",
              "}}\n",
              "\n",
              "                        })                };                            </script>        </div>\n",
              "</body>\n",
              "</html>"
            ]
          },
          "metadata": {},
          "output_type": "display_data"
        }
      ],
      "source": [
        "import plotly.express as px\n",
        "\n",
        "fig = px.bar(x = models_df.Model,\n",
        "             y = models_df.Test_Accuracy,\n",
        "             title = 'Comparing Multiclass Classifiers<br><sup>Based on Accuracy Scores calculated on Test Dataset</sup>',\n",
        "             template = 'simple_white',\n",
        "             labels = {'Model': 'Classification Model', 'Test_Accuracy': 'Test Accuracy Score'}\n",
        "             )\n",
        "fig.show()"
      ]
    }
  ],
  "metadata": {
    "accelerator": "GPU",
    "colab": {
      "provenance": [],
      "toc_visible": true
    },
    "gpuClass": "standard",
    "kernelspec": {
      "display_name": "Python 3",
      "name": "python3"
    },
    "language_info": {
      "name": "python"
    }
  },
  "nbformat": 4,
  "nbformat_minor": 0
}
