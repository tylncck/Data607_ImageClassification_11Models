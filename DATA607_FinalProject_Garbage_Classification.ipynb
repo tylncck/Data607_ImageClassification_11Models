{
  "cells": [
    {
      "cell_type": "markdown",
      "metadata": {
        "id": "FIDZNBZVLXoc"
      },
      "source": [
        "# DATA 607 Final Project: Garbage Classification\n",
        "\n",
        "## Ibtassam Rasheed (30201479), Imad Ahmad (30198988), Jose Palacios (30190988), Onur Taylan Cicek (30184538)"
      ]
    },
    {
      "cell_type": "markdown",
      "metadata": {
        "id": "Iloj1UgfLhkG"
      },
      "source": [
        "## Packages"
      ]
    },
    {
      "cell_type": "code",
      "execution_count": null,
      "metadata": {
        "id": "tHnkX-BcLQ89"
      },
      "outputs": [],
      "source": [
        "import tensorflow as tf\n",
        "from keras.models import Sequential, Model\n",
        "from keras.layers import Dense, Activation, Conv2D, MaxPooling2D, Flatten, Input, Dropout\n",
        "from keras.optimizers import Adam\n",
        "from keras.metrics import Accuracy\n",
        "from keras.models import load_model\n",
        "from keras.utils import np_utils\n",
        "\n",
        "from matplotlib import pyplot as plt\n",
        "\n",
        "import shutil\n",
        "import os\n",
        "import imghdr\n",
        "import numpy as np\n",
        "import pandas as pd\n",
        "import cv2\n",
        "from zipfile import ZipFile\n",
        "import warnings\n",
        "warnings.filterwarnings('ignore')"
      ]
    },
    {
      "cell_type": "code",
      "execution_count": null,
      "metadata": {
        "colab": {
          "base_uri": "https://localhost:8080/"
        },
        "id": "LCxI7PgywnuN",
        "outputId": "3794e6b7-839e-41e3-ab46-49264e27c777"
      },
      "outputs": [
        {
          "output_type": "execute_result",
          "data": {
            "text/plain": [
              "[PhysicalDevice(name='/physical_device:GPU:0', device_type='GPU')]"
            ]
          },
          "metadata": {},
          "execution_count": 6
        }
      ],
      "source": [
        "gpus = tf.config.experimental.list_physical_devices('GPU')\n",
        "for gpu in gpus: \n",
        "    tf.config.experimental.set_memory_growth(gpu, True)\n",
        "tf.config.list_physical_devices('GPU')"
      ]
    },
    {
      "cell_type": "markdown",
      "source": [
        "## Table of Contents\n",
        "\n",
        "* [Introduction](#zero-bullet)\n",
        "* [Data Collection & Processing](#first-bullet)\n",
        "* [Classification Models](#second-bullet)\n",
        "* [Model Comparison](#third-bullet)\n",
        "* [Conclusion](#fourth-bullet)\n",
        "* [References](#fifth-bullet)\n"
      ],
      "metadata": {
        "id": "C9CVaLWrVfrt"
      }
    },
    {
      "cell_type": "markdown",
      "source": [
        "# **1. Introduction** <a class=\"anchor\" id=\"zero-bullet\"></a>\n",
        "\n",
        "The world today faces an unprecedented waste management crisis, exacerbated by rapid urbanization \n",
        "\n",
        "and population growth (Hoornweg et al., 2015). Efficient waste management is essential not only to aid the environmental impacts of waste disposal, but also to promote a sustainable economy (Kaza et al., 2018). One of the most pressing challenges in waste management is the accurate and efficient classification of waste (Silva et al., 2020). This is particularly important for recycling, as correct classification and separation of waste are prerequisites for high-quality recycling processes.  \n",
        "\n",
        "Recent advancements in computer vision and machine learning have opened new possibilities for automating the process of waste classification, reducing human error and streamlining recycling operations. These technologies, when applied effectively, can greatly improve waste management systems and contribute to a more sustainable future.  \n",
        "\n",
        "This project aims to develop a trash classification model that utilizes deep learning techniques to accurately classify images of waste into distinct categories. The specific categories we will be classifying into a \"recycling\", \"compost\", and \"trash\". Leveraging state-of-the-art algorithms, these models seek to optimize classification performance, ensuring a better waste sorting process. By addressing the critical issue of waste classification, this project contributes to the broader goal of improving waste management systems and promoting environmental sustainability. \n",
        "\n",
        "Our main research questions are: \n",
        " \n",
        "\n",
        "1. Which classifier produces the strongest results for classifying the images? \n",
        "\n",
        "2. Can we build a classifier that is accurate enough that it can be used in a practical setting without causing more harm than good? "
      ],
      "metadata": {
        "id": "XFWH9cF8Qt4G"
      }
    },
    {
      "cell_type": "markdown",
      "metadata": {
        "id": "TRej22dOMJkD"
      },
      "source": [
        "# **2. Data Collection & Processing** <a class=\"anchor\" id=\"first-bullet\"></a>\n",
        "\n",
        "The main portion of the data was pulled from Kaggle (Mohamed, 2021), and is available to us through the open data commons license (ODbL). This data was classified with twelve different labels, featuring 15,000 images of waste. We did our best to reduce these into three classes, removing data where necessary.  "
      ]
    },
    {
      "cell_type": "code",
      "execution_count": null,
      "metadata": {
        "colab": {
          "base_uri": "https://localhost:8080/"
        },
        "id": "c7HaUb64MV-Q",
        "outputId": "d15cd68b-6be8-4500-da58-02ae51d6d4ed"
      },
      "outputs": [
        {
          "output_type": "stream",
          "name": "stdout",
          "text": [
            "garbage-classification.zip: Skipping, found more recently modified local copy (use --force to force download)\n"
          ]
        }
      ],
      "source": [
        "os.environ['KAGGLE_USERNAME'] = '---' # kaggle API username\n",
        "os.environ['KAGGLE_KEY'] = '---' # kaggle API key\n",
        "! kaggle datasets download -d mostafaabla/garbage-classification"
      ]
    },
    {
      "cell_type": "code",
      "execution_count": null,
      "metadata": {
        "id": "N8q6pyOYMlOm"
      },
      "outputs": [],
      "source": [
        "file_name = \"/content/garbage-classification.zip\"\n",
        "with ZipFile(file_name, 'r') as zip:\n",
        "  zip.extractall()"
      ]
    },
    {
      "cell_type": "code",
      "execution_count": null,
      "metadata": {
        "id": "1RclaJHdMn4Y"
      },
      "outputs": [],
      "source": [
        "import shutil\n",
        "dir = \"/content/garbage_classification/\"\n",
        "trash_list = ['trash', 'clothes', 'battery', 'shoes']\n",
        "recyc_list = ['plastic', 'brown-glass', 'white-glass', 'cardboard', 'green-glass', 'metal', 'paper']\n",
        "comp_list = ['biological']\n",
        "for folder in os.listdir(dir):\n",
        "  if folder in trash_list:\n",
        "    dir_path = dir + 'trash/'\n",
        "    if not os.path.exists(dir_path):\n",
        "      os.makedirs(dir_path)\n",
        "    for f in os.listdir(dir+folder):\n",
        "      shutil.move(dir + folder + '/' + f, dir_path + f)\n",
        "  elif folder in recyc_list:\n",
        "    dir_path = dir + 'recyc/'\n",
        "    if not os.path.exists(dir_path):\n",
        "      os.makedirs(dir_path)\n",
        "    for f in os.listdir(dir+folder):\n",
        "      shutil.move(dir + folder + '/' + f, dir_path + f)\n",
        "  elif folder in comp_list:\n",
        "    dir_path = dir + 'comp/'\n",
        "    if not os.path.exists(dir_path):\n",
        "      os.makedirs(dir_path)\n",
        "    for f in os.listdir(dir+folder):\n",
        "      shutil.move(dir + folder + '/' + f, dir_path + f)\n",
        "\n",
        "for folder in os.listdir(dir):\n",
        "  if folder not in ['trash', 'recyc', 'comp']:\n",
        "    os.rmdir(dir + folder)"
      ]
    },
    {
      "cell_type": "code",
      "execution_count": null,
      "metadata": {
        "colab": {
          "base_uri": "https://localhost:8080/"
        },
        "id": "YM_UKuspMrR4",
        "outputId": "066510ad-0900-4d1e-9547-d83fe02f0659"
      },
      "outputs": [
        {
          "output_type": "stream",
          "name": "stdout",
          "text": [
            "There are 3 classes to classify\n"
          ]
        }
      ],
      "source": [
        "num_classes = len(list(os.listdir(dir)))\n",
        "print(f'There are {num_classes} classes to classify')"
      ]
    },
    {
      "cell_type": "markdown",
      "metadata": {
        "id": "nSkuQhA3MsNx"
      },
      "source": [
        "## Reading Images"
      ]
    },
    {
      "cell_type": "code",
      "execution_count": null,
      "metadata": {
        "colab": {
          "base_uri": "https://localhost:8080/"
        },
        "id": "WUnAK3jeMvqQ",
        "outputId": "905e6a58-5ef2-4c02-fdc2-44babcdb641f"
      },
      "outputs": [
        {
          "output_type": "stream",
          "name": "stdout",
          "text": [
            "Found 15515 files belonging to 3 classes.\n"
          ]
        }
      ],
      "source": [
        "images = []\n",
        "labels = []\n",
        "for img, label in tf.keras.utils.image_dataset_from_directory(directory='/content/garbage_classification', \n",
        "                                                              labels='inferred',\n",
        "                                                              label_mode = 'int',\n",
        "                                                              batch_size=None,\n",
        "                                                              image_size=(16, 16)).take(-1).as_numpy_iterator():\n",
        "  images.append(img)\n",
        "  labels.append(label)"
      ]
    },
    {
      "cell_type": "markdown",
      "metadata": {
        "id": "Hzp7ffxjS0RR"
      },
      "source": [
        "## Train Test Split"
      ]
    },
    {
      "cell_type": "code",
      "execution_count": null,
      "metadata": {
        "id": "_LE5om44RaAC"
      },
      "outputs": [],
      "source": [
        "from sklearn.model_selection import train_test_split\n",
        "\n",
        "#Scaling RGB values to [0,1] range \n",
        "images = np.array(images)\n",
        "images = images / 255.0\n",
        "\n",
        "x_train, x_test, y_train, y_test = train_test_split(images, labels, train_size = 0.8, random_state = 156, stratify= labels)\n",
        "\n",
        "height, width, channels = (images.shape[1],images.shape[2],images.shape[3])\n",
        "\n",
        "x_flat_train = x_train.reshape(x_train.shape[0], height * width * channels) \n",
        "x_flat_test = x_test.reshape(x_test.shape[0], height * width * channels)\n",
        "\n",
        "del images, labels"
      ]
    },
    {
      "cell_type": "code",
      "execution_count": null,
      "metadata": {
        "colab": {
          "base_uri": "https://localhost:8080/",
          "height": 17
        },
        "id": "qZ0vhoCa5fJG",
        "outputId": "93129dc0-3891-42a0-9092-a9d863eb60dd"
      },
      "outputs": [
        {
          "output_type": "display_data",
          "data": {
            "text/plain": [
              "<IPython.core.display.Javascript object>"
            ],
            "application/javascript": [
              "\n",
              "    async function download(id, filename, size) {\n",
              "      if (!google.colab.kernel.accessAllowed) {\n",
              "        return;\n",
              "      }\n",
              "      const div = document.createElement('div');\n",
              "      const label = document.createElement('label');\n",
              "      label.textContent = `Downloading \"${filename}\": `;\n",
              "      div.appendChild(label);\n",
              "      const progress = document.createElement('progress');\n",
              "      progress.max = size;\n",
              "      div.appendChild(progress);\n",
              "      document.body.appendChild(div);\n",
              "\n",
              "      const buffers = [];\n",
              "      let downloaded = 0;\n",
              "\n",
              "      const channel = await google.colab.kernel.comms.open(id);\n",
              "      // Send a message to notify the kernel that we're ready.\n",
              "      channel.send({})\n",
              "\n",
              "      for await (const message of channel.messages) {\n",
              "        // Send a message to notify the kernel that we're ready.\n",
              "        channel.send({})\n",
              "        if (message.buffers) {\n",
              "          for (const buffer of message.buffers) {\n",
              "            buffers.push(buffer);\n",
              "            downloaded += buffer.byteLength;\n",
              "            progress.value = downloaded;\n",
              "          }\n",
              "        }\n",
              "      }\n",
              "      const blob = new Blob(buffers, {type: 'application/binary'});\n",
              "      const a = document.createElement('a');\n",
              "      a.href = window.URL.createObjectURL(blob);\n",
              "      a.download = filename;\n",
              "      div.appendChild(a);\n",
              "      a.click();\n",
              "      div.remove();\n",
              "    }\n",
              "  "
            ]
          },
          "metadata": {}
        },
        {
          "output_type": "display_data",
          "data": {
            "text/plain": [
              "<IPython.core.display.Javascript object>"
            ],
            "application/javascript": [
              "download(\"download_e34042db-fb95-4f9c-8f46-690b29b35c18\", \"x_train.pkl\", 38129831)"
            ]
          },
          "metadata": {}
        },
        {
          "output_type": "display_data",
          "data": {
            "text/plain": [
              "<IPython.core.display.Javascript object>"
            ],
            "application/javascript": [
              "\n",
              "    async function download(id, filename, size) {\n",
              "      if (!google.colab.kernel.accessAllowed) {\n",
              "        return;\n",
              "      }\n",
              "      const div = document.createElement('div');\n",
              "      const label = document.createElement('label');\n",
              "      label.textContent = `Downloading \"${filename}\": `;\n",
              "      div.appendChild(label);\n",
              "      const progress = document.createElement('progress');\n",
              "      progress.max = size;\n",
              "      div.appendChild(progress);\n",
              "      document.body.appendChild(div);\n",
              "\n",
              "      const buffers = [];\n",
              "      let downloaded = 0;\n",
              "\n",
              "      const channel = await google.colab.kernel.comms.open(id);\n",
              "      // Send a message to notify the kernel that we're ready.\n",
              "      channel.send({})\n",
              "\n",
              "      for await (const message of channel.messages) {\n",
              "        // Send a message to notify the kernel that we're ready.\n",
              "        channel.send({})\n",
              "        if (message.buffers) {\n",
              "          for (const buffer of message.buffers) {\n",
              "            buffers.push(buffer);\n",
              "            downloaded += buffer.byteLength;\n",
              "            progress.value = downloaded;\n",
              "          }\n",
              "        }\n",
              "      }\n",
              "      const blob = new Blob(buffers, {type: 'application/binary'});\n",
              "      const a = document.createElement('a');\n",
              "      a.href = window.URL.createObjectURL(blob);\n",
              "      a.download = filename;\n",
              "      div.appendChild(a);\n",
              "      a.click();\n",
              "      div.remove();\n",
              "    }\n",
              "  "
            ]
          },
          "metadata": {}
        },
        {
          "output_type": "display_data",
          "data": {
            "text/plain": [
              "<IPython.core.display.Javascript object>"
            ],
            "application/javascript": [
              "download(\"download_3ee3d84a-3402-45f8-8381-426bb1ae21c0\", \"x_test.pkl\", 9532583)"
            ]
          },
          "metadata": {}
        },
        {
          "output_type": "display_data",
          "data": {
            "text/plain": [
              "<IPython.core.display.Javascript object>"
            ],
            "application/javascript": [
              "\n",
              "    async function download(id, filename, size) {\n",
              "      if (!google.colab.kernel.accessAllowed) {\n",
              "        return;\n",
              "      }\n",
              "      const div = document.createElement('div');\n",
              "      const label = document.createElement('label');\n",
              "      label.textContent = `Downloading \"${filename}\": `;\n",
              "      div.appendChild(label);\n",
              "      const progress = document.createElement('progress');\n",
              "      progress.max = size;\n",
              "      div.appendChild(progress);\n",
              "      document.body.appendChild(div);\n",
              "\n",
              "      const buffers = [];\n",
              "      let downloaded = 0;\n",
              "\n",
              "      const channel = await google.colab.kernel.comms.open(id);\n",
              "      // Send a message to notify the kernel that we're ready.\n",
              "      channel.send({})\n",
              "\n",
              "      for await (const message of channel.messages) {\n",
              "        // Send a message to notify the kernel that we're ready.\n",
              "        channel.send({})\n",
              "        if (message.buffers) {\n",
              "          for (const buffer of message.buffers) {\n",
              "            buffers.push(buffer);\n",
              "            downloaded += buffer.byteLength;\n",
              "            progress.value = downloaded;\n",
              "          }\n",
              "        }\n",
              "      }\n",
              "      const blob = new Blob(buffers, {type: 'application/binary'});\n",
              "      const a = document.createElement('a');\n",
              "      a.href = window.URL.createObjectURL(blob);\n",
              "      a.download = filename;\n",
              "      div.appendChild(a);\n",
              "      a.click();\n",
              "      div.remove();\n",
              "    }\n",
              "  "
            ]
          },
          "metadata": {}
        },
        {
          "output_type": "display_data",
          "data": {
            "text/plain": [
              "<IPython.core.display.Javascript object>"
            ],
            "application/javascript": [
              "download(\"download_dfd15f36-3c0f-4787-94d3-4643e41e99c7\", \"y_train.pkl\", 186323)"
            ]
          },
          "metadata": {}
        },
        {
          "output_type": "display_data",
          "data": {
            "text/plain": [
              "<IPython.core.display.Javascript object>"
            ],
            "application/javascript": [
              "\n",
              "    async function download(id, filename, size) {\n",
              "      if (!google.colab.kernel.accessAllowed) {\n",
              "        return;\n",
              "      }\n",
              "      const div = document.createElement('div');\n",
              "      const label = document.createElement('label');\n",
              "      label.textContent = `Downloading \"${filename}\": `;\n",
              "      div.appendChild(label);\n",
              "      const progress = document.createElement('progress');\n",
              "      progress.max = size;\n",
              "      div.appendChild(progress);\n",
              "      document.body.appendChild(div);\n",
              "\n",
              "      const buffers = [];\n",
              "      let downloaded = 0;\n",
              "\n",
              "      const channel = await google.colab.kernel.comms.open(id);\n",
              "      // Send a message to notify the kernel that we're ready.\n",
              "      channel.send({})\n",
              "\n",
              "      for await (const message of channel.messages) {\n",
              "        // Send a message to notify the kernel that we're ready.\n",
              "        channel.send({})\n",
              "        if (message.buffers) {\n",
              "          for (const buffer of message.buffers) {\n",
              "            buffers.push(buffer);\n",
              "            downloaded += buffer.byteLength;\n",
              "            progress.value = downloaded;\n",
              "          }\n",
              "        }\n",
              "      }\n",
              "      const blob = new Blob(buffers, {type: 'application/binary'});\n",
              "      const a = document.createElement('a');\n",
              "      a.href = window.URL.createObjectURL(blob);\n",
              "      a.download = filename;\n",
              "      div.appendChild(a);\n",
              "      a.click();\n",
              "      div.remove();\n",
              "    }\n",
              "  "
            ]
          },
          "metadata": {}
        },
        {
          "output_type": "display_data",
          "data": {
            "text/plain": [
              "<IPython.core.display.Javascript object>"
            ],
            "application/javascript": [
              "download(\"download_acb160c7-2a99-48c0-8af4-721be6f88889\", \"y_test.pkl\", 46652)"
            ]
          },
          "metadata": {}
        },
        {
          "output_type": "display_data",
          "data": {
            "text/plain": [
              "<IPython.core.display.Javascript object>"
            ],
            "application/javascript": [
              "\n",
              "    async function download(id, filename, size) {\n",
              "      if (!google.colab.kernel.accessAllowed) {\n",
              "        return;\n",
              "      }\n",
              "      const div = document.createElement('div');\n",
              "      const label = document.createElement('label');\n",
              "      label.textContent = `Downloading \"${filename}\": `;\n",
              "      div.appendChild(label);\n",
              "      const progress = document.createElement('progress');\n",
              "      progress.max = size;\n",
              "      div.appendChild(progress);\n",
              "      document.body.appendChild(div);\n",
              "\n",
              "      const buffers = [];\n",
              "      let downloaded = 0;\n",
              "\n",
              "      const channel = await google.colab.kernel.comms.open(id);\n",
              "      // Send a message to notify the kernel that we're ready.\n",
              "      channel.send({})\n",
              "\n",
              "      for await (const message of channel.messages) {\n",
              "        // Send a message to notify the kernel that we're ready.\n",
              "        channel.send({})\n",
              "        if (message.buffers) {\n",
              "          for (const buffer of message.buffers) {\n",
              "            buffers.push(buffer);\n",
              "            downloaded += buffer.byteLength;\n",
              "            progress.value = downloaded;\n",
              "          }\n",
              "        }\n",
              "      }\n",
              "      const blob = new Blob(buffers, {type: 'application/binary'});\n",
              "      const a = document.createElement('a');\n",
              "      a.href = window.URL.createObjectURL(blob);\n",
              "      a.download = filename;\n",
              "      div.appendChild(a);\n",
              "      a.click();\n",
              "      div.remove();\n",
              "    }\n",
              "  "
            ]
          },
          "metadata": {}
        },
        {
          "output_type": "display_data",
          "data": {
            "text/plain": [
              "<IPython.core.display.Javascript object>"
            ],
            "application/javascript": [
              "download(\"download_979f0126-b0b2-4d06-b7ec-5e0ed5907c76\", \"x_flat_train.pkl\", 38129827)"
            ]
          },
          "metadata": {}
        },
        {
          "output_type": "display_data",
          "data": {
            "text/plain": [
              "<IPython.core.display.Javascript object>"
            ],
            "application/javascript": [
              "\n",
              "    async function download(id, filename, size) {\n",
              "      if (!google.colab.kernel.accessAllowed) {\n",
              "        return;\n",
              "      }\n",
              "      const div = document.createElement('div');\n",
              "      const label = document.createElement('label');\n",
              "      label.textContent = `Downloading \"${filename}\": `;\n",
              "      div.appendChild(label);\n",
              "      const progress = document.createElement('progress');\n",
              "      progress.max = size;\n",
              "      div.appendChild(progress);\n",
              "      document.body.appendChild(div);\n",
              "\n",
              "      const buffers = [];\n",
              "      let downloaded = 0;\n",
              "\n",
              "      const channel = await google.colab.kernel.comms.open(id);\n",
              "      // Send a message to notify the kernel that we're ready.\n",
              "      channel.send({})\n",
              "\n",
              "      for await (const message of channel.messages) {\n",
              "        // Send a message to notify the kernel that we're ready.\n",
              "        channel.send({})\n",
              "        if (message.buffers) {\n",
              "          for (const buffer of message.buffers) {\n",
              "            buffers.push(buffer);\n",
              "            downloaded += buffer.byteLength;\n",
              "            progress.value = downloaded;\n",
              "          }\n",
              "        }\n",
              "      }\n",
              "      const blob = new Blob(buffers, {type: 'application/binary'});\n",
              "      const a = document.createElement('a');\n",
              "      a.href = window.URL.createObjectURL(blob);\n",
              "      a.download = filename;\n",
              "      div.appendChild(a);\n",
              "      a.click();\n",
              "      div.remove();\n",
              "    }\n",
              "  "
            ]
          },
          "metadata": {}
        },
        {
          "output_type": "display_data",
          "data": {
            "text/plain": [
              "<IPython.core.display.Javascript object>"
            ],
            "application/javascript": [
              "download(\"download_76b2fe8b-759e-40ff-81ed-593f43e69227\", \"x_flat_test.pkl\", 9532579)"
            ]
          },
          "metadata": {}
        }
      ],
      "source": [
        "import pickle\n",
        "with open('x_train.pkl', 'wb') as file:\n",
        "    pickle.dump(x_train, file)\n",
        "\n",
        "with open('x_test.pkl', 'wb') as file:\n",
        "    pickle.dump(x_test, file)\n",
        "\n",
        "with open('y_train.pkl', 'wb') as file:\n",
        "    pickle.dump(y_train, file)\n",
        "\n",
        "with open('y_test.pkl', 'wb') as file:\n",
        "    pickle.dump(y_test, file)\n",
        "\n",
        "with open('x_flat_train.pkl', 'wb') as file:\n",
        "    pickle.dump(x_flat_train, file)\n",
        "\n",
        "with open('x_flat_test.pkl', 'wb') as file:\n",
        "    pickle.dump(x_flat_test, file)\n",
        "\n",
        "from google.colab import files\n",
        "files.download('x_train.pkl')\n",
        "files.download('x_test.pkl')\n",
        "files.download('y_train.pkl')\n",
        "files.download('y_test.pkl')\n",
        "files.download('x_flat_train.pkl')\n",
        "files.download('x_flat_test.pkl')"
      ]
    },
    {
      "cell_type": "markdown",
      "metadata": {
        "id": "4uN4eeZ5JSnq"
      },
      "source": [
        "## Checking for Class Distributions"
      ]
    },
    {
      "cell_type": "code",
      "execution_count": null,
      "metadata": {
        "colab": {
          "base_uri": "https://localhost:8080/",
          "height": 542
        },
        "id": "Qnyh-8pmK4hQ",
        "outputId": "f0f455f6-d937-4819-db74-2b4280bf2410"
      },
      "outputs": [
        {
          "output_type": "display_data",
          "data": {
            "text/html": [
              "<html>\n",
              "<head><meta charset=\"utf-8\" /></head>\n",
              "<body>\n",
              "    <div>            <script src=\"https://cdnjs.cloudflare.com/ajax/libs/mathjax/2.7.5/MathJax.js?config=TeX-AMS-MML_SVG\"></script><script type=\"text/javascript\">if (window.MathJax && window.MathJax.Hub && window.MathJax.Hub.Config) {window.MathJax.Hub.Config({SVG: {font: \"STIX-Web\"}});}</script>                <script type=\"text/javascript\">window.PlotlyConfig = {MathJaxConfig: 'local'};</script>\n",
              "        <script src=\"https://cdn.plot.ly/plotly-2.18.2.min.js\"></script>                <div id=\"2b5c8876-eabb-4a65-bdea-734214fab24e\" class=\"plotly-graph-div\" style=\"height:525px; width:100%;\"></div>            <script type=\"text/javascript\">                                    window.PLOTLYENV=window.PLOTLYENV || {};                                    if (document.getElementById(\"2b5c8876-eabb-4a65-bdea-734214fab24e\")) {                    Plotly.newPlot(                        \"2b5c8876-eabb-4a65-bdea-734214fab24e\",                        [{\"alignmentgroup\":\"True\",\"hovertemplate\":\"Dataset=Train<br>Category=%{x}<br>Count=%{y}<extra></extra>\",\"legendgroup\":\"Train\",\"marker\":{\"color\":\"crimson\",\"pattern\":{\"shape\":\"\"}},\"name\":\"Train\",\"offsetgroup\":\"Train\",\"orientation\":\"v\",\"showlegend\":true,\"textposition\":\"auto\",\"x\":[\"Trash\",\"Recyclable\",\"Compostable\"],\"xaxis\":\"x\",\"y\":[0.5764582661940058,0.36005478569126653,0.06348694811472769],\"yaxis\":\"y\",\"type\":\"bar\"},{\"alignmentgroup\":\"True\",\"hovertemplate\":\"Dataset=Test<br>Category=%{x}<br>Count=%{y}<extra></extra>\",\"legendgroup\":\"Test\",\"marker\":{\"color\":\"gray\",\"pattern\":{\"shape\":\"\"}},\"name\":\"Test\",\"offsetgroup\":\"Test\",\"orientation\":\"v\",\"showlegend\":true,\"textposition\":\"auto\",\"x\":[\"Trash\",\"Recyclable\",\"Compostable\"],\"xaxis\":\"x\",\"y\":[0.5765388333870448,0.3599742184982275,0.06348694811472769],\"yaxis\":\"y\",\"type\":\"bar\"}],                        {\"template\":{\"data\":{\"barpolar\":[{\"marker\":{\"line\":{\"color\":\"white\",\"width\":0.5},\"pattern\":{\"fillmode\":\"overlay\",\"size\":10,\"solidity\":0.2}},\"type\":\"barpolar\"}],\"bar\":[{\"error_x\":{\"color\":\"rgb(36,36,36)\"},\"error_y\":{\"color\":\"rgb(36,36,36)\"},\"marker\":{\"line\":{\"color\":\"white\",\"width\":0.5},\"pattern\":{\"fillmode\":\"overlay\",\"size\":10,\"solidity\":0.2}},\"type\":\"bar\"}],\"carpet\":[{\"aaxis\":{\"endlinecolor\":\"rgb(36,36,36)\",\"gridcolor\":\"white\",\"linecolor\":\"white\",\"minorgridcolor\":\"white\",\"startlinecolor\":\"rgb(36,36,36)\"},\"baxis\":{\"endlinecolor\":\"rgb(36,36,36)\",\"gridcolor\":\"white\",\"linecolor\":\"white\",\"minorgridcolor\":\"white\",\"startlinecolor\":\"rgb(36,36,36)\"},\"type\":\"carpet\"}],\"choropleth\":[{\"colorbar\":{\"outlinewidth\":1,\"tickcolor\":\"rgb(36,36,36)\",\"ticks\":\"outside\"},\"type\":\"choropleth\"}],\"contourcarpet\":[{\"colorbar\":{\"outlinewidth\":1,\"tickcolor\":\"rgb(36,36,36)\",\"ticks\":\"outside\"},\"type\":\"contourcarpet\"}],\"contour\":[{\"colorbar\":{\"outlinewidth\":1,\"tickcolor\":\"rgb(36,36,36)\",\"ticks\":\"outside\"},\"colorscale\":[[0.0,\"#440154\"],[0.1111111111111111,\"#482878\"],[0.2222222222222222,\"#3e4989\"],[0.3333333333333333,\"#31688e\"],[0.4444444444444444,\"#26828e\"],[0.5555555555555556,\"#1f9e89\"],[0.6666666666666666,\"#35b779\"],[0.7777777777777778,\"#6ece58\"],[0.8888888888888888,\"#b5de2b\"],[1.0,\"#fde725\"]],\"type\":\"contour\"}],\"heatmapgl\":[{\"colorbar\":{\"outlinewidth\":1,\"tickcolor\":\"rgb(36,36,36)\",\"ticks\":\"outside\"},\"colorscale\":[[0.0,\"#440154\"],[0.1111111111111111,\"#482878\"],[0.2222222222222222,\"#3e4989\"],[0.3333333333333333,\"#31688e\"],[0.4444444444444444,\"#26828e\"],[0.5555555555555556,\"#1f9e89\"],[0.6666666666666666,\"#35b779\"],[0.7777777777777778,\"#6ece58\"],[0.8888888888888888,\"#b5de2b\"],[1.0,\"#fde725\"]],\"type\":\"heatmapgl\"}],\"heatmap\":[{\"colorbar\":{\"outlinewidth\":1,\"tickcolor\":\"rgb(36,36,36)\",\"ticks\":\"outside\"},\"colorscale\":[[0.0,\"#440154\"],[0.1111111111111111,\"#482878\"],[0.2222222222222222,\"#3e4989\"],[0.3333333333333333,\"#31688e\"],[0.4444444444444444,\"#26828e\"],[0.5555555555555556,\"#1f9e89\"],[0.6666666666666666,\"#35b779\"],[0.7777777777777778,\"#6ece58\"],[0.8888888888888888,\"#b5de2b\"],[1.0,\"#fde725\"]],\"type\":\"heatmap\"}],\"histogram2dcontour\":[{\"colorbar\":{\"outlinewidth\":1,\"tickcolor\":\"rgb(36,36,36)\",\"ticks\":\"outside\"},\"colorscale\":[[0.0,\"#440154\"],[0.1111111111111111,\"#482878\"],[0.2222222222222222,\"#3e4989\"],[0.3333333333333333,\"#31688e\"],[0.4444444444444444,\"#26828e\"],[0.5555555555555556,\"#1f9e89\"],[0.6666666666666666,\"#35b779\"],[0.7777777777777778,\"#6ece58\"],[0.8888888888888888,\"#b5de2b\"],[1.0,\"#fde725\"]],\"type\":\"histogram2dcontour\"}],\"histogram2d\":[{\"colorbar\":{\"outlinewidth\":1,\"tickcolor\":\"rgb(36,36,36)\",\"ticks\":\"outside\"},\"colorscale\":[[0.0,\"#440154\"],[0.1111111111111111,\"#482878\"],[0.2222222222222222,\"#3e4989\"],[0.3333333333333333,\"#31688e\"],[0.4444444444444444,\"#26828e\"],[0.5555555555555556,\"#1f9e89\"],[0.6666666666666666,\"#35b779\"],[0.7777777777777778,\"#6ece58\"],[0.8888888888888888,\"#b5de2b\"],[1.0,\"#fde725\"]],\"type\":\"histogram2d\"}],\"histogram\":[{\"marker\":{\"line\":{\"color\":\"white\",\"width\":0.6}},\"type\":\"histogram\"}],\"mesh3d\":[{\"colorbar\":{\"outlinewidth\":1,\"tickcolor\":\"rgb(36,36,36)\",\"ticks\":\"outside\"},\"type\":\"mesh3d\"}],\"parcoords\":[{\"line\":{\"colorbar\":{\"outlinewidth\":1,\"tickcolor\":\"rgb(36,36,36)\",\"ticks\":\"outside\"}},\"type\":\"parcoords\"}],\"pie\":[{\"automargin\":true,\"type\":\"pie\"}],\"scatter3d\":[{\"line\":{\"colorbar\":{\"outlinewidth\":1,\"tickcolor\":\"rgb(36,36,36)\",\"ticks\":\"outside\"}},\"marker\":{\"colorbar\":{\"outlinewidth\":1,\"tickcolor\":\"rgb(36,36,36)\",\"ticks\":\"outside\"}},\"type\":\"scatter3d\"}],\"scattercarpet\":[{\"marker\":{\"colorbar\":{\"outlinewidth\":1,\"tickcolor\":\"rgb(36,36,36)\",\"ticks\":\"outside\"}},\"type\":\"scattercarpet\"}],\"scattergeo\":[{\"marker\":{\"colorbar\":{\"outlinewidth\":1,\"tickcolor\":\"rgb(36,36,36)\",\"ticks\":\"outside\"}},\"type\":\"scattergeo\"}],\"scattergl\":[{\"marker\":{\"colorbar\":{\"outlinewidth\":1,\"tickcolor\":\"rgb(36,36,36)\",\"ticks\":\"outside\"}},\"type\":\"scattergl\"}],\"scattermapbox\":[{\"marker\":{\"colorbar\":{\"outlinewidth\":1,\"tickcolor\":\"rgb(36,36,36)\",\"ticks\":\"outside\"}},\"type\":\"scattermapbox\"}],\"scatterpolargl\":[{\"marker\":{\"colorbar\":{\"outlinewidth\":1,\"tickcolor\":\"rgb(36,36,36)\",\"ticks\":\"outside\"}},\"type\":\"scatterpolargl\"}],\"scatterpolar\":[{\"marker\":{\"colorbar\":{\"outlinewidth\":1,\"tickcolor\":\"rgb(36,36,36)\",\"ticks\":\"outside\"}},\"type\":\"scatterpolar\"}],\"scatter\":[{\"fillpattern\":{\"fillmode\":\"overlay\",\"size\":10,\"solidity\":0.2},\"type\":\"scatter\"}],\"scatterternary\":[{\"marker\":{\"colorbar\":{\"outlinewidth\":1,\"tickcolor\":\"rgb(36,36,36)\",\"ticks\":\"outside\"}},\"type\":\"scatterternary\"}],\"surface\":[{\"colorbar\":{\"outlinewidth\":1,\"tickcolor\":\"rgb(36,36,36)\",\"ticks\":\"outside\"},\"colorscale\":[[0.0,\"#440154\"],[0.1111111111111111,\"#482878\"],[0.2222222222222222,\"#3e4989\"],[0.3333333333333333,\"#31688e\"],[0.4444444444444444,\"#26828e\"],[0.5555555555555556,\"#1f9e89\"],[0.6666666666666666,\"#35b779\"],[0.7777777777777778,\"#6ece58\"],[0.8888888888888888,\"#b5de2b\"],[1.0,\"#fde725\"]],\"type\":\"surface\"}],\"table\":[{\"cells\":{\"fill\":{\"color\":\"rgb(237,237,237)\"},\"line\":{\"color\":\"white\"}},\"header\":{\"fill\":{\"color\":\"rgb(217,217,217)\"},\"line\":{\"color\":\"white\"}},\"type\":\"table\"}]},\"layout\":{\"annotationdefaults\":{\"arrowhead\":0,\"arrowwidth\":1},\"autotypenumbers\":\"strict\",\"coloraxis\":{\"colorbar\":{\"outlinewidth\":1,\"tickcolor\":\"rgb(36,36,36)\",\"ticks\":\"outside\"}},\"colorscale\":{\"diverging\":[[0.0,\"rgb(103,0,31)\"],[0.1,\"rgb(178,24,43)\"],[0.2,\"rgb(214,96,77)\"],[0.3,\"rgb(244,165,130)\"],[0.4,\"rgb(253,219,199)\"],[0.5,\"rgb(247,247,247)\"],[0.6,\"rgb(209,229,240)\"],[0.7,\"rgb(146,197,222)\"],[0.8,\"rgb(67,147,195)\"],[0.9,\"rgb(33,102,172)\"],[1.0,\"rgb(5,48,97)\"]],\"sequential\":[[0.0,\"#440154\"],[0.1111111111111111,\"#482878\"],[0.2222222222222222,\"#3e4989\"],[0.3333333333333333,\"#31688e\"],[0.4444444444444444,\"#26828e\"],[0.5555555555555556,\"#1f9e89\"],[0.6666666666666666,\"#35b779\"],[0.7777777777777778,\"#6ece58\"],[0.8888888888888888,\"#b5de2b\"],[1.0,\"#fde725\"]],\"sequentialminus\":[[0.0,\"#440154\"],[0.1111111111111111,\"#482878\"],[0.2222222222222222,\"#3e4989\"],[0.3333333333333333,\"#31688e\"],[0.4444444444444444,\"#26828e\"],[0.5555555555555556,\"#1f9e89\"],[0.6666666666666666,\"#35b779\"],[0.7777777777777778,\"#6ece58\"],[0.8888888888888888,\"#b5de2b\"],[1.0,\"#fde725\"]]},\"colorway\":[\"#1F77B4\",\"#FF7F0E\",\"#2CA02C\",\"#D62728\",\"#9467BD\",\"#8C564B\",\"#E377C2\",\"#7F7F7F\",\"#BCBD22\",\"#17BECF\"],\"font\":{\"color\":\"rgb(36,36,36)\"},\"geo\":{\"bgcolor\":\"white\",\"lakecolor\":\"white\",\"landcolor\":\"white\",\"showlakes\":true,\"showland\":true,\"subunitcolor\":\"white\"},\"hoverlabel\":{\"align\":\"left\"},\"hovermode\":\"closest\",\"mapbox\":{\"style\":\"light\"},\"paper_bgcolor\":\"white\",\"plot_bgcolor\":\"white\",\"polar\":{\"angularaxis\":{\"gridcolor\":\"rgb(232,232,232)\",\"linecolor\":\"rgb(36,36,36)\",\"showgrid\":false,\"showline\":true,\"ticks\":\"outside\"},\"bgcolor\":\"white\",\"radialaxis\":{\"gridcolor\":\"rgb(232,232,232)\",\"linecolor\":\"rgb(36,36,36)\",\"showgrid\":false,\"showline\":true,\"ticks\":\"outside\"}},\"scene\":{\"xaxis\":{\"backgroundcolor\":\"white\",\"gridcolor\":\"rgb(232,232,232)\",\"gridwidth\":2,\"linecolor\":\"rgb(36,36,36)\",\"showbackground\":true,\"showgrid\":false,\"showline\":true,\"ticks\":\"outside\",\"zeroline\":false,\"zerolinecolor\":\"rgb(36,36,36)\"},\"yaxis\":{\"backgroundcolor\":\"white\",\"gridcolor\":\"rgb(232,232,232)\",\"gridwidth\":2,\"linecolor\":\"rgb(36,36,36)\",\"showbackground\":true,\"showgrid\":false,\"showline\":true,\"ticks\":\"outside\",\"zeroline\":false,\"zerolinecolor\":\"rgb(36,36,36)\"},\"zaxis\":{\"backgroundcolor\":\"white\",\"gridcolor\":\"rgb(232,232,232)\",\"gridwidth\":2,\"linecolor\":\"rgb(36,36,36)\",\"showbackground\":true,\"showgrid\":false,\"showline\":true,\"ticks\":\"outside\",\"zeroline\":false,\"zerolinecolor\":\"rgb(36,36,36)\"}},\"shapedefaults\":{\"fillcolor\":\"black\",\"line\":{\"width\":0},\"opacity\":0.3},\"ternary\":{\"aaxis\":{\"gridcolor\":\"rgb(232,232,232)\",\"linecolor\":\"rgb(36,36,36)\",\"showgrid\":false,\"showline\":true,\"ticks\":\"outside\"},\"baxis\":{\"gridcolor\":\"rgb(232,232,232)\",\"linecolor\":\"rgb(36,36,36)\",\"showgrid\":false,\"showline\":true,\"ticks\":\"outside\"},\"bgcolor\":\"white\",\"caxis\":{\"gridcolor\":\"rgb(232,232,232)\",\"linecolor\":\"rgb(36,36,36)\",\"showgrid\":false,\"showline\":true,\"ticks\":\"outside\"}},\"title\":{\"x\":0.05},\"xaxis\":{\"automargin\":true,\"gridcolor\":\"rgb(232,232,232)\",\"linecolor\":\"rgb(36,36,36)\",\"showgrid\":false,\"showline\":true,\"ticks\":\"outside\",\"title\":{\"standoff\":15},\"zeroline\":false,\"zerolinecolor\":\"rgb(36,36,36)\"},\"yaxis\":{\"automargin\":true,\"gridcolor\":\"rgb(232,232,232)\",\"linecolor\":\"rgb(36,36,36)\",\"showgrid\":false,\"showline\":true,\"ticks\":\"outside\",\"title\":{\"standoff\":15},\"zeroline\":false,\"zerolinecolor\":\"rgb(36,36,36)\"}}},\"xaxis\":{\"anchor\":\"y\",\"domain\":[0.0,1.0],\"title\":{\"text\":\"Category\"}},\"yaxis\":{\"anchor\":\"x\",\"domain\":[0.0,1.0],\"title\":{\"text\":\"Count\"}},\"legend\":{\"title\":{\"text\":\"Dataset\"},\"tracegroupgap\":0},\"title\":{\"text\":\"<b>Comparing Class Distributions in Train and Datasets<b><br><sub>With the help of stratification, both train and test datasets are identical in terms of proportional allocation<sub>\"},\"barmode\":\"group\"},                        {\"responsive\": true}                    ).then(function(){\n",
              "                            \n",
              "var gd = document.getElementById('2b5c8876-eabb-4a65-bdea-734214fab24e');\n",
              "var x = new MutationObserver(function (mutations, observer) {{\n",
              "        var display = window.getComputedStyle(gd).display;\n",
              "        if (!display || display === 'none') {{\n",
              "            console.log([gd, 'removed!']);\n",
              "            Plotly.purge(gd);\n",
              "            observer.disconnect();\n",
              "        }}\n",
              "}});\n",
              "\n",
              "// Listen for the removal of the full notebook cells\n",
              "var notebookContainer = gd.closest('#notebook-container');\n",
              "if (notebookContainer) {{\n",
              "    x.observe(notebookContainer, {childList: true});\n",
              "}}\n",
              "\n",
              "// Listen for the clearing of the current output cell\n",
              "var outputEl = gd.closest('.output');\n",
              "if (outputEl) {{\n",
              "    x.observe(outputEl, {childList: true});\n",
              "}}\n",
              "\n",
              "                        })                };                            </script>        </div>\n",
              "</body>\n",
              "</html>"
            ]
          },
          "metadata": {}
        }
      ],
      "source": [
        "import plotly.express as px\n",
        "import pandas as pd\n",
        "\n",
        "train_counts = pd.Series(y_train).value_counts(normalize = True)\n",
        "test_counts = pd.Series(y_test).value_counts(normalize = True)\n",
        "\n",
        "counts_df = pd.DataFrame({\n",
        "    'Category': ['Trash', 'Recyclable', 'Compostable'],\n",
        "    'Train': train_counts,\n",
        "    'Test': test_counts\n",
        "})\n",
        "\n",
        "melted_df = pd.melt(counts_df, id_vars=['Category'], var_name='Dataset', value_name='Count')\n",
        "\n",
        "fig = px.bar(melted_df, \n",
        "             x='Category', \n",
        "             y='Count', \n",
        "             color='Dataset',\n",
        "             barmode='group',\n",
        "             template = 'simple_white',\n",
        "             color_discrete_sequence = ['crimson', 'gray'],\n",
        "             title = '<b>Comparing Class Distributions in Train and Datasets<b><br><sub>With the help of stratification, both train and test datasets are identical in terms of proportional allocation<sub>')\n",
        "fig.show()"
      ]
    },
    {
      "cell_type": "markdown",
      "metadata": {
        "id": "_Zm4IlFGQf09"
      },
      "source": [
        "In light of the bar plot provided, we can justify the class imbalances in our train and test datasets, where trash > recyc > comp, by stating that these proportions are in line with real-world data observed in different countries and cities. Studies conducted in Lahore, Pakistan (Nazeer et al., 2019), Bangalore, India (Kulkarni & Anantharama, 2020), and Istanbul, Turkey (Ozkan et al., 2017) all indicate varying percentages of trash, recycling, and composting depending on factors such as local waste management practices, infrastructure, and cultural norms.\n",
        "\n",
        "By maintaining these imbalances, our dataset reflects the actual distribution of waste found across various locations, which will help our model generalize better and make more accurate predictions when applied to real-world scenarios. If we were to use oversampling or undersampling techniques to artificially balance the classes, we would risk introducing biases that could potentially hinder the model's ability to perform well in diverse situations.\n",
        "\n",
        "\n",
        "\n",
        "\n",
        "\n",
        "\n"
      ]
    },
    {
      "cell_type": "markdown",
      "metadata": {
        "id": "aJoOPI-OS_rZ"
      },
      "source": [
        "# **3. Classification Models** <a class=\"anchor\" id=\"second-bullet\"></a>"
      ]
    },
    {
      "cell_type": "code",
      "execution_count": null,
      "metadata": {
        "id": "tMpGDhUqWF6X"
      },
      "outputs": [],
      "source": [
        "models_df = pd.DataFrame(columns = ['Model', 'Test_Accuracy', 'F1_Score'])"
      ]
    },
    {
      "cell_type": "markdown",
      "metadata": {
        "id": "yYYpFdIsTFiv"
      },
      "source": [
        "### Support Vector Machine (SVM)\n",
        "\n",
        "Support Vector Machines (SVM) is a supervised machine learning algorithm utilized for classification and regression tasks. SVM operates by constructing an optimal hyperplane or decision boundary that separates data points into different classes while maximizing the margin between these classes. It achieves this by identifying support vectors, which are the data points that lie closest to the decision boundary, and computing the optimal hyperplane based on these support vectors. The algorithm is particularly effective in high-dimensional spaces and is capable of handling linear and nonlinear classification problems (Cortes & Vapnik, 1995). \n",
        "\n",
        "The hyperparameter C is a regularization parameter that controls the trade-off between maximizing the margin and minimizing the classification error (Cortes & Vapnik, 1995). A smaller value of C creates a wider margin but allows for more misclassifications, while a larger value of C results in a narrower margin with fewer misclassifications. The kernel function is another crucial hyperparameter, responsible for transforming the input data into a higher-dimensional space to enable nonlinear classification. Common kernel functions include linear, polynomial, radial basis function (RBF), and sigmoid kernels. The choice of kernel function and its associated parameters can significantly impact the performance of the SVM model (Schölkopf et al., 1997). These were the hyperparameters we tuned for this model. "
      ]
    },
    {
      "cell_type": "code",
      "execution_count": null,
      "metadata": {
        "id": "ik28OCjDTJOi",
        "colab": {
          "base_uri": "https://localhost:8080/"
        },
        "outputId": "ca4749b0-29e5-4f8e-d5d9-13bb40dfd484"
      },
      "outputs": [
        {
          "output_type": "stream",
          "name": "stdout",
          "text": [
            "Fitting 5 folds for each of 4 candidates, totalling 20 fits\n",
            "[CV] END ....................................C=1, kernel=rbf; total time=  37.9s\n",
            "[CV] END ....................................C=1, kernel=rbf; total time=  54.2s\n",
            "[CV] END ....................................C=1, kernel=rbf; total time=  37.0s\n",
            "[CV] END ....................................C=1, kernel=rbf; total time=  35.9s\n",
            "[CV] END ....................................C=1, kernel=rbf; total time=  34.8s\n",
            "[CV] END ...................................C=1, kernel=poly; total time= 1.1min\n",
            "[CV] END ...................................C=1, kernel=poly; total time= 1.1min\n",
            "[CV] END ...................................C=1, kernel=poly; total time= 1.1min\n",
            "[CV] END ...................................C=1, kernel=poly; total time= 1.0min\n",
            "[CV] END ...................................C=1, kernel=poly; total time= 1.2min\n",
            "[CV] END ....................................C=5, kernel=rbf; total time=  43.3s\n",
            "[CV] END ....................................C=5, kernel=rbf; total time=  38.6s\n",
            "[CV] END ....................................C=5, kernel=rbf; total time=  39.1s\n",
            "[CV] END ....................................C=5, kernel=rbf; total time=  38.4s\n",
            "[CV] END ....................................C=5, kernel=rbf; total time=  39.6s\n",
            "[CV] END ...................................C=5, kernel=poly; total time= 1.8min\n",
            "[CV] END ...................................C=5, kernel=poly; total time= 1.7min\n",
            "[CV] END ...................................C=5, kernel=poly; total time= 1.7min\n",
            "[CV] END ...................................C=5, kernel=poly; total time= 1.8min\n",
            "[CV] END ...................................C=5, kernel=poly; total time= 1.7min\n",
            "Best Hyperparameters:  {'C': 5, 'kernel': 'rbf'}\n",
            "Best Accuracy:  0.807606113189349\n"
          ]
        }
      ],
      "source": [
        "from sklearn.svm import SVC\n",
        "from sklearn.model_selection import GridSearchCV\n",
        "from sklearn.metrics import accuracy_score\n",
        "from sklearn.metrics import f1_score\n",
        "\n",
        "params = {'C': [1, 5], #Regularization parameter. The strength of the regularization is inversely proportional to C. Must be strictly positive. The penalty is a squared l2 penalty.\n",
        "          'kernel': ['rbf', 'poly']} #Specifies the kernel type to be used in the algorithm. If none is given, ‘rbf’ will be used. If a callable is given it is used to pre-compute the kernel matrix from data matrices; that matrix should be an array of shape (n_samples, n_samples).\n",
        "\n",
        "\n",
        "svm = SVC()\n",
        "grid_search = GridSearchCV(estimator = svm, \n",
        "                           param_grid = params, \n",
        "                           cv=5,\n",
        "                           scoring = 'accuracy',\n",
        "                           verbose = 2)\n",
        "\n",
        "grid_search.fit(x_flat_train, y_train)\n",
        "\n",
        "print(\"Best Hyperparameters: \", grid_search.best_params_)\n",
        "print(\"Best Accuracy: \", grid_search.best_score_)"
      ]
    },
    {
      "cell_type": "code",
      "execution_count": null,
      "metadata": {
        "id": "Q4_IixZCnt2s"
      },
      "outputs": [],
      "source": [
        "best_svm = grid_search.best_estimator_"
      ]
    },
    {
      "cell_type": "code",
      "execution_count": null,
      "metadata": {
        "id": "FOVV1vG_k1gI",
        "colab": {
          "base_uri": "https://localhost:8080/"
        },
        "outputId": "f1244da4-12cf-4bb8-c45c-ad6f91261047"
      },
      "outputs": [
        {
          "output_type": "stream",
          "name": "stdout",
          "text": [
            "Accuracy on Testing Set:  0.822429906542056\n"
          ]
        }
      ],
      "source": [
        "y_pred = best_svm.predict(x_flat_test)\n",
        "accuracy = accuracy_score(y_test, y_pred)\n",
        "print(\"Accuracy on Testing Set: \", accuracy)"
      ]
    },
    {
      "cell_type": "code",
      "execution_count": null,
      "metadata": {
        "id": "GGjlIo4Jguw4",
        "colab": {
          "base_uri": "https://localhost:8080/"
        },
        "outputId": "cc84c723-9e55-4581-9fcf-3b20517e5a39"
      },
      "outputs": [
        {
          "output_type": "stream",
          "name": "stdout",
          "text": [
            "F1 Score on Testing Set:  0.8195571891895203\n"
          ]
        }
      ],
      "source": [
        "f1score = f1_score(y_test, y_pred, average='weighted')\n",
        "print(\"F1 Score on Testing Set: \", f1score)"
      ]
    },
    {
      "cell_type": "code",
      "execution_count": null,
      "metadata": {
        "id": "1NW2w0hWW7HL",
        "colab": {
          "base_uri": "https://localhost:8080/",
          "height": 81
        },
        "outputId": "8a982581-3092-41ae-b0fc-c1f56b8a05e0"
      },
      "outputs": [
        {
          "output_type": "execute_result",
          "data": {
            "text/plain": [
              "  Model  Test_Accuracy  F1_Score\n",
              "0   SVM        0.82243  0.819557"
            ],
            "text/html": [
              "\n",
              "  <div id=\"df-635df094-4fd4-41e3-ad26-9eaf1b7b6526\">\n",
              "    <div class=\"colab-df-container\">\n",
              "      <div>\n",
              "<style scoped>\n",
              "    .dataframe tbody tr th:only-of-type {\n",
              "        vertical-align: middle;\n",
              "    }\n",
              "\n",
              "    .dataframe tbody tr th {\n",
              "        vertical-align: top;\n",
              "    }\n",
              "\n",
              "    .dataframe thead th {\n",
              "        text-align: right;\n",
              "    }\n",
              "</style>\n",
              "<table border=\"1\" class=\"dataframe\">\n",
              "  <thead>\n",
              "    <tr style=\"text-align: right;\">\n",
              "      <th></th>\n",
              "      <th>Model</th>\n",
              "      <th>Test_Accuracy</th>\n",
              "      <th>F1_Score</th>\n",
              "    </tr>\n",
              "  </thead>\n",
              "  <tbody>\n",
              "    <tr>\n",
              "      <th>0</th>\n",
              "      <td>SVM</td>\n",
              "      <td>0.82243</td>\n",
              "      <td>0.819557</td>\n",
              "    </tr>\n",
              "  </tbody>\n",
              "</table>\n",
              "</div>\n",
              "      <button class=\"colab-df-convert\" onclick=\"convertToInteractive('df-635df094-4fd4-41e3-ad26-9eaf1b7b6526')\"\n",
              "              title=\"Convert this dataframe to an interactive table.\"\n",
              "              style=\"display:none;\">\n",
              "        \n",
              "  <svg xmlns=\"http://www.w3.org/2000/svg\" height=\"24px\"viewBox=\"0 0 24 24\"\n",
              "       width=\"24px\">\n",
              "    <path d=\"M0 0h24v24H0V0z\" fill=\"none\"/>\n",
              "    <path d=\"M18.56 5.44l.94 2.06.94-2.06 2.06-.94-2.06-.94-.94-2.06-.94 2.06-2.06.94zm-11 1L8.5 8.5l.94-2.06 2.06-.94-2.06-.94L8.5 2.5l-.94 2.06-2.06.94zm10 10l.94 2.06.94-2.06 2.06-.94-2.06-.94-.94-2.06-.94 2.06-2.06.94z\"/><path d=\"M17.41 7.96l-1.37-1.37c-.4-.4-.92-.59-1.43-.59-.52 0-1.04.2-1.43.59L10.3 9.45l-7.72 7.72c-.78.78-.78 2.05 0 2.83L4 21.41c.39.39.9.59 1.41.59.51 0 1.02-.2 1.41-.59l7.78-7.78 2.81-2.81c.8-.78.8-2.07 0-2.86zM5.41 20L4 18.59l7.72-7.72 1.47 1.35L5.41 20z\"/>\n",
              "  </svg>\n",
              "      </button>\n",
              "      \n",
              "  <style>\n",
              "    .colab-df-container {\n",
              "      display:flex;\n",
              "      flex-wrap:wrap;\n",
              "      gap: 12px;\n",
              "    }\n",
              "\n",
              "    .colab-df-convert {\n",
              "      background-color: #E8F0FE;\n",
              "      border: none;\n",
              "      border-radius: 50%;\n",
              "      cursor: pointer;\n",
              "      display: none;\n",
              "      fill: #1967D2;\n",
              "      height: 32px;\n",
              "      padding: 0 0 0 0;\n",
              "      width: 32px;\n",
              "    }\n",
              "\n",
              "    .colab-df-convert:hover {\n",
              "      background-color: #E2EBFA;\n",
              "      box-shadow: 0px 1px 2px rgba(60, 64, 67, 0.3), 0px 1px 3px 1px rgba(60, 64, 67, 0.15);\n",
              "      fill: #174EA6;\n",
              "    }\n",
              "\n",
              "    [theme=dark] .colab-df-convert {\n",
              "      background-color: #3B4455;\n",
              "      fill: #D2E3FC;\n",
              "    }\n",
              "\n",
              "    [theme=dark] .colab-df-convert:hover {\n",
              "      background-color: #434B5C;\n",
              "      box-shadow: 0px 1px 3px 1px rgba(0, 0, 0, 0.15);\n",
              "      filter: drop-shadow(0px 1px 2px rgba(0, 0, 0, 0.3));\n",
              "      fill: #FFFFFF;\n",
              "    }\n",
              "  </style>\n",
              "\n",
              "      <script>\n",
              "        const buttonEl =\n",
              "          document.querySelector('#df-635df094-4fd4-41e3-ad26-9eaf1b7b6526 button.colab-df-convert');\n",
              "        buttonEl.style.display =\n",
              "          google.colab.kernel.accessAllowed ? 'block' : 'none';\n",
              "\n",
              "        async function convertToInteractive(key) {\n",
              "          const element = document.querySelector('#df-635df094-4fd4-41e3-ad26-9eaf1b7b6526');\n",
              "          const dataTable =\n",
              "            await google.colab.kernel.invokeFunction('convertToInteractive',\n",
              "                                                     [key], {});\n",
              "          if (!dataTable) return;\n",
              "\n",
              "          const docLinkHtml = 'Like what you see? Visit the ' +\n",
              "            '<a target=\"_blank\" href=https://colab.research.google.com/notebooks/data_table.ipynb>data table notebook</a>'\n",
              "            + ' to learn more about interactive tables.';\n",
              "          element.innerHTML = '';\n",
              "          dataTable['output_type'] = 'display_data';\n",
              "          await google.colab.output.renderOutput(dataTable, element);\n",
              "          const docLink = document.createElement('div');\n",
              "          docLink.innerHTML = docLinkHtml;\n",
              "          element.appendChild(docLink);\n",
              "        }\n",
              "      </script>\n",
              "    </div>\n",
              "  </div>\n",
              "  "
            ]
          },
          "metadata": {},
          "execution_count": 18
        }
      ],
      "source": [
        "models_df = models_df.append(pd.Series(['SVM', accuracy, f1score], index=models_df.columns), ignore_index=True)\n",
        "models_df = models_df.sort_values('Test_Accuracy', ascending=False)\n",
        "models_df"
      ]
    },
    {
      "cell_type": "code",
      "execution_count": null,
      "metadata": {
        "id": "QSXj867xckOh",
        "colab": {
          "base_uri": "https://localhost:8080/",
          "height": 17
        },
        "outputId": "e92039c7-27f8-4448-e4dc-068fd53adff6"
      },
      "outputs": [
        {
          "output_type": "display_data",
          "data": {
            "text/plain": [
              "<IPython.core.display.Javascript object>"
            ],
            "application/javascript": [
              "\n",
              "    async function download(id, filename, size) {\n",
              "      if (!google.colab.kernel.accessAllowed) {\n",
              "        return;\n",
              "      }\n",
              "      const div = document.createElement('div');\n",
              "      const label = document.createElement('label');\n",
              "      label.textContent = `Downloading \"${filename}\": `;\n",
              "      div.appendChild(label);\n",
              "      const progress = document.createElement('progress');\n",
              "      progress.max = size;\n",
              "      div.appendChild(progress);\n",
              "      document.body.appendChild(div);\n",
              "\n",
              "      const buffers = [];\n",
              "      let downloaded = 0;\n",
              "\n",
              "      const channel = await google.colab.kernel.comms.open(id);\n",
              "      // Send a message to notify the kernel that we're ready.\n",
              "      channel.send({})\n",
              "\n",
              "      for await (const message of channel.messages) {\n",
              "        // Send a message to notify the kernel that we're ready.\n",
              "        channel.send({})\n",
              "        if (message.buffers) {\n",
              "          for (const buffer of message.buffers) {\n",
              "            buffers.push(buffer);\n",
              "            downloaded += buffer.byteLength;\n",
              "            progress.value = downloaded;\n",
              "          }\n",
              "        }\n",
              "      }\n",
              "      const blob = new Blob(buffers, {type: 'application/binary'});\n",
              "      const a = document.createElement('a');\n",
              "      a.href = window.URL.createObjectURL(blob);\n",
              "      a.download = filename;\n",
              "      div.appendChild(a);\n",
              "      a.click();\n",
              "      div.remove();\n",
              "    }\n",
              "  "
            ]
          },
          "metadata": {}
        },
        {
          "output_type": "display_data",
          "data": {
            "text/plain": [
              "<IPython.core.display.Javascript object>"
            ],
            "application/javascript": [
              "download(\"download_3861e13c-9050-45c6-862b-01fa3bbdd57e\", \"SVM_Model.pkl\", 43167717)"
            ]
          },
          "metadata": {}
        }
      ],
      "source": [
        "with open('SVM_Model.pkl', 'wb') as file:\n",
        "    pickle.dump(best_svm, file)\n",
        "\n",
        "from google.colab import files\n",
        "files.download('SVM_Model.pkl')"
      ]
    },
    {
      "cell_type": "markdown",
      "metadata": {
        "id": "S_trDms3aaJl"
      },
      "source": [
        "### K-Nearest Neighbour (KNN) Classification\n",
        "\n",
        "K-Nearest Neighbors (KNN) is a non-parametric, instance-based supervised learning algorithm used for classification and regression tasks. KNN works by identifying the k nearest data points in the feature space to a given query point and determining the class or output value based on the majority vote or average of these neighboring instances. The algorithm is lazy, meaning it does not build an explicit model but instead stores the entire training dataset and performs calculations during the prediction phase, making it computationally efficient during training (Cover & Hart, 1967). \n",
        "\n",
        "The number of neighbors (k) is a critical hyperparameter in KNN, which determines the number of nearest data points considered for prediction. A smaller k value may result in overfitting due to high sensitivity to noise, while a larger k value can lead to underfitting and decreased accuracy (Hastie, Tibshirani, & Friedman, 2009). The weights parameter, which can be either uniform or distance-based, is used to assign importance to the neighbors. Uniform weighting treats all neighbors equally, while distance-based weighting assigns higher importance to closer neighbors (Hechenbichler & Schliep, 2004). The distance metric, such as Euclidean or Manhattan, is another key hyperparameter that defines how the distance between data points is measured. Different distance metrics can influence the performance of KNN depending on the dataset's characteristics and the problem's nature (Cha, 2007). "
      ]
    },
    {
      "cell_type": "code",
      "execution_count": null,
      "metadata": {
        "id": "I61H_k1PadeU",
        "colab": {
          "base_uri": "https://localhost:8080/"
        },
        "outputId": "aac09a52-432b-40cf-b684-03832bcbb307"
      },
      "outputs": [
        {
          "output_type": "stream",
          "name": "stdout",
          "text": [
            "Fitting 5 folds for each of 8 candidates, totalling 40 fits\n",
            "[CV] END ................n_neighbors=5, p=1, weights=uniform; total time=  20.9s\n",
            "[CV] END ................n_neighbors=5, p=1, weights=uniform; total time=  17.5s\n",
            "[CV] END ................n_neighbors=5, p=1, weights=uniform; total time=  16.3s\n",
            "[CV] END ................n_neighbors=5, p=1, weights=uniform; total time=  16.3s\n",
            "[CV] END ................n_neighbors=5, p=1, weights=uniform; total time=  17.1s\n",
            "[CV] END ...............n_neighbors=5, p=1, weights=distance; total time=  16.5s\n",
            "[CV] END ...............n_neighbors=5, p=1, weights=distance; total time=  16.8s\n",
            "[CV] END ...............n_neighbors=5, p=1, weights=distance; total time=  16.6s\n",
            "[CV] END ...............n_neighbors=5, p=1, weights=distance; total time=  16.6s\n",
            "[CV] END ...............n_neighbors=5, p=1, weights=distance; total time=  17.0s\n",
            "[CV] END ................n_neighbors=5, p=2, weights=uniform; total time=   1.0s\n",
            "[CV] END ................n_neighbors=5, p=2, weights=uniform; total time=   1.0s\n",
            "[CV] END ................n_neighbors=5, p=2, weights=uniform; total time=   1.0s\n",
            "[CV] END ................n_neighbors=5, p=2, weights=uniform; total time=   1.5s\n",
            "[CV] END ................n_neighbors=5, p=2, weights=uniform; total time=   1.6s\n",
            "[CV] END ...............n_neighbors=5, p=2, weights=distance; total time=   1.0s\n",
            "[CV] END ...............n_neighbors=5, p=2, weights=distance; total time=   0.9s\n",
            "[CV] END ...............n_neighbors=5, p=2, weights=distance; total time=   0.9s\n",
            "[CV] END ...............n_neighbors=5, p=2, weights=distance; total time=   1.0s\n",
            "[CV] END ...............n_neighbors=5, p=2, weights=distance; total time=   1.0s\n",
            "[CV] END ................n_neighbors=7, p=1, weights=uniform; total time=  16.4s\n",
            "[CV] END ................n_neighbors=7, p=1, weights=uniform; total time=  17.4s\n",
            "[CV] END ................n_neighbors=7, p=1, weights=uniform; total time=  16.2s\n",
            "[CV] END ................n_neighbors=7, p=1, weights=uniform; total time=  16.4s\n",
            "[CV] END ................n_neighbors=7, p=1, weights=uniform; total time=  16.8s\n",
            "[CV] END ...............n_neighbors=7, p=1, weights=distance; total time=  16.7s\n",
            "[CV] END ...............n_neighbors=7, p=1, weights=distance; total time=  16.4s\n",
            "[CV] END ...............n_neighbors=7, p=1, weights=distance; total time=  16.4s\n",
            "[CV] END ...............n_neighbors=7, p=1, weights=distance; total time=  17.3s\n",
            "[CV] END ...............n_neighbors=7, p=1, weights=distance; total time=  16.4s\n",
            "[CV] END ................n_neighbors=7, p=2, weights=uniform; total time=   1.0s\n",
            "[CV] END ................n_neighbors=7, p=2, weights=uniform; total time=   1.0s\n",
            "[CV] END ................n_neighbors=7, p=2, weights=uniform; total time=   1.1s\n",
            "[CV] END ................n_neighbors=7, p=2, weights=uniform; total time=   1.1s\n",
            "[CV] END ................n_neighbors=7, p=2, weights=uniform; total time=   1.3s\n",
            "[CV] END ...............n_neighbors=7, p=2, weights=distance; total time=   1.5s\n",
            "[CV] END ...............n_neighbors=7, p=2, weights=distance; total time=   1.4s\n",
            "[CV] END ...............n_neighbors=7, p=2, weights=distance; total time=   1.0s\n",
            "[CV] END ...............n_neighbors=7, p=2, weights=distance; total time=   1.0s\n",
            "[CV] END ...............n_neighbors=7, p=2, weights=distance; total time=   1.0s\n",
            "Best Hyperparameters:  {'n_neighbors': 5, 'p': 1, 'weights': 'distance'}\n",
            "Best Accuracy:  0.7597489195668337\n"
          ]
        }
      ],
      "source": [
        "from sklearn.neighbors import KNeighborsClassifier\n",
        "\n",
        "params = {'n_neighbors': [5, 7], #Number of neighbors to use by default for kneighbors queries.\n",
        "          'weights': ['uniform', 'distance'], #‘uniform’ : uniform weights. All points in each neighborhood are weighted equally. ‘distance’ : weight points by the inverse of their distance. in this case, closer neighbors of a query point will have a greater influence than neighbors which are further away.\n",
        "          'p': [1, 2]} #Power parameter for the Minkowski metric. When p = 1, this is equivalent to using manhattan_distance (l1), and euclidean_distance (l2) for p = 2. For arbitrary p, minkowski_distance (l_p) is used.\n",
        "\n",
        "knn = KNeighborsClassifier()\n",
        "\n",
        "grid_search = GridSearchCV(estimator = knn, \n",
        "                           param_grid = params, \n",
        "                           cv=5,\n",
        "                           scoring = 'accuracy',\n",
        "                           verbose = 2)\n",
        "\n",
        "grid_search.fit(x_flat_train, y_train)\n",
        "\n",
        "print(\"Best Hyperparameters: \", grid_search.best_params_)\n",
        "print(\"Best Accuracy: \", grid_search.best_score_)"
      ]
    },
    {
      "cell_type": "code",
      "execution_count": null,
      "metadata": {
        "id": "7WxFG6don3fA"
      },
      "outputs": [],
      "source": [
        "best_knn = grid_search.best_estimator_"
      ]
    },
    {
      "cell_type": "code",
      "execution_count": null,
      "metadata": {
        "id": "vq2QiTWocA6_",
        "colab": {
          "base_uri": "https://localhost:8080/"
        },
        "outputId": "107c7c44-44f9-4166-f21a-52683d955059"
      },
      "outputs": [
        {
          "output_type": "stream",
          "name": "stdout",
          "text": [
            "Accuracy on Testing Set:  0.7686110215920078\n"
          ]
        }
      ],
      "source": [
        "y_pred = best_knn.predict(x_flat_test)\n",
        "accuracy = accuracy_score(y_test, y_pred)\n",
        "print(\"Accuracy on Testing Set: \", accuracy)"
      ]
    },
    {
      "cell_type": "code",
      "execution_count": null,
      "metadata": {
        "id": "4uSOUwuxnl-Y",
        "colab": {
          "base_uri": "https://localhost:8080/"
        },
        "outputId": "24acc9a5-6df9-4f08-e6e5-60e6d2faea26"
      },
      "outputs": [
        {
          "output_type": "stream",
          "name": "stdout",
          "text": [
            "F1 Score on Testing Set:  0.7537571894531799\n"
          ]
        }
      ],
      "source": [
        "f1score = f1_score(y_test, y_pred, average='weighted')\n",
        "print(\"F1 Score on Testing Set: \", f1score)"
      ]
    },
    {
      "cell_type": "code",
      "execution_count": null,
      "metadata": {
        "id": "wyWjsX6xcNWZ",
        "colab": {
          "base_uri": "https://localhost:8080/",
          "height": 112
        },
        "outputId": "a612bf52-fafc-4c2d-bd50-0d119c7a1464"
      },
      "outputs": [
        {
          "output_type": "execute_result",
          "data": {
            "text/plain": [
              "  Model  Test_Accuracy  F1_Score\n",
              "0   SVM       0.822430  0.819557\n",
              "1   KNN       0.768611  0.753757"
            ],
            "text/html": [
              "\n",
              "  <div id=\"df-1491a919-fe18-4b1a-b847-91f59e9cacfd\">\n",
              "    <div class=\"colab-df-container\">\n",
              "      <div>\n",
              "<style scoped>\n",
              "    .dataframe tbody tr th:only-of-type {\n",
              "        vertical-align: middle;\n",
              "    }\n",
              "\n",
              "    .dataframe tbody tr th {\n",
              "        vertical-align: top;\n",
              "    }\n",
              "\n",
              "    .dataframe thead th {\n",
              "        text-align: right;\n",
              "    }\n",
              "</style>\n",
              "<table border=\"1\" class=\"dataframe\">\n",
              "  <thead>\n",
              "    <tr style=\"text-align: right;\">\n",
              "      <th></th>\n",
              "      <th>Model</th>\n",
              "      <th>Test_Accuracy</th>\n",
              "      <th>F1_Score</th>\n",
              "    </tr>\n",
              "  </thead>\n",
              "  <tbody>\n",
              "    <tr>\n",
              "      <th>0</th>\n",
              "      <td>SVM</td>\n",
              "      <td>0.822430</td>\n",
              "      <td>0.819557</td>\n",
              "    </tr>\n",
              "    <tr>\n",
              "      <th>1</th>\n",
              "      <td>KNN</td>\n",
              "      <td>0.768611</td>\n",
              "      <td>0.753757</td>\n",
              "    </tr>\n",
              "  </tbody>\n",
              "</table>\n",
              "</div>\n",
              "      <button class=\"colab-df-convert\" onclick=\"convertToInteractive('df-1491a919-fe18-4b1a-b847-91f59e9cacfd')\"\n",
              "              title=\"Convert this dataframe to an interactive table.\"\n",
              "              style=\"display:none;\">\n",
              "        \n",
              "  <svg xmlns=\"http://www.w3.org/2000/svg\" height=\"24px\"viewBox=\"0 0 24 24\"\n",
              "       width=\"24px\">\n",
              "    <path d=\"M0 0h24v24H0V0z\" fill=\"none\"/>\n",
              "    <path d=\"M18.56 5.44l.94 2.06.94-2.06 2.06-.94-2.06-.94-.94-2.06-.94 2.06-2.06.94zm-11 1L8.5 8.5l.94-2.06 2.06-.94-2.06-.94L8.5 2.5l-.94 2.06-2.06.94zm10 10l.94 2.06.94-2.06 2.06-.94-2.06-.94-.94-2.06-.94 2.06-2.06.94z\"/><path d=\"M17.41 7.96l-1.37-1.37c-.4-.4-.92-.59-1.43-.59-.52 0-1.04.2-1.43.59L10.3 9.45l-7.72 7.72c-.78.78-.78 2.05 0 2.83L4 21.41c.39.39.9.59 1.41.59.51 0 1.02-.2 1.41-.59l7.78-7.78 2.81-2.81c.8-.78.8-2.07 0-2.86zM5.41 20L4 18.59l7.72-7.72 1.47 1.35L5.41 20z\"/>\n",
              "  </svg>\n",
              "      </button>\n",
              "      \n",
              "  <style>\n",
              "    .colab-df-container {\n",
              "      display:flex;\n",
              "      flex-wrap:wrap;\n",
              "      gap: 12px;\n",
              "    }\n",
              "\n",
              "    .colab-df-convert {\n",
              "      background-color: #E8F0FE;\n",
              "      border: none;\n",
              "      border-radius: 50%;\n",
              "      cursor: pointer;\n",
              "      display: none;\n",
              "      fill: #1967D2;\n",
              "      height: 32px;\n",
              "      padding: 0 0 0 0;\n",
              "      width: 32px;\n",
              "    }\n",
              "\n",
              "    .colab-df-convert:hover {\n",
              "      background-color: #E2EBFA;\n",
              "      box-shadow: 0px 1px 2px rgba(60, 64, 67, 0.3), 0px 1px 3px 1px rgba(60, 64, 67, 0.15);\n",
              "      fill: #174EA6;\n",
              "    }\n",
              "\n",
              "    [theme=dark] .colab-df-convert {\n",
              "      background-color: #3B4455;\n",
              "      fill: #D2E3FC;\n",
              "    }\n",
              "\n",
              "    [theme=dark] .colab-df-convert:hover {\n",
              "      background-color: #434B5C;\n",
              "      box-shadow: 0px 1px 3px 1px rgba(0, 0, 0, 0.15);\n",
              "      filter: drop-shadow(0px 1px 2px rgba(0, 0, 0, 0.3));\n",
              "      fill: #FFFFFF;\n",
              "    }\n",
              "  </style>\n",
              "\n",
              "      <script>\n",
              "        const buttonEl =\n",
              "          document.querySelector('#df-1491a919-fe18-4b1a-b847-91f59e9cacfd button.colab-df-convert');\n",
              "        buttonEl.style.display =\n",
              "          google.colab.kernel.accessAllowed ? 'block' : 'none';\n",
              "\n",
              "        async function convertToInteractive(key) {\n",
              "          const element = document.querySelector('#df-1491a919-fe18-4b1a-b847-91f59e9cacfd');\n",
              "          const dataTable =\n",
              "            await google.colab.kernel.invokeFunction('convertToInteractive',\n",
              "                                                     [key], {});\n",
              "          if (!dataTable) return;\n",
              "\n",
              "          const docLinkHtml = 'Like what you see? Visit the ' +\n",
              "            '<a target=\"_blank\" href=https://colab.research.google.com/notebooks/data_table.ipynb>data table notebook</a>'\n",
              "            + ' to learn more about interactive tables.';\n",
              "          element.innerHTML = '';\n",
              "          dataTable['output_type'] = 'display_data';\n",
              "          await google.colab.output.renderOutput(dataTable, element);\n",
              "          const docLink = document.createElement('div');\n",
              "          docLink.innerHTML = docLinkHtml;\n",
              "          element.appendChild(docLink);\n",
              "        }\n",
              "      </script>\n",
              "    </div>\n",
              "  </div>\n",
              "  "
            ]
          },
          "metadata": {},
          "execution_count": 24
        }
      ],
      "source": [
        "models_df = models_df.append(pd.Series(['KNN', accuracy, f1score], index=models_df.columns), ignore_index=True)\n",
        "models_df = models_df.sort_values('Test_Accuracy', ascending=False)\n",
        "models_df"
      ]
    },
    {
      "cell_type": "code",
      "execution_count": null,
      "metadata": {
        "id": "-oLH9ruqdDAA",
        "colab": {
          "base_uri": "https://localhost:8080/",
          "height": 17
        },
        "outputId": "f7173edb-74d1-4676-c95d-92d10f384e48"
      },
      "outputs": [
        {
          "output_type": "display_data",
          "data": {
            "text/plain": [
              "<IPython.core.display.Javascript object>"
            ],
            "application/javascript": [
              "\n",
              "    async function download(id, filename, size) {\n",
              "      if (!google.colab.kernel.accessAllowed) {\n",
              "        return;\n",
              "      }\n",
              "      const div = document.createElement('div');\n",
              "      const label = document.createElement('label');\n",
              "      label.textContent = `Downloading \"${filename}\": `;\n",
              "      div.appendChild(label);\n",
              "      const progress = document.createElement('progress');\n",
              "      progress.max = size;\n",
              "      div.appendChild(progress);\n",
              "      document.body.appendChild(div);\n",
              "\n",
              "      const buffers = [];\n",
              "      let downloaded = 0;\n",
              "\n",
              "      const channel = await google.colab.kernel.comms.open(id);\n",
              "      // Send a message to notify the kernel that we're ready.\n",
              "      channel.send({})\n",
              "\n",
              "      for await (const message of channel.messages) {\n",
              "        // Send a message to notify the kernel that we're ready.\n",
              "        channel.send({})\n",
              "        if (message.buffers) {\n",
              "          for (const buffer of message.buffers) {\n",
              "            buffers.push(buffer);\n",
              "            downloaded += buffer.byteLength;\n",
              "            progress.value = downloaded;\n",
              "          }\n",
              "        }\n",
              "      }\n",
              "      const blob = new Blob(buffers, {type: 'application/binary'});\n",
              "      const a = document.createElement('a');\n",
              "      a.href = window.URL.createObjectURL(blob);\n",
              "      a.download = filename;\n",
              "      div.appendChild(a);\n",
              "      a.click();\n",
              "      div.remove();\n",
              "    }\n",
              "  "
            ]
          },
          "metadata": {}
        },
        {
          "output_type": "display_data",
          "data": {
            "text/plain": [
              "<IPython.core.display.Javascript object>"
            ],
            "application/javascript": [
              "download(\"download_aa88322d-6496-4c4c-b77a-c37938fb53b1\", \"KNN_Model.pkl\", 38229678)"
            ]
          },
          "metadata": {}
        }
      ],
      "source": [
        "import pickle\n",
        "with open('KNN_Model.pkl', 'wb') as file:\n",
        "    pickle.dump(best_knn, file)\n",
        "\n",
        "from google.colab import files\n",
        "files.download('KNN_Model.pkl')"
      ]
    },
    {
      "cell_type": "markdown",
      "metadata": {
        "id": "qcyRnGoHdnC3"
      },
      "source": [
        "### Gauissian Naive Bayes (GNB) Classifier\n",
        "\n",
        "Gaussian Naive Bayes (GNB) is a probabilistic supervised learning algorithm based on the Bayes theorem with an assumption of conditional independence among features (Murphy, 2006). This algorithm is particularly effective for classification tasks, especially when dealing with continuous data. GNB estimates the class-conditional probability distributions of the features, assuming each feature follows a Gaussian distribution. Despite its simplicity and the naive assumption, GNB often performs surprisingly well in practice, especially in cases where the features are conditionally independent or weakly correlated (Rish, 2001). \n",
        "\n",
        "A critical hyperparameter in Gaussian Naive Bayes is the variance smoothing parameter, which is used to mitigate the impact of zero probabilities and improve model stability. By adding a small positive value to the variance estimates, the algorithm ensures that all features contribute to the class-conditional probabilities, thus preventing the model from being overly influenced by rare or unseen feature values. The choice of the variance smoothing parameter can significantly affect the performance of the Gaussian Naive Bayes model, with a smaller value leading to a more sensitive model and a larger value providing more smoothing and robustness (Manning & Schütze, 1999). "
      ]
    },
    {
      "cell_type": "code",
      "execution_count": null,
      "metadata": {
        "id": "BojsaxiOdq-E",
        "colab": {
          "base_uri": "https://localhost:8080/"
        },
        "outputId": "06439249-1411-406b-bec6-2c295b8230ec"
      },
      "outputs": [
        {
          "output_type": "stream",
          "name": "stdout",
          "text": [
            "Fitting 5 folds for each of 50 candidates, totalling 250 fits\n",
            "[CV] END ..................................var_smoothing=0.0; total time=   0.1s\n",
            "[CV] END ..................................var_smoothing=0.0; total time=   0.1s\n",
            "[CV] END ..................................var_smoothing=0.0; total time=   0.1s\n",
            "[CV] END ..................................var_smoothing=0.0; total time=   0.1s\n",
            "[CV] END ..................................var_smoothing=0.0; total time=   0.1s\n",
            "[CV] END ..................var_smoothing=0.01020408163265306; total time=   0.1s\n",
            "[CV] END ..................var_smoothing=0.01020408163265306; total time=   0.1s\n",
            "[CV] END ..................var_smoothing=0.01020408163265306; total time=   0.1s\n",
            "[CV] END ..................var_smoothing=0.01020408163265306; total time=   0.1s\n",
            "[CV] END ..................var_smoothing=0.01020408163265306; total time=   0.1s\n",
            "[CV] END ..................var_smoothing=0.02040816326530612; total time=   0.1s\n",
            "[CV] END ..................var_smoothing=0.02040816326530612; total time=   0.1s\n",
            "[CV] END ..................var_smoothing=0.02040816326530612; total time=   0.1s\n",
            "[CV] END ..................var_smoothing=0.02040816326530612; total time=   0.1s\n",
            "[CV] END ..................var_smoothing=0.02040816326530612; total time=   0.1s\n",
            "[CV] END .................var_smoothing=0.030612244897959183; total time=   0.1s\n",
            "[CV] END .................var_smoothing=0.030612244897959183; total time=   0.1s\n",
            "[CV] END .................var_smoothing=0.030612244897959183; total time=   0.1s\n",
            "[CV] END .................var_smoothing=0.030612244897959183; total time=   0.1s\n",
            "[CV] END .................var_smoothing=0.030612244897959183; total time=   0.1s\n",
            "[CV] END ..................var_smoothing=0.04081632653061224; total time=   0.1s\n",
            "[CV] END ..................var_smoothing=0.04081632653061224; total time=   0.1s\n",
            "[CV] END ..................var_smoothing=0.04081632653061224; total time=   0.1s\n",
            "[CV] END ..................var_smoothing=0.04081632653061224; total time=   0.1s\n",
            "[CV] END ..................var_smoothing=0.04081632653061224; total time=   0.1s\n",
            "[CV] END ...................var_smoothing=0.0510204081632653; total time=   0.1s\n",
            "[CV] END ...................var_smoothing=0.0510204081632653; total time=   0.1s\n",
            "[CV] END ...................var_smoothing=0.0510204081632653; total time=   0.1s\n",
            "[CV] END ...................var_smoothing=0.0510204081632653; total time=   0.1s\n",
            "[CV] END ...................var_smoothing=0.0510204081632653; total time=   0.1s\n",
            "[CV] END .................var_smoothing=0.061224489795918366; total time=   0.1s\n",
            "[CV] END .................var_smoothing=0.061224489795918366; total time=   0.1s\n",
            "[CV] END .................var_smoothing=0.061224489795918366; total time=   0.1s\n",
            "[CV] END .................var_smoothing=0.061224489795918366; total time=   0.1s\n",
            "[CV] END .................var_smoothing=0.061224489795918366; total time=   0.1s\n",
            "[CV] END ..................var_smoothing=0.07142857142857142; total time=   0.1s\n",
            "[CV] END ..................var_smoothing=0.07142857142857142; total time=   0.1s\n",
            "[CV] END ..................var_smoothing=0.07142857142857142; total time=   0.1s\n",
            "[CV] END ..................var_smoothing=0.07142857142857142; total time=   0.1s\n",
            "[CV] END ..................var_smoothing=0.07142857142857142; total time=   0.1s\n",
            "[CV] END ..................var_smoothing=0.08163265306122448; total time=   0.1s\n",
            "[CV] END ..................var_smoothing=0.08163265306122448; total time=   0.1s\n",
            "[CV] END ..................var_smoothing=0.08163265306122448; total time=   0.1s\n",
            "[CV] END ..................var_smoothing=0.08163265306122448; total time=   0.1s\n",
            "[CV] END ..................var_smoothing=0.08163265306122448; total time=   0.1s\n",
            "[CV] END ..................var_smoothing=0.09183673469387754; total time=   0.1s\n",
            "[CV] END ..................var_smoothing=0.09183673469387754; total time=   0.1s\n",
            "[CV] END ..................var_smoothing=0.09183673469387754; total time=   0.1s\n",
            "[CV] END ..................var_smoothing=0.09183673469387754; total time=   0.1s\n",
            "[CV] END ..................var_smoothing=0.09183673469387754; total time=   0.1s\n",
            "[CV] END ...................var_smoothing=0.1020408163265306; total time=   0.1s\n",
            "[CV] END ...................var_smoothing=0.1020408163265306; total time=   0.1s\n",
            "[CV] END ...................var_smoothing=0.1020408163265306; total time=   0.1s\n",
            "[CV] END ...................var_smoothing=0.1020408163265306; total time=   0.1s\n",
            "[CV] END ...................var_smoothing=0.1020408163265306; total time=   0.1s\n",
            "[CV] END ..................var_smoothing=0.11224489795918366; total time=   0.1s\n",
            "[CV] END ..................var_smoothing=0.11224489795918366; total time=   0.1s\n",
            "[CV] END ..................var_smoothing=0.11224489795918366; total time=   0.1s\n",
            "[CV] END ..................var_smoothing=0.11224489795918366; total time=   0.1s\n",
            "[CV] END ..................var_smoothing=0.11224489795918366; total time=   0.1s\n",
            "[CV] END ..................var_smoothing=0.12244897959183673; total time=   0.1s\n",
            "[CV] END ..................var_smoothing=0.12244897959183673; total time=   0.1s\n",
            "[CV] END ..................var_smoothing=0.12244897959183673; total time=   0.1s\n",
            "[CV] END ..................var_smoothing=0.12244897959183673; total time=   0.1s\n",
            "[CV] END ..................var_smoothing=0.12244897959183673; total time=   0.1s\n",
            "[CV] END ..................var_smoothing=0.13265306122448978; total time=   0.1s\n",
            "[CV] END ..................var_smoothing=0.13265306122448978; total time=   0.1s\n",
            "[CV] END ..................var_smoothing=0.13265306122448978; total time=   0.1s\n",
            "[CV] END ..................var_smoothing=0.13265306122448978; total time=   0.1s\n",
            "[CV] END ..................var_smoothing=0.13265306122448978; total time=   0.1s\n",
            "[CV] END ..................var_smoothing=0.14285714285714285; total time=   0.1s\n",
            "[CV] END ..................var_smoothing=0.14285714285714285; total time=   0.1s\n",
            "[CV] END ..................var_smoothing=0.14285714285714285; total time=   0.1s\n",
            "[CV] END ..................var_smoothing=0.14285714285714285; total time=   0.1s\n",
            "[CV] END ..................var_smoothing=0.14285714285714285; total time=   0.1s\n",
            "[CV] END ...................var_smoothing=0.1530612244897959; total time=   0.1s\n",
            "[CV] END ...................var_smoothing=0.1530612244897959; total time=   0.1s\n",
            "[CV] END ...................var_smoothing=0.1530612244897959; total time=   0.1s\n",
            "[CV] END ...................var_smoothing=0.1530612244897959; total time=   0.1s\n",
            "[CV] END ...................var_smoothing=0.1530612244897959; total time=   0.1s\n",
            "[CV] END ..................var_smoothing=0.16326530612244897; total time=   0.1s\n",
            "[CV] END ..................var_smoothing=0.16326530612244897; total time=   0.1s\n",
            "[CV] END ..................var_smoothing=0.16326530612244897; total time=   0.1s\n",
            "[CV] END ..................var_smoothing=0.16326530612244897; total time=   0.1s\n",
            "[CV] END ..................var_smoothing=0.16326530612244897; total time=   0.1s\n",
            "[CV] END ..................var_smoothing=0.17346938775510204; total time=   0.1s\n",
            "[CV] END ..................var_smoothing=0.17346938775510204; total time=   0.1s\n",
            "[CV] END ..................var_smoothing=0.17346938775510204; total time=   0.1s\n",
            "[CV] END ..................var_smoothing=0.17346938775510204; total time=   0.1s\n",
            "[CV] END ..................var_smoothing=0.17346938775510204; total time=   0.1s\n",
            "[CV] END ..................var_smoothing=0.18367346938775508; total time=   0.1s\n",
            "[CV] END ..................var_smoothing=0.18367346938775508; total time=   0.1s\n",
            "[CV] END ..................var_smoothing=0.18367346938775508; total time=   0.1s\n",
            "[CV] END ..................var_smoothing=0.18367346938775508; total time=   0.1s\n",
            "[CV] END ..................var_smoothing=0.18367346938775508; total time=   0.1s\n",
            "[CV] END ..................var_smoothing=0.19387755102040816; total time=   0.1s\n",
            "[CV] END ..................var_smoothing=0.19387755102040816; total time=   0.1s\n",
            "[CV] END ..................var_smoothing=0.19387755102040816; total time=   0.1s\n",
            "[CV] END ..................var_smoothing=0.19387755102040816; total time=   0.1s\n",
            "[CV] END ..................var_smoothing=0.19387755102040816; total time=   0.1s\n",
            "[CV] END ...................var_smoothing=0.2040816326530612; total time=   0.1s\n",
            "[CV] END ...................var_smoothing=0.2040816326530612; total time=   0.1s\n",
            "[CV] END ...................var_smoothing=0.2040816326530612; total time=   0.1s\n",
            "[CV] END ...................var_smoothing=0.2040816326530612; total time=   0.1s\n",
            "[CV] END ...................var_smoothing=0.2040816326530612; total time=   0.1s\n",
            "[CV] END ..................var_smoothing=0.21428571428571427; total time=   0.1s\n",
            "[CV] END ..................var_smoothing=0.21428571428571427; total time=   0.1s\n",
            "[CV] END ..................var_smoothing=0.21428571428571427; total time=   0.1s\n",
            "[CV] END ..................var_smoothing=0.21428571428571427; total time=   0.1s\n",
            "[CV] END ..................var_smoothing=0.21428571428571427; total time=   0.1s\n",
            "[CV] END ..................var_smoothing=0.22448979591836732; total time=   0.1s\n",
            "[CV] END ..................var_smoothing=0.22448979591836732; total time=   0.1s\n",
            "[CV] END ..................var_smoothing=0.22448979591836732; total time=   0.1s\n",
            "[CV] END ..................var_smoothing=0.22448979591836732; total time=   0.1s\n",
            "[CV] END ..................var_smoothing=0.22448979591836732; total time=   0.1s\n",
            "[CV] END ...................var_smoothing=0.2346938775510204; total time=   0.1s\n",
            "[CV] END ...................var_smoothing=0.2346938775510204; total time=   0.1s\n",
            "[CV] END ...................var_smoothing=0.2346938775510204; total time=   0.1s\n",
            "[CV] END ...................var_smoothing=0.2346938775510204; total time=   0.1s\n",
            "[CV] END ...................var_smoothing=0.2346938775510204; total time=   0.1s\n",
            "[CV] END ..................var_smoothing=0.24489795918367346; total time=   0.1s\n",
            "[CV] END ..................var_smoothing=0.24489795918367346; total time=   0.1s\n",
            "[CV] END ..................var_smoothing=0.24489795918367346; total time=   0.1s\n",
            "[CV] END ..................var_smoothing=0.24489795918367346; total time=   0.1s\n",
            "[CV] END ..................var_smoothing=0.24489795918367346; total time=   0.1s\n",
            "[CV] END ..................var_smoothing=0.25510204081632654; total time=   0.1s\n",
            "[CV] END ..................var_smoothing=0.25510204081632654; total time=   0.1s\n",
            "[CV] END ..................var_smoothing=0.25510204081632654; total time=   0.1s\n",
            "[CV] END ..................var_smoothing=0.25510204081632654; total time=   0.1s\n",
            "[CV] END ..................var_smoothing=0.25510204081632654; total time=   0.1s\n",
            "[CV] END ..................var_smoothing=0.26530612244897955; total time=   0.1s\n",
            "[CV] END ..................var_smoothing=0.26530612244897955; total time=   0.1s\n",
            "[CV] END ..................var_smoothing=0.26530612244897955; total time=   0.1s\n",
            "[CV] END ..................var_smoothing=0.26530612244897955; total time=   0.1s\n",
            "[CV] END ..................var_smoothing=0.26530612244897955; total time=   0.1s\n",
            "[CV] END ...................var_smoothing=0.2755102040816326; total time=   0.1s\n",
            "[CV] END ...................var_smoothing=0.2755102040816326; total time=   0.1s\n",
            "[CV] END ...................var_smoothing=0.2755102040816326; total time=   0.1s\n",
            "[CV] END ...................var_smoothing=0.2755102040816326; total time=   0.1s\n",
            "[CV] END ...................var_smoothing=0.2755102040816326; total time=   0.1s\n",
            "[CV] END ...................var_smoothing=0.2857142857142857; total time=   0.1s\n",
            "[CV] END ...................var_smoothing=0.2857142857142857; total time=   0.1s\n",
            "[CV] END ...................var_smoothing=0.2857142857142857; total time=   0.1s\n",
            "[CV] END ...................var_smoothing=0.2857142857142857; total time=   0.1s\n",
            "[CV] END ...................var_smoothing=0.2857142857142857; total time=   0.1s\n",
            "[CV] END ..................var_smoothing=0.29591836734693877; total time=   0.1s\n",
            "[CV] END ..................var_smoothing=0.29591836734693877; total time=   0.1s\n",
            "[CV] END ..................var_smoothing=0.29591836734693877; total time=   0.1s\n",
            "[CV] END ..................var_smoothing=0.29591836734693877; total time=   0.1s\n",
            "[CV] END ..................var_smoothing=0.29591836734693877; total time=   0.1s\n",
            "[CV] END ...................var_smoothing=0.3061224489795918; total time=   0.1s\n",
            "[CV] END ...................var_smoothing=0.3061224489795918; total time=   0.2s\n",
            "[CV] END ...................var_smoothing=0.3061224489795918; total time=   0.1s\n",
            "[CV] END ...................var_smoothing=0.3061224489795918; total time=   0.1s\n",
            "[CV] END ...................var_smoothing=0.3061224489795918; total time=   0.1s\n",
            "[CV] END ..................var_smoothing=0.31632653061224486; total time=   0.1s\n",
            "[CV] END ..................var_smoothing=0.31632653061224486; total time=   0.1s\n",
            "[CV] END ..................var_smoothing=0.31632653061224486; total time=   0.1s\n",
            "[CV] END ..................var_smoothing=0.31632653061224486; total time=   0.1s\n",
            "[CV] END ..................var_smoothing=0.31632653061224486; total time=   0.1s\n",
            "[CV] END ..................var_smoothing=0.32653061224489793; total time=   0.1s\n",
            "[CV] END ..................var_smoothing=0.32653061224489793; total time=   0.2s\n",
            "[CV] END ..................var_smoothing=0.32653061224489793; total time=   0.1s\n",
            "[CV] END ..................var_smoothing=0.32653061224489793; total time=   0.1s\n",
            "[CV] END ..................var_smoothing=0.32653061224489793; total time=   0.2s\n",
            "[CV] END ....................var_smoothing=0.336734693877551; total time=   0.1s\n",
            "[CV] END ....................var_smoothing=0.336734693877551; total time=   0.2s\n",
            "[CV] END ....................var_smoothing=0.336734693877551; total time=   0.1s\n",
            "[CV] END ....................var_smoothing=0.336734693877551; total time=   0.1s\n",
            "[CV] END ....................var_smoothing=0.336734693877551; total time=   0.1s\n",
            "[CV] END ...................var_smoothing=0.3469387755102041; total time=   0.2s\n",
            "[CV] END ...................var_smoothing=0.3469387755102041; total time=   0.1s\n",
            "[CV] END ...................var_smoothing=0.3469387755102041; total time=   0.1s\n",
            "[CV] END ...................var_smoothing=0.3469387755102041; total time=   0.2s\n",
            "[CV] END ...................var_smoothing=0.3469387755102041; total time=   0.1s\n",
            "[CV] END ...................var_smoothing=0.3571428571428571; total time=   0.1s\n",
            "[CV] END ...................var_smoothing=0.3571428571428571; total time=   0.1s\n",
            "[CV] END ...................var_smoothing=0.3571428571428571; total time=   0.1s\n",
            "[CV] END ...................var_smoothing=0.3571428571428571; total time=   0.1s\n",
            "[CV] END ...................var_smoothing=0.3571428571428571; total time=   0.1s\n",
            "[CV] END ..................var_smoothing=0.36734693877551017; total time=   0.2s\n",
            "[CV] END ..................var_smoothing=0.36734693877551017; total time=   0.1s\n",
            "[CV] END ..................var_smoothing=0.36734693877551017; total time=   0.1s\n",
            "[CV] END ..................var_smoothing=0.36734693877551017; total time=   0.1s\n",
            "[CV] END ..................var_smoothing=0.36734693877551017; total time=   0.1s\n",
            "[CV] END ..................var_smoothing=0.37755102040816324; total time=   0.1s\n",
            "[CV] END ..................var_smoothing=0.37755102040816324; total time=   0.1s\n",
            "[CV] END ..................var_smoothing=0.37755102040816324; total time=   0.1s\n",
            "[CV] END ..................var_smoothing=0.37755102040816324; total time=   0.1s\n",
            "[CV] END ..................var_smoothing=0.37755102040816324; total time=   0.1s\n",
            "[CV] END ...................var_smoothing=0.3877551020408163; total time=   0.1s\n",
            "[CV] END ...................var_smoothing=0.3877551020408163; total time=   0.1s\n",
            "[CV] END ...................var_smoothing=0.3877551020408163; total time=   0.1s\n",
            "[CV] END ...................var_smoothing=0.3877551020408163; total time=   0.1s\n",
            "[CV] END ...................var_smoothing=0.3877551020408163; total time=   0.1s\n",
            "[CV] END ..................var_smoothing=0.39795918367346933; total time=   0.1s\n",
            "[CV] END ..................var_smoothing=0.39795918367346933; total time=   0.1s\n",
            "[CV] END ..................var_smoothing=0.39795918367346933; total time=   0.1s\n",
            "[CV] END ..................var_smoothing=0.39795918367346933; total time=   0.1s\n",
            "[CV] END ..................var_smoothing=0.39795918367346933; total time=   0.1s\n",
            "[CV] END ...................var_smoothing=0.4081632653061224; total time=   0.1s\n",
            "[CV] END ...................var_smoothing=0.4081632653061224; total time=   0.1s\n",
            "[CV] END ...................var_smoothing=0.4081632653061224; total time=   0.1s\n",
            "[CV] END ...................var_smoothing=0.4081632653061224; total time=   0.1s\n",
            "[CV] END ...................var_smoothing=0.4081632653061224; total time=   0.1s\n",
            "[CV] END ...................var_smoothing=0.4183673469387755; total time=   0.1s\n",
            "[CV] END ...................var_smoothing=0.4183673469387755; total time=   0.1s\n",
            "[CV] END ...................var_smoothing=0.4183673469387755; total time=   0.1s\n",
            "[CV] END ...................var_smoothing=0.4183673469387755; total time=   0.1s\n",
            "[CV] END ...................var_smoothing=0.4183673469387755; total time=   0.1s\n",
            "[CV] END ..................var_smoothing=0.42857142857142855; total time=   0.1s\n",
            "[CV] END ..................var_smoothing=0.42857142857142855; total time=   0.1s\n",
            "[CV] END ..................var_smoothing=0.42857142857142855; total time=   0.1s\n",
            "[CV] END ..................var_smoothing=0.42857142857142855; total time=   0.1s\n",
            "[CV] END ..................var_smoothing=0.42857142857142855; total time=   0.1s\n",
            "[CV] END ...................var_smoothing=0.4387755102040816; total time=   0.1s\n",
            "[CV] END ...................var_smoothing=0.4387755102040816; total time=   0.1s\n",
            "[CV] END ...................var_smoothing=0.4387755102040816; total time=   0.1s\n",
            "[CV] END ...................var_smoothing=0.4387755102040816; total time=   0.1s\n",
            "[CV] END ...................var_smoothing=0.4387755102040816; total time=   0.1s\n",
            "[CV] END ..................var_smoothing=0.44897959183673464; total time=   0.1s\n",
            "[CV] END ..................var_smoothing=0.44897959183673464; total time=   0.1s\n",
            "[CV] END ..................var_smoothing=0.44897959183673464; total time=   0.1s\n",
            "[CV] END ..................var_smoothing=0.44897959183673464; total time=   0.1s\n",
            "[CV] END ..................var_smoothing=0.44897959183673464; total time=   0.1s\n",
            "[CV] END ...................var_smoothing=0.4591836734693877; total time=   0.1s\n",
            "[CV] END ...................var_smoothing=0.4591836734693877; total time=   0.1s\n",
            "[CV] END ...................var_smoothing=0.4591836734693877; total time=   0.1s\n",
            "[CV] END ...................var_smoothing=0.4591836734693877; total time=   0.1s\n",
            "[CV] END ...................var_smoothing=0.4591836734693877; total time=   0.1s\n",
            "[CV] END ...................var_smoothing=0.4693877551020408; total time=   0.1s\n",
            "[CV] END ...................var_smoothing=0.4693877551020408; total time=   0.1s\n",
            "[CV] END ...................var_smoothing=0.4693877551020408; total time=   0.1s\n",
            "[CV] END ...................var_smoothing=0.4693877551020408; total time=   0.1s\n",
            "[CV] END ...................var_smoothing=0.4693877551020408; total time=   0.1s\n",
            "[CV] END ..................var_smoothing=0.47959183673469385; total time=   0.1s\n",
            "[CV] END ..................var_smoothing=0.47959183673469385; total time=   0.1s\n",
            "[CV] END ..................var_smoothing=0.47959183673469385; total time=   0.1s\n",
            "[CV] END ..................var_smoothing=0.47959183673469385; total time=   0.1s\n",
            "[CV] END ..................var_smoothing=0.47959183673469385; total time=   0.1s\n",
            "[CV] END ...................var_smoothing=0.4897959183673469; total time=   0.1s\n",
            "[CV] END ...................var_smoothing=0.4897959183673469; total time=   0.1s\n",
            "[CV] END ...................var_smoothing=0.4897959183673469; total time=   0.1s\n",
            "[CV] END ...................var_smoothing=0.4897959183673469; total time=   0.1s\n",
            "[CV] END ...................var_smoothing=0.4897959183673469; total time=   0.1s\n",
            "[CV] END ..................................var_smoothing=0.5; total time=   0.1s\n",
            "[CV] END ..................................var_smoothing=0.5; total time=   0.1s\n",
            "[CV] END ..................................var_smoothing=0.5; total time=   0.1s\n",
            "[CV] END ..................................var_smoothing=0.5; total time=   0.1s\n",
            "[CV] END ..................................var_smoothing=0.5; total time=   0.1s\n",
            "Best Hyperparameters:  {'var_smoothing': 0.0}\n",
            "Best Accuracy:  0.5319860790685282\n"
          ]
        }
      ],
      "source": [
        "from sklearn.naive_bayes import GaussianNB\n",
        "\n",
        "params = {'var_smoothing': np.linspace(0,0.5, num=50)}\n",
        "gnb = GaussianNB()\n",
        "\n",
        "grid_search = GridSearchCV(estimator = gnb, \n",
        "                           param_grid = params, \n",
        "                           cv=5,\n",
        "                           scoring = 'accuracy',\n",
        "                           verbose = 2)\n",
        "\n",
        "grid_search.fit(x_flat_train, y_train)\n",
        "\n",
        "print(\"Best Hyperparameters: \", grid_search.best_params_)\n",
        "print(\"Best Accuracy: \", grid_search.best_score_)"
      ]
    },
    {
      "cell_type": "code",
      "execution_count": null,
      "metadata": {
        "id": "8jH8F8SOp4_o"
      },
      "outputs": [],
      "source": [
        "best_gnb = grid_search.best_estimator_"
      ]
    },
    {
      "cell_type": "code",
      "execution_count": null,
      "metadata": {
        "id": "SjOknyjEep2U",
        "colab": {
          "base_uri": "https://localhost:8080/"
        },
        "outputId": "7d0b2288-2f9a-4cd8-aca3-d75d4fcdebc1"
      },
      "outputs": [
        {
          "output_type": "stream",
          "name": "stdout",
          "text": [
            "Accuracy on Testing Set:  0.5336770866902997\n"
          ]
        }
      ],
      "source": [
        "y_pred = best_gnb.predict(x_flat_test)\n",
        "accuracy = accuracy_score(y_test, y_pred)\n",
        "print(\"Accuracy on Testing Set: \", accuracy)"
      ]
    },
    {
      "cell_type": "code",
      "execution_count": null,
      "metadata": {
        "id": "J4QoistuqDMr",
        "colab": {
          "base_uri": "https://localhost:8080/"
        },
        "outputId": "6bf66c46-4483-43a2-d23b-1b0cf0b5209d"
      },
      "outputs": [
        {
          "output_type": "stream",
          "name": "stdout",
          "text": [
            "F1 Score on Testing Set:  0.5527296584470879\n"
          ]
        }
      ],
      "source": [
        "f1score = f1_score(y_test, y_pred, average='weighted')\n",
        "print(\"F1 Score on Testing Set: \", f1score)"
      ]
    },
    {
      "cell_type": "code",
      "execution_count": null,
      "metadata": {
        "id": "bD8WdxcteyjN",
        "colab": {
          "base_uri": "https://localhost:8080/",
          "height": 143
        },
        "outputId": "9cb53efb-c1c8-4569-cb7a-fc6d590cf7e5"
      },
      "outputs": [
        {
          "output_type": "execute_result",
          "data": {
            "text/plain": [
              "  Model  Test_Accuracy  F1_Score\n",
              "0   SVM       0.822430  0.819557\n",
              "1   KNN       0.768611  0.753757\n",
              "2   GNB       0.533677  0.552730"
            ],
            "text/html": [
              "\n",
              "  <div id=\"df-8cb55a6b-ae9d-45d6-9fe9-0814c39ba93c\">\n",
              "    <div class=\"colab-df-container\">\n",
              "      <div>\n",
              "<style scoped>\n",
              "    .dataframe tbody tr th:only-of-type {\n",
              "        vertical-align: middle;\n",
              "    }\n",
              "\n",
              "    .dataframe tbody tr th {\n",
              "        vertical-align: top;\n",
              "    }\n",
              "\n",
              "    .dataframe thead th {\n",
              "        text-align: right;\n",
              "    }\n",
              "</style>\n",
              "<table border=\"1\" class=\"dataframe\">\n",
              "  <thead>\n",
              "    <tr style=\"text-align: right;\">\n",
              "      <th></th>\n",
              "      <th>Model</th>\n",
              "      <th>Test_Accuracy</th>\n",
              "      <th>F1_Score</th>\n",
              "    </tr>\n",
              "  </thead>\n",
              "  <tbody>\n",
              "    <tr>\n",
              "      <th>0</th>\n",
              "      <td>SVM</td>\n",
              "      <td>0.822430</td>\n",
              "      <td>0.819557</td>\n",
              "    </tr>\n",
              "    <tr>\n",
              "      <th>1</th>\n",
              "      <td>KNN</td>\n",
              "      <td>0.768611</td>\n",
              "      <td>0.753757</td>\n",
              "    </tr>\n",
              "    <tr>\n",
              "      <th>2</th>\n",
              "      <td>GNB</td>\n",
              "      <td>0.533677</td>\n",
              "      <td>0.552730</td>\n",
              "    </tr>\n",
              "  </tbody>\n",
              "</table>\n",
              "</div>\n",
              "      <button class=\"colab-df-convert\" onclick=\"convertToInteractive('df-8cb55a6b-ae9d-45d6-9fe9-0814c39ba93c')\"\n",
              "              title=\"Convert this dataframe to an interactive table.\"\n",
              "              style=\"display:none;\">\n",
              "        \n",
              "  <svg xmlns=\"http://www.w3.org/2000/svg\" height=\"24px\"viewBox=\"0 0 24 24\"\n",
              "       width=\"24px\">\n",
              "    <path d=\"M0 0h24v24H0V0z\" fill=\"none\"/>\n",
              "    <path d=\"M18.56 5.44l.94 2.06.94-2.06 2.06-.94-2.06-.94-.94-2.06-.94 2.06-2.06.94zm-11 1L8.5 8.5l.94-2.06 2.06-.94-2.06-.94L8.5 2.5l-.94 2.06-2.06.94zm10 10l.94 2.06.94-2.06 2.06-.94-2.06-.94-.94-2.06-.94 2.06-2.06.94z\"/><path d=\"M17.41 7.96l-1.37-1.37c-.4-.4-.92-.59-1.43-.59-.52 0-1.04.2-1.43.59L10.3 9.45l-7.72 7.72c-.78.78-.78 2.05 0 2.83L4 21.41c.39.39.9.59 1.41.59.51 0 1.02-.2 1.41-.59l7.78-7.78 2.81-2.81c.8-.78.8-2.07 0-2.86zM5.41 20L4 18.59l7.72-7.72 1.47 1.35L5.41 20z\"/>\n",
              "  </svg>\n",
              "      </button>\n",
              "      \n",
              "  <style>\n",
              "    .colab-df-container {\n",
              "      display:flex;\n",
              "      flex-wrap:wrap;\n",
              "      gap: 12px;\n",
              "    }\n",
              "\n",
              "    .colab-df-convert {\n",
              "      background-color: #E8F0FE;\n",
              "      border: none;\n",
              "      border-radius: 50%;\n",
              "      cursor: pointer;\n",
              "      display: none;\n",
              "      fill: #1967D2;\n",
              "      height: 32px;\n",
              "      padding: 0 0 0 0;\n",
              "      width: 32px;\n",
              "    }\n",
              "\n",
              "    .colab-df-convert:hover {\n",
              "      background-color: #E2EBFA;\n",
              "      box-shadow: 0px 1px 2px rgba(60, 64, 67, 0.3), 0px 1px 3px 1px rgba(60, 64, 67, 0.15);\n",
              "      fill: #174EA6;\n",
              "    }\n",
              "\n",
              "    [theme=dark] .colab-df-convert {\n",
              "      background-color: #3B4455;\n",
              "      fill: #D2E3FC;\n",
              "    }\n",
              "\n",
              "    [theme=dark] .colab-df-convert:hover {\n",
              "      background-color: #434B5C;\n",
              "      box-shadow: 0px 1px 3px 1px rgba(0, 0, 0, 0.15);\n",
              "      filter: drop-shadow(0px 1px 2px rgba(0, 0, 0, 0.3));\n",
              "      fill: #FFFFFF;\n",
              "    }\n",
              "  </style>\n",
              "\n",
              "      <script>\n",
              "        const buttonEl =\n",
              "          document.querySelector('#df-8cb55a6b-ae9d-45d6-9fe9-0814c39ba93c button.colab-df-convert');\n",
              "        buttonEl.style.display =\n",
              "          google.colab.kernel.accessAllowed ? 'block' : 'none';\n",
              "\n",
              "        async function convertToInteractive(key) {\n",
              "          const element = document.querySelector('#df-8cb55a6b-ae9d-45d6-9fe9-0814c39ba93c');\n",
              "          const dataTable =\n",
              "            await google.colab.kernel.invokeFunction('convertToInteractive',\n",
              "                                                     [key], {});\n",
              "          if (!dataTable) return;\n",
              "\n",
              "          const docLinkHtml = 'Like what you see? Visit the ' +\n",
              "            '<a target=\"_blank\" href=https://colab.research.google.com/notebooks/data_table.ipynb>data table notebook</a>'\n",
              "            + ' to learn more about interactive tables.';\n",
              "          element.innerHTML = '';\n",
              "          dataTable['output_type'] = 'display_data';\n",
              "          await google.colab.output.renderOutput(dataTable, element);\n",
              "          const docLink = document.createElement('div');\n",
              "          docLink.innerHTML = docLinkHtml;\n",
              "          element.appendChild(docLink);\n",
              "        }\n",
              "      </script>\n",
              "    </div>\n",
              "  </div>\n",
              "  "
            ]
          },
          "metadata": {},
          "execution_count": 30
        }
      ],
      "source": [
        "models_df = models_df.append(pd.Series(['GNB', accuracy, f1score], index=models_df.columns), ignore_index=True)\n",
        "models_df = models_df.sort_values('Test_Accuracy', ascending=False)\n",
        "models_df"
      ]
    },
    {
      "cell_type": "code",
      "execution_count": null,
      "metadata": {
        "id": "SsasYPKge0OX",
        "colab": {
          "base_uri": "https://localhost:8080/",
          "height": 17
        },
        "outputId": "7c736cf9-a188-472d-ee79-a985d5c7e80a"
      },
      "outputs": [
        {
          "output_type": "display_data",
          "data": {
            "text/plain": [
              "<IPython.core.display.Javascript object>"
            ],
            "application/javascript": [
              "\n",
              "    async function download(id, filename, size) {\n",
              "      if (!google.colab.kernel.accessAllowed) {\n",
              "        return;\n",
              "      }\n",
              "      const div = document.createElement('div');\n",
              "      const label = document.createElement('label');\n",
              "      label.textContent = `Downloading \"${filename}\": `;\n",
              "      div.appendChild(label);\n",
              "      const progress = document.createElement('progress');\n",
              "      progress.max = size;\n",
              "      div.appendChild(progress);\n",
              "      document.body.appendChild(div);\n",
              "\n",
              "      const buffers = [];\n",
              "      let downloaded = 0;\n",
              "\n",
              "      const channel = await google.colab.kernel.comms.open(id);\n",
              "      // Send a message to notify the kernel that we're ready.\n",
              "      channel.send({})\n",
              "\n",
              "      for await (const message of channel.messages) {\n",
              "        // Send a message to notify the kernel that we're ready.\n",
              "        channel.send({})\n",
              "        if (message.buffers) {\n",
              "          for (const buffer of message.buffers) {\n",
              "            buffers.push(buffer);\n",
              "            downloaded += buffer.byteLength;\n",
              "            progress.value = downloaded;\n",
              "          }\n",
              "        }\n",
              "      }\n",
              "      const blob = new Blob(buffers, {type: 'application/binary'});\n",
              "      const a = document.createElement('a');\n",
              "      a.href = window.URL.createObjectURL(blob);\n",
              "      a.download = filename;\n",
              "      div.appendChild(a);\n",
              "      a.click();\n",
              "      div.remove();\n",
              "    }\n",
              "  "
            ]
          },
          "metadata": {}
        },
        {
          "output_type": "display_data",
          "data": {
            "text/plain": [
              "<IPython.core.display.Javascript object>"
            ],
            "application/javascript": [
              "download(\"download_0979f23c-e872-4b6c-a41b-99dedbd037b9\", \"GNB_Model.pkl\", 37472)"
            ]
          },
          "metadata": {}
        }
      ],
      "source": [
        "import pickle\n",
        "with open('GNB_Model.pkl', 'wb') as file:\n",
        "    pickle.dump(best_gnb, file)\n",
        "\n",
        "from google.colab import files\n",
        "files.download('GNB_Model.pkl')"
      ]
    },
    {
      "cell_type": "markdown",
      "metadata": {
        "id": "YFSqLNaUfllK"
      },
      "source": [
        "### Random Forest (RFC) Classifier\n",
        "\n",
        "Random Forests is an ensemble learning method used for both classification and regression tasks, which constructs multiple decision trees during training and combines their outputs to generate predictions. By averaging the predictions from multiple trees, Random Forests mitigates the overfitting problem often observed in individual decision trees, resulting in improved generalization and more robust performance. The algorithm's inherent ability to capture feature interactions and handle missing data makes it a popular choice for various applications (Breiman, 2001). \n",
        "\n",
        "Two important hyperparameters in Random Forests are the number of trees and the maximum depth of the trees. The number of trees (n_estimators) directly affects the ensemble's performance and stability, with a larger number of trees generally leading to more accurate predictions and lower variance (Breiman, 2001). However, increasing the number of trees also results in higher computational cost and diminishing returns in terms of accuracy improvement. The maximum depth (max_depth) controls the depth of each tree in the ensemble, which in turn influences the model's complexity and generalization capability (Geurts, Ernst, & Wehenkel, 2006). A smaller max_depth value may lead to underfitting, while a larger value increases the risk of overfitting. Fine-tuning both hyperparameters is crucial for achieving the best balance between model complexity and generalization. "
      ]
    },
    {
      "cell_type": "code",
      "execution_count": null,
      "metadata": {
        "id": "TMxb3wZwfp4k",
        "colab": {
          "base_uri": "https://localhost:8080/"
        },
        "outputId": "a5ce3f43-93c3-4653-8fbe-2fb8eef73340"
      },
      "outputs": [
        {
          "output_type": "stream",
          "name": "stdout",
          "text": [
            "Fitting 5 folds for each of 4 candidates, totalling 20 fits\n",
            "[CV] END ......................max_depth=5, n_estimators=100; total time=   9.4s\n",
            "[CV] END ......................max_depth=5, n_estimators=100; total time=   9.3s\n",
            "[CV] END ......................max_depth=5, n_estimators=100; total time=   9.6s\n",
            "[CV] END ......................max_depth=5, n_estimators=100; total time=   8.8s\n",
            "[CV] END ......................max_depth=5, n_estimators=100; total time=   9.5s\n",
            "[CV] END ......................max_depth=5, n_estimators=200; total time=  18.0s\n",
            "[CV] END ......................max_depth=5, n_estimators=200; total time=  18.8s\n",
            "[CV] END ......................max_depth=5, n_estimators=200; total time=  17.8s\n",
            "[CV] END ......................max_depth=5, n_estimators=200; total time=  18.5s\n",
            "[CV] END ......................max_depth=5, n_estimators=200; total time=  17.8s\n",
            "[CV] END .....................max_depth=10, n_estimators=100; total time=  16.7s\n",
            "[CV] END .....................max_depth=10, n_estimators=100; total time=  16.0s\n",
            "[CV] END .....................max_depth=10, n_estimators=100; total time=  16.0s\n",
            "[CV] END .....................max_depth=10, n_estimators=100; total time=  16.6s\n",
            "[CV] END .....................max_depth=10, n_estimators=100; total time=  16.3s\n",
            "[CV] END .....................max_depth=10, n_estimators=200; total time=  32.7s\n",
            "[CV] END .....................max_depth=10, n_estimators=200; total time=  33.3s\n",
            "[CV] END .....................max_depth=10, n_estimators=200; total time=  33.1s\n",
            "[CV] END .....................max_depth=10, n_estimators=200; total time=  32.3s\n",
            "[CV] END .....................max_depth=10, n_estimators=200; total time=  32.7s\n",
            "Best Hyperparameters:  {'max_depth': 10, 'n_estimators': 200}\n",
            "Best Accuracy:  0.7799705199222563\n"
          ]
        }
      ],
      "source": [
        "from sklearn.ensemble import RandomForestClassifier\n",
        "\n",
        "params = {'n_estimators': [100, 200], #The number of trees in the forest.\n",
        "          'max_depth': [5, 10]}, #The maximum depth of the tree. If None, then nodes are expanded until all leaves are pure or until all leaves contain less than min_samples_split samples.\n",
        "\n",
        "rfc = RandomForestClassifier(random_state=2019)\n",
        "\n",
        "grid_search = GridSearchCV(estimator = rfc, \n",
        "                           param_grid = params, \n",
        "                           cv=5,\n",
        "                           scoring = 'accuracy',\n",
        "                           verbose = 2)\n",
        "\n",
        "grid_search.fit(x_flat_train, y_train)\n",
        "\n",
        "print(\"Best Hyperparameters: \", grid_search.best_params_)\n",
        "print(\"Best Accuracy: \", grid_search.best_score_)\n"
      ]
    },
    {
      "cell_type": "code",
      "execution_count": null,
      "metadata": {
        "id": "LrFv0t0MqR9i"
      },
      "outputs": [],
      "source": [
        "best_rfc = grid_search.best_estimator_"
      ]
    },
    {
      "cell_type": "code",
      "execution_count": null,
      "metadata": {
        "id": "I0dHSD3wgz44",
        "colab": {
          "base_uri": "https://localhost:8080/"
        },
        "outputId": "de174c06-e83c-4926-cb1b-8087378f5305"
      },
      "outputs": [
        {
          "output_type": "stream",
          "name": "stdout",
          "text": [
            "Accuracy on Testing Set:  0.7831131163390267\n"
          ]
        }
      ],
      "source": [
        "y_pred = best_rfc.predict(x_flat_test)\n",
        "accuracy = accuracy_score(y_test, y_pred)\n",
        "print(\"Accuracy on Testing Set: \", accuracy)"
      ]
    },
    {
      "cell_type": "code",
      "execution_count": null,
      "metadata": {
        "id": "mnMKoVuQqHq7",
        "colab": {
          "base_uri": "https://localhost:8080/"
        },
        "outputId": "eaed7821-68eb-4bb3-8ef2-b759d7808dff"
      },
      "outputs": [
        {
          "output_type": "stream",
          "name": "stdout",
          "text": [
            "F1 Score on Testing Set:  0.7620035679870039\n"
          ]
        }
      ],
      "source": [
        "f1score = f1_score(y_test, y_pred, average='weighted')\n",
        "print(\"F1 Score on Testing Set: \", f1score)"
      ]
    },
    {
      "cell_type": "code",
      "execution_count": null,
      "metadata": {
        "id": "AT-RqWp5hBK1",
        "colab": {
          "base_uri": "https://localhost:8080/",
          "height": 175
        },
        "outputId": "98873b80-22b4-425d-83a5-a597c5351b22"
      },
      "outputs": [
        {
          "output_type": "execute_result",
          "data": {
            "text/plain": [
              "  Model  Test_Accuracy  F1_Score\n",
              "0   SVM       0.822430  0.819557\n",
              "3   RFC       0.783113  0.762004\n",
              "1   KNN       0.768611  0.753757\n",
              "2   GNB       0.533677  0.552730"
            ],
            "text/html": [
              "\n",
              "  <div id=\"df-8ff5924d-7af0-4f92-acc1-985980f5b814\">\n",
              "    <div class=\"colab-df-container\">\n",
              "      <div>\n",
              "<style scoped>\n",
              "    .dataframe tbody tr th:only-of-type {\n",
              "        vertical-align: middle;\n",
              "    }\n",
              "\n",
              "    .dataframe tbody tr th {\n",
              "        vertical-align: top;\n",
              "    }\n",
              "\n",
              "    .dataframe thead th {\n",
              "        text-align: right;\n",
              "    }\n",
              "</style>\n",
              "<table border=\"1\" class=\"dataframe\">\n",
              "  <thead>\n",
              "    <tr style=\"text-align: right;\">\n",
              "      <th></th>\n",
              "      <th>Model</th>\n",
              "      <th>Test_Accuracy</th>\n",
              "      <th>F1_Score</th>\n",
              "    </tr>\n",
              "  </thead>\n",
              "  <tbody>\n",
              "    <tr>\n",
              "      <th>0</th>\n",
              "      <td>SVM</td>\n",
              "      <td>0.822430</td>\n",
              "      <td>0.819557</td>\n",
              "    </tr>\n",
              "    <tr>\n",
              "      <th>3</th>\n",
              "      <td>RFC</td>\n",
              "      <td>0.783113</td>\n",
              "      <td>0.762004</td>\n",
              "    </tr>\n",
              "    <tr>\n",
              "      <th>1</th>\n",
              "      <td>KNN</td>\n",
              "      <td>0.768611</td>\n",
              "      <td>0.753757</td>\n",
              "    </tr>\n",
              "    <tr>\n",
              "      <th>2</th>\n",
              "      <td>GNB</td>\n",
              "      <td>0.533677</td>\n",
              "      <td>0.552730</td>\n",
              "    </tr>\n",
              "  </tbody>\n",
              "</table>\n",
              "</div>\n",
              "      <button class=\"colab-df-convert\" onclick=\"convertToInteractive('df-8ff5924d-7af0-4f92-acc1-985980f5b814')\"\n",
              "              title=\"Convert this dataframe to an interactive table.\"\n",
              "              style=\"display:none;\">\n",
              "        \n",
              "  <svg xmlns=\"http://www.w3.org/2000/svg\" height=\"24px\"viewBox=\"0 0 24 24\"\n",
              "       width=\"24px\">\n",
              "    <path d=\"M0 0h24v24H0V0z\" fill=\"none\"/>\n",
              "    <path d=\"M18.56 5.44l.94 2.06.94-2.06 2.06-.94-2.06-.94-.94-2.06-.94 2.06-2.06.94zm-11 1L8.5 8.5l.94-2.06 2.06-.94-2.06-.94L8.5 2.5l-.94 2.06-2.06.94zm10 10l.94 2.06.94-2.06 2.06-.94-2.06-.94-.94-2.06-.94 2.06-2.06.94z\"/><path d=\"M17.41 7.96l-1.37-1.37c-.4-.4-.92-.59-1.43-.59-.52 0-1.04.2-1.43.59L10.3 9.45l-7.72 7.72c-.78.78-.78 2.05 0 2.83L4 21.41c.39.39.9.59 1.41.59.51 0 1.02-.2 1.41-.59l7.78-7.78 2.81-2.81c.8-.78.8-2.07 0-2.86zM5.41 20L4 18.59l7.72-7.72 1.47 1.35L5.41 20z\"/>\n",
              "  </svg>\n",
              "      </button>\n",
              "      \n",
              "  <style>\n",
              "    .colab-df-container {\n",
              "      display:flex;\n",
              "      flex-wrap:wrap;\n",
              "      gap: 12px;\n",
              "    }\n",
              "\n",
              "    .colab-df-convert {\n",
              "      background-color: #E8F0FE;\n",
              "      border: none;\n",
              "      border-radius: 50%;\n",
              "      cursor: pointer;\n",
              "      display: none;\n",
              "      fill: #1967D2;\n",
              "      height: 32px;\n",
              "      padding: 0 0 0 0;\n",
              "      width: 32px;\n",
              "    }\n",
              "\n",
              "    .colab-df-convert:hover {\n",
              "      background-color: #E2EBFA;\n",
              "      box-shadow: 0px 1px 2px rgba(60, 64, 67, 0.3), 0px 1px 3px 1px rgba(60, 64, 67, 0.15);\n",
              "      fill: #174EA6;\n",
              "    }\n",
              "\n",
              "    [theme=dark] .colab-df-convert {\n",
              "      background-color: #3B4455;\n",
              "      fill: #D2E3FC;\n",
              "    }\n",
              "\n",
              "    [theme=dark] .colab-df-convert:hover {\n",
              "      background-color: #434B5C;\n",
              "      box-shadow: 0px 1px 3px 1px rgba(0, 0, 0, 0.15);\n",
              "      filter: drop-shadow(0px 1px 2px rgba(0, 0, 0, 0.3));\n",
              "      fill: #FFFFFF;\n",
              "    }\n",
              "  </style>\n",
              "\n",
              "      <script>\n",
              "        const buttonEl =\n",
              "          document.querySelector('#df-8ff5924d-7af0-4f92-acc1-985980f5b814 button.colab-df-convert');\n",
              "        buttonEl.style.display =\n",
              "          google.colab.kernel.accessAllowed ? 'block' : 'none';\n",
              "\n",
              "        async function convertToInteractive(key) {\n",
              "          const element = document.querySelector('#df-8ff5924d-7af0-4f92-acc1-985980f5b814');\n",
              "          const dataTable =\n",
              "            await google.colab.kernel.invokeFunction('convertToInteractive',\n",
              "                                                     [key], {});\n",
              "          if (!dataTable) return;\n",
              "\n",
              "          const docLinkHtml = 'Like what you see? Visit the ' +\n",
              "            '<a target=\"_blank\" href=https://colab.research.google.com/notebooks/data_table.ipynb>data table notebook</a>'\n",
              "            + ' to learn more about interactive tables.';\n",
              "          element.innerHTML = '';\n",
              "          dataTable['output_type'] = 'display_data';\n",
              "          await google.colab.output.renderOutput(dataTable, element);\n",
              "          const docLink = document.createElement('div');\n",
              "          docLink.innerHTML = docLinkHtml;\n",
              "          element.appendChild(docLink);\n",
              "        }\n",
              "      </script>\n",
              "    </div>\n",
              "  </div>\n",
              "  "
            ]
          },
          "metadata": {},
          "execution_count": 36
        }
      ],
      "source": [
        "models_df = models_df.append(pd.Series(['RFC', accuracy, f1score], index=models_df.columns), ignore_index=True)\n",
        "models_df = models_df.sort_values('Test_Accuracy', ascending=False)\n",
        "models_df"
      ]
    },
    {
      "cell_type": "code",
      "execution_count": null,
      "metadata": {
        "id": "DsUt9Wb-hCrc",
        "colab": {
          "base_uri": "https://localhost:8080/",
          "height": 17
        },
        "outputId": "91439c8a-a25d-4216-ed90-5f4c3ae87828"
      },
      "outputs": [
        {
          "output_type": "display_data",
          "data": {
            "text/plain": [
              "<IPython.core.display.Javascript object>"
            ],
            "application/javascript": [
              "\n",
              "    async function download(id, filename, size) {\n",
              "      if (!google.colab.kernel.accessAllowed) {\n",
              "        return;\n",
              "      }\n",
              "      const div = document.createElement('div');\n",
              "      const label = document.createElement('label');\n",
              "      label.textContent = `Downloading \"${filename}\": `;\n",
              "      div.appendChild(label);\n",
              "      const progress = document.createElement('progress');\n",
              "      progress.max = size;\n",
              "      div.appendChild(progress);\n",
              "      document.body.appendChild(div);\n",
              "\n",
              "      const buffers = [];\n",
              "      let downloaded = 0;\n",
              "\n",
              "      const channel = await google.colab.kernel.comms.open(id);\n",
              "      // Send a message to notify the kernel that we're ready.\n",
              "      channel.send({})\n",
              "\n",
              "      for await (const message of channel.messages) {\n",
              "        // Send a message to notify the kernel that we're ready.\n",
              "        channel.send({})\n",
              "        if (message.buffers) {\n",
              "          for (const buffer of message.buffers) {\n",
              "            buffers.push(buffer);\n",
              "            downloaded += buffer.byteLength;\n",
              "            progress.value = downloaded;\n",
              "          }\n",
              "        }\n",
              "      }\n",
              "      const blob = new Blob(buffers, {type: 'application/binary'});\n",
              "      const a = document.createElement('a');\n",
              "      a.href = window.URL.createObjectURL(blob);\n",
              "      a.download = filename;\n",
              "      div.appendChild(a);\n",
              "      a.click();\n",
              "      div.remove();\n",
              "    }\n",
              "  "
            ]
          },
          "metadata": {}
        },
        {
          "output_type": "display_data",
          "data": {
            "text/plain": [
              "<IPython.core.display.Javascript object>"
            ],
            "application/javascript": [
              "download(\"download_5c76d917-ae70-4456-af1e-756bb3240c47\", \"RFC_Model.pkl\", 13916222)"
            ]
          },
          "metadata": {}
        }
      ],
      "source": [
        "import pickle\n",
        "with open('RFC_Model.pkl', 'wb') as file:\n",
        "    pickle.dump(best_rfc, file)\n",
        "\n",
        "from google.colab import files\n",
        "files.download('RFC_Model.pkl')"
      ]
    },
    {
      "cell_type": "markdown",
      "metadata": {
        "id": "Px7BQpAPhbk2"
      },
      "source": [
        "### XGBoost (XGB) Classifier\n",
        "\n",
        "XGBoost (eXtreme Gradient Boosting) is a scalable and efficient implementation of the gradient boosted trees algorithm, used for classification, regression, and ranking tasks (Chen & Guestrin, 2016). XGBoost combines the strengths of both tree-based algorithms and boosting techniques, leading to high predictive accuracy and robustness. The algorithm sequentially builds decision trees by optimizing an objective function that includes a differentiable loss function and a regularization term, which prevents overfitting. XGBoost is particularly well-suited for large-scale datasets, as it employs parallel and distributed computing techniques to accelerate the training process. "
      ]
    },
    {
      "cell_type": "code",
      "execution_count": null,
      "metadata": {
        "id": "_TXJT9HOheX4",
        "colab": {
          "base_uri": "https://localhost:8080/"
        },
        "outputId": "d6891bca-4747-4be9-e542-f1cecd62d50b"
      },
      "outputs": [
        {
          "output_type": "stream",
          "name": "stdout",
          "text": [
            "Fitting 5 folds for each of 12 candidates, totalling 60 fits\n",
            "[CV] END ...learning_rate=0.1, max_depth=5, n_estimators=100; total time=   5.0s\n",
            "[CV] END ...learning_rate=0.1, max_depth=5, n_estimators=100; total time=   4.6s\n",
            "[CV] END ...learning_rate=0.1, max_depth=5, n_estimators=100; total time=   4.5s\n",
            "[CV] END ...learning_rate=0.1, max_depth=5, n_estimators=100; total time=   4.5s\n",
            "[CV] END ...learning_rate=0.1, max_depth=5, n_estimators=100; total time=   5.0s\n",
            "[CV] END ...learning_rate=0.1, max_depth=5, n_estimators=200; total time=   8.3s\n",
            "[CV] END ...learning_rate=0.1, max_depth=5, n_estimators=200; total time=   8.8s\n",
            "[CV] END ...learning_rate=0.1, max_depth=5, n_estimators=200; total time=   8.2s\n",
            "[CV] END ...learning_rate=0.1, max_depth=5, n_estimators=200; total time=   7.8s\n",
            "[CV] END ...learning_rate=0.1, max_depth=5, n_estimators=200; total time=   8.8s\n",
            "[CV] END ..learning_rate=0.1, max_depth=10, n_estimators=100; total time=  28.2s\n",
            "[CV] END ..learning_rate=0.1, max_depth=10, n_estimators=100; total time=  28.2s\n",
            "[CV] END ..learning_rate=0.1, max_depth=10, n_estimators=100; total time=  28.7s\n",
            "[CV] END ..learning_rate=0.1, max_depth=10, n_estimators=100; total time=  28.1s\n",
            "[CV] END ..learning_rate=0.1, max_depth=10, n_estimators=100; total time=  28.3s\n",
            "[CV] END ..learning_rate=0.1, max_depth=10, n_estimators=200; total time=  40.0s\n",
            "[CV] END ..learning_rate=0.1, max_depth=10, n_estimators=200; total time=  39.8s\n",
            "[CV] END ..learning_rate=0.1, max_depth=10, n_estimators=200; total time=  40.3s\n",
            "[CV] END ..learning_rate=0.1, max_depth=10, n_estimators=200; total time=  39.6s\n",
            "[CV] END ..learning_rate=0.1, max_depth=10, n_estimators=200; total time=  40.0s\n",
            "[CV] END ..learning_rate=0.01, max_depth=5, n_estimators=100; total time=   5.6s\n",
            "[CV] END ..learning_rate=0.01, max_depth=5, n_estimators=100; total time=   4.5s\n",
            "[CV] END ..learning_rate=0.01, max_depth=5, n_estimators=100; total time=   5.2s\n",
            "[CV] END ..learning_rate=0.01, max_depth=5, n_estimators=100; total time=   6.1s\n",
            "[CV] END ..learning_rate=0.01, max_depth=5, n_estimators=100; total time=   4.6s\n",
            "[CV] END ..learning_rate=0.01, max_depth=5, n_estimators=200; total time=   8.3s\n",
            "[CV] END ..learning_rate=0.01, max_depth=5, n_estimators=200; total time=   8.1s\n",
            "[CV] END ..learning_rate=0.01, max_depth=5, n_estimators=200; total time=   8.2s\n",
            "[CV] END ..learning_rate=0.01, max_depth=5, n_estimators=200; total time=   8.1s\n",
            "[CV] END ..learning_rate=0.01, max_depth=5, n_estimators=200; total time=   8.2s\n",
            "[CV] END .learning_rate=0.01, max_depth=10, n_estimators=100; total time=  39.5s\n",
            "[CV] END .learning_rate=0.01, max_depth=10, n_estimators=100; total time=  39.9s\n",
            "[CV] END .learning_rate=0.01, max_depth=10, n_estimators=100; total time=  40.3s\n",
            "[CV] END .learning_rate=0.01, max_depth=10, n_estimators=100; total time=  40.3s\n",
            "[CV] END .learning_rate=0.01, max_depth=10, n_estimators=100; total time=  40.4s\n",
            "[CV] END .learning_rate=0.01, max_depth=10, n_estimators=200; total time= 1.4min\n",
            "[CV] END .learning_rate=0.01, max_depth=10, n_estimators=200; total time= 1.3min\n",
            "[CV] END .learning_rate=0.01, max_depth=10, n_estimators=200; total time= 1.4min\n",
            "[CV] END .learning_rate=0.01, max_depth=10, n_estimators=200; total time= 1.4min\n",
            "[CV] END .learning_rate=0.01, max_depth=10, n_estimators=200; total time= 1.4min\n",
            "[CV] END .learning_rate=0.001, max_depth=5, n_estimators=100; total time=   4.6s\n",
            "[CV] END .learning_rate=0.001, max_depth=5, n_estimators=100; total time=   4.5s\n",
            "[CV] END .learning_rate=0.001, max_depth=5, n_estimators=100; total time=   4.5s\n",
            "[CV] END .learning_rate=0.001, max_depth=5, n_estimators=100; total time=   4.9s\n",
            "[CV] END .learning_rate=0.001, max_depth=5, n_estimators=100; total time=   4.6s\n",
            "[CV] END .learning_rate=0.001, max_depth=5, n_estimators=200; total time=   8.2s\n",
            "[CV] END .learning_rate=0.001, max_depth=5, n_estimators=200; total time=   8.1s\n",
            "[CV] END .learning_rate=0.001, max_depth=5, n_estimators=200; total time=   8.6s\n",
            "[CV] END .learning_rate=0.001, max_depth=5, n_estimators=200; total time=   8.1s\n",
            "[CV] END .learning_rate=0.001, max_depth=5, n_estimators=200; total time=   8.1s\n",
            "[CV] END learning_rate=0.001, max_depth=10, n_estimators=100; total time=  38.5s\n",
            "[CV] END learning_rate=0.001, max_depth=10, n_estimators=100; total time=  38.2s\n",
            "[CV] END learning_rate=0.001, max_depth=10, n_estimators=100; total time=  37.1s\n",
            "[CV] END learning_rate=0.001, max_depth=10, n_estimators=100; total time=  38.6s\n",
            "[CV] END learning_rate=0.001, max_depth=10, n_estimators=100; total time=  38.7s\n",
            "[CV] END learning_rate=0.001, max_depth=10, n_estimators=200; total time= 1.3min\n",
            "[CV] END learning_rate=0.001, max_depth=10, n_estimators=200; total time= 1.3min\n",
            "[CV] END learning_rate=0.001, max_depth=10, n_estimators=200; total time= 1.2min\n",
            "[CV] END learning_rate=0.001, max_depth=10, n_estimators=200; total time= 1.3min\n",
            "[CV] END learning_rate=0.001, max_depth=10, n_estimators=200; total time= 1.3min\n",
            "Best Hyperparameters:  {'learning_rate': 0.1, 'max_depth': 10, 'n_estimators': 200}\n",
            "Best Accuracy:  0.829358672007524\n"
          ]
        }
      ],
      "source": [
        "from xgboost import XGBClassifier\n",
        "\n",
        "params = {'n_estimators': [100, 200],\n",
        "          'max_depth': [5, 10],\n",
        "          'learning_rate': [0.1, 0.01, 0.001]}\n",
        "\n",
        "xgb = XGBClassifier(random_state=2019, tree_method = 'gpu_hist')\n",
        "\n",
        "grid_search = GridSearchCV(estimator = xgb, \n",
        "                           param_grid = params, \n",
        "                           cv=5,\n",
        "                           scoring = 'accuracy',\n",
        "                           verbose = 2)\n",
        "\n",
        "grid_search.fit(x_flat_train, y_train)\n",
        "\n",
        "print(\"Best Hyperparameters: \", grid_search.best_params_)\n",
        "print(\"Best Accuracy: \", grid_search.best_score_)"
      ]
    },
    {
      "cell_type": "code",
      "execution_count": null,
      "metadata": {
        "id": "HNGqSEroqYxc"
      },
      "outputs": [],
      "source": [
        "best_xgb = grid_search.best_estimator_"
      ]
    },
    {
      "cell_type": "code",
      "execution_count": null,
      "metadata": {
        "id": "m0f-S7a7lEjh",
        "colab": {
          "base_uri": "https://localhost:8080/"
        },
        "outputId": "39b11ac9-7348-4905-f8fd-0fcd51e2e8f3"
      },
      "outputs": [
        {
          "output_type": "stream",
          "name": "stdout",
          "text": [
            "Accuracy on Testing Set:  0.8266194005800838\n"
          ]
        }
      ],
      "source": [
        "y_pred = best_xgb.predict(x_flat_test)\n",
        "accuracy = accuracy_score(y_test, y_pred)\n",
        "print(\"Accuracy on Testing Set: \", accuracy)"
      ]
    },
    {
      "cell_type": "code",
      "execution_count": null,
      "metadata": {
        "id": "-Ci6IT48qdfz",
        "colab": {
          "base_uri": "https://localhost:8080/"
        },
        "outputId": "08b0f707-8c01-4af7-9206-04b33e25da60"
      },
      "outputs": [
        {
          "output_type": "stream",
          "name": "stdout",
          "text": [
            "F1 Score on Testing Set:  0.8186371900028467\n"
          ]
        }
      ],
      "source": [
        "f1score = f1_score(y_test, y_pred, average='weighted')\n",
        "print(\"F1 Score on Testing Set: \", f1score)"
      ]
    },
    {
      "cell_type": "code",
      "execution_count": null,
      "metadata": {
        "id": "JNqSWOuunDYJ",
        "colab": {
          "base_uri": "https://localhost:8080/",
          "height": 206
        },
        "outputId": "cdb86da1-4590-431e-9f5d-31426accca54"
      },
      "outputs": [
        {
          "output_type": "execute_result",
          "data": {
            "text/plain": [
              "  Model  Test_Accuracy  F1_Score\n",
              "4   XGB       0.826619  0.818637\n",
              "0   SVM       0.822430  0.819557\n",
              "3   RFC       0.783113  0.762004\n",
              "1   KNN       0.768611  0.753757\n",
              "2   GNB       0.533677  0.552730"
            ],
            "text/html": [
              "\n",
              "  <div id=\"df-437a0e6c-3a48-41e3-94ab-dc8e814bc8d5\">\n",
              "    <div class=\"colab-df-container\">\n",
              "      <div>\n",
              "<style scoped>\n",
              "    .dataframe tbody tr th:only-of-type {\n",
              "        vertical-align: middle;\n",
              "    }\n",
              "\n",
              "    .dataframe tbody tr th {\n",
              "        vertical-align: top;\n",
              "    }\n",
              "\n",
              "    .dataframe thead th {\n",
              "        text-align: right;\n",
              "    }\n",
              "</style>\n",
              "<table border=\"1\" class=\"dataframe\">\n",
              "  <thead>\n",
              "    <tr style=\"text-align: right;\">\n",
              "      <th></th>\n",
              "      <th>Model</th>\n",
              "      <th>Test_Accuracy</th>\n",
              "      <th>F1_Score</th>\n",
              "    </tr>\n",
              "  </thead>\n",
              "  <tbody>\n",
              "    <tr>\n",
              "      <th>4</th>\n",
              "      <td>XGB</td>\n",
              "      <td>0.826619</td>\n",
              "      <td>0.818637</td>\n",
              "    </tr>\n",
              "    <tr>\n",
              "      <th>0</th>\n",
              "      <td>SVM</td>\n",
              "      <td>0.822430</td>\n",
              "      <td>0.819557</td>\n",
              "    </tr>\n",
              "    <tr>\n",
              "      <th>3</th>\n",
              "      <td>RFC</td>\n",
              "      <td>0.783113</td>\n",
              "      <td>0.762004</td>\n",
              "    </tr>\n",
              "    <tr>\n",
              "      <th>1</th>\n",
              "      <td>KNN</td>\n",
              "      <td>0.768611</td>\n",
              "      <td>0.753757</td>\n",
              "    </tr>\n",
              "    <tr>\n",
              "      <th>2</th>\n",
              "      <td>GNB</td>\n",
              "      <td>0.533677</td>\n",
              "      <td>0.552730</td>\n",
              "    </tr>\n",
              "  </tbody>\n",
              "</table>\n",
              "</div>\n",
              "      <button class=\"colab-df-convert\" onclick=\"convertToInteractive('df-437a0e6c-3a48-41e3-94ab-dc8e814bc8d5')\"\n",
              "              title=\"Convert this dataframe to an interactive table.\"\n",
              "              style=\"display:none;\">\n",
              "        \n",
              "  <svg xmlns=\"http://www.w3.org/2000/svg\" height=\"24px\"viewBox=\"0 0 24 24\"\n",
              "       width=\"24px\">\n",
              "    <path d=\"M0 0h24v24H0V0z\" fill=\"none\"/>\n",
              "    <path d=\"M18.56 5.44l.94 2.06.94-2.06 2.06-.94-2.06-.94-.94-2.06-.94 2.06-2.06.94zm-11 1L8.5 8.5l.94-2.06 2.06-.94-2.06-.94L8.5 2.5l-.94 2.06-2.06.94zm10 10l.94 2.06.94-2.06 2.06-.94-2.06-.94-.94-2.06-.94 2.06-2.06.94z\"/><path d=\"M17.41 7.96l-1.37-1.37c-.4-.4-.92-.59-1.43-.59-.52 0-1.04.2-1.43.59L10.3 9.45l-7.72 7.72c-.78.78-.78 2.05 0 2.83L4 21.41c.39.39.9.59 1.41.59.51 0 1.02-.2 1.41-.59l7.78-7.78 2.81-2.81c.8-.78.8-2.07 0-2.86zM5.41 20L4 18.59l7.72-7.72 1.47 1.35L5.41 20z\"/>\n",
              "  </svg>\n",
              "      </button>\n",
              "      \n",
              "  <style>\n",
              "    .colab-df-container {\n",
              "      display:flex;\n",
              "      flex-wrap:wrap;\n",
              "      gap: 12px;\n",
              "    }\n",
              "\n",
              "    .colab-df-convert {\n",
              "      background-color: #E8F0FE;\n",
              "      border: none;\n",
              "      border-radius: 50%;\n",
              "      cursor: pointer;\n",
              "      display: none;\n",
              "      fill: #1967D2;\n",
              "      height: 32px;\n",
              "      padding: 0 0 0 0;\n",
              "      width: 32px;\n",
              "    }\n",
              "\n",
              "    .colab-df-convert:hover {\n",
              "      background-color: #E2EBFA;\n",
              "      box-shadow: 0px 1px 2px rgba(60, 64, 67, 0.3), 0px 1px 3px 1px rgba(60, 64, 67, 0.15);\n",
              "      fill: #174EA6;\n",
              "    }\n",
              "\n",
              "    [theme=dark] .colab-df-convert {\n",
              "      background-color: #3B4455;\n",
              "      fill: #D2E3FC;\n",
              "    }\n",
              "\n",
              "    [theme=dark] .colab-df-convert:hover {\n",
              "      background-color: #434B5C;\n",
              "      box-shadow: 0px 1px 3px 1px rgba(0, 0, 0, 0.15);\n",
              "      filter: drop-shadow(0px 1px 2px rgba(0, 0, 0, 0.3));\n",
              "      fill: #FFFFFF;\n",
              "    }\n",
              "  </style>\n",
              "\n",
              "      <script>\n",
              "        const buttonEl =\n",
              "          document.querySelector('#df-437a0e6c-3a48-41e3-94ab-dc8e814bc8d5 button.colab-df-convert');\n",
              "        buttonEl.style.display =\n",
              "          google.colab.kernel.accessAllowed ? 'block' : 'none';\n",
              "\n",
              "        async function convertToInteractive(key) {\n",
              "          const element = document.querySelector('#df-437a0e6c-3a48-41e3-94ab-dc8e814bc8d5');\n",
              "          const dataTable =\n",
              "            await google.colab.kernel.invokeFunction('convertToInteractive',\n",
              "                                                     [key], {});\n",
              "          if (!dataTable) return;\n",
              "\n",
              "          const docLinkHtml = 'Like what you see? Visit the ' +\n",
              "            '<a target=\"_blank\" href=https://colab.research.google.com/notebooks/data_table.ipynb>data table notebook</a>'\n",
              "            + ' to learn more about interactive tables.';\n",
              "          element.innerHTML = '';\n",
              "          dataTable['output_type'] = 'display_data';\n",
              "          await google.colab.output.renderOutput(dataTable, element);\n",
              "          const docLink = document.createElement('div');\n",
              "          docLink.innerHTML = docLinkHtml;\n",
              "          element.appendChild(docLink);\n",
              "        }\n",
              "      </script>\n",
              "    </div>\n",
              "  </div>\n",
              "  "
            ]
          },
          "metadata": {},
          "execution_count": 24
        }
      ],
      "source": [
        "models_df = models_df.append(pd.Series(['XGB', accuracy, f1score], index=models_df.columns), ignore_index=True)\n",
        "models_df = models_df.sort_values('Test_Accuracy', ascending=False)\n",
        "models_df"
      ]
    },
    {
      "cell_type": "code",
      "execution_count": null,
      "metadata": {
        "id": "At5EDob9nMv3",
        "colab": {
          "base_uri": "https://localhost:8080/",
          "height": 17
        },
        "outputId": "290c88a7-1a4b-4f08-eab5-e487979a3aa3"
      },
      "outputs": [
        {
          "output_type": "display_data",
          "data": {
            "text/plain": [
              "<IPython.core.display.Javascript object>"
            ],
            "application/javascript": [
              "\n",
              "    async function download(id, filename, size) {\n",
              "      if (!google.colab.kernel.accessAllowed) {\n",
              "        return;\n",
              "      }\n",
              "      const div = document.createElement('div');\n",
              "      const label = document.createElement('label');\n",
              "      label.textContent = `Downloading \"${filename}\": `;\n",
              "      div.appendChild(label);\n",
              "      const progress = document.createElement('progress');\n",
              "      progress.max = size;\n",
              "      div.appendChild(progress);\n",
              "      document.body.appendChild(div);\n",
              "\n",
              "      const buffers = [];\n",
              "      let downloaded = 0;\n",
              "\n",
              "      const channel = await google.colab.kernel.comms.open(id);\n",
              "      // Send a message to notify the kernel that we're ready.\n",
              "      channel.send({})\n",
              "\n",
              "      for await (const message of channel.messages) {\n",
              "        // Send a message to notify the kernel that we're ready.\n",
              "        channel.send({})\n",
              "        if (message.buffers) {\n",
              "          for (const buffer of message.buffers) {\n",
              "            buffers.push(buffer);\n",
              "            downloaded += buffer.byteLength;\n",
              "            progress.value = downloaded;\n",
              "          }\n",
              "        }\n",
              "      }\n",
              "      const blob = new Blob(buffers, {type: 'application/binary'});\n",
              "      const a = document.createElement('a');\n",
              "      a.href = window.URL.createObjectURL(blob);\n",
              "      a.download = filename;\n",
              "      div.appendChild(a);\n",
              "      a.click();\n",
              "      div.remove();\n",
              "    }\n",
              "  "
            ]
          },
          "metadata": {}
        },
        {
          "output_type": "display_data",
          "data": {
            "text/plain": [
              "<IPython.core.display.Javascript object>"
            ],
            "application/javascript": [
              "download(\"download_1e08f350-2d0c-4631-83be-a24bbf9c1ef9\", \"XGB_Model.pkl\", 5723541)"
            ]
          },
          "metadata": {}
        }
      ],
      "source": [
        "import pickle\n",
        "with open('XGB_Model.pkl', 'wb') as file:\n",
        "    pickle.dump(best_xgb, file)\n",
        "\n",
        "from google.colab import files\n",
        "files.download('XGB_Model.pkl')"
      ]
    },
    {
      "cell_type": "markdown",
      "metadata": {
        "id": "O89-tklwn-JZ"
      },
      "source": [
        "### Convolutional Neural Network (CNN) Classifier\n",
        "\n",
        "Convolutional Neural Networks (CNNs) are a type of neural network that has taken a defining role in world of computer vision. Their strength is in image classification and object recognition tasks, as they can extract relevant features from the data. CNNs are composed of multiple layers, which learn to identify and highlight patterns in the input image. These layers (or filters) are designed to capture local spatial relationships between pixels or elements in the input, enabling the network to identify complex structures and patterns in the data. To make the network more robust to changes in the input, CNNs often include pooling layers. These layers reduce the dimensionality of the feature maps, making the network more resistant to translation and rotation of the input. By using multiple convolutional and pooling layers, CNNs can learn increasingly abstract and complex features from the input, and ultimately make accurate predictions on the test data. The other strength of CNN is the support for GPU usage. Since CNNs are computationally expensive with large datasets, this support comes in handy. One other drawback of CNN is that they are not interpretable. \n",
        "\n",
        "The process of optimizing the hyperparameters of a Convolutional Neural Network can be rather involved, as it necessitates a careful balancing of various parameters like layer count, filter dimensions, and pooling methodology. Tweaking these characteristics can exert a significant impact on the model's effectiveness, so a patient approach is required to find the optimal balance between complexity and overfitting. To do this, one must employ search techniques that are systematic and comprehensive, such as those involving random sampling or gridded search algorithms. "
      ]
    },
    {
      "cell_type": "code",
      "execution_count": null,
      "metadata": {
        "id": "yWQ3UcQbyg7r"
      },
      "outputs": [],
      "source": [
        "np.random.seed(1337) \n",
        "inputs = Input(shape=(height, width, channels))\n",
        "\n",
        "m = Conv2D(32, (3, 3), activation='relu')(inputs)\n",
        "m = Conv2D(32, (3, 3), activation='relu')(m) \n",
        "m = MaxPooling2D(2, 2)(m)\n",
        "m = Conv2D(64, (3, 3), activation='relu')(m)\n",
        "m = Conv2D(64, (3, 3), activation='relu')(m)\n",
        "m = MaxPooling2D(2, 2)(m)\n",
        "m = Flatten()(m)\n",
        "m = Dense(128, activation='relu')(m)\n",
        "m = Dense(128, activation='relu')(m)\n",
        "fm = Dense(num_classes, activation='softmax')(m)\n",
        "\n",
        "sub_model = Model(inputs=inputs, outputs=m)\n",
        "cnn_model = Model(inputs=inputs, outputs=fm)"
      ]
    },
    {
      "cell_type": "code",
      "execution_count": null,
      "metadata": {
        "id": "-QG50RAqyp2W",
        "colab": {
          "base_uri": "https://localhost:8080/"
        },
        "outputId": "1d19975d-34a1-43b7-8cb1-fdb01543f22c"
      },
      "outputs": [
        {
          "output_type": "stream",
          "name": "stdout",
          "text": [
            "Epoch 1/20\n",
            "156/156 [==============================] - 2s 8ms/step - loss: 0.4647 - accuracy: 0.7986 - val_loss: 0.5175 - val_accuracy: 0.7684\n",
            "Epoch 2/20\n",
            "156/156 [==============================] - 1s 8ms/step - loss: 0.4611 - accuracy: 0.7959 - val_loss: 0.4945 - val_accuracy: 0.7918\n",
            "Epoch 3/20\n",
            "156/156 [==============================] - 1s 5ms/step - loss: 0.4579 - accuracy: 0.7997 - val_loss: 0.5120 - val_accuracy: 0.7853\n",
            "Epoch 4/20\n",
            "156/156 [==============================] - 1s 5ms/step - loss: 0.4562 - accuracy: 0.8031 - val_loss: 0.5362 - val_accuracy: 0.7624\n",
            "Epoch 5/20\n",
            "156/156 [==============================] - 1s 5ms/step - loss: 0.4543 - accuracy: 0.8047 - val_loss: 0.4858 - val_accuracy: 0.7894\n",
            "Epoch 6/20\n",
            "156/156 [==============================] - 1s 5ms/step - loss: 0.4439 - accuracy: 0.8087 - val_loss: 0.4802 - val_accuracy: 0.7950\n",
            "Epoch 7/20\n",
            "156/156 [==============================] - 1s 6ms/step - loss: 0.4357 - accuracy: 0.8141 - val_loss: 0.4770 - val_accuracy: 0.8059\n",
            "Epoch 8/20\n",
            "156/156 [==============================] - 1s 6ms/step - loss: 0.4297 - accuracy: 0.8136 - val_loss: 0.4892 - val_accuracy: 0.7825\n",
            "Epoch 9/20\n",
            "156/156 [==============================] - 1s 6ms/step - loss: 0.4268 - accuracy: 0.8145 - val_loss: 0.5205 - val_accuracy: 0.7797\n",
            "Epoch 10/20\n",
            "156/156 [==============================] - 1s 5ms/step - loss: 0.4183 - accuracy: 0.8222 - val_loss: 0.4772 - val_accuracy: 0.7934\n",
            "Epoch 11/20\n",
            "156/156 [==============================] - 1s 5ms/step - loss: 0.4088 - accuracy: 0.8271 - val_loss: 0.4645 - val_accuracy: 0.8059\n",
            "Epoch 12/20\n",
            "156/156 [==============================] - 1s 5ms/step - loss: 0.4092 - accuracy: 0.8253 - val_loss: 0.4639 - val_accuracy: 0.8107\n",
            "Epoch 13/20\n",
            "156/156 [==============================] - 1s 8ms/step - loss: 0.4012 - accuracy: 0.8304 - val_loss: 0.4614 - val_accuracy: 0.8099\n",
            "Epoch 14/20\n",
            "156/156 [==============================] - 1s 5ms/step - loss: 0.3972 - accuracy: 0.8320 - val_loss: 0.4611 - val_accuracy: 0.8059\n",
            "Epoch 15/20\n",
            "156/156 [==============================] - 1s 5ms/step - loss: 0.3868 - accuracy: 0.8351 - val_loss: 0.4662 - val_accuracy: 0.8083\n",
            "Epoch 16/20\n",
            "156/156 [==============================] - 1s 5ms/step - loss: 0.3811 - accuracy: 0.8398 - val_loss: 0.4595 - val_accuracy: 0.8115\n",
            "Epoch 17/20\n",
            "156/156 [==============================] - 1s 4ms/step - loss: 0.3738 - accuracy: 0.8459 - val_loss: 0.4827 - val_accuracy: 0.7934\n",
            "Epoch 18/20\n",
            "156/156 [==============================] - 1s 5ms/step - loss: 0.3746 - accuracy: 0.8435 - val_loss: 0.4744 - val_accuracy: 0.8027\n",
            "Epoch 19/20\n",
            "156/156 [==============================] - 1s 4ms/step - loss: 0.3674 - accuracy: 0.8476 - val_loss: 0.4848 - val_accuracy: 0.7942\n",
            "Epoch 20/20\n",
            "156/156 [==============================] - 1s 4ms/step - loss: 0.3613 - accuracy: 0.8513 - val_loss: 0.4661 - val_accuracy: 0.8087\n",
            "97/97 [==============================] - 0s 3ms/step - loss: 0.4864 - accuracy: 0.7925\n",
            "\n",
            "test loss:  0.486425518989563\n",
            "\n",
            "test accuracy:  0.7924588918685913\n"
          ]
        }
      ],
      "source": [
        "adam = Adam(lr=1e-4)\n",
        "\n",
        "x_train = np.array(x_train)\n",
        "y_train = np.array(y_train)\n",
        "x_test = np.array(x_test)\n",
        "y_test = np.array(y_test)\n",
        "\n",
        "cnn_model.compile(optimizer=adam,\n",
        "                  loss=tf.keras.losses.SparseCategoricalCrossentropy(from_logits=True),\n",
        "                  metrics=['accuracy'])\n",
        "\n",
        "hist = cnn_model.fit(x_train, \n",
        "                     y_train, \n",
        "                     epochs=20, \n",
        "                     validation_split=0.2,\n",
        "                     batch_size=64)\n",
        "\n",
        "loss, accuracy = cnn_model.evaluate(x_test, \n",
        "                                    y_test)\n",
        "\n",
        "print('\\ntest loss: ', loss)\n",
        "print('\\ntest accuracy: ', accuracy)"
      ]
    },
    {
      "cell_type": "code",
      "execution_count": null,
      "metadata": {
        "id": "js5aKMrqq5sd",
        "colab": {
          "base_uri": "https://localhost:8080/"
        },
        "outputId": "a9bfa2e6-2a22-4a7e-e021-1048278648f3"
      },
      "outputs": [
        {
          "output_type": "stream",
          "name": "stdout",
          "text": [
            "97/97 [==============================] - 0s 4ms/step\n",
            "Accuracy on Testing Set:  0.7924589107315501\n"
          ]
        }
      ],
      "source": [
        "y_pred = cnn_model.predict(x_test)\n",
        "y_pred = y_pred.argmax(axis=-1)\n",
        "accuracy = accuracy_score(y_test, y_pred)\n",
        "print(\"Accuracy on Testing Set: \", accuracy)"
      ]
    },
    {
      "cell_type": "code",
      "execution_count": null,
      "metadata": {
        "id": "m_Xt37hGqqAa",
        "colab": {
          "base_uri": "https://localhost:8080/"
        },
        "outputId": "ec882266-76be-4dc7-c9b8-a6d641879df3"
      },
      "outputs": [
        {
          "output_type": "stream",
          "name": "stdout",
          "text": [
            "F1 Score on Testing Set:  0.7887599315496701\n"
          ]
        }
      ],
      "source": [
        "f1score = f1_score(y_test, y_pred, average='weighted')\n",
        "print(\"F1 Score on Testing Set: \", f1score)"
      ]
    },
    {
      "cell_type": "code",
      "execution_count": null,
      "metadata": {
        "id": "9nyXCFIe1dyP",
        "colab": {
          "base_uri": "https://localhost:8080/",
          "height": 237
        },
        "outputId": "e14eb305-95d7-4837-a694-9cc960e5b7d0"
      },
      "outputs": [
        {
          "output_type": "execute_result",
          "data": {
            "text/plain": [
              "  Model  Test_Accuracy  F1_Score\n",
              "0   XGB       0.826619  0.818637\n",
              "1   SVM       0.822430  0.819557\n",
              "5   CNN       0.792459  0.788760\n",
              "2   RFC       0.783113  0.762004\n",
              "3   KNN       0.768611  0.753757\n",
              "4   GNB       0.533677  0.552730"
            ],
            "text/html": [
              "\n",
              "  <div id=\"df-6579ae55-bbb3-4293-ac5d-6a1883d1e55c\">\n",
              "    <div class=\"colab-df-container\">\n",
              "      <div>\n",
              "<style scoped>\n",
              "    .dataframe tbody tr th:only-of-type {\n",
              "        vertical-align: middle;\n",
              "    }\n",
              "\n",
              "    .dataframe tbody tr th {\n",
              "        vertical-align: top;\n",
              "    }\n",
              "\n",
              "    .dataframe thead th {\n",
              "        text-align: right;\n",
              "    }\n",
              "</style>\n",
              "<table border=\"1\" class=\"dataframe\">\n",
              "  <thead>\n",
              "    <tr style=\"text-align: right;\">\n",
              "      <th></th>\n",
              "      <th>Model</th>\n",
              "      <th>Test_Accuracy</th>\n",
              "      <th>F1_Score</th>\n",
              "    </tr>\n",
              "  </thead>\n",
              "  <tbody>\n",
              "    <tr>\n",
              "      <th>0</th>\n",
              "      <td>XGB</td>\n",
              "      <td>0.826619</td>\n",
              "      <td>0.818637</td>\n",
              "    </tr>\n",
              "    <tr>\n",
              "      <th>1</th>\n",
              "      <td>SVM</td>\n",
              "      <td>0.822430</td>\n",
              "      <td>0.819557</td>\n",
              "    </tr>\n",
              "    <tr>\n",
              "      <th>5</th>\n",
              "      <td>CNN</td>\n",
              "      <td>0.792459</td>\n",
              "      <td>0.788760</td>\n",
              "    </tr>\n",
              "    <tr>\n",
              "      <th>2</th>\n",
              "      <td>RFC</td>\n",
              "      <td>0.783113</td>\n",
              "      <td>0.762004</td>\n",
              "    </tr>\n",
              "    <tr>\n",
              "      <th>3</th>\n",
              "      <td>KNN</td>\n",
              "      <td>0.768611</td>\n",
              "      <td>0.753757</td>\n",
              "    </tr>\n",
              "    <tr>\n",
              "      <th>4</th>\n",
              "      <td>GNB</td>\n",
              "      <td>0.533677</td>\n",
              "      <td>0.552730</td>\n",
              "    </tr>\n",
              "  </tbody>\n",
              "</table>\n",
              "</div>\n",
              "      <button class=\"colab-df-convert\" onclick=\"convertToInteractive('df-6579ae55-bbb3-4293-ac5d-6a1883d1e55c')\"\n",
              "              title=\"Convert this dataframe to an interactive table.\"\n",
              "              style=\"display:none;\">\n",
              "        \n",
              "  <svg xmlns=\"http://www.w3.org/2000/svg\" height=\"24px\"viewBox=\"0 0 24 24\"\n",
              "       width=\"24px\">\n",
              "    <path d=\"M0 0h24v24H0V0z\" fill=\"none\"/>\n",
              "    <path d=\"M18.56 5.44l.94 2.06.94-2.06 2.06-.94-2.06-.94-.94-2.06-.94 2.06-2.06.94zm-11 1L8.5 8.5l.94-2.06 2.06-.94-2.06-.94L8.5 2.5l-.94 2.06-2.06.94zm10 10l.94 2.06.94-2.06 2.06-.94-2.06-.94-.94-2.06-.94 2.06-2.06.94z\"/><path d=\"M17.41 7.96l-1.37-1.37c-.4-.4-.92-.59-1.43-.59-.52 0-1.04.2-1.43.59L10.3 9.45l-7.72 7.72c-.78.78-.78 2.05 0 2.83L4 21.41c.39.39.9.59 1.41.59.51 0 1.02-.2 1.41-.59l7.78-7.78 2.81-2.81c.8-.78.8-2.07 0-2.86zM5.41 20L4 18.59l7.72-7.72 1.47 1.35L5.41 20z\"/>\n",
              "  </svg>\n",
              "      </button>\n",
              "      \n",
              "  <style>\n",
              "    .colab-df-container {\n",
              "      display:flex;\n",
              "      flex-wrap:wrap;\n",
              "      gap: 12px;\n",
              "    }\n",
              "\n",
              "    .colab-df-convert {\n",
              "      background-color: #E8F0FE;\n",
              "      border: none;\n",
              "      border-radius: 50%;\n",
              "      cursor: pointer;\n",
              "      display: none;\n",
              "      fill: #1967D2;\n",
              "      height: 32px;\n",
              "      padding: 0 0 0 0;\n",
              "      width: 32px;\n",
              "    }\n",
              "\n",
              "    .colab-df-convert:hover {\n",
              "      background-color: #E2EBFA;\n",
              "      box-shadow: 0px 1px 2px rgba(60, 64, 67, 0.3), 0px 1px 3px 1px rgba(60, 64, 67, 0.15);\n",
              "      fill: #174EA6;\n",
              "    }\n",
              "\n",
              "    [theme=dark] .colab-df-convert {\n",
              "      background-color: #3B4455;\n",
              "      fill: #D2E3FC;\n",
              "    }\n",
              "\n",
              "    [theme=dark] .colab-df-convert:hover {\n",
              "      background-color: #434B5C;\n",
              "      box-shadow: 0px 1px 3px 1px rgba(0, 0, 0, 0.15);\n",
              "      filter: drop-shadow(0px 1px 2px rgba(0, 0, 0, 0.3));\n",
              "      fill: #FFFFFF;\n",
              "    }\n",
              "  </style>\n",
              "\n",
              "      <script>\n",
              "        const buttonEl =\n",
              "          document.querySelector('#df-6579ae55-bbb3-4293-ac5d-6a1883d1e55c button.colab-df-convert');\n",
              "        buttonEl.style.display =\n",
              "          google.colab.kernel.accessAllowed ? 'block' : 'none';\n",
              "\n",
              "        async function convertToInteractive(key) {\n",
              "          const element = document.querySelector('#df-6579ae55-bbb3-4293-ac5d-6a1883d1e55c');\n",
              "          const dataTable =\n",
              "            await google.colab.kernel.invokeFunction('convertToInteractive',\n",
              "                                                     [key], {});\n",
              "          if (!dataTable) return;\n",
              "\n",
              "          const docLinkHtml = 'Like what you see? Visit the ' +\n",
              "            '<a target=\"_blank\" href=https://colab.research.google.com/notebooks/data_table.ipynb>data table notebook</a>'\n",
              "            + ' to learn more about interactive tables.';\n",
              "          element.innerHTML = '';\n",
              "          dataTable['output_type'] = 'display_data';\n",
              "          await google.colab.output.renderOutput(dataTable, element);\n",
              "          const docLink = document.createElement('div');\n",
              "          docLink.innerHTML = docLinkHtml;\n",
              "          element.appendChild(docLink);\n",
              "        }\n",
              "      </script>\n",
              "    </div>\n",
              "  </div>\n",
              "  "
            ]
          },
          "metadata": {},
          "execution_count": 33
        }
      ],
      "source": [
        "models_df = models_df.append(pd.Series(['CNN', accuracy, f1score], index=models_df.columns), ignore_index=True)\n",
        "models_df = models_df.sort_values('Test_Accuracy', ascending=False)\n",
        "models_df"
      ]
    },
    {
      "cell_type": "code",
      "execution_count": null,
      "metadata": {
        "id": "dOOhbBfoNFhA",
        "colab": {
          "base_uri": "https://localhost:8080/",
          "height": 478
        },
        "outputId": "aabe480b-2ede-40ff-cbf6-25b6cad8bd06"
      },
      "outputs": [
        {
          "output_type": "display_data",
          "data": {
            "text/plain": [
              "<Figure size 640x480 with 1 Axes>"
            ],
            "image/png": "[encoded data removed]"
          },
          "metadata": {}
        }
      ],
      "source": [
        "fig = plt.figure()\n",
        "plt.plot(hist.history['loss'], color='teal', label='loss')\n",
        "plt.plot(hist.history['val_loss'], color='orange', label='val_loss')\n",
        "fig.suptitle('Loss', fontsize=20)\n",
        "plt.legend(loc=\"upper right\")\n",
        "plt.show()"
      ]
    },
    {
      "cell_type": "code",
      "execution_count": null,
      "metadata": {
        "id": "FAVC4B_gzuz3",
        "colab": {
          "base_uri": "https://localhost:8080/",
          "height": 478
        },
        "outputId": "ca17834c-04e1-49e9-cd07-99ecb1511151"
      },
      "outputs": [
        {
          "output_type": "display_data",
          "data": {
            "text/plain": [
              "<Figure size 640x480 with 1 Axes>"
            ],
            "image/png": "[encoded data removed]"
          },
          "metadata": {}
        }
      ],
      "source": [
        "fig = plt.figure()\n",
        "plt.plot(hist.history['accuracy'], color='teal', label='accuracy')\n",
        "plt.plot(hist.history['val_accuracy'], color='orange', label='val_accuracy')\n",
        "fig.suptitle('Accuracy', fontsize=20)\n",
        "plt.legend(loc=\"lower right\")\n",
        "plt.show()"
      ]
    },
    {
      "cell_type": "code",
      "execution_count": null,
      "metadata": {
        "id": "KtcQHHaBzypm",
        "colab": {
          "base_uri": "https://localhost:8080/",
          "height": 54
        },
        "outputId": "83abf6a8-5f46-4a2c-fb54-7bc8873957dd"
      },
      "outputs": [
        {
          "output_type": "stream",
          "name": "stderr",
          "text": [
            "WARNING:tensorflow:Compiled the loaded model, but the compiled metrics have yet to be built. `model.compile_metrics` will be empty until you train or evaluate the model.\n"
          ]
        },
        {
          "output_type": "display_data",
          "data": {
            "text/plain": [
              "<IPython.core.display.Javascript object>"
            ],
            "application/javascript": [
              "\n",
              "    async function download(id, filename, size) {\n",
              "      if (!google.colab.kernel.accessAllowed) {\n",
              "        return;\n",
              "      }\n",
              "      const div = document.createElement('div');\n",
              "      const label = document.createElement('label');\n",
              "      label.textContent = `Downloading \"${filename}\": `;\n",
              "      div.appendChild(label);\n",
              "      const progress = document.createElement('progress');\n",
              "      progress.max = size;\n",
              "      div.appendChild(progress);\n",
              "      document.body.appendChild(div);\n",
              "\n",
              "      const buffers = [];\n",
              "      let downloaded = 0;\n",
              "\n",
              "      const channel = await google.colab.kernel.comms.open(id);\n",
              "      // Send a message to notify the kernel that we're ready.\n",
              "      channel.send({})\n",
              "\n",
              "      for await (const message of channel.messages) {\n",
              "        // Send a message to notify the kernel that we're ready.\n",
              "        channel.send({})\n",
              "        if (message.buffers) {\n",
              "          for (const buffer of message.buffers) {\n",
              "            buffers.push(buffer);\n",
              "            downloaded += buffer.byteLength;\n",
              "            progress.value = downloaded;\n",
              "          }\n",
              "        }\n",
              "      }\n",
              "      const blob = new Blob(buffers, {type: 'application/binary'});\n",
              "      const a = document.createElement('a');\n",
              "      a.href = window.URL.createObjectURL(blob);\n",
              "      a.download = filename;\n",
              "      div.appendChild(a);\n",
              "      a.click();\n",
              "      div.remove();\n",
              "    }\n",
              "  "
            ]
          },
          "metadata": {}
        },
        {
          "output_type": "display_data",
          "data": {
            "text/plain": [
              "<IPython.core.display.Javascript object>"
            ],
            "application/javascript": [
              "download(\"download_1869920a-74a2-4518-b037-8de857fe26c9\", \"CNN_Model.h5\", 1157832)"
            ]
          },
          "metadata": {}
        },
        {
          "output_type": "display_data",
          "data": {
            "text/plain": [
              "<IPython.core.display.Javascript object>"
            ],
            "application/javascript": [
              "\n",
              "    async function download(id, filename, size) {\n",
              "      if (!google.colab.kernel.accessAllowed) {\n",
              "        return;\n",
              "      }\n",
              "      const div = document.createElement('div');\n",
              "      const label = document.createElement('label');\n",
              "      label.textContent = `Downloading \"${filename}\": `;\n",
              "      div.appendChild(label);\n",
              "      const progress = document.createElement('progress');\n",
              "      progress.max = size;\n",
              "      div.appendChild(progress);\n",
              "      document.body.appendChild(div);\n",
              "\n",
              "      const buffers = [];\n",
              "      let downloaded = 0;\n",
              "\n",
              "      const channel = await google.colab.kernel.comms.open(id);\n",
              "      // Send a message to notify the kernel that we're ready.\n",
              "      channel.send({})\n",
              "\n",
              "      for await (const message of channel.messages) {\n",
              "        // Send a message to notify the kernel that we're ready.\n",
              "        channel.send({})\n",
              "        if (message.buffers) {\n",
              "          for (const buffer of message.buffers) {\n",
              "            buffers.push(buffer);\n",
              "            downloaded += buffer.byteLength;\n",
              "            progress.value = downloaded;\n",
              "          }\n",
              "        }\n",
              "      }\n",
              "      const blob = new Blob(buffers, {type: 'application/binary'});\n",
              "      const a = document.createElement('a');\n",
              "      a.href = window.URL.createObjectURL(blob);\n",
              "      a.download = filename;\n",
              "      div.appendChild(a);\n",
              "      a.click();\n",
              "      div.remove();\n",
              "    }\n",
              "  "
            ]
          },
          "metadata": {}
        },
        {
          "output_type": "display_data",
          "data": {
            "text/plain": [
              "<IPython.core.display.Javascript object>"
            ],
            "application/javascript": [
              "download(\"download_e0414736-b989-4050-99c5-324a116e4efc\", \"CNN_FinalDenseLayer.h5\", 393904)"
            ]
          },
          "metadata": {}
        }
      ],
      "source": [
        "sub_model.save('/content/CNN_FinalDenseLayer.h5')\n",
        "cnn_model.save('/content/CNN_Model.h5')\n",
        "\n",
        "from google.colab import files\n",
        "files.download('CNN_Model.h5')\n",
        "files.download('CNN_FinalDenseLayer.h5')"
      ]
    },
    {
      "cell_type": "code",
      "execution_count": null,
      "metadata": {
        "id": "9JZeSEPv0JHd",
        "colab": {
          "base_uri": "https://localhost:8080/"
        },
        "outputId": "9adb6a64-0080-4fef-d657-bffe5ea31455"
      },
      "outputs": [
        {
          "output_type": "stream",
          "name": "stdout",
          "text": [
            "388/388 [==============================] - 1s 2ms/step\n",
            "97/97 [==============================] - 0s 2ms/step\n"
          ]
        }
      ],
      "source": [
        "train_file = sub_model.predict(x_train)\n",
        "test_file = sub_model.predict(x_test)\n",
        "\n",
        "z = np.concatenate([np.array(train_file).reshape(train_file.shape[0],train_file.shape[1]),np.array(y_train).reshape(train_file.shape[0],1)],axis=1)\n",
        "z = pd.DataFrame(z)\n",
        "z.to_csv('train_file.csv',index=False)\n",
        "\n",
        "z = np.concatenate([np.array(test_file).reshape(test_file.shape[0],test_file.shape[1]),np.array(y_test).reshape(test_file.shape[0],1)],axis=1)\n",
        "z = pd.DataFrame(z)\n",
        "z.to_csv('test_file.csv',index=False)"
      ]
    },
    {
      "cell_type": "code",
      "execution_count": null,
      "metadata": {
        "id": "lOsa5gNg0kIt",
        "colab": {
          "base_uri": "https://localhost:8080/",
          "height": 17
        },
        "outputId": "9e427ce0-98d1-436a-f940-79ba99d0bd10"
      },
      "outputs": [
        {
          "output_type": "display_data",
          "data": {
            "text/plain": [
              "<IPython.core.display.Javascript object>"
            ],
            "application/javascript": [
              "\n",
              "    async function download(id, filename, size) {\n",
              "      if (!google.colab.kernel.accessAllowed) {\n",
              "        return;\n",
              "      }\n",
              "      const div = document.createElement('div');\n",
              "      const label = document.createElement('label');\n",
              "      label.textContent = `Downloading \"${filename}\": `;\n",
              "      div.appendChild(label);\n",
              "      const progress = document.createElement('progress');\n",
              "      progress.max = size;\n",
              "      div.appendChild(progress);\n",
              "      document.body.appendChild(div);\n",
              "\n",
              "      const buffers = [];\n",
              "      let downloaded = 0;\n",
              "\n",
              "      const channel = await google.colab.kernel.comms.open(id);\n",
              "      // Send a message to notify the kernel that we're ready.\n",
              "      channel.send({})\n",
              "\n",
              "      for await (const message of channel.messages) {\n",
              "        // Send a message to notify the kernel that we're ready.\n",
              "        channel.send({})\n",
              "        if (message.buffers) {\n",
              "          for (const buffer of message.buffers) {\n",
              "            buffers.push(buffer);\n",
              "            downloaded += buffer.byteLength;\n",
              "            progress.value = downloaded;\n",
              "          }\n",
              "        }\n",
              "      }\n",
              "      const blob = new Blob(buffers, {type: 'application/binary'});\n",
              "      const a = document.createElement('a');\n",
              "      a.href = window.URL.createObjectURL(blob);\n",
              "      a.download = filename;\n",
              "      div.appendChild(a);\n",
              "      a.click();\n",
              "      div.remove();\n",
              "    }\n",
              "  "
            ]
          },
          "metadata": {}
        },
        {
          "output_type": "display_data",
          "data": {
            "text/plain": [
              "<IPython.core.display.Javascript object>"
            ],
            "application/javascript": [
              "download(\"download_f0266445-4414-4dd6-8b85-9e9c3d49330a\", \"train_file.csv\", 23630727)"
            ]
          },
          "metadata": {}
        },
        {
          "output_type": "display_data",
          "data": {
            "text/plain": [
              "<IPython.core.display.Javascript object>"
            ],
            "application/javascript": [
              "\n",
              "    async function download(id, filename, size) {\n",
              "      if (!google.colab.kernel.accessAllowed) {\n",
              "        return;\n",
              "      }\n",
              "      const div = document.createElement('div');\n",
              "      const label = document.createElement('label');\n",
              "      label.textContent = `Downloading \"${filename}\": `;\n",
              "      div.appendChild(label);\n",
              "      const progress = document.createElement('progress');\n",
              "      progress.max = size;\n",
              "      div.appendChild(progress);\n",
              "      document.body.appendChild(div);\n",
              "\n",
              "      const buffers = [];\n",
              "      let downloaded = 0;\n",
              "\n",
              "      const channel = await google.colab.kernel.comms.open(id);\n",
              "      // Send a message to notify the kernel that we're ready.\n",
              "      channel.send({})\n",
              "\n",
              "      for await (const message of channel.messages) {\n",
              "        // Send a message to notify the kernel that we're ready.\n",
              "        channel.send({})\n",
              "        if (message.buffers) {\n",
              "          for (const buffer of message.buffers) {\n",
              "            buffers.push(buffer);\n",
              "            downloaded += buffer.byteLength;\n",
              "            progress.value = downloaded;\n",
              "          }\n",
              "        }\n",
              "      }\n",
              "      const blob = new Blob(buffers, {type: 'application/binary'});\n",
              "      const a = document.createElement('a');\n",
              "      a.href = window.URL.createObjectURL(blob);\n",
              "      a.download = filename;\n",
              "      div.appendChild(a);\n",
              "      a.click();\n",
              "      div.remove();\n",
              "    }\n",
              "  "
            ]
          },
          "metadata": {}
        },
        {
          "output_type": "display_data",
          "data": {
            "text/plain": [
              "<IPython.core.display.Javascript object>"
            ],
            "application/javascript": [
              "download(\"download_13e34650-1245-42cc-bd68-097040742e80\", \"test_file.csv\", 5907670)"
            ]
          },
          "metadata": {}
        }
      ],
      "source": [
        "files.download('train_file.csv')\n",
        "files.download('test_file.csv')"
      ]
    },
    {
      "cell_type": "markdown",
      "metadata": {
        "id": "FDQlOYfH07tY"
      },
      "source": [
        "### Convolutional SVM\n",
        "\n",
        "Convolutional Neural Networks when used with Support Vector Machines (CNN-SVM) are a type of hybrid ML model. Their strength is the ability to extract meaningful features from data using the convolutional layers of the CNN and then they use SVM to make accurate predictions. The CNN-SVM model consists of multiple convolutional layers and SVM classifiers. They can handle high-dimensional data but are computationally expensive when using complex architectures. They also require a large amount of labeled training data to achieve high performance.  "
      ]
    },
    {
      "cell_type": "code",
      "execution_count": null,
      "metadata": {
        "id": "clTVtOOr1Bcm",
        "colab": {
          "base_uri": "https://localhost:8080/"
        },
        "outputId": "f718b9f6-043f-4d91-c102-5806a14ad4ee"
      },
      "outputs": [
        {
          "output_type": "stream",
          "name": "stdout",
          "text": [
            "Fitting 5 folds for each of 4 candidates, totalling 20 fits\n",
            "[CV] END ....................................C=1, kernel=rbf; total time=   3.7s\n",
            "[CV] END ....................................C=1, kernel=rbf; total time=   3.7s\n",
            "[CV] END ....................................C=1, kernel=rbf; total time=   4.4s\n",
            "[CV] END ....................................C=1, kernel=rbf; total time=   3.7s\n",
            "[CV] END ....................................C=1, kernel=rbf; total time=   3.3s\n",
            "[CV] END ...................................C=1, kernel=poly; total time=   3.8s\n",
            "[CV] END ...................................C=1, kernel=poly; total time=   3.6s\n",
            "[CV] END ...................................C=1, kernel=poly; total time=   3.2s\n",
            "[CV] END ...................................C=1, kernel=poly; total time=   3.2s\n",
            "[CV] END ...................................C=1, kernel=poly; total time=   3.5s\n",
            "[CV] END ....................................C=5, kernel=rbf; total time=   3.7s\n",
            "[CV] END ....................................C=5, kernel=rbf; total time=   3.7s\n",
            "[CV] END ....................................C=5, kernel=rbf; total time=   4.5s\n",
            "[CV] END ....................................C=5, kernel=rbf; total time=   4.0s\n",
            "[CV] END ....................................C=5, kernel=rbf; total time=   3.4s\n",
            "[CV] END ...................................C=5, kernel=poly; total time=   4.4s\n",
            "[CV] END ...................................C=5, kernel=poly; total time=   4.3s\n",
            "[CV] END ...................................C=5, kernel=poly; total time=   4.1s\n",
            "[CV] END ...................................C=5, kernel=poly; total time=   4.7s\n",
            "[CV] END ...................................C=5, kernel=poly; total time=   3.7s\n",
            "Best Hyperparameters:  {'C': 5, 'kernel': 'rbf'}\n",
            "Best Accuracy:  0.8618248895065008\n"
          ]
        }
      ],
      "source": [
        "params = {'C': [1, 5],\n",
        "          'kernel': ['rbf', 'poly']}\n",
        "\n",
        "svm = SVC()\n",
        "grid_search = GridSearchCV(estimator = svm, \n",
        "                           param_grid = params, \n",
        "                           cv=5,\n",
        "                           scoring = 'accuracy',\n",
        "                           verbose = 2)\n",
        "\n",
        "grid_search.fit(train_file, y_train)\n",
        "\n",
        "print(\"Best Hyperparameters: \", grid_search.best_params_)\n",
        "print(\"Best Accuracy: \", grid_search.best_score_)"
      ]
    },
    {
      "cell_type": "code",
      "execution_count": null,
      "metadata": {
        "id": "jTmwdLaNrbIJ"
      },
      "outputs": [],
      "source": [
        "best_cnn_svm = grid_search.best_estimator_"
      ]
    },
    {
      "cell_type": "code",
      "execution_count": null,
      "metadata": {
        "id": "DGMPl4Og2DTb",
        "colab": {
          "base_uri": "https://localhost:8080/"
        },
        "outputId": "b5407516-d938-4d05-f0b6-ebee8c536fe3"
      },
      "outputs": [
        {
          "output_type": "stream",
          "name": "stdout",
          "text": [
            "Accuracy on Testing Set:  0.807927811795037\n"
          ]
        }
      ],
      "source": [
        "y_pred = best_cnn_svm.predict(test_file)\n",
        "accuracy = accuracy_score(y_test, y_pred)\n",
        "print(\"Accuracy on Testing Set: \", accuracy)"
      ]
    },
    {
      "cell_type": "code",
      "execution_count": null,
      "metadata": {
        "id": "Y6sessRFrTib",
        "colab": {
          "base_uri": "https://localhost:8080/"
        },
        "outputId": "906d81ec-67e6-489e-9a32-c4a3d9eb374a"
      },
      "outputs": [
        {
          "output_type": "stream",
          "name": "stdout",
          "text": [
            "F1 Score on Testing Set:  0.8077611707926395\n"
          ]
        }
      ],
      "source": [
        "f1score = f1_score(y_test, y_pred, average='weighted')\n",
        "print(\"F1 Score on Testing Set: \", f1score)"
      ]
    },
    {
      "cell_type": "code",
      "execution_count": null,
      "metadata": {
        "id": "yjivS9Pf2OcP",
        "colab": {
          "base_uri": "https://localhost:8080/",
          "height": 269
        },
        "outputId": "99846280-f124-47af-ad5d-6e458d285036"
      },
      "outputs": [
        {
          "output_type": "execute_result",
          "data": {
            "text/plain": [
              "               Model  Test_Accuracy  F1_Score\n",
              "0                XGB       0.826619  0.818637\n",
              "1                SVM       0.822430  0.819557\n",
              "6  Convolutional SVM       0.807928  0.807761\n",
              "2                CNN       0.792459  0.788760\n",
              "3                RFC       0.783113  0.762004\n",
              "4                KNN       0.768611  0.753757\n",
              "5                GNB       0.533677  0.552730"
            ],
            "text/html": [
              "\n",
              "  <div id=\"df-d91a62d9-7e42-44e0-9fc8-f407c4464070\">\n",
              "    <div class=\"colab-df-container\">\n",
              "      <div>\n",
              "<style scoped>\n",
              "    .dataframe tbody tr th:only-of-type {\n",
              "        vertical-align: middle;\n",
              "    }\n",
              "\n",
              "    .dataframe tbody tr th {\n",
              "        vertical-align: top;\n",
              "    }\n",
              "\n",
              "    .dataframe thead th {\n",
              "        text-align: right;\n",
              "    }\n",
              "</style>\n",
              "<table border=\"1\" class=\"dataframe\">\n",
              "  <thead>\n",
              "    <tr style=\"text-align: right;\">\n",
              "      <th></th>\n",
              "      <th>Model</th>\n",
              "      <th>Test_Accuracy</th>\n",
              "      <th>F1_Score</th>\n",
              "    </tr>\n",
              "  </thead>\n",
              "  <tbody>\n",
              "    <tr>\n",
              "      <th>0</th>\n",
              "      <td>XGB</td>\n",
              "      <td>0.826619</td>\n",
              "      <td>0.818637</td>\n",
              "    </tr>\n",
              "    <tr>\n",
              "      <th>1</th>\n",
              "      <td>SVM</td>\n",
              "      <td>0.822430</td>\n",
              "      <td>0.819557</td>\n",
              "    </tr>\n",
              "    <tr>\n",
              "      <th>6</th>\n",
              "      <td>Convolutional SVM</td>\n",
              "      <td>0.807928</td>\n",
              "      <td>0.807761</td>\n",
              "    </tr>\n",
              "    <tr>\n",
              "      <th>2</th>\n",
              "      <td>CNN</td>\n",
              "      <td>0.792459</td>\n",
              "      <td>0.788760</td>\n",
              "    </tr>\n",
              "    <tr>\n",
              "      <th>3</th>\n",
              "      <td>RFC</td>\n",
              "      <td>0.783113</td>\n",
              "      <td>0.762004</td>\n",
              "    </tr>\n",
              "    <tr>\n",
              "      <th>4</th>\n",
              "      <td>KNN</td>\n",
              "      <td>0.768611</td>\n",
              "      <td>0.753757</td>\n",
              "    </tr>\n",
              "    <tr>\n",
              "      <th>5</th>\n",
              "      <td>GNB</td>\n",
              "      <td>0.533677</td>\n",
              "      <td>0.552730</td>\n",
              "    </tr>\n",
              "  </tbody>\n",
              "</table>\n",
              "</div>\n",
              "      <button class=\"colab-df-convert\" onclick=\"convertToInteractive('df-d91a62d9-7e42-44e0-9fc8-f407c4464070')\"\n",
              "              title=\"Convert this dataframe to an interactive table.\"\n",
              "              style=\"display:none;\">\n",
              "        \n",
              "  <svg xmlns=\"http://www.w3.org/2000/svg\" height=\"24px\"viewBox=\"0 0 24 24\"\n",
              "       width=\"24px\">\n",
              "    <path d=\"M0 0h24v24H0V0z\" fill=\"none\"/>\n",
              "    <path d=\"M18.56 5.44l.94 2.06.94-2.06 2.06-.94-2.06-.94-.94-2.06-.94 2.06-2.06.94zm-11 1L8.5 8.5l.94-2.06 2.06-.94-2.06-.94L8.5 2.5l-.94 2.06-2.06.94zm10 10l.94 2.06.94-2.06 2.06-.94-2.06-.94-.94-2.06-.94 2.06-2.06.94z\"/><path d=\"M17.41 7.96l-1.37-1.37c-.4-.4-.92-.59-1.43-.59-.52 0-1.04.2-1.43.59L10.3 9.45l-7.72 7.72c-.78.78-.78 2.05 0 2.83L4 21.41c.39.39.9.59 1.41.59.51 0 1.02-.2 1.41-.59l7.78-7.78 2.81-2.81c.8-.78.8-2.07 0-2.86zM5.41 20L4 18.59l7.72-7.72 1.47 1.35L5.41 20z\"/>\n",
              "  </svg>\n",
              "      </button>\n",
              "      \n",
              "  <style>\n",
              "    .colab-df-container {\n",
              "      display:flex;\n",
              "      flex-wrap:wrap;\n",
              "      gap: 12px;\n",
              "    }\n",
              "\n",
              "    .colab-df-convert {\n",
              "      background-color: #E8F0FE;\n",
              "      border: none;\n",
              "      border-radius: 50%;\n",
              "      cursor: pointer;\n",
              "      display: none;\n",
              "      fill: #1967D2;\n",
              "      height: 32px;\n",
              "      padding: 0 0 0 0;\n",
              "      width: 32px;\n",
              "    }\n",
              "\n",
              "    .colab-df-convert:hover {\n",
              "      background-color: #E2EBFA;\n",
              "      box-shadow: 0px 1px 2px rgba(60, 64, 67, 0.3), 0px 1px 3px 1px rgba(60, 64, 67, 0.15);\n",
              "      fill: #174EA6;\n",
              "    }\n",
              "\n",
              "    [theme=dark] .colab-df-convert {\n",
              "      background-color: #3B4455;\n",
              "      fill: #D2E3FC;\n",
              "    }\n",
              "\n",
              "    [theme=dark] .colab-df-convert:hover {\n",
              "      background-color: #434B5C;\n",
              "      box-shadow: 0px 1px 3px 1px rgba(0, 0, 0, 0.15);\n",
              "      filter: drop-shadow(0px 1px 2px rgba(0, 0, 0, 0.3));\n",
              "      fill: #FFFFFF;\n",
              "    }\n",
              "  </style>\n",
              "\n",
              "      <script>\n",
              "        const buttonEl =\n",
              "          document.querySelector('#df-d91a62d9-7e42-44e0-9fc8-f407c4464070 button.colab-df-convert');\n",
              "        buttonEl.style.display =\n",
              "          google.colab.kernel.accessAllowed ? 'block' : 'none';\n",
              "\n",
              "        async function convertToInteractive(key) {\n",
              "          const element = document.querySelector('#df-d91a62d9-7e42-44e0-9fc8-f407c4464070');\n",
              "          const dataTable =\n",
              "            await google.colab.kernel.invokeFunction('convertToInteractive',\n",
              "                                                     [key], {});\n",
              "          if (!dataTable) return;\n",
              "\n",
              "          const docLinkHtml = 'Like what you see? Visit the ' +\n",
              "            '<a target=\"_blank\" href=https://colab.research.google.com/notebooks/data_table.ipynb>data table notebook</a>'\n",
              "            + ' to learn more about interactive tables.';\n",
              "          element.innerHTML = '';\n",
              "          dataTable['output_type'] = 'display_data';\n",
              "          await google.colab.output.renderOutput(dataTable, element);\n",
              "          const docLink = document.createElement('div');\n",
              "          docLink.innerHTML = docLinkHtml;\n",
              "          element.appendChild(docLink);\n",
              "        }\n",
              "      </script>\n",
              "    </div>\n",
              "  </div>\n",
              "  "
            ]
          },
          "metadata": {},
          "execution_count": 43
        }
      ],
      "source": [
        "models_df = models_df.append(pd.Series(['Convolutional SVM', accuracy, f1score], index=models_df.columns), ignore_index=True)\n",
        "models_df = models_df.sort_values('Test_Accuracy', ascending=False)\n",
        "models_df"
      ]
    },
    {
      "cell_type": "code",
      "execution_count": null,
      "metadata": {
        "id": "pv27XJ-n2TMu",
        "colab": {
          "base_uri": "https://localhost:8080/",
          "height": 17
        },
        "outputId": "2642f79d-8009-4851-e685-d8dec413c386"
      },
      "outputs": [
        {
          "output_type": "display_data",
          "data": {
            "text/plain": [
              "<IPython.core.display.Javascript object>"
            ],
            "application/javascript": [
              "\n",
              "    async function download(id, filename, size) {\n",
              "      if (!google.colab.kernel.accessAllowed) {\n",
              "        return;\n",
              "      }\n",
              "      const div = document.createElement('div');\n",
              "      const label = document.createElement('label');\n",
              "      label.textContent = `Downloading \"${filename}\": `;\n",
              "      div.appendChild(label);\n",
              "      const progress = document.createElement('progress');\n",
              "      progress.max = size;\n",
              "      div.appendChild(progress);\n",
              "      document.body.appendChild(div);\n",
              "\n",
              "      const buffers = [];\n",
              "      let downloaded = 0;\n",
              "\n",
              "      const channel = await google.colab.kernel.comms.open(id);\n",
              "      // Send a message to notify the kernel that we're ready.\n",
              "      channel.send({})\n",
              "\n",
              "      for await (const message of channel.messages) {\n",
              "        // Send a message to notify the kernel that we're ready.\n",
              "        channel.send({})\n",
              "        if (message.buffers) {\n",
              "          for (const buffer of message.buffers) {\n",
              "            buffers.push(buffer);\n",
              "            downloaded += buffer.byteLength;\n",
              "            progress.value = downloaded;\n",
              "          }\n",
              "        }\n",
              "      }\n",
              "      const blob = new Blob(buffers, {type: 'application/binary'});\n",
              "      const a = document.createElement('a');\n",
              "      a.href = window.URL.createObjectURL(blob);\n",
              "      a.download = filename;\n",
              "      div.appendChild(a);\n",
              "      a.click();\n",
              "      div.remove();\n",
              "    }\n",
              "  "
            ]
          },
          "metadata": {}
        },
        {
          "output_type": "display_data",
          "data": {
            "text/plain": [
              "<IPython.core.display.Javascript object>"
            ],
            "application/javascript": [
              "download(\"download_817e2068-3c54-41f8-ad03-b63dd6b5c589\", \"CNN_SVM_Model.pkl\", 4162597)"
            ]
          },
          "metadata": {}
        }
      ],
      "source": [
        "import pickle\n",
        "with open('CNN_SVM_Model.pkl', 'wb') as file:\n",
        "    pickle.dump(best_cnn_svm, file)\n",
        "\n",
        "from google.colab import files\n",
        "files.download('CNN_SVM_Model.pkl')"
      ]
    },
    {
      "cell_type": "markdown",
      "metadata": {
        "id": "nGG9fHYR1CAe"
      },
      "source": [
        "### Convolutional KNN\n",
        "\n",
        "Convolutional Neural Networks in collaboration with K-nearest neighbor (CNN-KNN) produce a powerful machine learning model. This model extracts significant characteristics from data using the convolutional layers of CNNs and then utilizes KNN to make precise predictions based on their distance and similarity (creating the best matches for the target feature). The CNN-KNN structure comprises multiple convolutional layers and KNN classifiers, making it a sophisticated architecture. While it excels in processing high-dimensional data, the complexity of the structure may make it computationally demanding. Additionally, the CNN-KNN model necessitates a vast quantity of accurately labeled training data to achieve peak performance. Furthermore, the model may be sensitive to outliers and noise in the data and also to choice of distance metric used. "
      ]
    },
    {
      "cell_type": "code",
      "execution_count": null,
      "metadata": {
        "id": "mK0Ei_LQ1Gfb",
        "colab": {
          "base_uri": "https://localhost:8080/"
        },
        "outputId": "e425f612-70b3-4542-b78f-399f9f3725ae"
      },
      "outputs": [
        {
          "output_type": "stream",
          "name": "stdout",
          "text": [
            "Fitting 5 folds for each of 8 candidates, totalling 40 fits\n",
            "[CV] END ................n_neighbors=5, p=1, weights=uniform; total time=   3.5s\n",
            "[CV] END ................n_neighbors=5, p=1, weights=uniform; total time=   2.6s\n",
            "[CV] END ................n_neighbors=5, p=1, weights=uniform; total time=   3.6s\n",
            "[CV] END ................n_neighbors=5, p=1, weights=uniform; total time=   2.6s\n",
            "[CV] END ................n_neighbors=5, p=1, weights=uniform; total time=   2.5s\n",
            "[CV] END ...............n_neighbors=5, p=1, weights=distance; total time=   2.5s\n",
            "[CV] END ...............n_neighbors=5, p=1, weights=distance; total time=   2.5s\n",
            "[CV] END ...............n_neighbors=5, p=1, weights=distance; total time=   3.6s\n",
            "[CV] END ...............n_neighbors=5, p=1, weights=distance; total time=   2.5s\n",
            "[CV] END ...............n_neighbors=5, p=1, weights=distance; total time=   2.5s\n",
            "[CV] END ................n_neighbors=5, p=2, weights=uniform; total time=   0.3s\n",
            "[CV] END ................n_neighbors=5, p=2, weights=uniform; total time=   0.3s\n",
            "[CV] END ................n_neighbors=5, p=2, weights=uniform; total time=   0.3s\n",
            "[CV] END ................n_neighbors=5, p=2, weights=uniform; total time=   0.3s\n",
            "[CV] END ................n_neighbors=5, p=2, weights=uniform; total time=   0.3s\n",
            "[CV] END ...............n_neighbors=5, p=2, weights=distance; total time=   0.2s\n",
            "[CV] END ...............n_neighbors=5, p=2, weights=distance; total time=   0.2s\n",
            "[CV] END ...............n_neighbors=5, p=2, weights=distance; total time=   0.2s\n",
            "[CV] END ...............n_neighbors=5, p=2, weights=distance; total time=   0.2s\n",
            "[CV] END ...............n_neighbors=5, p=2, weights=distance; total time=   0.2s\n",
            "[CV] END ................n_neighbors=7, p=1, weights=uniform; total time=   3.7s\n",
            "[CV] END ................n_neighbors=7, p=1, weights=uniform; total time=   2.7s\n",
            "[CV] END ................n_neighbors=7, p=1, weights=uniform; total time=   2.7s\n",
            "[CV] END ................n_neighbors=7, p=1, weights=uniform; total time=   2.7s\n",
            "[CV] END ................n_neighbors=7, p=1, weights=uniform; total time=   3.1s\n",
            "[CV] END ...............n_neighbors=7, p=1, weights=distance; total time=   3.3s\n",
            "[CV] END ...............n_neighbors=7, p=1, weights=distance; total time=   2.7s\n",
            "[CV] END ...............n_neighbors=7, p=1, weights=distance; total time=   2.6s\n",
            "[CV] END ...............n_neighbors=7, p=1, weights=distance; total time=   2.7s\n",
            "[CV] END ...............n_neighbors=7, p=1, weights=distance; total time=   3.7s\n",
            "[CV] END ................n_neighbors=7, p=2, weights=uniform; total time=   0.3s\n",
            "[CV] END ................n_neighbors=7, p=2, weights=uniform; total time=   0.3s\n",
            "[CV] END ................n_neighbors=7, p=2, weights=uniform; total time=   0.3s\n",
            "[CV] END ................n_neighbors=7, p=2, weights=uniform; total time=   0.3s\n",
            "[CV] END ................n_neighbors=7, p=2, weights=uniform; total time=   0.3s\n",
            "[CV] END ...............n_neighbors=7, p=2, weights=distance; total time=   0.2s\n",
            "[CV] END ...............n_neighbors=7, p=2, weights=distance; total time=   0.2s\n",
            "[CV] END ...............n_neighbors=7, p=2, weights=distance; total time=   0.2s\n",
            "[CV] END ...............n_neighbors=7, p=2, weights=distance; total time=   0.3s\n",
            "[CV] END ...............n_neighbors=7, p=2, weights=distance; total time=   0.2s\n",
            "Best Hyperparameters:  {'n_neighbors': 7, 'p': 2, 'weights': 'distance'}\n",
            "Best Accuracy:  0.855218872701818\n"
          ]
        }
      ],
      "source": [
        "params = {'n_neighbors': [5, 7],\n",
        "          'weights': ['uniform', 'distance'], \n",
        "          'p': [1, 2]}\n",
        "\n",
        "knn = KNeighborsClassifier()\n",
        "\n",
        "grid_search = GridSearchCV(estimator = knn, \n",
        "                           param_grid = params, \n",
        "                           cv=5,\n",
        "                           scoring = 'accuracy',\n",
        "                           verbose = 2)\n",
        "\n",
        "grid_search.fit(train_file, y_train)\n",
        "\n",
        "print(\"Best Hyperparameters: \", grid_search.best_params_)\n",
        "print(\"Best Accuracy: \", grid_search.best_score_)"
      ]
    },
    {
      "cell_type": "code",
      "execution_count": null,
      "metadata": {
        "id": "mjLlWT9VrnDd"
      },
      "outputs": [],
      "source": [
        "best_cnn_knn = grid_search.best_estimator_"
      ]
    },
    {
      "cell_type": "code",
      "execution_count": null,
      "metadata": {
        "id": "ffNeB50d3UWJ",
        "colab": {
          "base_uri": "https://localhost:8080/"
        },
        "outputId": "1f030030-4b11-4e05-f5c3-a9e32b3a31dc"
      },
      "outputs": [
        {
          "output_type": "stream",
          "name": "stdout",
          "text": [
            "Accuracy on Testing Set:  0.8121173058330647\n"
          ]
        }
      ],
      "source": [
        "y_pred = best_cnn_knn.predict(test_file)\n",
        "accuracy = accuracy_score(y_test, y_pred)\n",
        "print(\"Accuracy on Testing Set: \", accuracy)"
      ]
    },
    {
      "cell_type": "code",
      "execution_count": null,
      "metadata": {
        "id": "redqtXJprg1-",
        "colab": {
          "base_uri": "https://localhost:8080/"
        },
        "outputId": "6abbdd1d-7684-4021-81f5-33f31281fbf7"
      },
      "outputs": [
        {
          "output_type": "stream",
          "name": "stdout",
          "text": [
            "F1 Score on Testing Set:  0.8116377621656146\n"
          ]
        }
      ],
      "source": [
        "f1score = f1_score(y_test, y_pred, average='weighted')\n",
        "print(\"F1 Score on Testing Set: \", f1score)"
      ]
    },
    {
      "cell_type": "code",
      "execution_count": null,
      "metadata": {
        "id": "QL5lMrMl3dKN",
        "colab": {
          "base_uri": "https://localhost:8080/",
          "height": 300
        },
        "outputId": "62ac36b5-07c1-40bc-e7db-298c39988a31"
      },
      "outputs": [
        {
          "output_type": "execute_result",
          "data": {
            "text/plain": [
              "               Model  Test_Accuracy  F1_Score\n",
              "0                XGB       0.826619  0.818637\n",
              "1                SVM       0.822430  0.819557\n",
              "7  Convolutional KNN       0.812117  0.811638\n",
              "2  Convolutional SVM       0.807928  0.807761\n",
              "3                CNN       0.792459  0.788760\n",
              "4                RFC       0.783113  0.762004\n",
              "5                KNN       0.768611  0.753757\n",
              "6                GNB       0.533677  0.552730"
            ],
            "text/html": [
              "\n",
              "  <div id=\"df-82002996-8209-4ae5-b960-0096a4f3ef39\">\n",
              "    <div class=\"colab-df-container\">\n",
              "      <div>\n",
              "<style scoped>\n",
              "    .dataframe tbody tr th:only-of-type {\n",
              "        vertical-align: middle;\n",
              "    }\n",
              "\n",
              "    .dataframe tbody tr th {\n",
              "        vertical-align: top;\n",
              "    }\n",
              "\n",
              "    .dataframe thead th {\n",
              "        text-align: right;\n",
              "    }\n",
              "</style>\n",
              "<table border=\"1\" class=\"dataframe\">\n",
              "  <thead>\n",
              "    <tr style=\"text-align: right;\">\n",
              "      <th></th>\n",
              "      <th>Model</th>\n",
              "      <th>Test_Accuracy</th>\n",
              "      <th>F1_Score</th>\n",
              "    </tr>\n",
              "  </thead>\n",
              "  <tbody>\n",
              "    <tr>\n",
              "      <th>0</th>\n",
              "      <td>XGB</td>\n",
              "      <td>0.826619</td>\n",
              "      <td>0.818637</td>\n",
              "    </tr>\n",
              "    <tr>\n",
              "      <th>1</th>\n",
              "      <td>SVM</td>\n",
              "      <td>0.822430</td>\n",
              "      <td>0.819557</td>\n",
              "    </tr>\n",
              "    <tr>\n",
              "      <th>7</th>\n",
              "      <td>Convolutional KNN</td>\n",
              "      <td>0.812117</td>\n",
              "      <td>0.811638</td>\n",
              "    </tr>\n",
              "    <tr>\n",
              "      <th>2</th>\n",
              "      <td>Convolutional SVM</td>\n",
              "      <td>0.807928</td>\n",
              "      <td>0.807761</td>\n",
              "    </tr>\n",
              "    <tr>\n",
              "      <th>3</th>\n",
              "      <td>CNN</td>\n",
              "      <td>0.792459</td>\n",
              "      <td>0.788760</td>\n",
              "    </tr>\n",
              "    <tr>\n",
              "      <th>4</th>\n",
              "      <td>RFC</td>\n",
              "      <td>0.783113</td>\n",
              "      <td>0.762004</td>\n",
              "    </tr>\n",
              "    <tr>\n",
              "      <th>5</th>\n",
              "      <td>KNN</td>\n",
              "      <td>0.768611</td>\n",
              "      <td>0.753757</td>\n",
              "    </tr>\n",
              "    <tr>\n",
              "      <th>6</th>\n",
              "      <td>GNB</td>\n",
              "      <td>0.533677</td>\n",
              "      <td>0.552730</td>\n",
              "    </tr>\n",
              "  </tbody>\n",
              "</table>\n",
              "</div>\n",
              "      <button class=\"colab-df-convert\" onclick=\"convertToInteractive('df-82002996-8209-4ae5-b960-0096a4f3ef39')\"\n",
              "              title=\"Convert this dataframe to an interactive table.\"\n",
              "              style=\"display:none;\">\n",
              "        \n",
              "  <svg xmlns=\"http://www.w3.org/2000/svg\" height=\"24px\"viewBox=\"0 0 24 24\"\n",
              "       width=\"24px\">\n",
              "    <path d=\"M0 0h24v24H0V0z\" fill=\"none\"/>\n",
              "    <path d=\"M18.56 5.44l.94 2.06.94-2.06 2.06-.94-2.06-.94-.94-2.06-.94 2.06-2.06.94zm-11 1L8.5 8.5l.94-2.06 2.06-.94-2.06-.94L8.5 2.5l-.94 2.06-2.06.94zm10 10l.94 2.06.94-2.06 2.06-.94-2.06-.94-.94-2.06-.94 2.06-2.06.94z\"/><path d=\"M17.41 7.96l-1.37-1.37c-.4-.4-.92-.59-1.43-.59-.52 0-1.04.2-1.43.59L10.3 9.45l-7.72 7.72c-.78.78-.78 2.05 0 2.83L4 21.41c.39.39.9.59 1.41.59.51 0 1.02-.2 1.41-.59l7.78-7.78 2.81-2.81c.8-.78.8-2.07 0-2.86zM5.41 20L4 18.59l7.72-7.72 1.47 1.35L5.41 20z\"/>\n",
              "  </svg>\n",
              "      </button>\n",
              "      \n",
              "  <style>\n",
              "    .colab-df-container {\n",
              "      display:flex;\n",
              "      flex-wrap:wrap;\n",
              "      gap: 12px;\n",
              "    }\n",
              "\n",
              "    .colab-df-convert {\n",
              "      background-color: #E8F0FE;\n",
              "      border: none;\n",
              "      border-radius: 50%;\n",
              "      cursor: pointer;\n",
              "      display: none;\n",
              "      fill: #1967D2;\n",
              "      height: 32px;\n",
              "      padding: 0 0 0 0;\n",
              "      width: 32px;\n",
              "    }\n",
              "\n",
              "    .colab-df-convert:hover {\n",
              "      background-color: #E2EBFA;\n",
              "      box-shadow: 0px 1px 2px rgba(60, 64, 67, 0.3), 0px 1px 3px 1px rgba(60, 64, 67, 0.15);\n",
              "      fill: #174EA6;\n",
              "    }\n",
              "\n",
              "    [theme=dark] .colab-df-convert {\n",
              "      background-color: #3B4455;\n",
              "      fill: #D2E3FC;\n",
              "    }\n",
              "\n",
              "    [theme=dark] .colab-df-convert:hover {\n",
              "      background-color: #434B5C;\n",
              "      box-shadow: 0px 1px 3px 1px rgba(0, 0, 0, 0.15);\n",
              "      filter: drop-shadow(0px 1px 2px rgba(0, 0, 0, 0.3));\n",
              "      fill: #FFFFFF;\n",
              "    }\n",
              "  </style>\n",
              "\n",
              "      <script>\n",
              "        const buttonEl =\n",
              "          document.querySelector('#df-82002996-8209-4ae5-b960-0096a4f3ef39 button.colab-df-convert');\n",
              "        buttonEl.style.display =\n",
              "          google.colab.kernel.accessAllowed ? 'block' : 'none';\n",
              "\n",
              "        async function convertToInteractive(key) {\n",
              "          const element = document.querySelector('#df-82002996-8209-4ae5-b960-0096a4f3ef39');\n",
              "          const dataTable =\n",
              "            await google.colab.kernel.invokeFunction('convertToInteractive',\n",
              "                                                     [key], {});\n",
              "          if (!dataTable) return;\n",
              "\n",
              "          const docLinkHtml = 'Like what you see? Visit the ' +\n",
              "            '<a target=\"_blank\" href=https://colab.research.google.com/notebooks/data_table.ipynb>data table notebook</a>'\n",
              "            + ' to learn more about interactive tables.';\n",
              "          element.innerHTML = '';\n",
              "          dataTable['output_type'] = 'display_data';\n",
              "          await google.colab.output.renderOutput(dataTable, element);\n",
              "          const docLink = document.createElement('div');\n",
              "          docLink.innerHTML = docLinkHtml;\n",
              "          element.appendChild(docLink);\n",
              "        }\n",
              "      </script>\n",
              "    </div>\n",
              "  </div>\n",
              "  "
            ]
          },
          "metadata": {},
          "execution_count": 51
        }
      ],
      "source": [
        "models_df = models_df.append(pd.Series(['Convolutional KNN', accuracy, f1score], index=models_df.columns), ignore_index=True)\n",
        "models_df = models_df.sort_values('Test_Accuracy', ascending=False)\n",
        "models_df"
      ]
    },
    {
      "cell_type": "code",
      "execution_count": null,
      "metadata": {
        "id": "28TuUYHn3eYh",
        "colab": {
          "base_uri": "https://localhost:8080/",
          "height": 17
        },
        "outputId": "2184308d-4a65-4966-9dc2-b1b3f8f0a948"
      },
      "outputs": [
        {
          "output_type": "display_data",
          "data": {
            "text/plain": [
              "<IPython.core.display.Javascript object>"
            ],
            "application/javascript": [
              "\n",
              "    async function download(id, filename, size) {\n",
              "      if (!google.colab.kernel.accessAllowed) {\n",
              "        return;\n",
              "      }\n",
              "      const div = document.createElement('div');\n",
              "      const label = document.createElement('label');\n",
              "      label.textContent = `Downloading \"${filename}\": `;\n",
              "      div.appendChild(label);\n",
              "      const progress = document.createElement('progress');\n",
              "      progress.max = size;\n",
              "      div.appendChild(progress);\n",
              "      document.body.appendChild(div);\n",
              "\n",
              "      const buffers = [];\n",
              "      let downloaded = 0;\n",
              "\n",
              "      const channel = await google.colab.kernel.comms.open(id);\n",
              "      // Send a message to notify the kernel that we're ready.\n",
              "      channel.send({})\n",
              "\n",
              "      for await (const message of channel.messages) {\n",
              "        // Send a message to notify the kernel that we're ready.\n",
              "        channel.send({})\n",
              "        if (message.buffers) {\n",
              "          for (const buffer of message.buffers) {\n",
              "            buffers.push(buffer);\n",
              "            downloaded += buffer.byteLength;\n",
              "            progress.value = downloaded;\n",
              "          }\n",
              "        }\n",
              "      }\n",
              "      const blob = new Blob(buffers, {type: 'application/binary'});\n",
              "      const a = document.createElement('a');\n",
              "      a.href = window.URL.createObjectURL(blob);\n",
              "      a.download = filename;\n",
              "      div.appendChild(a);\n",
              "      a.click();\n",
              "      div.remove();\n",
              "    }\n",
              "  "
            ]
          },
          "metadata": {}
        },
        {
          "output_type": "display_data",
          "data": {
            "text/plain": [
              "<IPython.core.display.Javascript object>"
            ],
            "application/javascript": [
              "download(\"download_c0d1bbea-6c16-4bb2-bd39-dcc4da26d49c\", \"CNN_KNN_Model.pkl\", 6454956)"
            ]
          },
          "metadata": {}
        }
      ],
      "source": [
        "import pickle\n",
        "with open('CNN_KNN_Model.pkl', 'wb') as file:\n",
        "    pickle.dump(best_cnn_knn, file)\n",
        "\n",
        "from google.colab import files\n",
        "files.download('CNN_KNN_Model.pkl')"
      ]
    },
    {
      "cell_type": "markdown",
      "metadata": {
        "id": "vpWHmPtS1D2B"
      },
      "source": [
        "### Convolutional GNB\n",
        "\n",
        "When Convolutional Neural Networks team up with Gaussian Naive Bayes (CNN-GNB), they become a potent hybrid machine learning model. They can extract significant features from data by leveraging the power of convolutional layers in CNNs, and then using Gaussian Naive Bayes to make precise predictions. The CNN-GNB model is a sophisticated architecture, comprising of multiple convolutional layers and GNB classifiers. While they excel in processing high-dimensional data, they do tend to be computationally expensive when dealing with complex structures. Additionally, the CNN-GNB model requires a large volume of accurately labeled training data to attain optimal performance. One drawback that we noticed is the sensitivity to outliers and noise in the data. "
      ]
    },
    {
      "cell_type": "code",
      "execution_count": null,
      "metadata": {
        "id": "fw_G3_1g1G6I",
        "colab": {
          "base_uri": "https://localhost:8080/"
        },
        "outputId": "8e4fcae4-bf9f-4611-eb2b-4c65ac48edfd"
      },
      "outputs": [
        {
          "output_type": "stream",
          "name": "stdout",
          "text": [
            "Fitting 5 folds for each of 50 candidates, totalling 250 fits\n",
            "[CV] END ..................................var_smoothing=0.0; total time=   0.0s\n",
            "[CV] END ..................................var_smoothing=0.0; total time=   0.0s\n",
            "[CV] END ..................................var_smoothing=0.0; total time=   0.0s\n",
            "[CV] END ..................................var_smoothing=0.0; total time=   0.0s\n",
            "[CV] END ..................................var_smoothing=0.0; total time=   0.0s\n",
            "[CV] END ..................var_smoothing=0.01020408163265306; total time=   0.0s\n",
            "[CV] END ..................var_smoothing=0.01020408163265306; total time=   0.0s\n",
            "[CV] END ..................var_smoothing=0.01020408163265306; total time=   0.0s\n",
            "[CV] END ..................var_smoothing=0.01020408163265306; total time=   0.0s\n",
            "[CV] END ..................var_smoothing=0.01020408163265306; total time=   0.0s\n",
            "[CV] END ..................var_smoothing=0.02040816326530612; total time=   0.0s\n",
            "[CV] END ..................var_smoothing=0.02040816326530612; total time=   0.0s\n",
            "[CV] END ..................var_smoothing=0.02040816326530612; total time=   0.0s\n",
            "[CV] END ..................var_smoothing=0.02040816326530612; total time=   0.0s\n",
            "[CV] END ..................var_smoothing=0.02040816326530612; total time=   0.0s\n",
            "[CV] END .................var_smoothing=0.030612244897959183; total time=   0.0s\n",
            "[CV] END .................var_smoothing=0.030612244897959183; total time=   0.0s\n",
            "[CV] END .................var_smoothing=0.030612244897959183; total time=   0.0s\n",
            "[CV] END .................var_smoothing=0.030612244897959183; total time=   0.0s\n",
            "[CV] END .................var_smoothing=0.030612244897959183; total time=   0.0s\n",
            "[CV] END ..................var_smoothing=0.04081632653061224; total time=   0.0s\n",
            "[CV] END ..................var_smoothing=0.04081632653061224; total time=   0.0s\n",
            "[CV] END ..................var_smoothing=0.04081632653061224; total time=   0.0s\n",
            "[CV] END ..................var_smoothing=0.04081632653061224; total time=   0.0s\n",
            "[CV] END ..................var_smoothing=0.04081632653061224; total time=   0.0s\n",
            "[CV] END ...................var_smoothing=0.0510204081632653; total time=   0.0s\n",
            "[CV] END ...................var_smoothing=0.0510204081632653; total time=   0.0s\n",
            "[CV] END ...................var_smoothing=0.0510204081632653; total time=   0.0s\n",
            "[CV] END ...................var_smoothing=0.0510204081632653; total time=   0.0s\n",
            "[CV] END ...................var_smoothing=0.0510204081632653; total time=   0.0s\n",
            "[CV] END .................var_smoothing=0.061224489795918366; total time=   0.0s\n",
            "[CV] END .................var_smoothing=0.061224489795918366; total time=   0.0s\n",
            "[CV] END .................var_smoothing=0.061224489795918366; total time=   0.0s\n",
            "[CV] END .................var_smoothing=0.061224489795918366; total time=   0.0s\n",
            "[CV] END .................var_smoothing=0.061224489795918366; total time=   0.0s\n",
            "[CV] END ..................var_smoothing=0.07142857142857142; total time=   0.0s\n",
            "[CV] END ..................var_smoothing=0.07142857142857142; total time=   0.0s\n",
            "[CV] END ..................var_smoothing=0.07142857142857142; total time=   0.0s\n",
            "[CV] END ..................var_smoothing=0.07142857142857142; total time=   0.0s\n",
            "[CV] END ..................var_smoothing=0.07142857142857142; total time=   0.0s\n",
            "[CV] END ..................var_smoothing=0.08163265306122448; total time=   0.0s\n",
            "[CV] END ..................var_smoothing=0.08163265306122448; total time=   0.0s\n",
            "[CV] END ..................var_smoothing=0.08163265306122448; total time=   0.0s\n",
            "[CV] END ..................var_smoothing=0.08163265306122448; total time=   0.0s\n",
            "[CV] END ..................var_smoothing=0.08163265306122448; total time=   0.0s\n",
            "[CV] END ..................var_smoothing=0.09183673469387754; total time=   0.0s\n",
            "[CV] END ..................var_smoothing=0.09183673469387754; total time=   0.0s\n",
            "[CV] END ..................var_smoothing=0.09183673469387754; total time=   0.0s\n",
            "[CV] END ..................var_smoothing=0.09183673469387754; total time=   0.0s\n",
            "[CV] END ..................var_smoothing=0.09183673469387754; total time=   0.0s\n",
            "[CV] END ...................var_smoothing=0.1020408163265306; total time=   0.0s\n",
            "[CV] END ...................var_smoothing=0.1020408163265306; total time=   0.0s\n",
            "[CV] END ...................var_smoothing=0.1020408163265306; total time=   0.0s\n",
            "[CV] END ...................var_smoothing=0.1020408163265306; total time=   0.0s\n",
            "[CV] END ...................var_smoothing=0.1020408163265306; total time=   0.0s\n",
            "[CV] END ..................var_smoothing=0.11224489795918366; total time=   0.0s\n",
            "[CV] END ..................var_smoothing=0.11224489795918366; total time=   0.0s\n",
            "[CV] END ..................var_smoothing=0.11224489795918366; total time=   0.0s\n",
            "[CV] END ..................var_smoothing=0.11224489795918366; total time=   0.0s\n",
            "[CV] END ..................var_smoothing=0.11224489795918366; total time=   0.0s\n",
            "[CV] END ..................var_smoothing=0.12244897959183673; total time=   0.0s\n",
            "[CV] END ..................var_smoothing=0.12244897959183673; total time=   0.0s\n",
            "[CV] END ..................var_smoothing=0.12244897959183673; total time=   0.0s\n",
            "[CV] END ..................var_smoothing=0.12244897959183673; total time=   0.0s\n",
            "[CV] END ..................var_smoothing=0.12244897959183673; total time=   0.0s\n",
            "[CV] END ..................var_smoothing=0.13265306122448978; total time=   0.0s\n",
            "[CV] END ..................var_smoothing=0.13265306122448978; total time=   0.0s\n",
            "[CV] END ..................var_smoothing=0.13265306122448978; total time=   0.0s\n",
            "[CV] END ..................var_smoothing=0.13265306122448978; total time=   0.0s\n",
            "[CV] END ..................var_smoothing=0.13265306122448978; total time=   0.0s\n",
            "[CV] END ..................var_smoothing=0.14285714285714285; total time=   0.0s\n",
            "[CV] END ..................var_smoothing=0.14285714285714285; total time=   0.0s\n",
            "[CV] END ..................var_smoothing=0.14285714285714285; total time=   0.0s\n",
            "[CV] END ..................var_smoothing=0.14285714285714285; total time=   0.0s\n",
            "[CV] END ..................var_smoothing=0.14285714285714285; total time=   0.0s\n",
            "[CV] END ...................var_smoothing=0.1530612244897959; total time=   0.0s\n",
            "[CV] END ...................var_smoothing=0.1530612244897959; total time=   0.0s\n",
            "[CV] END ...................var_smoothing=0.1530612244897959; total time=   0.0s\n",
            "[CV] END ...................var_smoothing=0.1530612244897959; total time=   0.0s\n",
            "[CV] END ...................var_smoothing=0.1530612244897959; total time=   0.0s\n",
            "[CV] END ..................var_smoothing=0.16326530612244897; total time=   0.0s\n",
            "[CV] END ..................var_smoothing=0.16326530612244897; total time=   0.0s\n",
            "[CV] END ..................var_smoothing=0.16326530612244897; total time=   0.0s\n",
            "[CV] END ..................var_smoothing=0.16326530612244897; total time=   0.0s\n",
            "[CV] END ..................var_smoothing=0.16326530612244897; total time=   0.0s\n",
            "[CV] END ..................var_smoothing=0.17346938775510204; total time=   0.0s\n",
            "[CV] END ..................var_smoothing=0.17346938775510204; total time=   0.0s\n",
            "[CV] END ..................var_smoothing=0.17346938775510204; total time=   0.0s\n",
            "[CV] END ..................var_smoothing=0.17346938775510204; total time=   0.0s\n",
            "[CV] END ..................var_smoothing=0.17346938775510204; total time=   0.0s\n",
            "[CV] END ..................var_smoothing=0.18367346938775508; total time=   0.0s\n",
            "[CV] END ..................var_smoothing=0.18367346938775508; total time=   0.0s\n",
            "[CV] END ..................var_smoothing=0.18367346938775508; total time=   0.0s\n",
            "[CV] END ..................var_smoothing=0.18367346938775508; total time=   0.0s\n",
            "[CV] END ..................var_smoothing=0.18367346938775508; total time=   0.0s\n",
            "[CV] END ..................var_smoothing=0.19387755102040816; total time=   0.0s\n",
            "[CV] END ..................var_smoothing=0.19387755102040816; total time=   0.0s\n",
            "[CV] END ..................var_smoothing=0.19387755102040816; total time=   0.0s\n",
            "[CV] END ..................var_smoothing=0.19387755102040816; total time=   0.0s\n",
            "[CV] END ..................var_smoothing=0.19387755102040816; total time=   0.0s\n",
            "[CV] END ...................var_smoothing=0.2040816326530612; total time=   0.0s\n",
            "[CV] END ...................var_smoothing=0.2040816326530612; total time=   0.0s\n",
            "[CV] END ...................var_smoothing=0.2040816326530612; total time=   0.0s\n",
            "[CV] END ...................var_smoothing=0.2040816326530612; total time=   0.0s\n",
            "[CV] END ...................var_smoothing=0.2040816326530612; total time=   0.0s\n",
            "[CV] END ..................var_smoothing=0.21428571428571427; total time=   0.0s\n",
            "[CV] END ..................var_smoothing=0.21428571428571427; total time=   0.0s\n",
            "[CV] END ..................var_smoothing=0.21428571428571427; total time=   0.0s\n",
            "[CV] END ..................var_smoothing=0.21428571428571427; total time=   0.0s\n",
            "[CV] END ..................var_smoothing=0.21428571428571427; total time=   0.0s\n",
            "[CV] END ..................var_smoothing=0.22448979591836732; total time=   0.0s\n",
            "[CV] END ..................var_smoothing=0.22448979591836732; total time=   0.0s\n",
            "[CV] END ..................var_smoothing=0.22448979591836732; total time=   0.0s\n",
            "[CV] END ..................var_smoothing=0.22448979591836732; total time=   0.0s\n",
            "[CV] END ..................var_smoothing=0.22448979591836732; total time=   0.0s\n",
            "[CV] END ...................var_smoothing=0.2346938775510204; total time=   0.0s\n",
            "[CV] END ...................var_smoothing=0.2346938775510204; total time=   0.0s\n",
            "[CV] END ...................var_smoothing=0.2346938775510204; total time=   0.0s\n",
            "[CV] END ...................var_smoothing=0.2346938775510204; total time=   0.0s\n",
            "[CV] END ...................var_smoothing=0.2346938775510204; total time=   0.0s\n",
            "[CV] END ..................var_smoothing=0.24489795918367346; total time=   0.0s\n",
            "[CV] END ..................var_smoothing=0.24489795918367346; total time=   0.0s\n",
            "[CV] END ..................var_smoothing=0.24489795918367346; total time=   0.0s\n",
            "[CV] END ..................var_smoothing=0.24489795918367346; total time=   0.0s\n",
            "[CV] END ..................var_smoothing=0.24489795918367346; total time=   0.0s\n",
            "[CV] END ..................var_smoothing=0.25510204081632654; total time=   0.0s\n",
            "[CV] END ..................var_smoothing=0.25510204081632654; total time=   0.0s\n",
            "[CV] END ..................var_smoothing=0.25510204081632654; total time=   0.0s\n",
            "[CV] END ..................var_smoothing=0.25510204081632654; total time=   0.0s\n",
            "[CV] END ..................var_smoothing=0.25510204081632654; total time=   0.0s\n",
            "[CV] END ..................var_smoothing=0.26530612244897955; total time=   0.0s\n",
            "[CV] END ..................var_smoothing=0.26530612244897955; total time=   0.0s\n",
            "[CV] END ..................var_smoothing=0.26530612244897955; total time=   0.0s\n",
            "[CV] END ..................var_smoothing=0.26530612244897955; total time=   0.0s\n",
            "[CV] END ..................var_smoothing=0.26530612244897955; total time=   0.0s\n",
            "[CV] END ...................var_smoothing=0.2755102040816326; total time=   0.0s\n",
            "[CV] END ...................var_smoothing=0.2755102040816326; total time=   0.0s\n",
            "[CV] END ...................var_smoothing=0.2755102040816326; total time=   0.0s\n",
            "[CV] END ...................var_smoothing=0.2755102040816326; total time=   0.0s\n",
            "[CV] END ...................var_smoothing=0.2755102040816326; total time=   0.0s\n",
            "[CV] END ...................var_smoothing=0.2857142857142857; total time=   0.0s\n",
            "[CV] END ...................var_smoothing=0.2857142857142857; total time=   0.0s\n",
            "[CV] END ...................var_smoothing=0.2857142857142857; total time=   0.0s\n",
            "[CV] END ...................var_smoothing=0.2857142857142857; total time=   0.0s\n",
            "[CV] END ...................var_smoothing=0.2857142857142857; total time=   0.0s\n",
            "[CV] END ..................var_smoothing=0.29591836734693877; total time=   0.0s\n",
            "[CV] END ..................var_smoothing=0.29591836734693877; total time=   0.0s\n",
            "[CV] END ..................var_smoothing=0.29591836734693877; total time=   0.0s\n",
            "[CV] END ..................var_smoothing=0.29591836734693877; total time=   0.0s\n",
            "[CV] END ..................var_smoothing=0.29591836734693877; total time=   0.0s\n",
            "[CV] END ...................var_smoothing=0.3061224489795918; total time=   0.0s\n",
            "[CV] END ...................var_smoothing=0.3061224489795918; total time=   0.0s\n",
            "[CV] END ...................var_smoothing=0.3061224489795918; total time=   0.0s\n",
            "[CV] END ...................var_smoothing=0.3061224489795918; total time=   0.0s\n",
            "[CV] END ...................var_smoothing=0.3061224489795918; total time=   0.0s\n",
            "[CV] END ..................var_smoothing=0.31632653061224486; total time=   0.0s\n",
            "[CV] END ..................var_smoothing=0.31632653061224486; total time=   0.0s\n",
            "[CV] END ..................var_smoothing=0.31632653061224486; total time=   0.0s\n",
            "[CV] END ..................var_smoothing=0.31632653061224486; total time=   0.0s\n",
            "[CV] END ..................var_smoothing=0.31632653061224486; total time=   0.0s\n",
            "[CV] END ..................var_smoothing=0.32653061224489793; total time=   0.0s\n",
            "[CV] END ..................var_smoothing=0.32653061224489793; total time=   0.0s\n",
            "[CV] END ..................var_smoothing=0.32653061224489793; total time=   0.0s\n",
            "[CV] END ..................var_smoothing=0.32653061224489793; total time=   0.0s\n",
            "[CV] END ..................var_smoothing=0.32653061224489793; total time=   0.0s\n",
            "[CV] END ....................var_smoothing=0.336734693877551; total time=   0.0s\n",
            "[CV] END ....................var_smoothing=0.336734693877551; total time=   0.0s\n",
            "[CV] END ....................var_smoothing=0.336734693877551; total time=   0.0s\n",
            "[CV] END ....................var_smoothing=0.336734693877551; total time=   0.0s\n",
            "[CV] END ....................var_smoothing=0.336734693877551; total time=   0.0s\n",
            "[CV] END ...................var_smoothing=0.3469387755102041; total time=   0.0s\n",
            "[CV] END ...................var_smoothing=0.3469387755102041; total time=   0.0s\n",
            "[CV] END ...................var_smoothing=0.3469387755102041; total time=   0.0s\n",
            "[CV] END ...................var_smoothing=0.3469387755102041; total time=   0.0s\n",
            "[CV] END ...................var_smoothing=0.3469387755102041; total time=   0.0s\n",
            "[CV] END ...................var_smoothing=0.3571428571428571; total time=   0.0s\n",
            "[CV] END ...................var_smoothing=0.3571428571428571; total time=   0.0s\n",
            "[CV] END ...................var_smoothing=0.3571428571428571; total time=   0.0s\n",
            "[CV] END ...................var_smoothing=0.3571428571428571; total time=   0.0s\n",
            "[CV] END ...................var_smoothing=0.3571428571428571; total time=   0.0s\n",
            "[CV] END ..................var_smoothing=0.36734693877551017; total time=   0.0s\n",
            "[CV] END ..................var_smoothing=0.36734693877551017; total time=   0.0s\n",
            "[CV] END ..................var_smoothing=0.36734693877551017; total time=   0.0s\n",
            "[CV] END ..................var_smoothing=0.36734693877551017; total time=   0.0s\n",
            "[CV] END ..................var_smoothing=0.36734693877551017; total time=   0.0s\n",
            "[CV] END ..................var_smoothing=0.37755102040816324; total time=   0.0s\n",
            "[CV] END ..................var_smoothing=0.37755102040816324; total time=   0.0s\n",
            "[CV] END ..................var_smoothing=0.37755102040816324; total time=   0.0s\n",
            "[CV] END ..................var_smoothing=0.37755102040816324; total time=   0.0s\n",
            "[CV] END ..................var_smoothing=0.37755102040816324; total time=   0.0s\n",
            "[CV] END ...................var_smoothing=0.3877551020408163; total time=   0.0s\n",
            "[CV] END ...................var_smoothing=0.3877551020408163; total time=   0.0s\n",
            "[CV] END ...................var_smoothing=0.3877551020408163; total time=   0.0s\n",
            "[CV] END ...................var_smoothing=0.3877551020408163; total time=   0.0s\n",
            "[CV] END ...................var_smoothing=0.3877551020408163; total time=   0.0s\n",
            "[CV] END ..................var_smoothing=0.39795918367346933; total time=   0.0s\n",
            "[CV] END ..................var_smoothing=0.39795918367346933; total time=   0.0s\n",
            "[CV] END ..................var_smoothing=0.39795918367346933; total time=   0.0s\n",
            "[CV] END ..................var_smoothing=0.39795918367346933; total time=   0.0s\n",
            "[CV] END ..................var_smoothing=0.39795918367346933; total time=   0.0s\n",
            "[CV] END ...................var_smoothing=0.4081632653061224; total time=   0.0s\n",
            "[CV] END ...................var_smoothing=0.4081632653061224; total time=   0.0s\n",
            "[CV] END ...................var_smoothing=0.4081632653061224; total time=   0.0s\n",
            "[CV] END ...................var_smoothing=0.4081632653061224; total time=   0.0s\n",
            "[CV] END ...................var_smoothing=0.4081632653061224; total time=   0.0s\n",
            "[CV] END ...................var_smoothing=0.4183673469387755; total time=   0.0s\n",
            "[CV] END ...................var_smoothing=0.4183673469387755; total time=   0.0s\n",
            "[CV] END ...................var_smoothing=0.4183673469387755; total time=   0.0s\n",
            "[CV] END ...................var_smoothing=0.4183673469387755; total time=   0.0s\n",
            "[CV] END ...................var_smoothing=0.4183673469387755; total time=   0.0s\n",
            "[CV] END ..................var_smoothing=0.42857142857142855; total time=   0.0s\n",
            "[CV] END ..................var_smoothing=0.42857142857142855; total time=   0.0s\n",
            "[CV] END ..................var_smoothing=0.42857142857142855; total time=   0.0s\n",
            "[CV] END ..................var_smoothing=0.42857142857142855; total time=   0.0s\n",
            "[CV] END ..................var_smoothing=0.42857142857142855; total time=   0.0s\n",
            "[CV] END ...................var_smoothing=0.4387755102040816; total time=   0.0s\n",
            "[CV] END ...................var_smoothing=0.4387755102040816; total time=   0.0s\n",
            "[CV] END ...................var_smoothing=0.4387755102040816; total time=   0.0s\n",
            "[CV] END ...................var_smoothing=0.4387755102040816; total time=   0.0s\n",
            "[CV] END ...................var_smoothing=0.4387755102040816; total time=   0.0s\n",
            "[CV] END ..................var_smoothing=0.44897959183673464; total time=   0.0s\n",
            "[CV] END ..................var_smoothing=0.44897959183673464; total time=   0.0s\n",
            "[CV] END ..................var_smoothing=0.44897959183673464; total time=   0.0s\n",
            "[CV] END ..................var_smoothing=0.44897959183673464; total time=   0.0s\n",
            "[CV] END ..................var_smoothing=0.44897959183673464; total time=   0.0s\n",
            "[CV] END ...................var_smoothing=0.4591836734693877; total time=   0.0s\n",
            "[CV] END ...................var_smoothing=0.4591836734693877; total time=   0.0s\n",
            "[CV] END ...................var_smoothing=0.4591836734693877; total time=   0.0s\n",
            "[CV] END ...................var_smoothing=0.4591836734693877; total time=   0.0s\n",
            "[CV] END ...................var_smoothing=0.4591836734693877; total time=   0.0s\n",
            "[CV] END ...................var_smoothing=0.4693877551020408; total time=   0.0s\n",
            "[CV] END ...................var_smoothing=0.4693877551020408; total time=   0.0s\n",
            "[CV] END ...................var_smoothing=0.4693877551020408; total time=   0.0s\n",
            "[CV] END ...................var_smoothing=0.4693877551020408; total time=   0.0s\n",
            "[CV] END ...................var_smoothing=0.4693877551020408; total time=   0.0s\n",
            "[CV] END ..................var_smoothing=0.47959183673469385; total time=   0.0s\n",
            "[CV] END ..................var_smoothing=0.47959183673469385; total time=   0.0s\n",
            "[CV] END ..................var_smoothing=0.47959183673469385; total time=   0.0s\n",
            "[CV] END ..................var_smoothing=0.47959183673469385; total time=   0.0s\n",
            "[CV] END ..................var_smoothing=0.47959183673469385; total time=   0.0s\n",
            "[CV] END ...................var_smoothing=0.4897959183673469; total time=   0.0s\n",
            "[CV] END ...................var_smoothing=0.4897959183673469; total time=   0.0s\n",
            "[CV] END ...................var_smoothing=0.4897959183673469; total time=   0.0s\n",
            "[CV] END ...................var_smoothing=0.4897959183673469; total time=   0.0s\n",
            "[CV] END ...................var_smoothing=0.4897959183673469; total time=   0.0s\n",
            "[CV] END ..................................var_smoothing=0.5; total time=   0.0s\n",
            "[CV] END ..................................var_smoothing=0.5; total time=   0.0s\n",
            "[CV] END ..................................var_smoothing=0.5; total time=   0.0s\n",
            "[CV] END ..................................var_smoothing=0.5; total time=   0.0s\n",
            "[CV] END ..................................var_smoothing=0.5; total time=   0.0s\n",
            "Best Hyperparameters:  {'var_smoothing': 0.01020408163265306}\n",
            "Best Accuracy:  0.8100217336064123\n"
          ]
        }
      ],
      "source": [
        "params = {'var_smoothing': np.linspace(0,0.5, num=50)}\n",
        "\n",
        "gnb = GaussianNB()\n",
        "\n",
        "grid_search = GridSearchCV(estimator = gnb, \n",
        "                           param_grid = params, \n",
        "                           cv=5,\n",
        "                           scoring = 'accuracy',\n",
        "                           verbose = 2)\n",
        "\n",
        "grid_search.fit(train_file, y_train)\n",
        "\n",
        "print(\"Best Hyperparameters: \", grid_search.best_params_)\n",
        "print(\"Best Accuracy: \", grid_search.best_score_)"
      ]
    },
    {
      "cell_type": "code",
      "execution_count": null,
      "metadata": {
        "id": "yeEzmvCXrvJQ"
      },
      "outputs": [],
      "source": [
        "best_cnn_gnb = grid_search.best_estimator_"
      ]
    },
    {
      "cell_type": "code",
      "execution_count": null,
      "metadata": {
        "id": "QCurcqqU30Uq",
        "colab": {
          "base_uri": "https://localhost:8080/"
        },
        "outputId": "44e94913-2965-405d-95d1-42023ab81656"
      },
      "outputs": [
        {
          "output_type": "stream",
          "name": "stdout",
          "text": [
            "Accuracy on Testing Set:  0.7573316145665485\n"
          ]
        }
      ],
      "source": [
        "y_pred = best_cnn_gnb.predict(test_file)\n",
        "accuracy = accuracy_score(y_test, y_pred)\n",
        "print(\"Accuracy on Testing Set: \", accuracy)"
      ]
    },
    {
      "cell_type": "code",
      "execution_count": null,
      "metadata": {
        "id": "MMh1C9wsrrfc",
        "colab": {
          "base_uri": "https://localhost:8080/"
        },
        "outputId": "be722a01-08b0-471a-e043-b386c00f9057"
      },
      "outputs": [
        {
          "output_type": "stream",
          "name": "stdout",
          "text": [
            "F1 Score on Testing Set:  0.7680640413987556\n"
          ]
        }
      ],
      "source": [
        "f1score = f1_score(y_test, y_pred, average='weighted')\n",
        "print(\"F1 Score on Testing Set: \", f1score)"
      ]
    },
    {
      "cell_type": "code",
      "execution_count": null,
      "metadata": {
        "id": "oHcLVZuu3-tx",
        "colab": {
          "base_uri": "https://localhost:8080/",
          "height": 331
        },
        "outputId": "26c76b95-5c7a-4048-d345-4cffc9a58131"
      },
      "outputs": [
        {
          "output_type": "execute_result",
          "data": {
            "text/plain": [
              "               Model  Test_Accuracy  F1_Score\n",
              "0                XGB       0.826619  0.818637\n",
              "1                SVM       0.822430  0.819557\n",
              "2  Convolutional KNN       0.812117  0.811638\n",
              "3  Convolutional SVM       0.807928  0.807761\n",
              "4                CNN       0.792459  0.788760\n",
              "5                RFC       0.783113  0.762004\n",
              "6                KNN       0.768611  0.753757\n",
              "8  Convolutional GNB       0.757332  0.768064\n",
              "7                GNB       0.533677  0.552730"
            ],
            "text/html": [
              "\n",
              "  <div id=\"df-6de3b4b4-355f-4a05-b46a-70f140a09109\">\n",
              "    <div class=\"colab-df-container\">\n",
              "      <div>\n",
              "<style scoped>\n",
              "    .dataframe tbody tr th:only-of-type {\n",
              "        vertical-align: middle;\n",
              "    }\n",
              "\n",
              "    .dataframe tbody tr th {\n",
              "        vertical-align: top;\n",
              "    }\n",
              "\n",
              "    .dataframe thead th {\n",
              "        text-align: right;\n",
              "    }\n",
              "</style>\n",
              "<table border=\"1\" class=\"dataframe\">\n",
              "  <thead>\n",
              "    <tr style=\"text-align: right;\">\n",
              "      <th></th>\n",
              "      <th>Model</th>\n",
              "      <th>Test_Accuracy</th>\n",
              "      <th>F1_Score</th>\n",
              "    </tr>\n",
              "  </thead>\n",
              "  <tbody>\n",
              "    <tr>\n",
              "      <th>0</th>\n",
              "      <td>XGB</td>\n",
              "      <td>0.826619</td>\n",
              "      <td>0.818637</td>\n",
              "    </tr>\n",
              "    <tr>\n",
              "      <th>1</th>\n",
              "      <td>SVM</td>\n",
              "      <td>0.822430</td>\n",
              "      <td>0.819557</td>\n",
              "    </tr>\n",
              "    <tr>\n",
              "      <th>2</th>\n",
              "      <td>Convolutional KNN</td>\n",
              "      <td>0.812117</td>\n",
              "      <td>0.811638</td>\n",
              "    </tr>\n",
              "    <tr>\n",
              "      <th>3</th>\n",
              "      <td>Convolutional SVM</td>\n",
              "      <td>0.807928</td>\n",
              "      <td>0.807761</td>\n",
              "    </tr>\n",
              "    <tr>\n",
              "      <th>4</th>\n",
              "      <td>CNN</td>\n",
              "      <td>0.792459</td>\n",
              "      <td>0.788760</td>\n",
              "    </tr>\n",
              "    <tr>\n",
              "      <th>5</th>\n",
              "      <td>RFC</td>\n",
              "      <td>0.783113</td>\n",
              "      <td>0.762004</td>\n",
              "    </tr>\n",
              "    <tr>\n",
              "      <th>6</th>\n",
              "      <td>KNN</td>\n",
              "      <td>0.768611</td>\n",
              "      <td>0.753757</td>\n",
              "    </tr>\n",
              "    <tr>\n",
              "      <th>8</th>\n",
              "      <td>Convolutional GNB</td>\n",
              "      <td>0.757332</td>\n",
              "      <td>0.768064</td>\n",
              "    </tr>\n",
              "    <tr>\n",
              "      <th>7</th>\n",
              "      <td>GNB</td>\n",
              "      <td>0.533677</td>\n",
              "      <td>0.552730</td>\n",
              "    </tr>\n",
              "  </tbody>\n",
              "</table>\n",
              "</div>\n",
              "      <button class=\"colab-df-convert\" onclick=\"convertToInteractive('df-6de3b4b4-355f-4a05-b46a-70f140a09109')\"\n",
              "              title=\"Convert this dataframe to an interactive table.\"\n",
              "              style=\"display:none;\">\n",
              "        \n",
              "  <svg xmlns=\"http://www.w3.org/2000/svg\" height=\"24px\"viewBox=\"0 0 24 24\"\n",
              "       width=\"24px\">\n",
              "    <path d=\"M0 0h24v24H0V0z\" fill=\"none\"/>\n",
              "    <path d=\"M18.56 5.44l.94 2.06.94-2.06 2.06-.94-2.06-.94-.94-2.06-.94 2.06-2.06.94zm-11 1L8.5 8.5l.94-2.06 2.06-.94-2.06-.94L8.5 2.5l-.94 2.06-2.06.94zm10 10l.94 2.06.94-2.06 2.06-.94-2.06-.94-.94-2.06-.94 2.06-2.06.94z\"/><path d=\"M17.41 7.96l-1.37-1.37c-.4-.4-.92-.59-1.43-.59-.52 0-1.04.2-1.43.59L10.3 9.45l-7.72 7.72c-.78.78-.78 2.05 0 2.83L4 21.41c.39.39.9.59 1.41.59.51 0 1.02-.2 1.41-.59l7.78-7.78 2.81-2.81c.8-.78.8-2.07 0-2.86zM5.41 20L4 18.59l7.72-7.72 1.47 1.35L5.41 20z\"/>\n",
              "  </svg>\n",
              "      </button>\n",
              "      \n",
              "  <style>\n",
              "    .colab-df-container {\n",
              "      display:flex;\n",
              "      flex-wrap:wrap;\n",
              "      gap: 12px;\n",
              "    }\n",
              "\n",
              "    .colab-df-convert {\n",
              "      background-color: #E8F0FE;\n",
              "      border: none;\n",
              "      border-radius: 50%;\n",
              "      cursor: pointer;\n",
              "      display: none;\n",
              "      fill: #1967D2;\n",
              "      height: 32px;\n",
              "      padding: 0 0 0 0;\n",
              "      width: 32px;\n",
              "    }\n",
              "\n",
              "    .colab-df-convert:hover {\n",
              "      background-color: #E2EBFA;\n",
              "      box-shadow: 0px 1px 2px rgba(60, 64, 67, 0.3), 0px 1px 3px 1px rgba(60, 64, 67, 0.15);\n",
              "      fill: #174EA6;\n",
              "    }\n",
              "\n",
              "    [theme=dark] .colab-df-convert {\n",
              "      background-color: #3B4455;\n",
              "      fill: #D2E3FC;\n",
              "    }\n",
              "\n",
              "    [theme=dark] .colab-df-convert:hover {\n",
              "      background-color: #434B5C;\n",
              "      box-shadow: 0px 1px 3px 1px rgba(0, 0, 0, 0.15);\n",
              "      filter: drop-shadow(0px 1px 2px rgba(0, 0, 0, 0.3));\n",
              "      fill: #FFFFFF;\n",
              "    }\n",
              "  </style>\n",
              "\n",
              "      <script>\n",
              "        const buttonEl =\n",
              "          document.querySelector('#df-6de3b4b4-355f-4a05-b46a-70f140a09109 button.colab-df-convert');\n",
              "        buttonEl.style.display =\n",
              "          google.colab.kernel.accessAllowed ? 'block' : 'none';\n",
              "\n",
              "        async function convertToInteractive(key) {\n",
              "          const element = document.querySelector('#df-6de3b4b4-355f-4a05-b46a-70f140a09109');\n",
              "          const dataTable =\n",
              "            await google.colab.kernel.invokeFunction('convertToInteractive',\n",
              "                                                     [key], {});\n",
              "          if (!dataTable) return;\n",
              "\n",
              "          const docLinkHtml = 'Like what you see? Visit the ' +\n",
              "            '<a target=\"_blank\" href=https://colab.research.google.com/notebooks/data_table.ipynb>data table notebook</a>'\n",
              "            + ' to learn more about interactive tables.';\n",
              "          element.innerHTML = '';\n",
              "          dataTable['output_type'] = 'display_data';\n",
              "          await google.colab.output.renderOutput(dataTable, element);\n",
              "          const docLink = document.createElement('div');\n",
              "          docLink.innerHTML = docLinkHtml;\n",
              "          element.appendChild(docLink);\n",
              "        }\n",
              "      </script>\n",
              "    </div>\n",
              "  </div>\n",
              "  "
            ]
          },
          "metadata": {},
          "execution_count": 58
        }
      ],
      "source": [
        "models_df = models_df.append(pd.Series(['Convolutional GNB', accuracy, f1score], index=models_df.columns), ignore_index=True)\n",
        "models_df = models_df.sort_values('Test_Accuracy', ascending=False)\n",
        "models_df"
      ]
    },
    {
      "cell_type": "code",
      "execution_count": null,
      "metadata": {
        "id": "j7uxeP0c4Ax_",
        "colab": {
          "base_uri": "https://localhost:8080/",
          "height": 17
        },
        "outputId": "d868ff26-6202-4ae6-fc0a-5a0f1abfe321"
      },
      "outputs": [
        {
          "output_type": "display_data",
          "data": {
            "text/plain": [
              "<IPython.core.display.Javascript object>"
            ],
            "application/javascript": [
              "\n",
              "    async function download(id, filename, size) {\n",
              "      if (!google.colab.kernel.accessAllowed) {\n",
              "        return;\n",
              "      }\n",
              "      const div = document.createElement('div');\n",
              "      const label = document.createElement('label');\n",
              "      label.textContent = `Downloading \"${filename}\": `;\n",
              "      div.appendChild(label);\n",
              "      const progress = document.createElement('progress');\n",
              "      progress.max = size;\n",
              "      div.appendChild(progress);\n",
              "      document.body.appendChild(div);\n",
              "\n",
              "      const buffers = [];\n",
              "      let downloaded = 0;\n",
              "\n",
              "      const channel = await google.colab.kernel.comms.open(id);\n",
              "      // Send a message to notify the kernel that we're ready.\n",
              "      channel.send({})\n",
              "\n",
              "      for await (const message of channel.messages) {\n",
              "        // Send a message to notify the kernel that we're ready.\n",
              "        channel.send({})\n",
              "        if (message.buffers) {\n",
              "          for (const buffer of message.buffers) {\n",
              "            buffers.push(buffer);\n",
              "            downloaded += buffer.byteLength;\n",
              "            progress.value = downloaded;\n",
              "          }\n",
              "        }\n",
              "      }\n",
              "      const blob = new Blob(buffers, {type: 'application/binary'});\n",
              "      const a = document.createElement('a');\n",
              "      a.href = window.URL.createObjectURL(blob);\n",
              "      a.download = filename;\n",
              "      div.appendChild(a);\n",
              "      a.click();\n",
              "      div.remove();\n",
              "    }\n",
              "  "
            ]
          },
          "metadata": {}
        },
        {
          "output_type": "display_data",
          "data": {
            "text/plain": [
              "<IPython.core.display.Javascript object>"
            ],
            "application/javascript": [
              "download(\"download_379ad6df-b6ef-4b47-923c-f88c2fb05e51\", \"CNN_GNB_Model.pkl\", 6749)"
            ]
          },
          "metadata": {}
        }
      ],
      "source": [
        "import pickle\n",
        "with open('CNN_GNB_Model.pkl', 'wb') as file:\n",
        "    pickle.dump(best_cnn_gnb, file)\n",
        "\n",
        "from google.colab import files\n",
        "files.download('CNN_GNB_Model.pkl')"
      ]
    },
    {
      "cell_type": "markdown",
      "metadata": {
        "id": "pXZ7AAAq1KfE"
      },
      "source": [
        "### Convolutional RFC\n",
        "\n",
        "CNN-RFC (Convolutional Neural Network - Random Forest Classifier) is another hybrid algorithm and in this case, it combines the power of convolutional neural networks (CNNs) and random forests. It combines the feature extraction power of CNNs with the decision-making power of random forests. ​ Although it is a powerful algorithm for image recognition tasks & high-dimensional data, where CNNs can extract relevant features from the image and random forests can classify them accurately but they are computationally expensive with large datasets and requires a lot of memory to train. They are also not interpretable. ​ "
      ]
    },
    {
      "cell_type": "code",
      "execution_count": null,
      "metadata": {
        "id": "nT1LRrD-1Ql8",
        "colab": {
          "base_uri": "https://localhost:8080/"
        },
        "outputId": "fd0ff78f-b358-4fcb-b282-cf5f594ae9cb"
      },
      "outputs": [
        {
          "output_type": "stream",
          "name": "stdout",
          "text": [
            "Fitting 5 folds for each of 4 candidates, totalling 20 fits\n",
            "[CV] END ......................max_depth=5, n_estimators=100; total time=   5.9s\n",
            "[CV] END ......................max_depth=5, n_estimators=100; total time=   3.2s\n",
            "[CV] END ......................max_depth=5, n_estimators=100; total time=   3.1s\n",
            "[CV] END ......................max_depth=5, n_estimators=100; total time=   3.8s\n",
            "[CV] END ......................max_depth=5, n_estimators=100; total time=   3.2s\n",
            "[CV] END ......................max_depth=5, n_estimators=200; total time=   6.5s\n",
            "[CV] END ......................max_depth=5, n_estimators=200; total time=   6.9s\n",
            "[CV] END ......................max_depth=5, n_estimators=200; total time=   6.8s\n",
            "[CV] END ......................max_depth=5, n_estimators=200; total time=   6.4s\n",
            "[CV] END ......................max_depth=5, n_estimators=200; total time=   7.0s\n",
            "[CV] END .....................max_depth=10, n_estimators=100; total time=   5.5s\n",
            "[CV] END .....................max_depth=10, n_estimators=100; total time=   6.2s\n",
            "[CV] END .....................max_depth=10, n_estimators=100; total time=   5.7s\n",
            "[CV] END .....................max_depth=10, n_estimators=100; total time=   5.9s\n",
            "[CV] END .....................max_depth=10, n_estimators=100; total time=   5.8s\n",
            "[CV] END .....................max_depth=10, n_estimators=200; total time=  11.8s\n",
            "[CV] END .....................max_depth=10, n_estimators=200; total time=  11.8s\n",
            "[CV] END .....................max_depth=10, n_estimators=200; total time=  11.7s\n",
            "[CV] END .....................max_depth=10, n_estimators=200; total time=  11.7s\n",
            "[CV] END .....................max_depth=10, n_estimators=200; total time=  11.8s\n",
            "Best Hyperparameters:  {'max_depth': 10, 'n_estimators': 200}\n",
            "Best Accuracy:  0.8616636966991983\n"
          ]
        }
      ],
      "source": [
        "params = {'n_estimators': [100, 200],\n",
        "          'max_depth': [5, 10]}\n",
        "\n",
        "rfc = RandomForestClassifier(random_state=2019)\n",
        "\n",
        "grid_search = GridSearchCV(estimator = rfc, \n",
        "                           param_grid = params, \n",
        "                           cv=5,\n",
        "                           scoring = 'accuracy',\n",
        "                           verbose = 2)\n",
        "\n",
        "grid_search.fit(train_file, y_train)\n",
        "\n",
        "print(\"Best Hyperparameters: \", grid_search.best_params_)\n",
        "print(\"Best Accuracy: \", grid_search.best_score_)"
      ]
    },
    {
      "cell_type": "code",
      "execution_count": null,
      "metadata": {
        "id": "1R2Z-8X0r-iu"
      },
      "outputs": [],
      "source": [
        "best_cnn_rfc = grid_search.best_estimator_"
      ]
    },
    {
      "cell_type": "code",
      "execution_count": null,
      "metadata": {
        "id": "eFFJHsQN4SwX",
        "colab": {
          "base_uri": "https://localhost:8080/"
        },
        "outputId": "1d1dc003-fc90-4925-ff91-1928b9ce97b1"
      },
      "outputs": [
        {
          "output_type": "stream",
          "name": "stdout",
          "text": [
            "Accuracy on Testing Set:  0.8127618433773768\n"
          ]
        }
      ],
      "source": [
        "y_pred = best_cnn_rfc.predict(test_file)\n",
        "accuracy = accuracy_score(y_test, y_pred)\n",
        "print(\"Accuracy on Testing Set: \", accuracy)"
      ]
    },
    {
      "cell_type": "code",
      "execution_count": null,
      "metadata": {
        "id": "XuMOR4SLr5IZ",
        "colab": {
          "base_uri": "https://localhost:8080/"
        },
        "outputId": "00eab2d6-a090-4a6c-9240-0bea711f9ab4"
      },
      "outputs": [
        {
          "output_type": "stream",
          "name": "stdout",
          "text": [
            "F1 Score on Testing Set:  0.8125587322155026\n"
          ]
        }
      ],
      "source": [
        "f1score = f1_score(y_test, y_pred, average='weighted')\n",
        "print(\"F1 Score on Testing Set: \", f1score)"
      ]
    },
    {
      "cell_type": "code",
      "execution_count": null,
      "metadata": {
        "id": "_TliMSK74ZGE",
        "colab": {
          "base_uri": "https://localhost:8080/",
          "height": 363
        },
        "outputId": "3dc59f60-ab6d-4f67-d62a-330cda9cd507"
      },
      "outputs": [
        {
          "output_type": "execute_result",
          "data": {
            "text/plain": [
              "               Model  Test_Accuracy  F1_Score\n",
              "0                XGB       0.826619  0.818637\n",
              "1                SVM       0.822430  0.819557\n",
              "9  Convolutional RFC       0.812762  0.812559\n",
              "2  Convolutional KNN       0.812117  0.811638\n",
              "3  Convolutional SVM       0.807928  0.807761\n",
              "4                CNN       0.792459  0.788760\n",
              "5                RFC       0.783113  0.762004\n",
              "6                KNN       0.768611  0.753757\n",
              "7  Convolutional GNB       0.757332  0.768064\n",
              "8                GNB       0.533677  0.552730"
            ],
            "text/html": [
              "\n",
              "  <div id=\"df-9b64f6c7-f17f-449c-8e20-3e88311d125c\">\n",
              "    <div class=\"colab-df-container\">\n",
              "      <div>\n",
              "<style scoped>\n",
              "    .dataframe tbody tr th:only-of-type {\n",
              "        vertical-align: middle;\n",
              "    }\n",
              "\n",
              "    .dataframe tbody tr th {\n",
              "        vertical-align: top;\n",
              "    }\n",
              "\n",
              "    .dataframe thead th {\n",
              "        text-align: right;\n",
              "    }\n",
              "</style>\n",
              "<table border=\"1\" class=\"dataframe\">\n",
              "  <thead>\n",
              "    <tr style=\"text-align: right;\">\n",
              "      <th></th>\n",
              "      <th>Model</th>\n",
              "      <th>Test_Accuracy</th>\n",
              "      <th>F1_Score</th>\n",
              "    </tr>\n",
              "  </thead>\n",
              "  <tbody>\n",
              "    <tr>\n",
              "      <th>0</th>\n",
              "      <td>XGB</td>\n",
              "      <td>0.826619</td>\n",
              "      <td>0.818637</td>\n",
              "    </tr>\n",
              "    <tr>\n",
              "      <th>1</th>\n",
              "      <td>SVM</td>\n",
              "      <td>0.822430</td>\n",
              "      <td>0.819557</td>\n",
              "    </tr>\n",
              "    <tr>\n",
              "      <th>9</th>\n",
              "      <td>Convolutional RFC</td>\n",
              "      <td>0.812762</td>\n",
              "      <td>0.812559</td>\n",
              "    </tr>\n",
              "    <tr>\n",
              "      <th>2</th>\n",
              "      <td>Convolutional KNN</td>\n",
              "      <td>0.812117</td>\n",
              "      <td>0.811638</td>\n",
              "    </tr>\n",
              "    <tr>\n",
              "      <th>3</th>\n",
              "      <td>Convolutional SVM</td>\n",
              "      <td>0.807928</td>\n",
              "      <td>0.807761</td>\n",
              "    </tr>\n",
              "    <tr>\n",
              "      <th>4</th>\n",
              "      <td>CNN</td>\n",
              "      <td>0.792459</td>\n",
              "      <td>0.788760</td>\n",
              "    </tr>\n",
              "    <tr>\n",
              "      <th>5</th>\n",
              "      <td>RFC</td>\n",
              "      <td>0.783113</td>\n",
              "      <td>0.762004</td>\n",
              "    </tr>\n",
              "    <tr>\n",
              "      <th>6</th>\n",
              "      <td>KNN</td>\n",
              "      <td>0.768611</td>\n",
              "      <td>0.753757</td>\n",
              "    </tr>\n",
              "    <tr>\n",
              "      <th>7</th>\n",
              "      <td>Convolutional GNB</td>\n",
              "      <td>0.757332</td>\n",
              "      <td>0.768064</td>\n",
              "    </tr>\n",
              "    <tr>\n",
              "      <th>8</th>\n",
              "      <td>GNB</td>\n",
              "      <td>0.533677</td>\n",
              "      <td>0.552730</td>\n",
              "    </tr>\n",
              "  </tbody>\n",
              "</table>\n",
              "</div>\n",
              "      <button class=\"colab-df-convert\" onclick=\"convertToInteractive('df-9b64f6c7-f17f-449c-8e20-3e88311d125c')\"\n",
              "              title=\"Convert this dataframe to an interactive table.\"\n",
              "              style=\"display:none;\">\n",
              "        \n",
              "  <svg xmlns=\"http://www.w3.org/2000/svg\" height=\"24px\"viewBox=\"0 0 24 24\"\n",
              "       width=\"24px\">\n",
              "    <path d=\"M0 0h24v24H0V0z\" fill=\"none\"/>\n",
              "    <path d=\"M18.56 5.44l.94 2.06.94-2.06 2.06-.94-2.06-.94-.94-2.06-.94 2.06-2.06.94zm-11 1L8.5 8.5l.94-2.06 2.06-.94-2.06-.94L8.5 2.5l-.94 2.06-2.06.94zm10 10l.94 2.06.94-2.06 2.06-.94-2.06-.94-.94-2.06-.94 2.06-2.06.94z\"/><path d=\"M17.41 7.96l-1.37-1.37c-.4-.4-.92-.59-1.43-.59-.52 0-1.04.2-1.43.59L10.3 9.45l-7.72 7.72c-.78.78-.78 2.05 0 2.83L4 21.41c.39.39.9.59 1.41.59.51 0 1.02-.2 1.41-.59l7.78-7.78 2.81-2.81c.8-.78.8-2.07 0-2.86zM5.41 20L4 18.59l7.72-7.72 1.47 1.35L5.41 20z\"/>\n",
              "  </svg>\n",
              "      </button>\n",
              "      \n",
              "  <style>\n",
              "    .colab-df-container {\n",
              "      display:flex;\n",
              "      flex-wrap:wrap;\n",
              "      gap: 12px;\n",
              "    }\n",
              "\n",
              "    .colab-df-convert {\n",
              "      background-color: #E8F0FE;\n",
              "      border: none;\n",
              "      border-radius: 50%;\n",
              "      cursor: pointer;\n",
              "      display: none;\n",
              "      fill: #1967D2;\n",
              "      height: 32px;\n",
              "      padding: 0 0 0 0;\n",
              "      width: 32px;\n",
              "    }\n",
              "\n",
              "    .colab-df-convert:hover {\n",
              "      background-color: #E2EBFA;\n",
              "      box-shadow: 0px 1px 2px rgba(60, 64, 67, 0.3), 0px 1px 3px 1px rgba(60, 64, 67, 0.15);\n",
              "      fill: #174EA6;\n",
              "    }\n",
              "\n",
              "    [theme=dark] .colab-df-convert {\n",
              "      background-color: #3B4455;\n",
              "      fill: #D2E3FC;\n",
              "    }\n",
              "\n",
              "    [theme=dark] .colab-df-convert:hover {\n",
              "      background-color: #434B5C;\n",
              "      box-shadow: 0px 1px 3px 1px rgba(0, 0, 0, 0.15);\n",
              "      filter: drop-shadow(0px 1px 2px rgba(0, 0, 0, 0.3));\n",
              "      fill: #FFFFFF;\n",
              "    }\n",
              "  </style>\n",
              "\n",
              "      <script>\n",
              "        const buttonEl =\n",
              "          document.querySelector('#df-9b64f6c7-f17f-449c-8e20-3e88311d125c button.colab-df-convert');\n",
              "        buttonEl.style.display =\n",
              "          google.colab.kernel.accessAllowed ? 'block' : 'none';\n",
              "\n",
              "        async function convertToInteractive(key) {\n",
              "          const element = document.querySelector('#df-9b64f6c7-f17f-449c-8e20-3e88311d125c');\n",
              "          const dataTable =\n",
              "            await google.colab.kernel.invokeFunction('convertToInteractive',\n",
              "                                                     [key], {});\n",
              "          if (!dataTable) return;\n",
              "\n",
              "          const docLinkHtml = 'Like what you see? Visit the ' +\n",
              "            '<a target=\"_blank\" href=https://colab.research.google.com/notebooks/data_table.ipynb>data table notebook</a>'\n",
              "            + ' to learn more about interactive tables.';\n",
              "          element.innerHTML = '';\n",
              "          dataTable['output_type'] = 'display_data';\n",
              "          await google.colab.output.renderOutput(dataTable, element);\n",
              "          const docLink = document.createElement('div');\n",
              "          docLink.innerHTML = docLinkHtml;\n",
              "          element.appendChild(docLink);\n",
              "        }\n",
              "      </script>\n",
              "    </div>\n",
              "  </div>\n",
              "  "
            ]
          },
          "metadata": {},
          "execution_count": 65
        }
      ],
      "source": [
        "models_df = models_df.append(pd.Series(['Convolutional RFC', accuracy, f1score], index=models_df.columns), ignore_index=True)\n",
        "models_df = models_df.sort_values('Test_Accuracy', ascending=False)\n",
        "models_df"
      ]
    },
    {
      "cell_type": "code",
      "execution_count": null,
      "metadata": {
        "id": "XkluMtrC4aFJ",
        "colab": {
          "base_uri": "https://localhost:8080/",
          "height": 17
        },
        "outputId": "4e686323-caa1-4a45-c96e-3ecf01d52cbc"
      },
      "outputs": [
        {
          "output_type": "display_data",
          "data": {
            "text/plain": [
              "<IPython.core.display.Javascript object>"
            ],
            "application/javascript": [
              "\n",
              "    async function download(id, filename, size) {\n",
              "      if (!google.colab.kernel.accessAllowed) {\n",
              "        return;\n",
              "      }\n",
              "      const div = document.createElement('div');\n",
              "      const label = document.createElement('label');\n",
              "      label.textContent = `Downloading \"${filename}\": `;\n",
              "      div.appendChild(label);\n",
              "      const progress = document.createElement('progress');\n",
              "      progress.max = size;\n",
              "      div.appendChild(progress);\n",
              "      document.body.appendChild(div);\n",
              "\n",
              "      const buffers = [];\n",
              "      let downloaded = 0;\n",
              "\n",
              "      const channel = await google.colab.kernel.comms.open(id);\n",
              "      // Send a message to notify the kernel that we're ready.\n",
              "      channel.send({})\n",
              "\n",
              "      for await (const message of channel.messages) {\n",
              "        // Send a message to notify the kernel that we're ready.\n",
              "        channel.send({})\n",
              "        if (message.buffers) {\n",
              "          for (const buffer of message.buffers) {\n",
              "            buffers.push(buffer);\n",
              "            downloaded += buffer.byteLength;\n",
              "            progress.value = downloaded;\n",
              "          }\n",
              "        }\n",
              "      }\n",
              "      const blob = new Blob(buffers, {type: 'application/binary'});\n",
              "      const a = document.createElement('a');\n",
              "      a.href = window.URL.createObjectURL(blob);\n",
              "      a.download = filename;\n",
              "      div.appendChild(a);\n",
              "      a.click();\n",
              "      div.remove();\n",
              "    }\n",
              "  "
            ]
          },
          "metadata": {}
        },
        {
          "output_type": "display_data",
          "data": {
            "text/plain": [
              "<IPython.core.display.Javascript object>"
            ],
            "application/javascript": [
              "download(\"download_12beedd5-1bc2-4989-a92c-fb8c864a2a8f\", \"CNN_RFC_Model.pkl\", 12319371)"
            ]
          },
          "metadata": {}
        }
      ],
      "source": [
        "import pickle\n",
        "with open('CNN_RFC_Model.pkl', 'wb') as file:\n",
        "    pickle.dump(best_cnn_rfc, file)\n",
        "\n",
        "from google.colab import files\n",
        "files.download('CNN_RFC_Model.pkl')"
      ]
    },
    {
      "cell_type": "markdown",
      "metadata": {
        "id": "Z265kEzN1OLh"
      },
      "source": [
        "### Convolutional XGB\n",
        "\n",
        "A hybrid machine learning algorithm that combines Convolutional Neural Networks (CNNs) for feature extraction with Extreme Gradient Boosting (XGB) for classification, making it a powerful approach for classification tasks, especially in image recognition.​ It can handle high-dimensional data. Also, it has high accuracy on complex classification tasks, and it learns from the errors of previous models.​ But like all the CNN hybrid models, they come at a high computational cost and has the need for large amounts of labeled data to train accurately. They are also prone to overfitting if the training data is not diverse enough.​ "
      ]
    },
    {
      "cell_type": "code",
      "execution_count": null,
      "metadata": {
        "id": "8EbVZQIu1R3m",
        "colab": {
          "base_uri": "https://localhost:8080/"
        },
        "outputId": "bd55d16d-5adb-44b3-fd74-1af8c95262ad"
      },
      "outputs": [
        {
          "output_type": "stream",
          "name": "stdout",
          "text": [
            "Fitting 5 folds for each of 12 candidates, totalling 60 fits\n",
            "[CV] END ...learning_rate=0.1, max_depth=5, n_estimators=100; total time=   1.4s\n",
            "[CV] END ...learning_rate=0.1, max_depth=5, n_estimators=100; total time=   1.4s\n",
            "[CV] END ...learning_rate=0.1, max_depth=5, n_estimators=100; total time=   1.0s\n",
            "[CV] END ...learning_rate=0.1, max_depth=5, n_estimators=100; total time=   1.0s\n",
            "[CV] END ...learning_rate=0.1, max_depth=5, n_estimators=100; total time=   0.9s\n",
            "[CV] END ...learning_rate=0.1, max_depth=5, n_estimators=200; total time=   1.7s\n",
            "[CV] END ...learning_rate=0.1, max_depth=5, n_estimators=200; total time=   1.7s\n",
            "[CV] END ...learning_rate=0.1, max_depth=5, n_estimators=200; total time=   1.9s\n",
            "[CV] END ...learning_rate=0.1, max_depth=5, n_estimators=200; total time=   1.9s\n",
            "[CV] END ...learning_rate=0.1, max_depth=5, n_estimators=200; total time=   1.7s\n",
            "[CV] END ..learning_rate=0.1, max_depth=10, n_estimators=100; total time=   3.6s\n",
            "[CV] END ..learning_rate=0.1, max_depth=10, n_estimators=100; total time=   3.6s\n",
            "[CV] END ..learning_rate=0.1, max_depth=10, n_estimators=100; total time=   3.8s\n",
            "[CV] END ..learning_rate=0.1, max_depth=10, n_estimators=100; total time=   3.5s\n",
            "[CV] END ..learning_rate=0.1, max_depth=10, n_estimators=100; total time=   3.4s\n",
            "[CV] END ..learning_rate=0.1, max_depth=10, n_estimators=200; total time=   6.0s\n",
            "[CV] END ..learning_rate=0.1, max_depth=10, n_estimators=200; total time=   5.8s\n",
            "[CV] END ..learning_rate=0.1, max_depth=10, n_estimators=200; total time=   5.9s\n",
            "[CV] END ..learning_rate=0.1, max_depth=10, n_estimators=200; total time=   5.8s\n",
            "[CV] END ..learning_rate=0.1, max_depth=10, n_estimators=200; total time=   5.8s\n",
            "[CV] END ..learning_rate=0.01, max_depth=5, n_estimators=100; total time=   1.0s\n",
            "[CV] END ..learning_rate=0.01, max_depth=5, n_estimators=100; total time=   1.0s\n",
            "[CV] END ..learning_rate=0.01, max_depth=5, n_estimators=100; total time=   1.0s\n",
            "[CV] END ..learning_rate=0.01, max_depth=5, n_estimators=100; total time=   1.0s\n",
            "[CV] END ..learning_rate=0.01, max_depth=5, n_estimators=100; total time=   1.0s\n",
            "[CV] END ..learning_rate=0.01, max_depth=5, n_estimators=200; total time=   1.8s\n",
            "[CV] END ..learning_rate=0.01, max_depth=5, n_estimators=200; total time=   1.9s\n",
            "[CV] END ..learning_rate=0.01, max_depth=5, n_estimators=200; total time=   2.2s\n",
            "[CV] END ..learning_rate=0.01, max_depth=5, n_estimators=200; total time=   1.9s\n",
            "[CV] END ..learning_rate=0.01, max_depth=5, n_estimators=200; total time=   1.8s\n",
            "[CV] END .learning_rate=0.01, max_depth=10, n_estimators=100; total time=   5.5s\n",
            "[CV] END .learning_rate=0.01, max_depth=10, n_estimators=100; total time=   5.6s\n",
            "[CV] END .learning_rate=0.01, max_depth=10, n_estimators=100; total time=   5.4s\n",
            "[CV] END .learning_rate=0.01, max_depth=10, n_estimators=100; total time=   5.6s\n",
            "[CV] END .learning_rate=0.01, max_depth=10, n_estimators=100; total time=   5.3s\n",
            "[CV] END .learning_rate=0.01, max_depth=10, n_estimators=200; total time=  10.9s\n",
            "[CV] END .learning_rate=0.01, max_depth=10, n_estimators=200; total time=  11.0s\n",
            "[CV] END .learning_rate=0.01, max_depth=10, n_estimators=200; total time=  10.8s\n",
            "[CV] END .learning_rate=0.01, max_depth=10, n_estimators=200; total time=  11.3s\n",
            "[CV] END .learning_rate=0.01, max_depth=10, n_estimators=200; total time=  10.6s\n",
            "[CV] END .learning_rate=0.001, max_depth=5, n_estimators=100; total time=   1.0s\n",
            "[CV] END .learning_rate=0.001, max_depth=5, n_estimators=100; total time=   1.0s\n",
            "[CV] END .learning_rate=0.001, max_depth=5, n_estimators=100; total time=   1.0s\n",
            "[CV] END .learning_rate=0.001, max_depth=5, n_estimators=100; total time=   1.0s\n",
            "[CV] END .learning_rate=0.001, max_depth=5, n_estimators=100; total time=   1.0s\n",
            "[CV] END .learning_rate=0.001, max_depth=5, n_estimators=200; total time=   1.8s\n",
            "[CV] END .learning_rate=0.001, max_depth=5, n_estimators=200; total time=   1.9s\n",
            "[CV] END .learning_rate=0.001, max_depth=5, n_estimators=200; total time=   2.2s\n",
            "[CV] END .learning_rate=0.001, max_depth=5, n_estimators=200; total time=   1.8s\n",
            "[CV] END .learning_rate=0.001, max_depth=5, n_estimators=200; total time=   1.8s\n",
            "[CV] END learning_rate=0.001, max_depth=10, n_estimators=100; total time=   5.6s\n",
            "[CV] END learning_rate=0.001, max_depth=10, n_estimators=100; total time=   5.4s\n",
            "[CV] END learning_rate=0.001, max_depth=10, n_estimators=100; total time=   5.3s\n",
            "[CV] END learning_rate=0.001, max_depth=10, n_estimators=100; total time=   5.5s\n",
            "[CV] END learning_rate=0.001, max_depth=10, n_estimators=100; total time=   5.2s\n",
            "[CV] END learning_rate=0.001, max_depth=10, n_estimators=200; total time=  11.0s\n",
            "[CV] END learning_rate=0.001, max_depth=10, n_estimators=200; total time=  10.3s\n",
            "[CV] END learning_rate=0.001, max_depth=10, n_estimators=200; total time=  10.4s\n",
            "[CV] END learning_rate=0.001, max_depth=10, n_estimators=200; total time=  10.7s\n",
            "[CV] END learning_rate=0.001, max_depth=10, n_estimators=200; total time=  10.4s\n",
            "Best Hyperparameters:  {'learning_rate': 0.1, 'max_depth': 5, 'n_estimators': 200}\n",
            "Best Accuracy:  0.862952622555375\n"
          ]
        }
      ],
      "source": [
        "params = {'n_estimators': [100, 200],\n",
        "          'max_depth': [5, 10],\n",
        "          'learning_rate': [0.1, 0.01, 0.001]}\n",
        "\n",
        "xgb = XGBClassifier(random_state=2019, tree_method = 'gpu_hist')\n",
        "\n",
        "grid_search = GridSearchCV(estimator = xgb, \n",
        "                           param_grid = params, \n",
        "                           cv=5,\n",
        "                           scoring = 'accuracy',\n",
        "                           verbose = 2)\n",
        "\n",
        "grid_search.fit(train_file, y_train)\n",
        "\n",
        "print(\"Best Hyperparameters: \", grid_search.best_params_)\n",
        "print(\"Best Accuracy: \", grid_search.best_score_)"
      ]
    },
    {
      "cell_type": "code",
      "execution_count": null,
      "metadata": {
        "id": "V2TDFEXGsDqV"
      },
      "outputs": [],
      "source": [
        "best_cnn_xgb = grid_search.best_estimator_"
      ]
    },
    {
      "cell_type": "code",
      "execution_count": null,
      "metadata": {
        "id": "9V1MMEK64r0M",
        "colab": {
          "base_uri": "https://localhost:8080/"
        },
        "outputId": "88ffecdd-d6b8-471e-f127-afb06921239d"
      },
      "outputs": [
        {
          "output_type": "stream",
          "name": "stdout",
          "text": [
            "Accuracy on Testing Set:  0.8130841121495327\n"
          ]
        }
      ],
      "source": [
        "y_pred = best_cnn_xgb.predict(test_file)\n",
        "accuracy = accuracy_score(y_test, y_pred)\n",
        "print(\"Accuracy on Testing Set: \", accuracy)"
      ]
    },
    {
      "cell_type": "code",
      "execution_count": null,
      "metadata": {
        "id": "P0s50ImSsEWz",
        "colab": {
          "base_uri": "https://localhost:8080/"
        },
        "outputId": "cfb6e6f2-64b6-4160-b3c6-113a9789b3f2"
      },
      "outputs": [
        {
          "output_type": "stream",
          "name": "stdout",
          "text": [
            "F1 Score on Testing Set:  0.8127702385601543\n"
          ]
        }
      ],
      "source": [
        "f1score = f1_score(y_test, y_pred, average='weighted')\n",
        "print(\"F1 Score on Testing Set: \", f1score)"
      ]
    },
    {
      "cell_type": "code",
      "execution_count": null,
      "metadata": {
        "id": "Bn8qeQXa5AvA",
        "colab": {
          "base_uri": "https://localhost:8080/",
          "height": 394
        },
        "outputId": "6314e8ac-c92d-43b1-cd55-e4eb998a0b6c"
      },
      "outputs": [
        {
          "output_type": "execute_result",
          "data": {
            "text/plain": [
              "                Model  Test_Accuracy  F1_Score\n",
              "0                 XGB       0.826619  0.818637\n",
              "1                 SVM       0.822430  0.819557\n",
              "10  Convolutional XGB       0.813084  0.812770\n",
              "2   Convolutional RFC       0.812762  0.812559\n",
              "3   Convolutional KNN       0.812117  0.811638\n",
              "4   Convolutional SVM       0.807928  0.807761\n",
              "5                 CNN       0.792459  0.788760\n",
              "6                 RFC       0.783113  0.762004\n",
              "7                 KNN       0.768611  0.753757\n",
              "8   Convolutional GNB       0.757332  0.768064\n",
              "9                 GNB       0.533677  0.552730"
            ],
            "text/html": [
              "\n",
              "  <div id=\"df-70960d7f-4597-4b42-85b9-c5492355a725\">\n",
              "    <div class=\"colab-df-container\">\n",
              "      <div>\n",
              "<style scoped>\n",
              "    .dataframe tbody tr th:only-of-type {\n",
              "        vertical-align: middle;\n",
              "    }\n",
              "\n",
              "    .dataframe tbody tr th {\n",
              "        vertical-align: top;\n",
              "    }\n",
              "\n",
              "    .dataframe thead th {\n",
              "        text-align: right;\n",
              "    }\n",
              "</style>\n",
              "<table border=\"1\" class=\"dataframe\">\n",
              "  <thead>\n",
              "    <tr style=\"text-align: right;\">\n",
              "      <th></th>\n",
              "      <th>Model</th>\n",
              "      <th>Test_Accuracy</th>\n",
              "      <th>F1_Score</th>\n",
              "    </tr>\n",
              "  </thead>\n",
              "  <tbody>\n",
              "    <tr>\n",
              "      <th>0</th>\n",
              "      <td>XGB</td>\n",
              "      <td>0.826619</td>\n",
              "      <td>0.818637</td>\n",
              "    </tr>\n",
              "    <tr>\n",
              "      <th>1</th>\n",
              "      <td>SVM</td>\n",
              "      <td>0.822430</td>\n",
              "      <td>0.819557</td>\n",
              "    </tr>\n",
              "    <tr>\n",
              "      <th>10</th>\n",
              "      <td>Convolutional XGB</td>\n",
              "      <td>0.813084</td>\n",
              "      <td>0.812770</td>\n",
              "    </tr>\n",
              "    <tr>\n",
              "      <th>2</th>\n",
              "      <td>Convolutional RFC</td>\n",
              "      <td>0.812762</td>\n",
              "      <td>0.812559</td>\n",
              "    </tr>\n",
              "    <tr>\n",
              "      <th>3</th>\n",
              "      <td>Convolutional KNN</td>\n",
              "      <td>0.812117</td>\n",
              "      <td>0.811638</td>\n",
              "    </tr>\n",
              "    <tr>\n",
              "      <th>4</th>\n",
              "      <td>Convolutional SVM</td>\n",
              "      <td>0.807928</td>\n",
              "      <td>0.807761</td>\n",
              "    </tr>\n",
              "    <tr>\n",
              "      <th>5</th>\n",
              "      <td>CNN</td>\n",
              "      <td>0.792459</td>\n",
              "      <td>0.788760</td>\n",
              "    </tr>\n",
              "    <tr>\n",
              "      <th>6</th>\n",
              "      <td>RFC</td>\n",
              "      <td>0.783113</td>\n",
              "      <td>0.762004</td>\n",
              "    </tr>\n",
              "    <tr>\n",
              "      <th>7</th>\n",
              "      <td>KNN</td>\n",
              "      <td>0.768611</td>\n",
              "      <td>0.753757</td>\n",
              "    </tr>\n",
              "    <tr>\n",
              "      <th>8</th>\n",
              "      <td>Convolutional GNB</td>\n",
              "      <td>0.757332</td>\n",
              "      <td>0.768064</td>\n",
              "    </tr>\n",
              "    <tr>\n",
              "      <th>9</th>\n",
              "      <td>GNB</td>\n",
              "      <td>0.533677</td>\n",
              "      <td>0.552730</td>\n",
              "    </tr>\n",
              "  </tbody>\n",
              "</table>\n",
              "</div>\n",
              "      <button class=\"colab-df-convert\" onclick=\"convertToInteractive('df-70960d7f-4597-4b42-85b9-c5492355a725')\"\n",
              "              title=\"Convert this dataframe to an interactive table.\"\n",
              "              style=\"display:none;\">\n",
              "        \n",
              "  <svg xmlns=\"http://www.w3.org/2000/svg\" height=\"24px\"viewBox=\"0 0 24 24\"\n",
              "       width=\"24px\">\n",
              "    <path d=\"M0 0h24v24H0V0z\" fill=\"none\"/>\n",
              "    <path d=\"M18.56 5.44l.94 2.06.94-2.06 2.06-.94-2.06-.94-.94-2.06-.94 2.06-2.06.94zm-11 1L8.5 8.5l.94-2.06 2.06-.94-2.06-.94L8.5 2.5l-.94 2.06-2.06.94zm10 10l.94 2.06.94-2.06 2.06-.94-2.06-.94-.94-2.06-.94 2.06-2.06.94z\"/><path d=\"M17.41 7.96l-1.37-1.37c-.4-.4-.92-.59-1.43-.59-.52 0-1.04.2-1.43.59L10.3 9.45l-7.72 7.72c-.78.78-.78 2.05 0 2.83L4 21.41c.39.39.9.59 1.41.59.51 0 1.02-.2 1.41-.59l7.78-7.78 2.81-2.81c.8-.78.8-2.07 0-2.86zM5.41 20L4 18.59l7.72-7.72 1.47 1.35L5.41 20z\"/>\n",
              "  </svg>\n",
              "      </button>\n",
              "      \n",
              "  <style>\n",
              "    .colab-df-container {\n",
              "      display:flex;\n",
              "      flex-wrap:wrap;\n",
              "      gap: 12px;\n",
              "    }\n",
              "\n",
              "    .colab-df-convert {\n",
              "      background-color: #E8F0FE;\n",
              "      border: none;\n",
              "      border-radius: 50%;\n",
              "      cursor: pointer;\n",
              "      display: none;\n",
              "      fill: #1967D2;\n",
              "      height: 32px;\n",
              "      padding: 0 0 0 0;\n",
              "      width: 32px;\n",
              "    }\n",
              "\n",
              "    .colab-df-convert:hover {\n",
              "      background-color: #E2EBFA;\n",
              "      box-shadow: 0px 1px 2px rgba(60, 64, 67, 0.3), 0px 1px 3px 1px rgba(60, 64, 67, 0.15);\n",
              "      fill: #174EA6;\n",
              "    }\n",
              "\n",
              "    [theme=dark] .colab-df-convert {\n",
              "      background-color: #3B4455;\n",
              "      fill: #D2E3FC;\n",
              "    }\n",
              "\n",
              "    [theme=dark] .colab-df-convert:hover {\n",
              "      background-color: #434B5C;\n",
              "      box-shadow: 0px 1px 3px 1px rgba(0, 0, 0, 0.15);\n",
              "      filter: drop-shadow(0px 1px 2px rgba(0, 0, 0, 0.3));\n",
              "      fill: #FFFFFF;\n",
              "    }\n",
              "  </style>\n",
              "\n",
              "      <script>\n",
              "        const buttonEl =\n",
              "          document.querySelector('#df-70960d7f-4597-4b42-85b9-c5492355a725 button.colab-df-convert');\n",
              "        buttonEl.style.display =\n",
              "          google.colab.kernel.accessAllowed ? 'block' : 'none';\n",
              "\n",
              "        async function convertToInteractive(key) {\n",
              "          const element = document.querySelector('#df-70960d7f-4597-4b42-85b9-c5492355a725');\n",
              "          const dataTable =\n",
              "            await google.colab.kernel.invokeFunction('convertToInteractive',\n",
              "                                                     [key], {});\n",
              "          if (!dataTable) return;\n",
              "\n",
              "          const docLinkHtml = 'Like what you see? Visit the ' +\n",
              "            '<a target=\"_blank\" href=https://colab.research.google.com/notebooks/data_table.ipynb>data table notebook</a>'\n",
              "            + ' to learn more about interactive tables.';\n",
              "          element.innerHTML = '';\n",
              "          dataTable['output_type'] = 'display_data';\n",
              "          await google.colab.output.renderOutput(dataTable, element);\n",
              "          const docLink = document.createElement('div');\n",
              "          docLink.innerHTML = docLinkHtml;\n",
              "          element.appendChild(docLink);\n",
              "        }\n",
              "      </script>\n",
              "    </div>\n",
              "  </div>\n",
              "  "
            ]
          },
          "metadata": {},
          "execution_count": 71
        }
      ],
      "source": [
        "models_df = models_df.append(pd.Series(['Convolutional XGB', accuracy, f1score], index=models_df.columns), ignore_index=True)\n",
        "models_df = models_df.sort_values('Test_Accuracy', ascending=False)\n",
        "models_df"
      ]
    },
    {
      "cell_type": "code",
      "execution_count": null,
      "metadata": {
        "id": "wbcIsOQo45mi",
        "colab": {
          "base_uri": "https://localhost:8080/",
          "height": 17
        },
        "outputId": "24255a1a-77e7-4bc4-b961-cd1410f7be19"
      },
      "outputs": [
        {
          "output_type": "display_data",
          "data": {
            "text/plain": [
              "<IPython.core.display.Javascript object>"
            ],
            "application/javascript": [
              "\n",
              "    async function download(id, filename, size) {\n",
              "      if (!google.colab.kernel.accessAllowed) {\n",
              "        return;\n",
              "      }\n",
              "      const div = document.createElement('div');\n",
              "      const label = document.createElement('label');\n",
              "      label.textContent = `Downloading \"${filename}\": `;\n",
              "      div.appendChild(label);\n",
              "      const progress = document.createElement('progress');\n",
              "      progress.max = size;\n",
              "      div.appendChild(progress);\n",
              "      document.body.appendChild(div);\n",
              "\n",
              "      const buffers = [];\n",
              "      let downloaded = 0;\n",
              "\n",
              "      const channel = await google.colab.kernel.comms.open(id);\n",
              "      // Send a message to notify the kernel that we're ready.\n",
              "      channel.send({})\n",
              "\n",
              "      for await (const message of channel.messages) {\n",
              "        // Send a message to notify the kernel that we're ready.\n",
              "        channel.send({})\n",
              "        if (message.buffers) {\n",
              "          for (const buffer of message.buffers) {\n",
              "            buffers.push(buffer);\n",
              "            downloaded += buffer.byteLength;\n",
              "            progress.value = downloaded;\n",
              "          }\n",
              "        }\n",
              "      }\n",
              "      const blob = new Blob(buffers, {type: 'application/binary'});\n",
              "      const a = document.createElement('a');\n",
              "      a.href = window.URL.createObjectURL(blob);\n",
              "      a.download = filename;\n",
              "      div.appendChild(a);\n",
              "      a.click();\n",
              "      div.remove();\n",
              "    }\n",
              "  "
            ]
          },
          "metadata": {}
        },
        {
          "output_type": "display_data",
          "data": {
            "text/plain": [
              "<IPython.core.display.Javascript object>"
            ],
            "application/javascript": [
              "download(\"download_3f0c4367-8c1b-4989-9758-6e86fc168d7c\", \"CNN_XGB_Model.pkl\", 1395157)"
            ]
          },
          "metadata": {}
        }
      ],
      "source": [
        "import pickle\n",
        "with open('CNN_XGB_Model.pkl', 'wb') as file:\n",
        "    pickle.dump(best_cnn_xgb, file)\n",
        "\n",
        "from google.colab import files\n",
        "files.download('CNN_XGB_Model.pkl')"
      ]
    },
    {
      "cell_type": "markdown",
      "metadata": {
        "id": "5Bqh1OFk81oY"
      },
      "source": [
        "# **4. Model Comparison** <a class=\"anchor\" id=\"third-bullet\"></a>"
      ]
    },
    {
      "cell_type": "code",
      "execution_count": null,
      "metadata": {
        "id": "21DuCHgb8dQv",
        "colab": {
          "base_uri": "https://localhost:8080/",
          "height": 17
        },
        "outputId": "4756754f-8b80-4cc0-8ece-f9096177a4d9"
      },
      "outputs": [
        {
          "output_type": "display_data",
          "data": {
            "text/plain": [
              "<IPython.core.display.Javascript object>"
            ],
            "application/javascript": [
              "\n",
              "    async function download(id, filename, size) {\n",
              "      if (!google.colab.kernel.accessAllowed) {\n",
              "        return;\n",
              "      }\n",
              "      const div = document.createElement('div');\n",
              "      const label = document.createElement('label');\n",
              "      label.textContent = `Downloading \"${filename}\": `;\n",
              "      div.appendChild(label);\n",
              "      const progress = document.createElement('progress');\n",
              "      progress.max = size;\n",
              "      div.appendChild(progress);\n",
              "      document.body.appendChild(div);\n",
              "\n",
              "      const buffers = [];\n",
              "      let downloaded = 0;\n",
              "\n",
              "      const channel = await google.colab.kernel.comms.open(id);\n",
              "      // Send a message to notify the kernel that we're ready.\n",
              "      channel.send({})\n",
              "\n",
              "      for await (const message of channel.messages) {\n",
              "        // Send a message to notify the kernel that we're ready.\n",
              "        channel.send({})\n",
              "        if (message.buffers) {\n",
              "          for (const buffer of message.buffers) {\n",
              "            buffers.push(buffer);\n",
              "            downloaded += buffer.byteLength;\n",
              "            progress.value = downloaded;\n",
              "          }\n",
              "        }\n",
              "      }\n",
              "      const blob = new Blob(buffers, {type: 'application/binary'});\n",
              "      const a = document.createElement('a');\n",
              "      a.href = window.URL.createObjectURL(blob);\n",
              "      a.download = filename;\n",
              "      div.appendChild(a);\n",
              "      a.click();\n",
              "      div.remove();\n",
              "    }\n",
              "  "
            ]
          },
          "metadata": {}
        },
        {
          "output_type": "display_data",
          "data": {
            "text/plain": [
              "<IPython.core.display.Javascript object>"
            ],
            "application/javascript": [
              "download(\"download_9bdf9053-43d5-4f0a-8481-a8067b19c2a7\", \"Classifiers.csv\", 478)"
            ]
          },
          "metadata": {}
        }
      ],
      "source": [
        "models_df.to_csv('Classifiers.csv', index = False)\n",
        "files.download('Classifiers.csv')"
      ]
    },
    {
      "cell_type": "code",
      "execution_count": null,
      "metadata": {
        "id": "6bUCcYeb8rVM",
        "colab": {
          "base_uri": "https://localhost:8080/",
          "height": 542
        },
        "outputId": "be9324a5-89ed-4db8-ae8b-7754f9861b97"
      },
      "outputs": [
        {
          "output_type": "display_data",
          "data": {
            "text/html": [
              "<html>\n",
              "<head><meta charset=\"utf-8\" /></head>\n",
              "<body>\n",
              "    <div>            <script src=\"https://cdnjs.cloudflare.com/ajax/libs/mathjax/2.7.5/MathJax.js?config=TeX-AMS-MML_SVG\"></script><script type=\"text/javascript\">if (window.MathJax && window.MathJax.Hub && window.MathJax.Hub.Config) {window.MathJax.Hub.Config({SVG: {font: \"STIX-Web\"}});}</script>                <script type=\"text/javascript\">window.PlotlyConfig = {MathJaxConfig: 'local'};</script>\n",
              "        <script src=\"https://cdn.plot.ly/plotly-2.18.2.min.js\"></script>                <div id=\"874fb55a-8142-47e0-9e0f-9db356f7c174\" class=\"plotly-graph-div\" style=\"height:525px; width:100%;\"></div>            <script type=\"text/javascript\">                                    window.PLOTLYENV=window.PLOTLYENV || {};                                    if (document.getElementById(\"874fb55a-8142-47e0-9e0f-9db356f7c174\")) {                    Plotly.newPlot(                        \"874fb55a-8142-47e0-9e0f-9db356f7c174\",                        [{\"alignmentgroup\":\"True\",\"hovertemplate\":\"Classification Model=%{x}<br>Test Accuracy Score=%{y}<extra></extra>\",\"legendgroup\":\"\",\"marker\":{\"color\":\"#1F77B4\",\"pattern\":{\"shape\":\"\"}},\"name\":\"\",\"offsetgroup\":\"\",\"orientation\":\"v\",\"showlegend\":false,\"textposition\":\"auto\",\"x\":[\"XGB\",\"SVM\",\"Convolutional XGB\",\"Convolutional RFC\",\"Convolutional KNN\",\"Convolutional SVM\",\"CNN\",\"RFC\",\"KNN\",\"Convolutional GNB\",\"GNB\"],\"xaxis\":\"x\",\"y\":[0.8266194005800838,0.82243,0.8130841121495327,0.8127618433773768,0.8121173058330647,0.807927811795037,0.7924589107315501,0.783113,0.768611,0.7573316145665485,0.533677],\"yaxis\":\"y\",\"type\":\"bar\"}],                        {\"template\":{\"data\":{\"barpolar\":[{\"marker\":{\"line\":{\"color\":\"white\",\"width\":0.5},\"pattern\":{\"fillmode\":\"overlay\",\"size\":10,\"solidity\":0.2}},\"type\":\"barpolar\"}],\"bar\":[{\"error_x\":{\"color\":\"rgb(36,36,36)\"},\"error_y\":{\"color\":\"rgb(36,36,36)\"},\"marker\":{\"line\":{\"color\":\"white\",\"width\":0.5},\"pattern\":{\"fillmode\":\"overlay\",\"size\":10,\"solidity\":0.2}},\"type\":\"bar\"}],\"carpet\":[{\"aaxis\":{\"endlinecolor\":\"rgb(36,36,36)\",\"gridcolor\":\"white\",\"linecolor\":\"white\",\"minorgridcolor\":\"white\",\"startlinecolor\":\"rgb(36,36,36)\"},\"baxis\":{\"endlinecolor\":\"rgb(36,36,36)\",\"gridcolor\":\"white\",\"linecolor\":\"white\",\"minorgridcolor\":\"white\",\"startlinecolor\":\"rgb(36,36,36)\"},\"type\":\"carpet\"}],\"choropleth\":[{\"colorbar\":{\"outlinewidth\":1,\"tickcolor\":\"rgb(36,36,36)\",\"ticks\":\"outside\"},\"type\":\"choropleth\"}],\"contourcarpet\":[{\"colorbar\":{\"outlinewidth\":1,\"tickcolor\":\"rgb(36,36,36)\",\"ticks\":\"outside\"},\"type\":\"contourcarpet\"}],\"contour\":[{\"colorbar\":{\"outlinewidth\":1,\"tickcolor\":\"rgb(36,36,36)\",\"ticks\":\"outside\"},\"colorscale\":[[0.0,\"#440154\"],[0.1111111111111111,\"#482878\"],[0.2222222222222222,\"#3e4989\"],[0.3333333333333333,\"#31688e\"],[0.4444444444444444,\"#26828e\"],[0.5555555555555556,\"#1f9e89\"],[0.6666666666666666,\"#35b779\"],[0.7777777777777778,\"#6ece58\"],[0.8888888888888888,\"#b5de2b\"],[1.0,\"#fde725\"]],\"type\":\"contour\"}],\"heatmapgl\":[{\"colorbar\":{\"outlinewidth\":1,\"tickcolor\":\"rgb(36,36,36)\",\"ticks\":\"outside\"},\"colorscale\":[[0.0,\"#440154\"],[0.1111111111111111,\"#482878\"],[0.2222222222222222,\"#3e4989\"],[0.3333333333333333,\"#31688e\"],[0.4444444444444444,\"#26828e\"],[0.5555555555555556,\"#1f9e89\"],[0.6666666666666666,\"#35b779\"],[0.7777777777777778,\"#6ece58\"],[0.8888888888888888,\"#b5de2b\"],[1.0,\"#fde725\"]],\"type\":\"heatmapgl\"}],\"heatmap\":[{\"colorbar\":{\"outlinewidth\":1,\"tickcolor\":\"rgb(36,36,36)\",\"ticks\":\"outside\"},\"colorscale\":[[0.0,\"#440154\"],[0.1111111111111111,\"#482878\"],[0.2222222222222222,\"#3e4989\"],[0.3333333333333333,\"#31688e\"],[0.4444444444444444,\"#26828e\"],[0.5555555555555556,\"#1f9e89\"],[0.6666666666666666,\"#35b779\"],[0.7777777777777778,\"#6ece58\"],[0.8888888888888888,\"#b5de2b\"],[1.0,\"#fde725\"]],\"type\":\"heatmap\"}],\"histogram2dcontour\":[{\"colorbar\":{\"outlinewidth\":1,\"tickcolor\":\"rgb(36,36,36)\",\"ticks\":\"outside\"},\"colorscale\":[[0.0,\"#440154\"],[0.1111111111111111,\"#482878\"],[0.2222222222222222,\"#3e4989\"],[0.3333333333333333,\"#31688e\"],[0.4444444444444444,\"#26828e\"],[0.5555555555555556,\"#1f9e89\"],[0.6666666666666666,\"#35b779\"],[0.7777777777777778,\"#6ece58\"],[0.8888888888888888,\"#b5de2b\"],[1.0,\"#fde725\"]],\"type\":\"histogram2dcontour\"}],\"histogram2d\":[{\"colorbar\":{\"outlinewidth\":1,\"tickcolor\":\"rgb(36,36,36)\",\"ticks\":\"outside\"},\"colorscale\":[[0.0,\"#440154\"],[0.1111111111111111,\"#482878\"],[0.2222222222222222,\"#3e4989\"],[0.3333333333333333,\"#31688e\"],[0.4444444444444444,\"#26828e\"],[0.5555555555555556,\"#1f9e89\"],[0.6666666666666666,\"#35b779\"],[0.7777777777777778,\"#6ece58\"],[0.8888888888888888,\"#b5de2b\"],[1.0,\"#fde725\"]],\"type\":\"histogram2d\"}],\"histogram\":[{\"marker\":{\"line\":{\"color\":\"white\",\"width\":0.6}},\"type\":\"histogram\"}],\"mesh3d\":[{\"colorbar\":{\"outlinewidth\":1,\"tickcolor\":\"rgb(36,36,36)\",\"ticks\":\"outside\"},\"type\":\"mesh3d\"}],\"parcoords\":[{\"line\":{\"colorbar\":{\"outlinewidth\":1,\"tickcolor\":\"rgb(36,36,36)\",\"ticks\":\"outside\"}},\"type\":\"parcoords\"}],\"pie\":[{\"automargin\":true,\"type\":\"pie\"}],\"scatter3d\":[{\"line\":{\"colorbar\":{\"outlinewidth\":1,\"tickcolor\":\"rgb(36,36,36)\",\"ticks\":\"outside\"}},\"marker\":{\"colorbar\":{\"outlinewidth\":1,\"tickcolor\":\"rgb(36,36,36)\",\"ticks\":\"outside\"}},\"type\":\"scatter3d\"}],\"scattercarpet\":[{\"marker\":{\"colorbar\":{\"outlinewidth\":1,\"tickcolor\":\"rgb(36,36,36)\",\"ticks\":\"outside\"}},\"type\":\"scattercarpet\"}],\"scattergeo\":[{\"marker\":{\"colorbar\":{\"outlinewidth\":1,\"tickcolor\":\"rgb(36,36,36)\",\"ticks\":\"outside\"}},\"type\":\"scattergeo\"}],\"scattergl\":[{\"marker\":{\"colorbar\":{\"outlinewidth\":1,\"tickcolor\":\"rgb(36,36,36)\",\"ticks\":\"outside\"}},\"type\":\"scattergl\"}],\"scattermapbox\":[{\"marker\":{\"colorbar\":{\"outlinewidth\":1,\"tickcolor\":\"rgb(36,36,36)\",\"ticks\":\"outside\"}},\"type\":\"scattermapbox\"}],\"scatterpolargl\":[{\"marker\":{\"colorbar\":{\"outlinewidth\":1,\"tickcolor\":\"rgb(36,36,36)\",\"ticks\":\"outside\"}},\"type\":\"scatterpolargl\"}],\"scatterpolar\":[{\"marker\":{\"colorbar\":{\"outlinewidth\":1,\"tickcolor\":\"rgb(36,36,36)\",\"ticks\":\"outside\"}},\"type\":\"scatterpolar\"}],\"scatter\":[{\"fillpattern\":{\"fillmode\":\"overlay\",\"size\":10,\"solidity\":0.2},\"type\":\"scatter\"}],\"scatterternary\":[{\"marker\":{\"colorbar\":{\"outlinewidth\":1,\"tickcolor\":\"rgb(36,36,36)\",\"ticks\":\"outside\"}},\"type\":\"scatterternary\"}],\"surface\":[{\"colorbar\":{\"outlinewidth\":1,\"tickcolor\":\"rgb(36,36,36)\",\"ticks\":\"outside\"},\"colorscale\":[[0.0,\"#440154\"],[0.1111111111111111,\"#482878\"],[0.2222222222222222,\"#3e4989\"],[0.3333333333333333,\"#31688e\"],[0.4444444444444444,\"#26828e\"],[0.5555555555555556,\"#1f9e89\"],[0.6666666666666666,\"#35b779\"],[0.7777777777777778,\"#6ece58\"],[0.8888888888888888,\"#b5de2b\"],[1.0,\"#fde725\"]],\"type\":\"surface\"}],\"table\":[{\"cells\":{\"fill\":{\"color\":\"rgb(237,237,237)\"},\"line\":{\"color\":\"white\"}},\"header\":{\"fill\":{\"color\":\"rgb(217,217,217)\"},\"line\":{\"color\":\"white\"}},\"type\":\"table\"}]},\"layout\":{\"annotationdefaults\":{\"arrowhead\":0,\"arrowwidth\":1},\"autotypenumbers\":\"strict\",\"coloraxis\":{\"colorbar\":{\"outlinewidth\":1,\"tickcolor\":\"rgb(36,36,36)\",\"ticks\":\"outside\"}},\"colorscale\":{\"diverging\":[[0.0,\"rgb(103,0,31)\"],[0.1,\"rgb(178,24,43)\"],[0.2,\"rgb(214,96,77)\"],[0.3,\"rgb(244,165,130)\"],[0.4,\"rgb(253,219,199)\"],[0.5,\"rgb(247,247,247)\"],[0.6,\"rgb(209,229,240)\"],[0.7,\"rgb(146,197,222)\"],[0.8,\"rgb(67,147,195)\"],[0.9,\"rgb(33,102,172)\"],[1.0,\"rgb(5,48,97)\"]],\"sequential\":[[0.0,\"#440154\"],[0.1111111111111111,\"#482878\"],[0.2222222222222222,\"#3e4989\"],[0.3333333333333333,\"#31688e\"],[0.4444444444444444,\"#26828e\"],[0.5555555555555556,\"#1f9e89\"],[0.6666666666666666,\"#35b779\"],[0.7777777777777778,\"#6ece58\"],[0.8888888888888888,\"#b5de2b\"],[1.0,\"#fde725\"]],\"sequentialminus\":[[0.0,\"#440154\"],[0.1111111111111111,\"#482878\"],[0.2222222222222222,\"#3e4989\"],[0.3333333333333333,\"#31688e\"],[0.4444444444444444,\"#26828e\"],[0.5555555555555556,\"#1f9e89\"],[0.6666666666666666,\"#35b779\"],[0.7777777777777778,\"#6ece58\"],[0.8888888888888888,\"#b5de2b\"],[1.0,\"#fde725\"]]},\"colorway\":[\"#1F77B4\",\"#FF7F0E\",\"#2CA02C\",\"#D62728\",\"#9467BD\",\"#8C564B\",\"#E377C2\",\"#7F7F7F\",\"#BCBD22\",\"#17BECF\"],\"font\":{\"color\":\"rgb(36,36,36)\"},\"geo\":{\"bgcolor\":\"white\",\"lakecolor\":\"white\",\"landcolor\":\"white\",\"showlakes\":true,\"showland\":true,\"subunitcolor\":\"white\"},\"hoverlabel\":{\"align\":\"left\"},\"hovermode\":\"closest\",\"mapbox\":{\"style\":\"light\"},\"paper_bgcolor\":\"white\",\"plot_bgcolor\":\"white\",\"polar\":{\"angularaxis\":{\"gridcolor\":\"rgb(232,232,232)\",\"linecolor\":\"rgb(36,36,36)\",\"showgrid\":false,\"showline\":true,\"ticks\":\"outside\"},\"bgcolor\":\"white\",\"radialaxis\":{\"gridcolor\":\"rgb(232,232,232)\",\"linecolor\":\"rgb(36,36,36)\",\"showgrid\":false,\"showline\":true,\"ticks\":\"outside\"}},\"scene\":{\"xaxis\":{\"backgroundcolor\":\"white\",\"gridcolor\":\"rgb(232,232,232)\",\"gridwidth\":2,\"linecolor\":\"rgb(36,36,36)\",\"showbackground\":true,\"showgrid\":false,\"showline\":true,\"ticks\":\"outside\",\"zeroline\":false,\"zerolinecolor\":\"rgb(36,36,36)\"},\"yaxis\":{\"backgroundcolor\":\"white\",\"gridcolor\":\"rgb(232,232,232)\",\"gridwidth\":2,\"linecolor\":\"rgb(36,36,36)\",\"showbackground\":true,\"showgrid\":false,\"showline\":true,\"ticks\":\"outside\",\"zeroline\":false,\"zerolinecolor\":\"rgb(36,36,36)\"},\"zaxis\":{\"backgroundcolor\":\"white\",\"gridcolor\":\"rgb(232,232,232)\",\"gridwidth\":2,\"linecolor\":\"rgb(36,36,36)\",\"showbackground\":true,\"showgrid\":false,\"showline\":true,\"ticks\":\"outside\",\"zeroline\":false,\"zerolinecolor\":\"rgb(36,36,36)\"}},\"shapedefaults\":{\"fillcolor\":\"black\",\"line\":{\"width\":0},\"opacity\":0.3},\"ternary\":{\"aaxis\":{\"gridcolor\":\"rgb(232,232,232)\",\"linecolor\":\"rgb(36,36,36)\",\"showgrid\":false,\"showline\":true,\"ticks\":\"outside\"},\"baxis\":{\"gridcolor\":\"rgb(232,232,232)\",\"linecolor\":\"rgb(36,36,36)\",\"showgrid\":false,\"showline\":true,\"ticks\":\"outside\"},\"bgcolor\":\"white\",\"caxis\":{\"gridcolor\":\"rgb(232,232,232)\",\"linecolor\":\"rgb(36,36,36)\",\"showgrid\":false,\"showline\":true,\"ticks\":\"outside\"}},\"title\":{\"x\":0.05},\"xaxis\":{\"automargin\":true,\"gridcolor\":\"rgb(232,232,232)\",\"linecolor\":\"rgb(36,36,36)\",\"showgrid\":false,\"showline\":true,\"ticks\":\"outside\",\"title\":{\"standoff\":15},\"zeroline\":false,\"zerolinecolor\":\"rgb(36,36,36)\"},\"yaxis\":{\"automargin\":true,\"gridcolor\":\"rgb(232,232,232)\",\"linecolor\":\"rgb(36,36,36)\",\"showgrid\":false,\"showline\":true,\"ticks\":\"outside\",\"title\":{\"standoff\":15},\"zeroline\":false,\"zerolinecolor\":\"rgb(36,36,36)\"}}},\"xaxis\":{\"anchor\":\"y\",\"domain\":[0.0,1.0],\"title\":{\"text\":\"Classification Model\"}},\"yaxis\":{\"anchor\":\"x\",\"domain\":[0.0,1.0],\"title\":{\"text\":\"Test Accuracy Score\"}},\"legend\":{\"tracegroupgap\":0},\"title\":{\"text\":\"Comparing Multiclass Classifiers<br><sup>Based on Accuracy Scores calculated on Test Dataset</sup>\"},\"barmode\":\"relative\"},                        {\"responsive\": true}                    ).then(function(){\n",
              "                            \n",
              "var gd = document.getElementById('874fb55a-8142-47e0-9e0f-9db356f7c174');\n",
              "var x = new MutationObserver(function (mutations, observer) {{\n",
              "        var display = window.getComputedStyle(gd).display;\n",
              "        if (!display || display === 'none') {{\n",
              "            console.log([gd, 'removed!']);\n",
              "            Plotly.purge(gd);\n",
              "            observer.disconnect();\n",
              "        }}\n",
              "}});\n",
              "\n",
              "// Listen for the removal of the full notebook cells\n",
              "var notebookContainer = gd.closest('#notebook-container');\n",
              "if (notebookContainer) {{\n",
              "    x.observe(notebookContainer, {childList: true});\n",
              "}}\n",
              "\n",
              "// Listen for the clearing of the current output cell\n",
              "var outputEl = gd.closest('.output');\n",
              "if (outputEl) {{\n",
              "    x.observe(outputEl, {childList: true});\n",
              "}}\n",
              "\n",
              "                        })                };                            </script>        </div>\n",
              "</body>\n",
              "</html>"
            ]
          },
          "metadata": {}
        }
      ],
      "source": [
        "import plotly.express as px\n",
        "\n",
        "fig = px.bar(models_df,\n",
        "             x = 'Model',\n",
        "             y = 'Test_Accuracy',\n",
        "             title = 'Comparing Multiclass Classifiers<br><sup>Based on Accuracy Scores calculated on Test Dataset</sup>',\n",
        "             template = 'simple_white',\n",
        "             labels = {'Model': 'Classification Model', 'Test_Accuracy': 'Test Accuracy Score'}\n",
        "             )\n",
        "fig.show()"
      ]
    },
    {
      "cell_type": "code",
      "execution_count": null,
      "metadata": {
        "id": "B4DDbCvLs1bF",
        "colab": {
          "base_uri": "https://localhost:8080/",
          "height": 542
        },
        "outputId": "2d9066fb-8892-473f-8b0a-f4f88b457700"
      },
      "outputs": [
        {
          "output_type": "display_data",
          "data": {
            "text/html": [
              "<html>\n",
              "<head><meta charset=\"utf-8\" /></head>\n",
              "<body>\n",
              "    <div>            <script src=\"https://cdnjs.cloudflare.com/ajax/libs/mathjax/2.7.5/MathJax.js?config=TeX-AMS-MML_SVG\"></script><script type=\"text/javascript\">if (window.MathJax && window.MathJax.Hub && window.MathJax.Hub.Config) {window.MathJax.Hub.Config({SVG: {font: \"STIX-Web\"}});}</script>                <script type=\"text/javascript\">window.PlotlyConfig = {MathJaxConfig: 'local'};</script>\n",
              "        <script src=\"https://cdn.plot.ly/plotly-2.18.2.min.js\"></script>                <div id=\"9e433dc9-8c91-48b6-857c-29496341b3ee\" class=\"plotly-graph-div\" style=\"height:525px; width:100%;\"></div>            <script type=\"text/javascript\">                                    window.PLOTLYENV=window.PLOTLYENV || {};                                    if (document.getElementById(\"9e433dc9-8c91-48b6-857c-29496341b3ee\")) {                    Plotly.newPlot(                        \"9e433dc9-8c91-48b6-857c-29496341b3ee\",                        [{\"alignmentgroup\":\"True\",\"hovertemplate\":\"Classification Model=%{x}<br>Test F1 Score=%{y}<extra></extra>\",\"legendgroup\":\"\",\"marker\":{\"color\":\"#1F77B4\",\"pattern\":{\"shape\":\"\"}},\"name\":\"\",\"offsetgroup\":\"\",\"orientation\":\"v\",\"showlegend\":false,\"textposition\":\"auto\",\"x\":[\"SVM\",\"XGB\",\"Convolutional XGB\",\"Convolutional RFC\",\"Convolutional KNN\",\"Convolutional SVM\",\"CNN\",\"Convolutional GNB\",\"RFC\",\"KNN\",\"GNB\"],\"xaxis\":\"x\",\"y\":[0.819557,0.8186371900028467,0.8127702385601543,0.8125587322155026,0.8116377621656146,0.8077611707926395,0.7887599315496701,0.7680640413987556,0.762004,0.753757,0.55273],\"yaxis\":\"y\",\"type\":\"bar\"}],                        {\"template\":{\"data\":{\"barpolar\":[{\"marker\":{\"line\":{\"color\":\"white\",\"width\":0.5},\"pattern\":{\"fillmode\":\"overlay\",\"size\":10,\"solidity\":0.2}},\"type\":\"barpolar\"}],\"bar\":[{\"error_x\":{\"color\":\"rgb(36,36,36)\"},\"error_y\":{\"color\":\"rgb(36,36,36)\"},\"marker\":{\"line\":{\"color\":\"white\",\"width\":0.5},\"pattern\":{\"fillmode\":\"overlay\",\"size\":10,\"solidity\":0.2}},\"type\":\"bar\"}],\"carpet\":[{\"aaxis\":{\"endlinecolor\":\"rgb(36,36,36)\",\"gridcolor\":\"white\",\"linecolor\":\"white\",\"minorgridcolor\":\"white\",\"startlinecolor\":\"rgb(36,36,36)\"},\"baxis\":{\"endlinecolor\":\"rgb(36,36,36)\",\"gridcolor\":\"white\",\"linecolor\":\"white\",\"minorgridcolor\":\"white\",\"startlinecolor\":\"rgb(36,36,36)\"},\"type\":\"carpet\"}],\"choropleth\":[{\"colorbar\":{\"outlinewidth\":1,\"tickcolor\":\"rgb(36,36,36)\",\"ticks\":\"outside\"},\"type\":\"choropleth\"}],\"contourcarpet\":[{\"colorbar\":{\"outlinewidth\":1,\"tickcolor\":\"rgb(36,36,36)\",\"ticks\":\"outside\"},\"type\":\"contourcarpet\"}],\"contour\":[{\"colorbar\":{\"outlinewidth\":1,\"tickcolor\":\"rgb(36,36,36)\",\"ticks\":\"outside\"},\"colorscale\":[[0.0,\"#440154\"],[0.1111111111111111,\"#482878\"],[0.2222222222222222,\"#3e4989\"],[0.3333333333333333,\"#31688e\"],[0.4444444444444444,\"#26828e\"],[0.5555555555555556,\"#1f9e89\"],[0.6666666666666666,\"#35b779\"],[0.7777777777777778,\"#6ece58\"],[0.8888888888888888,\"#b5de2b\"],[1.0,\"#fde725\"]],\"type\":\"contour\"}],\"heatmapgl\":[{\"colorbar\":{\"outlinewidth\":1,\"tickcolor\":\"rgb(36,36,36)\",\"ticks\":\"outside\"},\"colorscale\":[[0.0,\"#440154\"],[0.1111111111111111,\"#482878\"],[0.2222222222222222,\"#3e4989\"],[0.3333333333333333,\"#31688e\"],[0.4444444444444444,\"#26828e\"],[0.5555555555555556,\"#1f9e89\"],[0.6666666666666666,\"#35b779\"],[0.7777777777777778,\"#6ece58\"],[0.8888888888888888,\"#b5de2b\"],[1.0,\"#fde725\"]],\"type\":\"heatmapgl\"}],\"heatmap\":[{\"colorbar\":{\"outlinewidth\":1,\"tickcolor\":\"rgb(36,36,36)\",\"ticks\":\"outside\"},\"colorscale\":[[0.0,\"#440154\"],[0.1111111111111111,\"#482878\"],[0.2222222222222222,\"#3e4989\"],[0.3333333333333333,\"#31688e\"],[0.4444444444444444,\"#26828e\"],[0.5555555555555556,\"#1f9e89\"],[0.6666666666666666,\"#35b779\"],[0.7777777777777778,\"#6ece58\"],[0.8888888888888888,\"#b5de2b\"],[1.0,\"#fde725\"]],\"type\":\"heatmap\"}],\"histogram2dcontour\":[{\"colorbar\":{\"outlinewidth\":1,\"tickcolor\":\"rgb(36,36,36)\",\"ticks\":\"outside\"},\"colorscale\":[[0.0,\"#440154\"],[0.1111111111111111,\"#482878\"],[0.2222222222222222,\"#3e4989\"],[0.3333333333333333,\"#31688e\"],[0.4444444444444444,\"#26828e\"],[0.5555555555555556,\"#1f9e89\"],[0.6666666666666666,\"#35b779\"],[0.7777777777777778,\"#6ece58\"],[0.8888888888888888,\"#b5de2b\"],[1.0,\"#fde725\"]],\"type\":\"histogram2dcontour\"}],\"histogram2d\":[{\"colorbar\":{\"outlinewidth\":1,\"tickcolor\":\"rgb(36,36,36)\",\"ticks\":\"outside\"},\"colorscale\":[[0.0,\"#440154\"],[0.1111111111111111,\"#482878\"],[0.2222222222222222,\"#3e4989\"],[0.3333333333333333,\"#31688e\"],[0.4444444444444444,\"#26828e\"],[0.5555555555555556,\"#1f9e89\"],[0.6666666666666666,\"#35b779\"],[0.7777777777777778,\"#6ece58\"],[0.8888888888888888,\"#b5de2b\"],[1.0,\"#fde725\"]],\"type\":\"histogram2d\"}],\"histogram\":[{\"marker\":{\"line\":{\"color\":\"white\",\"width\":0.6}},\"type\":\"histogram\"}],\"mesh3d\":[{\"colorbar\":{\"outlinewidth\":1,\"tickcolor\":\"rgb(36,36,36)\",\"ticks\":\"outside\"},\"type\":\"mesh3d\"}],\"parcoords\":[{\"line\":{\"colorbar\":{\"outlinewidth\":1,\"tickcolor\":\"rgb(36,36,36)\",\"ticks\":\"outside\"}},\"type\":\"parcoords\"}],\"pie\":[{\"automargin\":true,\"type\":\"pie\"}],\"scatter3d\":[{\"line\":{\"colorbar\":{\"outlinewidth\":1,\"tickcolor\":\"rgb(36,36,36)\",\"ticks\":\"outside\"}},\"marker\":{\"colorbar\":{\"outlinewidth\":1,\"tickcolor\":\"rgb(36,36,36)\",\"ticks\":\"outside\"}},\"type\":\"scatter3d\"}],\"scattercarpet\":[{\"marker\":{\"colorbar\":{\"outlinewidth\":1,\"tickcolor\":\"rgb(36,36,36)\",\"ticks\":\"outside\"}},\"type\":\"scattercarpet\"}],\"scattergeo\":[{\"marker\":{\"colorbar\":{\"outlinewidth\":1,\"tickcolor\":\"rgb(36,36,36)\",\"ticks\":\"outside\"}},\"type\":\"scattergeo\"}],\"scattergl\":[{\"marker\":{\"colorbar\":{\"outlinewidth\":1,\"tickcolor\":\"rgb(36,36,36)\",\"ticks\":\"outside\"}},\"type\":\"scattergl\"}],\"scattermapbox\":[{\"marker\":{\"colorbar\":{\"outlinewidth\":1,\"tickcolor\":\"rgb(36,36,36)\",\"ticks\":\"outside\"}},\"type\":\"scattermapbox\"}],\"scatterpolargl\":[{\"marker\":{\"colorbar\":{\"outlinewidth\":1,\"tickcolor\":\"rgb(36,36,36)\",\"ticks\":\"outside\"}},\"type\":\"scatterpolargl\"}],\"scatterpolar\":[{\"marker\":{\"colorbar\":{\"outlinewidth\":1,\"tickcolor\":\"rgb(36,36,36)\",\"ticks\":\"outside\"}},\"type\":\"scatterpolar\"}],\"scatter\":[{\"fillpattern\":{\"fillmode\":\"overlay\",\"size\":10,\"solidity\":0.2},\"type\":\"scatter\"}],\"scatterternary\":[{\"marker\":{\"colorbar\":{\"outlinewidth\":1,\"tickcolor\":\"rgb(36,36,36)\",\"ticks\":\"outside\"}},\"type\":\"scatterternary\"}],\"surface\":[{\"colorbar\":{\"outlinewidth\":1,\"tickcolor\":\"rgb(36,36,36)\",\"ticks\":\"outside\"},\"colorscale\":[[0.0,\"#440154\"],[0.1111111111111111,\"#482878\"],[0.2222222222222222,\"#3e4989\"],[0.3333333333333333,\"#31688e\"],[0.4444444444444444,\"#26828e\"],[0.5555555555555556,\"#1f9e89\"],[0.6666666666666666,\"#35b779\"],[0.7777777777777778,\"#6ece58\"],[0.8888888888888888,\"#b5de2b\"],[1.0,\"#fde725\"]],\"type\":\"surface\"}],\"table\":[{\"cells\":{\"fill\":{\"color\":\"rgb(237,237,237)\"},\"line\":{\"color\":\"white\"}},\"header\":{\"fill\":{\"color\":\"rgb(217,217,217)\"},\"line\":{\"color\":\"white\"}},\"type\":\"table\"}]},\"layout\":{\"annotationdefaults\":{\"arrowhead\":0,\"arrowwidth\":1},\"autotypenumbers\":\"strict\",\"coloraxis\":{\"colorbar\":{\"outlinewidth\":1,\"tickcolor\":\"rgb(36,36,36)\",\"ticks\":\"outside\"}},\"colorscale\":{\"diverging\":[[0.0,\"rgb(103,0,31)\"],[0.1,\"rgb(178,24,43)\"],[0.2,\"rgb(214,96,77)\"],[0.3,\"rgb(244,165,130)\"],[0.4,\"rgb(253,219,199)\"],[0.5,\"rgb(247,247,247)\"],[0.6,\"rgb(209,229,240)\"],[0.7,\"rgb(146,197,222)\"],[0.8,\"rgb(67,147,195)\"],[0.9,\"rgb(33,102,172)\"],[1.0,\"rgb(5,48,97)\"]],\"sequential\":[[0.0,\"#440154\"],[0.1111111111111111,\"#482878\"],[0.2222222222222222,\"#3e4989\"],[0.3333333333333333,\"#31688e\"],[0.4444444444444444,\"#26828e\"],[0.5555555555555556,\"#1f9e89\"],[0.6666666666666666,\"#35b779\"],[0.7777777777777778,\"#6ece58\"],[0.8888888888888888,\"#b5de2b\"],[1.0,\"#fde725\"]],\"sequentialminus\":[[0.0,\"#440154\"],[0.1111111111111111,\"#482878\"],[0.2222222222222222,\"#3e4989\"],[0.3333333333333333,\"#31688e\"],[0.4444444444444444,\"#26828e\"],[0.5555555555555556,\"#1f9e89\"],[0.6666666666666666,\"#35b779\"],[0.7777777777777778,\"#6ece58\"],[0.8888888888888888,\"#b5de2b\"],[1.0,\"#fde725\"]]},\"colorway\":[\"#1F77B4\",\"#FF7F0E\",\"#2CA02C\",\"#D62728\",\"#9467BD\",\"#8C564B\",\"#E377C2\",\"#7F7F7F\",\"#BCBD22\",\"#17BECF\"],\"font\":{\"color\":\"rgb(36,36,36)\"},\"geo\":{\"bgcolor\":\"white\",\"lakecolor\":\"white\",\"landcolor\":\"white\",\"showlakes\":true,\"showland\":true,\"subunitcolor\":\"white\"},\"hoverlabel\":{\"align\":\"left\"},\"hovermode\":\"closest\",\"mapbox\":{\"style\":\"light\"},\"paper_bgcolor\":\"white\",\"plot_bgcolor\":\"white\",\"polar\":{\"angularaxis\":{\"gridcolor\":\"rgb(232,232,232)\",\"linecolor\":\"rgb(36,36,36)\",\"showgrid\":false,\"showline\":true,\"ticks\":\"outside\"},\"bgcolor\":\"white\",\"radialaxis\":{\"gridcolor\":\"rgb(232,232,232)\",\"linecolor\":\"rgb(36,36,36)\",\"showgrid\":false,\"showline\":true,\"ticks\":\"outside\"}},\"scene\":{\"xaxis\":{\"backgroundcolor\":\"white\",\"gridcolor\":\"rgb(232,232,232)\",\"gridwidth\":2,\"linecolor\":\"rgb(36,36,36)\",\"showbackground\":true,\"showgrid\":false,\"showline\":true,\"ticks\":\"outside\",\"zeroline\":false,\"zerolinecolor\":\"rgb(36,36,36)\"},\"yaxis\":{\"backgroundcolor\":\"white\",\"gridcolor\":\"rgb(232,232,232)\",\"gridwidth\":2,\"linecolor\":\"rgb(36,36,36)\",\"showbackground\":true,\"showgrid\":false,\"showline\":true,\"ticks\":\"outside\",\"zeroline\":false,\"zerolinecolor\":\"rgb(36,36,36)\"},\"zaxis\":{\"backgroundcolor\":\"white\",\"gridcolor\":\"rgb(232,232,232)\",\"gridwidth\":2,\"linecolor\":\"rgb(36,36,36)\",\"showbackground\":true,\"showgrid\":false,\"showline\":true,\"ticks\":\"outside\",\"zeroline\":false,\"zerolinecolor\":\"rgb(36,36,36)\"}},\"shapedefaults\":{\"fillcolor\":\"black\",\"line\":{\"width\":0},\"opacity\":0.3},\"ternary\":{\"aaxis\":{\"gridcolor\":\"rgb(232,232,232)\",\"linecolor\":\"rgb(36,36,36)\",\"showgrid\":false,\"showline\":true,\"ticks\":\"outside\"},\"baxis\":{\"gridcolor\":\"rgb(232,232,232)\",\"linecolor\":\"rgb(36,36,36)\",\"showgrid\":false,\"showline\":true,\"ticks\":\"outside\"},\"bgcolor\":\"white\",\"caxis\":{\"gridcolor\":\"rgb(232,232,232)\",\"linecolor\":\"rgb(36,36,36)\",\"showgrid\":false,\"showline\":true,\"ticks\":\"outside\"}},\"title\":{\"x\":0.05},\"xaxis\":{\"automargin\":true,\"gridcolor\":\"rgb(232,232,232)\",\"linecolor\":\"rgb(36,36,36)\",\"showgrid\":false,\"showline\":true,\"ticks\":\"outside\",\"title\":{\"standoff\":15},\"zeroline\":false,\"zerolinecolor\":\"rgb(36,36,36)\"},\"yaxis\":{\"automargin\":true,\"gridcolor\":\"rgb(232,232,232)\",\"linecolor\":\"rgb(36,36,36)\",\"showgrid\":false,\"showline\":true,\"ticks\":\"outside\",\"title\":{\"standoff\":15},\"zeroline\":false,\"zerolinecolor\":\"rgb(36,36,36)\"}}},\"xaxis\":{\"anchor\":\"y\",\"domain\":[0.0,1.0],\"title\":{\"text\":\"Classification Model\"}},\"yaxis\":{\"anchor\":\"x\",\"domain\":[0.0,1.0],\"title\":{\"text\":\"Test F1 Score\"}},\"legend\":{\"tracegroupgap\":0},\"title\":{\"text\":\"Comparing Multiclass Classifiers<br><sup>Based on F1 Scores calculated on Test Dataset</sup>\"},\"barmode\":\"relative\"},                        {\"responsive\": true}                    ).then(function(){\n",
              "                            \n",
              "var gd = document.getElementById('9e433dc9-8c91-48b6-857c-29496341b3ee');\n",
              "var x = new MutationObserver(function (mutations, observer) {{\n",
              "        var display = window.getComputedStyle(gd).display;\n",
              "        if (!display || display === 'none') {{\n",
              "            console.log([gd, 'removed!']);\n",
              "            Plotly.purge(gd);\n",
              "            observer.disconnect();\n",
              "        }}\n",
              "}});\n",
              "\n",
              "// Listen for the removal of the full notebook cells\n",
              "var notebookContainer = gd.closest('#notebook-container');\n",
              "if (notebookContainer) {{\n",
              "    x.observe(notebookContainer, {childList: true});\n",
              "}}\n",
              "\n",
              "// Listen for the clearing of the current output cell\n",
              "var outputEl = gd.closest('.output');\n",
              "if (outputEl) {{\n",
              "    x.observe(outputEl, {childList: true});\n",
              "}}\n",
              "\n",
              "                        })                };                            </script>        </div>\n",
              "</body>\n",
              "</html>"
            ]
          },
          "metadata": {}
        }
      ],
      "source": [
        "import plotly.express as px\n",
        "\n",
        "fig = px.bar(models_df.sort_values('F1_Score', ascending=False),\n",
        "             x = 'Model',\n",
        "             y = 'F1_Score',\n",
        "             title = 'Comparing Multiclass Classifiers<br><sup>Based on F1 Scores calculated on Test Dataset</sup>',\n",
        "             template = 'simple_white',\n",
        "             labels = {'Model': 'Classification Model', 'F1_Score': 'Test F1 Score'}\n",
        "             )\n",
        "fig.show()"
      ]
    },
    {
      "cell_type": "markdown",
      "source": [
        "As can be seen from the two visualizations, SVM performs better when comparing F1 scores, while XGB performs better when comparing accuracy. This leans towards SVM being the strongest model as F1 score is best for multiclass classifications."
      ],
      "metadata": {
        "id": "fKe2O3tVYbS8"
      }
    },
    {
      "cell_type": "markdown",
      "source": [
        "<p align=\"center\">\n",
        "  <img src=\"https://imagizer.imageshack.com/img922/3521/1OqQ1b.png\" alt=\"QRCode\">\n",
        "</p>"
      ],
      "metadata": {
        "id": "fuOSzgChSqdT"
      }
    },
    {
      "cell_type": "markdown",
      "source": [
        "Below is our model deployed onto a web application (best used on mobile). This we applcation will classify images of trash taken with your phone (or uploaded if using the desktop version)."
      ],
      "metadata": {
        "id": "f0RXrTAEUTcR"
      }
    },
    {
      "cell_type": "markdown",
      "source": [
        "<p align=\"center\">\n",
        "  <img src=\"https://imageshack.com/i/pnE2mVepp\" alt=\"QRCode\">\n",
        "</p>"
      ],
      "metadata": {
        "id": "81HTdAHAUMnQ"
      }
    },
    {
      "cell_type": "markdown",
      "source": [
        "# **5. Conclusion** <a class=\"anchor\" id=\"fourth-bullet\"></a>\n",
        "\n",
        "In conclusion, this project was a great learning experience, and putting the models together showed us the complexity involved in image classification. The answer to our first question is quite clear, the strongest results were produced by XG Boost and Support Vector Machines. These both showed promising results in terms of both test accuracy and F1 score. \n",
        "\n",
        "Our second question is a little more complex. Having a model that is worse than the average human at classifying would cause more harm than good. On average, 3-5% of waste is misclassified (Owens, Dickerson and Macintosh, 2000). Our model misclassifies about 20% of waste, indicating it would be more of a problem than a solution. This is something that should be addressed in the future, attempting to increase the accuracy of our model. However, this was a strong starting point, and has shown that the power of Machine Learning can be used to help solve the waste classification problem and make the world a better place. "
      ],
      "metadata": {
        "id": "dvETOjS4RuGy"
      }
    },
    {
      "cell_type": "markdown",
      "source": [
        "# **6. References** <a class=\"anchor\" id=\"fifth-bullet\"></a>\n",
        "\n",
        "* Breiman, L. (2001). Random forests. Machine learning, 45(1), 5-32. \n",
        "\n",
        "* Cha, S. H. (2007). Comprehensive survey on distance/similarity measures between probability density functions. International Journal of Mathematical Models and Methods in Applied Sciences, 1(4), 300-307. \n",
        "\n",
        "* Chen, T., & Guestrin, C. (2016). XGBoost: A Scalable Tree Boosting System. In Proceedings of the 22nd ACM SIGKDD International Conference on Knowledge Discovery and Data Mining (pp. 785-794). \n",
        "\n",
        "* Cortes, C., & Vapnik, V. (1995). Support-vector networks. Machine learning, 20(3), 273-297. \n",
        "\n",
        "* Cover, T., & Hart, P. (1967). Nearest neighbor pattern classification. IEEE Transactions on Information Theory, 13(1), 21-27. \n",
        "\n",
        "* Geurts, P., Ernst, D., & Wehenkel, L. (2006). Extremely randomized trees. Machine learning, 63(1), 3-42. \n",
        "\n",
        "* Hastie, T., Tibshirani, R., & Friedman, J. (2009). The Elements of Statistical Learning: Data Mining, Inference, and Prediction. Springer Science & Business Media. \n",
        "\n",
        "* Hechenbichler, K., & Schliep, K. P. (2004). Weighted k-Nearest-Neighbor Techniques and Ordinal Classification. Discussion Paper 399, SFB 386, Ludwig-Maximilians University Munich. \n",
        "\n",
        "* Hoornweg, D., Bhada-Tata, P., and Kennedy, C. (2015). Environment: Waste production must peak this century. Nature, 502(7473), 615–617. \n",
        "\n",
        "* Kaza, S., Yao, L., Bhada-Tata, P., and Van Woerden, F. (2018). What a Waste 2.0: A Global Snapshot of Solid Waste Management to 2050. World Bank. \n",
        "\n",
        "* Kulkarni, B. N., & Anantharama, V. (2020). Assessment of municipal solid waste management in Bangalore, India. Science of The Total Environment, 738, 139792. \n",
        "\n",
        "* Manning, C. D., & Schütze, H. (1999). Foundations of Statistical Natural Language Processing. MIT Press. \n",
        "\n",
        "* Nazeer, S., Batool, S. A., & Chaudhry, M. N. (2019). An assessment of the current municipal solid waste management system in Lahore, Pakistan. Journal of Material Cycles and Waste Management, 21(3), 647-658. \n",
        "\n",
        "* Mohamed, M. (2021) Garbage Classification, Kaggle. Mostafa Mohamed. Available at: https://www.kaggle.com/datasets/mostafaabla/garbage-classification?select=garbage_classification(Accessed: March 4, 2023). \n",
        "\n",
        "* Murphy, K. P. (2006). Naive Bayes classifiers. University of British Columbia, 18(4), 1-7. \n",
        "\n",
        "* Open data commons License(), Open Data Commons Open Database License (ODbL) v1.0 -Open Data Commons: legal tools for open data. Available at: https://opendatacommons.org/licenses/odbl/1-0/(Accessed: March 4, 2023). \n",
        "\n",
        "* Owens, J., Dickerson, S. and Macintosh, D.L., 2000. Demographic covariates of residential recycling efficiency. Environment and behavior, 32(5), pp.637-650. \n",
        "\n",
        "* Ozkan, A., Türkmen, N., & Tuzkaya, U. R. (2017). An integrated fuzzy multi-criteria decision making methodology for the evaluation of the waste collection systems: The case of Istanbul. Waste Management, 62, 3-14. \n",
        "\n",
        "* Rish, I. (2001). An empirical study of the naive Bayes classifier. In IJCAI 2001 Workshop on Empirical Methods in Artificial Intelligence (Vol. 3, No. 22, pp. 41-46). \n",
        "\n",
        "* Schölkopf, B., Smola, A. J., Williamson, R. C., & Bartlett, P. L. (1997). New support vector algorithms. Neural Computation, 10(5), 1207-1245. \n",
        "\n",
        "* Silva, S. M., Oliveira, M., Alves, R. R., and Costa, H. G. (2020). Artificial intelligence techniques applied to the development of a decision-support system for diagnosing celiac disease. International Journal of Medical Informatics, 104166. "
      ],
      "metadata": {
        "id": "sXc5ZqmkTKQL"
      }
    }
  ],
  "metadata": {
    "accelerator": "GPU",
    "colab": {
      "provenance": []
    },
    "gpuClass": "standard",
    "kernelspec": {
      "display_name": "Python 3",
      "name": "python3"
    },
    "language_info": {
      "name": "python"
    }
  },
  "nbformat": 4,
  "nbformat_minor": 0
}